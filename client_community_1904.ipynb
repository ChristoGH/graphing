{
 "cells": [
  {
   "cell_type": "code",
   "execution_count": 1,
   "metadata": {},
   "outputs": [],
   "source": [
    "import matplotlib \n",
    "import matplotlib.pyplot as plt"
   ]
  },
  {
   "cell_type": "code",
   "execution_count": 2,
   "metadata": {},
   "outputs": [],
   "source": [
    "import pandas as pd\n",
    "from py2neo import Graph\n",
    "graph = Graph(\"bolt://localhost:7687\", user='neo4j', password='newPassword')\n",
    "import time\n",
    "import glob\n",
    "import os"
   ]
  },
  {
   "cell_type": "code",
   "execution_count": null,
   "metadata": {},
   "outputs": [],
   "source": []
  },
  {
   "cell_type": "code",
   "execution_count": 3,
   "metadata": {},
   "outputs": [],
   "source": [
    "neo4j_query=\"\"\"\n",
    "MATCH (c:Client)\n",
    "WHERE EXISTS(c.client_link_community_1904) \n",
    "RETURN COUNT(c.client_link_community_1904) as membercount, c.client_link_community_1904 as client_link_community_1904\n",
    "ORDER BY membercount ASC;\n",
    "\"\"\""
   ]
  },
  {
   "cell_type": "markdown",
   "metadata": {},
   "source": [
    "#### Community 9919\n",
    "look at the retail spend of client community 9919 and use a greater than 2% cut-off of total spend:"
   ]
  },
  {
   "cell_type": "code",
   "execution_count": 6,
   "metadata": {},
   "outputs": [
    {
     "data": {
      "image/png": "[encoded data removed]",
      "text/plain": [
       "<Figure size 432x288 with 1 Axes>"
      ]
     },
     "metadata": {
      "needs_background": "light"
     },
     "output_type": "display_data"
    }
   ],
   "source": [
    "neo4j_query=\"\"\"\n",
    "MATCH (c:Client {client_link_community_1904:9919})-[t:TRANSACTED_AT]-(m:Merchant)\n",
    "RETURN c.dedupestatic as dedupestatic, \n",
    "t.transactionamount as transactionamount, t.transactioncount as transactioncount,m.franchisename as franchisename,\n",
    "m.companyname as companyname\n",
    "ORDER BY transactionamount ASC;\n",
    "\"\"\"\n",
    "\n",
    "client_link_community_1904_9919_df=graph.run(neo4j_query).to_data_frame()\n",
    "\n",
    "client_link_community_1904_9919_df\n",
    "\n",
    "df_9919=client_link_community_1904_9919_df.pivot_table(index=['dedupestatic'],fill_value=0,values=['transactionamount'],columns=['companyname'])\n",
    "\n",
    "df_9919.reset_index(inplace=True)\n",
    "df_9919.set_index('dedupestatic',inplace=True)\n",
    "\n",
    "sf=df_9919.sum(axis=0)/sum(df_9919.sum(axis=0)) \n",
    "\n",
    "sf.sort_values(inplace=True,ascending=False)\n",
    "\n",
    "sf_df=sf.to_frame()\n",
    "\n",
    "sf_df.reset_index(inplace=True)\n",
    "\n",
    "sf_df.drop(columns=['level_0'],inplace=True)\n",
    "sf_df.rename(columns={0:'9919_signature_spend'},inplace=True)\n",
    "\n",
    "sf_df.sort_values(by='9919_signature_spend',ascending=False,inplace=True)\n",
    "\n",
    "sf_df.set_index('companyname',inplace=True)\n",
    "\n",
    "ax=sf_df[sf_df['9919_signature_spend']>0.02].plot.barh(title='Retail spend by client community 9919',\n",
    "                                                       legend=None,\n",
    "                                                      color='b')\n",
    "ax.set_xlabel(\"% of retail spend\")\n",
    "ax.set_ylabel(\"\")\n",
    "plt.tight_layout()\n",
    "fig = ax.get_figure()\n",
    "fig.savefig('/media/lnr-ai/christo/github_repos/graphing/img/9919_signature_spend.png')\n",
    "df=sf_df.copy()"
   ]
  },
  {
   "cell_type": "markdown",
   "metadata": {},
   "source": [
    "#### Community 7819"
   ]
  },
  {
   "cell_type": "code",
   "execution_count": 7,
   "metadata": {},
   "outputs": [
    {
     "data": {
      "image/png": "[encoded data removed]",
      "text/plain": [
       "<Figure size 432x288 with 1 Axes>"
      ]
     },
     "metadata": {
      "needs_background": "light"
     },
     "output_type": "display_data"
    }
   ],
   "source": [
    "neo4j_query=\"\"\"\n",
    "MATCH (c:Client {client_link_community_1904:7819})-[t:TRANSACTED_AT]-(m:Merchant)\n",
    "RETURN c.dedupestatic as dedupestatic, \n",
    "t.transactionamount as transactionamount, t.transactioncount as transactioncount,m.franchisename as franchisename,\n",
    "m.companyname as companyname\n",
    "ORDER BY transactionamount ASC;\n",
    "\"\"\"\n",
    "\n",
    "client_link_community_1904_7819_df=graph.run(neo4j_query).to_data_frame()\n",
    "\n",
    "df_7819=client_link_community_1904_7819_df.pivot_table(index=['dedupestatic'],fill_value=0,values=['transactionamount'],columns=['companyname'])\n",
    "\n",
    "df_7819.reset_index(inplace=True)\n",
    "df_7819.set_index('dedupestatic',inplace=True)\n",
    "\n",
    "sf=df_7819.sum(axis=0)/sum(df_7819.sum(axis=0)) \n",
    "\n",
    "sf.sort_values(inplace=True,ascending=False)\n",
    "\n",
    "sf_df=sf.to_frame()\n",
    "\n",
    "sf_df.reset_index(inplace=True)\n",
    "\n",
    "sf_df.drop(columns=['level_0'],inplace=True)\n",
    "sf_df.rename(columns={0:'7819_signature_spend'},inplace=True)\n",
    "\n",
    "sf_df.sort_values(by='7819_signature_spend',ascending=False,inplace=True)\n",
    "\n",
    "sf_df.set_index('companyname',inplace=True)\n",
    "\n",
    "ax=sf_df[sf_df['7819_signature_spend']>0.02].plot.barh(title='Retail spend by client community 7819',\n",
    "                                                       legend=None,\n",
    "                                                      color='r')\n",
    "ax.set_xlabel(\"% of retail spend\")\n",
    "ax.set_ylabel(\"\")\n",
    "plt.tight_layout()\n",
    "fig = ax.get_figure()\n",
    "fig.savefig('/media/lnr-ai/christo/github_repos/graphing/img/7819_signature_spend.png')\n",
    "# df=sf_df.copy()"
   ]
  },
  {
   "cell_type": "markdown",
   "metadata": {},
   "source": [
    "#### Retail spend comparison between Community 9919 and 7819"
   ]
  },
  {
   "cell_type": "markdown",
   "metadata": {},
   "source": [
    "Create the combined dataframe by merging the two from the previous plots:"
   ]
  },
  {
   "cell_type": "code",
   "execution_count": 9,
   "metadata": {},
   "outputs": [],
   "source": [
    "gf=df.merge(sf_df,left_index=True,right_index=True)"
   ]
  },
  {
   "cell_type": "code",
   "execution_count": 10,
   "metadata": {},
   "outputs": [
    {
     "data": {
      "text/plain": [
       "['9919_signature_spend', '7819_signature_spend']"
      ]
     },
     "execution_count": 10,
     "metadata": {},
     "output_type": "execute_result"
    }
   ],
   "source": [
    "list(gf)"
   ]
  },
  {
   "cell_type": "code",
   "execution_count": null,
   "metadata": {},
   "outputs": [],
   "source": []
  },
  {
   "cell_type": "code",
   "execution_count": 11,
   "metadata": {},
   "outputs": [],
   "source": [
    "gf['9919_7819']=gf['9919_signature_spend']-gf['7819_signature_spend']\n",
    "gf['positive'] = gf['9919_7819'] > 0"
   ]
  },
  {
   "cell_type": "code",
   "execution_count": 12,
   "metadata": {},
   "outputs": [],
   "source": [
    "gf.sort_values(by='9919_7819',inplace=True)"
   ]
  },
  {
   "cell_type": "code",
   "execution_count": 13,
   "metadata": {},
   "outputs": [],
   "source": [
    "f=(gf['9919_7819']>0.01)|(gf['9919_7819']<-0.01)"
   ]
  },
  {
   "cell_type": "code",
   "execution_count": 17,
   "metadata": {},
   "outputs": [
    {
     "data": {
      "image/png": "[encoded data removed]",
      "text/plain": [
       "<Figure size 432x288 with 1 Axes>"
      ]
     },
     "metadata": {
      "needs_background": "light"
     },
     "output_type": "display_data"
    }
   ],
   "source": [
    "ax=gf[f]['9919_7819'].plot.barh(title='Retail spend difference: client community 9919 and 7819',\n",
    "                               color=gf[f].positive.map({True: 'b', False: 'r'}))\n",
    "ax.set_xlabel(\"difference in % of retail spend\")\n",
    "ax.set_ylabel(\"\")\n",
    "plt.tight_layout()\n",
    "fig = ax.get_figure()\n",
    "fig.savefig('/media/lnr-ai/christo/github_repos/graphing/img/9919_7819_signature_spend.png',dpi=100,bbox_inches='tight')"
   ]
  },
  {
   "cell_type": "code",
   "execution_count": 5,
   "metadata": {},
   "outputs": [],
   "source": [
    "client_link_community_1904_df=graph.run(neo4j_query).to_data_frame()"
   ]
  },
  {
   "cell_type": "code",
   "execution_count": null,
   "metadata": {},
   "outputs": [],
   "source": [
    "client_link_community_7916_list=list(client_link_community_7916_df.client_link_community_7916)"
   ]
  },
  {
   "cell_type": "code",
   "execution_count": null,
   "metadata": {},
   "outputs": [],
   "source": [
    "client_link_community_7916_list"
   ]
  },
  {
   "cell_type": "code",
   "execution_count": null,
   "metadata": {},
   "outputs": [],
   "source": [
    "community=822\n",
    "graphname='triadic_graph_{community}'.format(community=community)\n",
    "query=\"\"\"CALL gds.graph.exists('{graphname}') YIELD exists;\"\"\".format(graphname=graphname)\n",
    "exists=graph.run(query).data()\n",
    "exists[0]['exists']"
   ]
  },
  {
   "cell_type": "code",
   "execution_count": null,
   "metadata": {},
   "outputs": [],
   "source": [
    "create_graph_query = \"\"\"CALL gds.graph.create.cypher(\n",
    "    '{graphname}',\n",
    "    'MATCH (c0:Client) WHERE c0.client_link_community_7916={community} RETURN id(c0) AS id',\n",
    "    'MATCH (c0:Client)-[cl:CLIENT_LINK_7916]->(c1:Client) WHERE c0.client_link_community_7916={community} AND c1.client_link_community_7916={community} RETURN id(c0) AS source, id(c1) AS target, cl.count as count'\n",
    ")\n",
    "YIELD graphName, nodeCount, relationshipCount, createMillis;\"\"\".format(community=community,graphname=graphname)"
   ]
  },
  {
   "cell_type": "code",
   "execution_count": null,
   "metadata": {},
   "outputs": [],
   "source": [
    "graph.run(create_graph_query).data()"
   ]
  },
  {
   "cell_type": "code",
   "execution_count": null,
   "metadata": {},
   "outputs": [],
   "source": [
    "pagerank_query=\"\"\"CALL gds.pageRank.stream('{graphname}', {{ maxIterations: 20, dampingFactor: 0.85 }})\n",
    "YIELD nodeId, score\n",
    "RETURN gds.util.asNode(nodeId).dedupestatic AS dedupestatic, nodeId AS nodeId, score\n",
    "ORDER BY score DESC, dedupestatic ASC;\"\"\".format(graphname=graphname)"
   ]
  },
  {
   "cell_type": "code",
   "execution_count": null,
   "metadata": {},
   "outputs": [],
   "source": [
    "gf=graph.run(pagerank_query).to_data_frame()"
   ]
  },
  {
   "cell_type": "code",
   "execution_count": null,
   "metadata": {},
   "outputs": [],
   "source": [
    "gf"
   ]
  },
  {
   "cell_type": "code",
   "execution_count": null,
   "metadata": {},
   "outputs": [],
   "source": [
    "list(client_link_community_7916_df)"
   ]
  },
  {
   "cell_type": "code",
   "execution_count": null,
   "metadata": {},
   "outputs": [],
   "source": [
    "graph = Graph(\"bolt://localhost:7687\", user='neo4j', password='newPassword')\n",
    "hf=pd.DataFrame()\n",
    "donelist=[]\n",
    "leftoverlist=client_link_community_7916_list.copy()\n",
    "counter=0\n",
    "for community in client_link_community_7916_list:\n",
    "    print('Doing community {community}, {counter} of {total}'.format(community=community,counter=len(donelist),total=len(client_link_community_7916_list)))\n",
    "    graphname='triadic_graph_{community}'.format(community=community)\n",
    "    query=\"\"\"CALL gds.graph.exists('{graphname}') YIELD exists;\"\"\".format(graphname=graphname)\n",
    "    exists=graph.run(query).data()\n",
    "    if exists[0]['exists']:\n",
    "        print(\"graph exists!\")\n",
    "        graph.run(\"\"\"CALL gds.graph.drop('{graphname}') YIELD graphName;\"\"\".format(graphname=graphname)).data()\n",
    "    #     CALL gds.graph.drop('my-store-graph') YIELD graphName;\n",
    "    else:\n",
    "        print(\"graph doesn't exist!\")\n",
    "    # ----------------------------------------------------------------------------\n",
    "    create_graph_query = \"\"\"CALL gds.graph.create.cypher(\n",
    "        '{graphname}',\n",
    "        'MATCH (c0:Client) WHERE c0.client_link_community_7916={community} RETURN id(c0) AS id',\n",
    "        'MATCH (c0:Client)-[cl:CLIENT_LINK_7916]->(c1:Client) \n",
    "        WHERE c0.client_link_community_7916={community} AND \n",
    "        c1.client_link_community_7916={community} RETURN id(c0) AS source, id(c1) AS target, cl.count as count'\n",
    "    )\n",
    "    YIELD graphName, nodeCount, relationshipCount, createMillis;\"\"\".format(community=community,graphname=graphname)\n",
    "    print('create graph {graphname}: '.format(graphname=graphname))\n",
    "    graph.run(create_graph_query).data()\n",
    "    print('Do page rank algorithm on {graphname}'.format(graphname=graphname))\n",
    "    pagerank_query=\"\"\"CALL gds.pageRank.stream('{graphname}', {{ maxIterations: 20, dampingFactor: 0.85 }})\n",
    "    YIELD nodeId, score\n",
    "    RETURN gds.util.asNode(nodeId).dedupestatic AS dedupestatic, nodeId as nodeId, score\n",
    "    ORDER BY score DESC, dedupestatic ASC;\"\"\".format(graphname=graphname)\n",
    "    \n",
    "    gf=graph.run(pagerank_query).to_data_frame()\n",
    "    gf['community']=community\n",
    "    gf['membercount']=list(client_link_community_7916_df[client_link_community_7916_df.client_link_community_7916==community]['membercount'])[0]\n",
    "    gf.to_csv(path_or_buf='/media/lnr-ai/christo/github_repos/graphing/data/CLIENT_LINK_7916_{community}_df'.format(community=community),index=False) \n",
    "    hf = hf.append(gf, ignore_index=True)\n",
    "    print(gf)\n",
    "    print(\"Delete graph {graphname}...\".format(graphname=graphname))\n",
    "    graph.run(\"\"\"CALL gds.graph.drop('{graphname}') YIELD graphName;\"\"\".format(graphname=graphname)).data()\n",
    "#     print('-Sleep 60s---------------------------------')\n",
    "#     time.sleep(60)\n",
    "    donelist.append(community)\n",
    "    leftoverlist.pop(leftoverlist.index(community))\n",
    "    print(leftoverlist)\n",
    "    counter+=1\n",
    "    print(\"====================================================================================\")"
   ]
  },
  {
   "cell_type": "code",
   "execution_count": null,
   "metadata": {},
   "outputs": [],
   "source": [
    "# from py2neo import Graph\n",
    "graph = Graph(\"bolt://localhost:7687\", user='neo4j', password='newPassword')\n",
    "hf=pd.DataFrame()\n",
    "donelist=[]\n",
    "tmp_list=leftoverlist.copy()\n",
    "# leftoverlist=tmp_list\n",
    "counter=0\n",
    "for community in leftoverlist:\n",
    "    print('Doing community {community}, {counter} of {total}'.format(community=community,counter=len(donelist),total=len(tmp_list)))\n",
    "    # ----------------------------------------------------------------------------------------------------------    \n",
    "    graphname='triadic_graph_{community}'.format(community=community)\n",
    "    query=\"\"\"CALL gds.graph.exists('{graphname}') YIELD exists;\"\"\".format(graphname=graphname)\n",
    "    exists=graph.run(query).data()\n",
    "    if exists[0]['exists']:\n",
    "        print(\"graph exists!\")\n",
    "        graph.run(\"\"\"CALL gds.graph.drop('{graphname}') YIELD graphName;\"\"\".format(graphname=graphname)).data()\n",
    "    #     CALL gds.graph.drop('my-store-graph') YIELD graphName;\n",
    "    else:\n",
    "        print(\"graph doesn't exist!\")\n",
    "    # ----------------------------------------------------------------------------\n",
    "    create_graph_query = \"\"\"CALL gds.graph.create.cypher(\n",
    "        '{graphname}',\n",
    "        'MATCH (c0:Client) WHERE c0.client_link_community_7916={community} RETURN id(c0) AS id',\n",
    "        'MATCH (c0:Client)-[cl:CLIENT_LINK_7916]->(c1:Client) \n",
    "        WHERE c0.client_link_community_7916={community} AND \n",
    "        c1.client_link_community_7916={community} RETURN id(c0) AS source, id(c1) AS target, cl.count as count'\n",
    "    )\n",
    "    YIELD graphName, nodeCount, relationshipCount, createMillis;\"\"\".format(community=community,graphname=graphname)\n",
    "    graph.run(create_graph_query).data()\n",
    "\n",
    "    pagerank_query=\"\"\"CALL gds.pageRank.stream('{graphname}', {{ maxIterations: 20, dampingFactor: 0.85 }})\n",
    "    YIELD nodeId, score\n",
    "    RETURN gds.util.asNode(nodeId).dedupestatic AS dedupestatic, nodeId as nodeId, score\n",
    "    ORDER BY score DESC, dedupestatic ASC;\"\"\".format(graphname=graphname)\n",
    "\n",
    "    gf=graph.run(pagerank_query).to_data_frame()\n",
    "    gf['community']=community\n",
    "    gf['membercount']=list(client_link_community_7916_df[client_link_community_7916_df.client_link_community_7916==community]['membercount'])[0]\n",
    "    gf.to_csv(path_or_buf='/media/lnr-ai/christo/github_repos/graphing/data/CLIENT_LINK_7916_{community}_df'.format(community=community),index=False) \n",
    "    hf = hf.append(gf, ignore_index=True)\n",
    "    print(gf)\n",
    "    print(\"Delete graph {graphname}...\".format(graphname=graphname))\n",
    "    graph.run(\"\"\"CALL gds.graph.drop('{graphname}') YIELD graphName;\"\"\".format(graphname=graphname)).data()\n",
    "#     print('-Sleep 60s---------------------------------')\n",
    "#     time.sleep(60)\n",
    "    donelist.append(community)\n",
    "    tmp_list.pop(tmp_list.index(community))\n",
    "    print(tmp_list)\n",
    "    counter+=1\n",
    "    print(\"====================================================================================\")"
   ]
  },
  {
   "cell_type": "code",
   "execution_count": null,
   "metadata": {},
   "outputs": [],
   "source": [
    "tmp_list"
   ]
  },
  {
   "cell_type": "code",
   "execution_count": null,
   "metadata": {},
   "outputs": [],
   "source": [
    "# from py2neo import Graph\n",
    "graph = Graph(\"bolt://localhost:7687\", user='neo4j', password='newPassword')\n",
    "hf=pd.DataFrame()\n",
    "donelist=[]\n",
    "leftoverlist=tmp_list.copy()\n",
    "# leftoverlist=tmp_list\n",
    "counter=0\n",
    "for community in leftoverlist:\n",
    "    print('Doing community {community}, {counter} of {total}'.format(community=community,counter=len(donelist),total=len(tmp_list)))\n",
    "    # ----------------------------------------------------------------------------------------------------------    \n",
    "    graphname='triadic_graph_{community}'.format(community=community)\n",
    "    query=\"\"\"CALL gds.graph.exists('{graphname}') YIELD exists;\"\"\".format(graphname=graphname)\n",
    "    exists=graph.run(query).data()\n",
    "    if exists[0]['exists']:\n",
    "        print(\"graph exists!\")\n",
    "        graph.run(\"\"\"CALL gds.graph.drop('{graphname}') YIELD graphName;\"\"\".format(graphname=graphname)).data()\n",
    "    #     CALL gds.graph.drop('my-store-graph') YIELD graphName;\n",
    "    else:\n",
    "        print(\"graph doesn't exist!\")\n",
    "    # ----------------------------------------------------------------------------\n",
    "    create_graph_query = \"\"\"CALL gds.graph.create.cypher(\n",
    "        '{graphname}',\n",
    "        'MATCH (c0:Client) WHERE c0.client_link_community_7916={community} RETURN id(c0) AS id',\n",
    "        'MATCH (c0:Client)-[cl:CLIENT_LINK_7916]->(c1:Client) \n",
    "        WHERE c0.client_link_community_7916={community} AND \n",
    "        c1.client_link_community_7916={community} RETURN id(c0) AS source, id(c1) AS target, cl.count as count'\n",
    "    )\n",
    "    YIELD graphName, nodeCount, relationshipCount, createMillis;\"\"\".format(community=community,graphname=graphname)\n",
    "    graph.run(create_graph_query).data()\n",
    "\n",
    "    pagerank_query=\"\"\"CALL gds.pageRank.stream('{graphname}', {{ maxIterations: 20, dampingFactor: 0.85 }})\n",
    "    YIELD nodeId, score\n",
    "    RETURN gds.util.asNode(nodeId).dedupestatic AS dedupestatic, nodeId as nodeId, score\n",
    "    ORDER BY score DESC, dedupestatic ASC;\"\"\".format(graphname=graphname)\n",
    "    \n",
    "    gf=graph.run(pagerank_query).to_data_frame()\n",
    "    gf['community']=community\n",
    "    gf['membercount']=list(client_link_community_7916_df[client_link_community_7916_df.client_link_community_7916==community]['membercount'])[0]\n",
    "    gf.to_csv(path_or_buf='/media/lnr-ai/christo/github_repos/graphing/data/CLIENT_LINK_7916_{community}_df'.format(community=community),index=False) \n",
    "    hf = hf.append(gf, ignore_index=True)\n",
    "    print(gf)\n",
    "    print(\"Delete graph {graphname}...\".format(graphname=graphname))\n",
    "    graph.run(\"\"\"CALL gds.graph.drop('{graphname}') YIELD graphName;\"\"\".format(graphname=graphname)).data()\n",
    "#     print('-Sleep 60s---------------------------------')\n",
    "#     time.sleep(60)\n",
    "    donelist.append(community)\n",
    "    tmp_list.pop(tmp_list.index(community))\n",
    "    print(tmp_list)\n",
    "    counter+=1\n",
    "    print(\"====================================================================================\")"
   ]
  },
  {
   "cell_type": "code",
   "execution_count": null,
   "metadata": {},
   "outputs": [],
   "source": [
    "# path='/media/lnr-ai/christo/github_repos/graphing/data'\n",
    "path='/media/lnr-ai/christo/github_repos/graphing/data'\n",
    "file_list=glob.glob(path+'/*')\n",
    "# df.append(ignore_index=)"
   ]
  },
  {
   "cell_type": "code",
   "execution_count": null,
   "metadata": {},
   "outputs": [],
   "source": [
    "file_list"
   ]
  },
  {
   "cell_type": "code",
   "execution_count": null,
   "metadata": {},
   "outputs": [],
   "source": [
    "answer_dict={}\n",
    "answer_df=pd.DataFrame()\n",
    "for file_name in file_list:\n",
    "#     print(file_name)\n",
    "    if 'CLIENT_LINK_7916' in file_name:\n",
    "        print(file_name,int(file_name.split('_')[-2]))\n",
    "        df=pd.read_csv(filepath_or_buffer=file_name)\n",
    "#         answer_dict['franchisename_1']=df.iloc[0].franchisename\n",
    "        answer_dict['dedupestatic']=df.iloc[0].dedupestatic\n",
    "\n",
    "        answer_dict['nodeId']=df.iloc[0].nodeId           \n",
    "        answer_dict['score']=df.iloc[0].score        \n",
    "        answer_dict['community']=df.iloc[0].community       \n",
    "        answer_dict['membercount']=df.iloc[0].membercount            \n",
    "        answer_df=answer_df.append(answer_dict, ignore_index=True)"
   ]
  },
  {
   "cell_type": "code",
   "execution_count": null,
   "metadata": {},
   "outputs": [],
   "source": [
    "answer_df"
   ]
  },
  {
   "cell_type": "code",
   "execution_count": null,
   "metadata": {},
   "outputs": [],
   "source": [
    "print(file_name,int(file_name.split('_')[-2]))"
   ]
  },
  {
   "cell_type": "code",
   "execution_count": null,
   "metadata": {},
   "outputs": [],
   "source": [
    "file_name.split('_')[-1]"
   ]
  },
  {
   "cell_type": "code",
   "execution_count": null,
   "metadata": {},
   "outputs": [],
   "source": [
    "answer_df.to_csv('/media/lnr-ai/christo/github_repos/graphing/data/CLIENT_LINK_7916_pageranked.csv', index=False)"
   ]
  },
  {
   "cell_type": "code",
   "execution_count": null,
   "metadata": {},
   "outputs": [],
   "source": [
    "answer_df=pd.read_csv('/media/lnr-ai/christo/github_repos/graphing/data/CLIENT_LINK_7916_pageranked.csv')"
   ]
  },
  {
   "cell_type": "code",
   "execution_count": null,
   "metadata": {},
   "outputs": [],
   "source": [
    "neo4j_query=\"\"\"MATCH (c:Client)-[t:TRANSACTED_AT]->(m:Merchant) WHERE m.subclass_id=56101\n",
    "AND ID(c)=4636331.0 AND m.triadic_56101_community=7916 RETURN ID(c), t.transactionamount as transactionamount, \n",
    "t.transactioncount as transactioncount, \n",
    "m.franchisename as franchisename,\n",
    "c.client_link_community_7916 as client_community,\n",
    "m.triadic_56101_community as community;\"\"\""
   ]
  },
  {
   "cell_type": "code",
   "execution_count": null,
   "metadata": {},
   "outputs": [],
   "source": [
    "df=graph.run(neo4j_query).to_data_frame()"
   ]
  },
  {
   "cell_type": "code",
   "execution_count": null,
   "metadata": {},
   "outputs": [],
   "source": [
    "df"
   ]
  },
  {
   "cell_type": "code",
   "execution_count": null,
   "metadata": {},
   "outputs": [],
   "source": [
    "client_link_df=pd.DataFrame()\n",
    "for nodeId in list(answer_df.nodeId):\n",
    "    neo4j_query=\"\"\"MATCH (c:Client)-[t:TRANSACTED_AT]->(m:Merchant) WHERE m.subclass_id=56101\n",
    "AND ID(c)={nodeId} AND m.triadic_56101_community=7916 RETURN ID(c) as nodeId, t.transactionamount as transactionamount, \n",
    "t.transactioncount as transactioncount, \n",
    "m.franchisename as franchisename,\n",
    "c.client_link_community_7916 as client_community,\n",
    "m.triadic_56101_community as community;\"\"\".format(nodeId=nodeId)\n",
    "    df=graph.run(neo4j_query).to_data_frame()\n",
    "    print(df)\n",
    "    client_link_df=client_link_df.append(df, ignore_index=True)"
   ]
  },
  {
   "cell_type": "code",
   "execution_count": null,
   "metadata": {},
   "outputs": [],
   "source": [
    "client_link_df.sort_values('client_community',inplace = True)"
   ]
  },
  {
   "cell_type": "code",
   "execution_count": null,
   "metadata": {},
   "outputs": [],
   "source": [
    "list(client_link_df)"
   ]
  },
  {
   "cell_type": "code",
   "execution_count": null,
   "metadata": {},
   "outputs": [],
   "source": [
    "print(client_link_df[['nodeId',\n",
    "#  'transactionamount',\n",
    "#  'transactioncount',\n",
    " 'franchisename',\n",
    " 'client_community',]].to_latex(index=False))"
   ]
  },
  {
   "cell_type": "code",
   "execution_count": null,
   "metadata": {},
   "outputs": [],
   "source": [
    "list(answer_df)"
   ]
  },
  {
   "cell_type": "code",
   "execution_count": null,
   "metadata": {},
   "outputs": [],
   "source": [
    "hf=pd.DataFrame()\n",
    "for nodeId in list(answer_df.community):\n",
    "    neo4j_query=\"\"\"\n",
    "    MATCH (c:Client)-[t:TRANSACTED_AT]->(m:Merchant)\n",
    "    WHERE EXISTS(c.client_link_community_7916) AND c.client_link_community_7916={nodeId} AND m.subclass_id=56101\n",
    "    RETURN c.client_link_community_7916 AS client_link_community_7916,  \n",
    "    m.franchisename as franchisename, \n",
    "    SUM(t.transactionamount) AS transactionamount, \n",
    "    SUM(t.transactioncount) AS transactioncount\n",
    "    \"\"\".format(nodeId=nodeId)\n",
    "    df=graph.run(neo4j_query).to_data_frame()\n",
    "    print(df)\n",
    "    hf = hf.append(df, ignore_index=True)"
   ]
  },
  {
   "cell_type": "code",
   "execution_count": null,
   "metadata": {},
   "outputs": [],
   "source": [
    "hf.shape"
   ]
  },
  {
   "cell_type": "code",
   "execution_count": null,
   "metadata": {},
   "outputs": [],
   "source": [
    "list(hf)"
   ]
  },
  {
   "cell_type": "code",
   "execution_count": null,
   "metadata": {},
   "outputs": [],
   "source": [
    "sf=hf.pivot(index='client_link_community_7916', columns='franchisename', values='transactionamount')"
   ]
  },
  {
   "cell_type": "code",
   "execution_count": null,
   "metadata": {},
   "outputs": [],
   "source": [
    "# sf.reset_index(inplace=True)\n",
    "sf.fillna(0, inplace = True)"
   ]
  },
  {
   "cell_type": "code",
   "execution_count": null,
   "metadata": {},
   "outputs": [],
   "source": [
    "sf.sum(axis=0)"
   ]
  },
  {
   "cell_type": "code",
   "execution_count": null,
   "metadata": {},
   "outputs": [],
   "source": [
    "sf\n"
   ]
  },
  {
   "cell_type": "code",
   "execution_count": null,
   "metadata": {},
   "outputs": [],
   "source": [
    "x=sf.iloc[0].to_numpy()"
   ]
  },
  {
   "cell_type": "code",
   "execution_count": null,
   "metadata": {},
   "outputs": [],
   "source": [
    "x"
   ]
  },
  {
   "cell_type": "code",
   "execution_count": null,
   "metadata": {},
   "outputs": [],
   "source": [
    "import numpy as np\n",
    "np.argsort(x)"
   ]
  },
  {
   "cell_type": "code",
   "execution_count": null,
   "metadata": {},
   "outputs": [],
   "source": [
    "list(sf)[476]"
   ]
  },
  {
   "cell_type": "code",
   "execution_count": null,
   "metadata": {},
   "outputs": [],
   "source": [
    "np.argsort(x)[0:10]"
   ]
  },
  {
   "cell_type": "code",
   "execution_count": null,
   "metadata": {},
   "outputs": [],
   "source": [
    "list(sf)[np.argsort(x)[0:10]]"
   ]
  },
  {
   "cell_type": "code",
   "execution_count": null,
   "metadata": {},
   "outputs": [],
   "source": [
    "list(np.argsort(x)[0:10])"
   ]
  },
  {
   "cell_type": "code",
   "execution_count": null,
   "metadata": {},
   "outputs": [],
   "source": [
    "s=list(sf)\n",
    "s[np.argsort(x)[0:10]]"
   ]
  },
  {
   "cell_type": "code",
   "execution_count": null,
   "metadata": {},
   "outputs": [],
   "source": [
    "d=np.argsort(x)[0:10]"
   ]
  },
  {
   "cell_type": "code",
   "execution_count": null,
   "metadata": {},
   "outputs": [],
   "source": [
    "f=d.tolist()\n",
    "x=sf.iloc[3].to_numpy()\n",
    "[s[ind] for ind in np.argsort(x)[0:10]]"
   ]
  },
  {
   "cell_type": "code",
   "execution_count": null,
   "metadata": {},
   "outputs": [],
   "source": [
    "x.sort()"
   ]
  },
  {
   "cell_type": "code",
   "execution_count": null,
   "metadata": {},
   "outputs": [],
   "source": []
  }
 ],
 "metadata": {
  "kernelspec": {
   "display_name": "Python 3",
   "language": "python",
   "name": "python3"
  },
  "language_info": {
   "codemirror_mode": {
    "name": "ipython",
    "version": 3
   },
   "file_extension": ".py",
   "mimetype": "text/x-python",
   "name": "python",
   "nbconvert_exporter": "python",
   "pygments_lexer": "ipython3",
   "version": "3.7.3"
  }
 },
 "nbformat": 4,
 "nbformat_minor": 4
}

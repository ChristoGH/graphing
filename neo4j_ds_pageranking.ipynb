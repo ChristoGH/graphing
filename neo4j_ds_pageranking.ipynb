{
 "cells": [
  {
   "cell_type": "markdown",
   "metadata": {},
   "source": [
    "https://neo4j.com/graphacademy/online-training/data-science/part-3/\n",
    "\n",
    "https://www.cs.princeton.edu/~chazelle/courses/BIB/pagerank.htm"
   ]
  },
  {
   "cell_type": "code",
   "execution_count": 1,
   "metadata": {},
   "outputs": [],
   "source": [
    "import pandas as pd\n",
    "from py2neo import Graph\n",
    "graph = Graph(\"bolt://localhost:7687\", user='neo4j', password='newPassword')\n",
    "# graph = Graph()"
   ]
  },
  {
   "cell_type": "code",
   "execution_count": 2,
   "metadata": {},
   "outputs": [],
   "source": [
    "import matplotlib \n",
    "import matplotlib.pyplot as plt"
   ]
  },
  {
   "cell_type": "markdown",
   "metadata": {},
   "source": [
    "## Page ranking"
   ]
  },
  {
   "cell_type": "markdown",
   "metadata": {},
   "source": [
    "In the 2nd part of this quest for a recommendations engine, we use the PageRank algorithm to make client/customer  recommendations to an merchant or merchant reccommendations to a client. \n",
    "\n",
    "PageRank is an algorithm that measures the so-called transitive influence or connectivity of nodes. It can be computed by either iteratively distributing one node’s rank (originally based on degree) over its neighbors or by randomly traversing the graph and counting the frequency of hitting each node during these walks."
   ]
  },
  {
   "cell_type": "markdown",
   "metadata": {},
   "source": [
    "Check that our database is running:"
   ]
  },
  {
   "cell_type": "code",
   "execution_count": null,
   "metadata": {},
   "outputs": [],
   "source": [
    "graph.run(\"CALL db.schema.visualization()\").data()"
   ]
  },
  {
   "cell_type": "markdown",
   "metadata": {},
   "source": [
    "https://www.cs.princeton.edu/~chazelle/courses/BIB/pagerank.htm"
   ]
  },
  {
   "cell_type": "markdown",
   "metadata": {},
   "source": [
    "Define a COMPANY and merchant links between merchants of the same company:"
   ]
  },
  {
   "cell_type": "code",
   "execution_count": null,
   "metadata": {},
   "outputs": [],
   "source": [
    "companyname='DISCHEM'"
   ]
  },
  {
   "cell_type": "code",
   "execution_count": null,
   "metadata": {},
   "outputs": [],
   "source": [
    "create_merchantlink_query=\"\"\"\n",
    "MATCH (merchant0:Merchant {companyname: $companyname})<-[:TRANSACTED_AT]-(client:Client)-[:TRANSACTED_AT]->(merchant1:Merchant {companyname: $companyname})\n",
    "WHERE merchant0.franchisename<>merchant1.franchisename \n",
    "MERGE (merchant0)-[link:MERCHANT_LINK]-(merchant1)\n",
    "ON CREATE SET link.count = 1\n",
    "ON MATCH SET link.count = link.count + 1\n",
    "RETURN merchant0.franchisename, merchant1.franchisename;\n",
    "\"\"\"\n",
    "graph.run(author_articles_query,  {\"companyname\": companyname}).to_data_frame()"
   ]
  },
  {
   "cell_type": "markdown",
   "metadata": {},
   "source": [
    "#### Find popular merchants:"
   ]
  },
  {
   "cell_type": "code",
   "execution_count": null,
   "metadata": {},
   "outputs": [],
   "source": [
    "popular_merchants_query = \"\"\"\n",
    "MATCH (merchant:Merchant)\n",
    "RETURN merchant.franchisename, size((merchant)<-[:TRANSACTED_AT]-()) AS transactions\n",
    "ORDER BY transactions DESC\n",
    "LIMIT 10\n",
    "\"\"\"\n",
    "\n",
    "graph.run(popular_merchants_query).to_data_frame()"
   ]
  },
  {
   "cell_type": "markdown",
   "metadata": {},
   "source": [
    "#### Pick one merchant, 'franchisename:'DIS-CHEM DAINFERN' "
   ]
  },
  {
   "cell_type": "code",
   "execution_count": null,
   "metadata": {},
   "outputs": [],
   "source": [
    "franchisename='DIS-CHEM DAINFERN'"
   ]
  },
  {
   "cell_type": "code",
   "execution_count": null,
   "metadata": {},
   "outputs": [],
   "source": [
    "query = \"\"\"\n",
    "MATCH (m:Merchant {franchisename:$franchisename})\n",
    "RETURN m.companyname\n",
    "\"\"\"\n",
    "graph.run(query, {\"franchisename\": franchisename}).to_data_frame()"
   ]
  },
  {
   "cell_type": "code",
   "execution_count": null,
   "metadata": {},
   "outputs": [],
   "source": [
    "# query = \"\"\"\n",
    "#     CALL db.index.fulltext.createNodeIndex('merchants', ['Merchant'], ['franchisename'])\n",
    "# \"\"\"\n",
    "# graph.run(query).data()"
   ]
  },
  {
   "cell_type": "markdown",
   "metadata": {},
   "source": [
    "#### Retrieve FULLTEXT indices:"
   ]
  },
  {
   "cell_type": "code",
   "execution_count": null,
   "metadata": {},
   "outputs": [],
   "source": [
    "query = \"\"\"\n",
    "CALL db.indexes()\n",
    "YIELD name, uniqueness, type\n",
    "WHERE type = \"FULLTEXT\"\n",
    "RETURN *\n",
    "\"\"\"\n",
    "graph.run(query).to_data_frame()"
   ]
  },
  {
   "cell_type": "markdown",
   "metadata": {},
   "source": [
    "#### Conduct a full text search on franchisename over the entire graph:"
   ]
  },
  {
   "cell_type": "code",
   "execution_count": null,
   "metadata": {},
   "outputs": [],
   "source": [
    "query = \"\"\"\n",
    "CALL db.index.fulltext.queryNodes(\"merchants\", \"columbine\")\n",
    "YIELD node, score\n",
    "RETURN node.franchisename, score, [(client)-[:TRANSACTED_AT]-(node) | client.dedupestatic] AS clients\n",
    "LIMIT 10\n",
    "\"\"\"\n",
    "graph.run(query).to_data_frame()"
   ]
  },
  {
   "cell_type": "code",
   "execution_count": null,
   "metadata": {},
   "outputs": [],
   "source": [
    "my_node = graph.run(\"\"\"MATCH (merchant:Merchant {companyname:'DISCHEM'})\n",
    "RETURN merchant \"\"\").data()"
   ]
  },
  {
   "cell_type": "code",
   "execution_count": null,
   "metadata": {},
   "outputs": [],
   "source": [
    "my_node"
   ]
  },
  {
   "cell_type": "code",
   "execution_count": null,
   "metadata": {},
   "outputs": [],
   "source": [
    "my_node = graph.run(\"\"\"MATCH (merchant:Merchant {franchisename:'DIS-CHEM DAINFERN'})-[:TRANSACTED_AT]-(c:Client) \n",
    "RETURN merchant.franchisename, c.dedupestatic \"\"\").data()"
   ]
  },
  {
   "cell_type": "code",
   "execution_count": null,
   "metadata": {},
   "outputs": [],
   "source": [
    "len(my_node)"
   ]
  },
  {
   "cell_type": "markdown",
   "metadata": {},
   "source": [
    "Retrieve the customers this merchant had and how many transactions they had:"
   ]
  },
  {
   "cell_type": "code",
   "execution_count": null,
   "metadata": {},
   "outputs": [],
   "source": [
    "author_articles_query = \"\"\"\n",
    "MATCH (:Merchant {franchisename: $franchisename})<-[:TRANSACTED_AT]-(client)\n",
    "RETURN client.dedupestatic AS client, size((client)-[:TRANSACTED_AT]->()) AS other_transactions\n",
    "ORDER BY other_transactions DESC\n",
    "LIMIT 20\n",
    "\"\"\"\n",
    "graph.run(author_articles_query,  {\"franchisename\": franchisename}).to_data_frame()"
   ]
  },
  {
   "cell_type": "markdown",
   "metadata": {},
   "source": [
    "Retrieve the customers this merchant had and how many other transactions they had EXCLUDING franchisename:"
   ]
  },
  {
   "cell_type": "code",
   "execution_count": null,
   "metadata": {},
   "outputs": [],
   "source": [
    "author_articles_query = \"\"\"\n",
    "MATCH (merchant1:Merchant {franchisename: $franchisename})<-[:TRANSACTED_AT]-(client)-[:TRANSACTED_AT]->(merchant2)\n",
    "WHERE merchant1<>merchant2\n",
    "RETURN client.dedupestatic AS client, count((client)-[:TRANSACTED_AT]->(merchant2)) AS other_transactions\n",
    "ORDER BY other_transactions DESC\n",
    "LIMIT 20\n",
    "\"\"\"\n",
    "graph.run(author_articles_query,  {\"franchisename\": franchisename}).to_data_frame()"
   ]
  },
  {
   "cell_type": "code",
   "execution_count": null,
   "metadata": {},
   "outputs": [],
   "source": [
    "collaborations_query = \"\"\"\n",
    "MATCH (:Merchant {franchisename: $franchisename})<-[:TRANSACTED_AT]-(client)-[:TRANSACTED_AT]->(comerchant)\n",
    "RETURN comerchant.franchisename AS franchisename, count(*) AS cotransactions\n",
    "ORDER BY cotransactions DESC\n",
    "LIMIT 10\n",
    "\"\"\"\n",
    "\n",
    "graph.run(collaborations_query,  {\"franchisename\": franchisename}).to_data_frame()"
   ]
  },
  {
   "cell_type": "code",
   "execution_count": null,
   "metadata": {},
   "outputs": [],
   "source": [
    "my_node = graph.run(\"\"\"MATCH (dischem:Merchant {franchisename:'DIS-CHEM DAINFERN'})-[:TRANSACTED_AT]-(c:Client)-\n",
    "[:TRANSACTED_AT]-(other:Merchant)\n",
    "WHERE other.franchisename<>dischem.franchisename \n",
    "RETURN dischem.franchisename, c.dedupestatic, other.franchisename, other.companyname\"\"\").data()"
   ]
  },
  {
   "cell_type": "code",
   "execution_count": null,
   "metadata": {},
   "outputs": [],
   "source": [
    "my_node"
   ]
  },
  {
   "cell_type": "code",
   "execution_count": null,
   "metadata": {},
   "outputs": [],
   "source": [
    "my_node = graph.run(\"\"\"MATCH (dischem:Merchant {franchisename:'DIS-CHEM DAINFERN'})-[:TRANSACTED_AT]-(c:Client)-\n",
    "[:TRANSACTED_AT]-(other:Merchant)\n",
    "WHERE other.franchisename<>dischem.franchisename \n",
    "RETURN DISTINCT(c.dedupestatic), count(DISTINCT other)\"\"\").data()\n",
    "my_node"
   ]
  },
  {
   "cell_type": "code",
   "execution_count": null,
   "metadata": {},
   "outputs": [],
   "source": [
    "my_node = graph.run(\"\"\"MATCH (dischem:Merchant {franchisename:'DIS-CHEM DAINFERN'})-[:TRANSACTED_AT]-(c:Client)-\n",
    "[othertransaction:TRANSACTED_AT]-(other:Merchant)\n",
    "WHERE other.franchisename<>dischem.franchisename \n",
    "RETURN DISTINCT(other.franchisename) AS other_franchisename, count(othertransaction) AS number_transactions\"\"\").data()\n",
    "my_node"
   ]
  },
  {
   "cell_type": "code",
   "execution_count": null,
   "metadata": {},
   "outputs": [],
   "source": [
    "my_node = graph.run(\"\"\"MATCH (dischem:Merchant {franchisename:'DIS-CHEM DAINFERN'})-[:TRANSACTED_AT]-(c:Client)-\n",
    "[othertransaction:TRANSACTED_AT]-(other:Merchant)\n",
    "WHERE other.franchisename<>dischem.franchisename \n",
    "WITH other.franchisename AS other_franchisename, count(othertransaction) AS number_transactions \n",
    "RETURN DISTINCT(other_franchisename), number_transactions\"\"\").data()\n",
    "my_node"
   ]
  },
  {
   "cell_type": "markdown",
   "metadata": {},
   "source": [
    "### Common Neighbours\n",
    "\n",
    "Common neighbors captures the idea that two strangers who have a friend in common are more likely to be introduced than those who don’t have any friends in common.\n",
    "\n",
    "In retail and a bank graph db, this notion may be extended to imply that merchants who share clients do so for a number of reasons.  The product offering may be supplementary.  They share cclients with the same value prefeerences."
   ]
  },
  {
   "cell_type": "markdown",
   "metadata": {},
   "source": [
    "Take one client, one previously identified as a DIS-CHEM DAINFERN shopper, and measure shared nodes or commonNeighbours:"
   ]
  },
  {
   "cell_type": "code",
   "execution_count": null,
   "metadata": {},
   "outputs": [],
   "source": [
    "commonNeighbors_df = graph.run(\"\"\"MATCH (dischem:Merchant {franchisename:'DIS-CHEM DAINFERN'})-[:TRANSACTED_AT]-(c0:Client)\n",
    "MATCH (c1:Client {dedupestatic:'2.11279273006e+11'})  \n",
    "WHERE c0.dedupestatic <> c1.dedupestatic  \n",
    "RETURN c0.dedupestatic as client1,c1.dedupestatic as client2, gds.alpha.linkprediction.commonNeighbors(c0, c1) as commonNeighbors\n",
    "ORDER BY commonNeighbors DESC\"\"\").to_data_frame()\n",
    "commonNeighbors_df"
   ]
  },
  {
   "cell_type": "markdown",
   "metadata": {},
   "source": [
    "Below all clients, taken from the DainfernSquare complex is taken and compared via common neighbours.  This procedure takes LONGER to run, and it needss to be speeded up still.  There are apporximately 63000 ombinations."
   ]
  },
  {
   "cell_type": "code",
   "execution_count": null,
   "metadata": {},
   "outputs": [],
   "source": [
    "commonNeighbors_df = graph.run(\"\"\"MATCH (dischem:Merchant {franchisename:'DIS-CHEM DAINFERN'})-[:TRANSACTED_AT]-(c0:Client) \n",
    "MATCH (dischem:Merchant {franchisename:'DIS-CHEM DAINFERN'})-[:TRANSACTED_AT]-(c1:Client) \n",
    "WHERE c0.dedupestatic <> c1.dedupestatic\n",
    "RETURN c0.dedupestatic as client1,c1.dedupestatic as client2, gds.alpha.linkprediction.commonNeighbors(c0, c1) as commonNeighbors\n",
    "ORDER BY commonNeighbors DESC \"\"\").to_data_frame()\n",
    "commonNeighbors_df"
   ]
  },
  {
   "cell_type": "code",
   "execution_count": null,
   "metadata": {},
   "outputs": [],
   "source": [
    "my_node = graph.run(\"\"\"MATCH (dischem:Merchant {franchisename:'DIS-CHEM DAINFERN'})-[:TRANSACTED_AT]-(c0:Client)\n",
    "WITH collect(distinct c0) as clients \n",
    "MATCH (dischem:Merchant {franchisename:'DIS-CHEM DAINFERN'})-[:TRANSACTED_AT]-(c1:Client) \n",
    "WHERE c1 NOT in clients AND gds.alpha.linkprediction.commonNeighbors(c0, c1)>5 \n",
    "RETURN c0.dedupestatic, c1.dedupestatic\"\"\").data()\n",
    "my_node"
   ]
  },
  {
   "cell_type": "code",
   "execution_count": null,
   "metadata": {},
   "outputs": [],
   "source": [
    "gds_graph_create=\"\"\"CALL gds.graph.create(\n",
    "    'myGraph',\n",
    "    'Page',\n",
    "    'LINKS',\n",
    ")\"\"\""
   ]
  },
  {
   "cell_type": "code",
   "execution_count": null,
   "metadata": {},
   "outputs": [],
   "source": []
  }
 ],
 "metadata": {
  "kernelspec": {
   "display_name": "Python 3",
   "language": "python",
   "name": "python3"
  },
  "language_info": {
   "codemirror_mode": {
    "name": "ipython",
    "version": 3
   },
   "file_extension": ".py",
   "mimetype": "text/x-python",
   "name": "python",
   "nbconvert_exporter": "python",
   "pygments_lexer": "ipython3",
   "version": "3.7.6"
  }
 },
 "nbformat": 4,
 "nbformat_minor": 4
}

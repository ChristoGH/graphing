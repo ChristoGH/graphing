{
 "cells": [
  {
   "cell_type": "markdown",
   "metadata": {},
   "source": [
    "```\n",
    "https://graph-tool.skewed.de/static/doc/quickstart.html\n",
    "```"
   ]
  },
  {
   "cell_type": "code",
   "execution_count": 1,
   "metadata": {},
   "outputs": [],
   "source": [
    "import os"
   ]
  },
  {
   "cell_type": "code",
   "execution_count": 2,
   "metadata": {},
   "outputs": [
    {
     "data": {
      "text/plain": [
       "'/home/user/graphing'"
      ]
     },
     "execution_count": 2,
     "metadata": {},
     "output_type": "execute_result"
    }
   ],
   "source": [
    "os.getcwd()"
   ]
  },
  {
   "cell_type": "code",
   "execution_count": 3,
   "metadata": {},
   "outputs": [],
   "source": [
    "#! /usr/bin/env python\n",
    "\n",
    "# We will need some things from several places\n",
    "from __future__ import division, absolute_import, print_function\n",
    "import sys\n",
    "if sys.version_info < (3,):\n",
    "    range = xrange\n",
    "import os\n",
    "from pylab import *  # for plotting\n",
    "from numpy.random import *  # for random sampling\n",
    "seed(42)"
   ]
  },
  {
   "cell_type": "code",
   "execution_count": 4,
   "metadata": {},
   "outputs": [],
   "source": [
    "# We need to import the graph_tool module itself\n",
    "from graph_tool.all import *\n",
    "\n",
    "# let's construct a Price network (the one that existed before Barabasi). It is\n",
    "# a directed network, with preferential attachment. The algorithm below is\n",
    "# very naive, and a bit slow, but quite simple.\n",
    "\n",
    "# We start with an empty, directed graph\n",
    "g = Graph()\n",
    "\n",
    "# We want also to keep the age information for each vertex and edge. For that\n",
    "# let's create some property maps\n",
    "v_age = g.new_vertex_property(\"int\")\n",
    "e_age = g.new_edge_property(\"int\")\n",
    "\n",
    "# The final size of the network\n",
    "N = 100000\n",
    "\n",
    "# We have to start with one vertex\n",
    "v = g.add_vertex()\n",
    "v_age[v] = 0\n",
    "\n",
    "# we will keep a list of the vertices. The number of times a vertex is in this\n",
    "# list will give the probability of it being selected.\n",
    "vlist = [v]"
   ]
  },
  {
   "cell_type": "code",
   "execution_count": 5,
   "metadata": {},
   "outputs": [],
   "source": [
    "# let's now add the new edges and vertices\n",
    "for i in range(1, N):\n",
    "    # create our new vertex\n",
    "    v = g.add_vertex()\n",
    "    v_age[v] = i\n",
    "\n",
    "    # we need to sample a new vertex to be the target, based on its in-degree +\n",
    "    # 1. For that, we simply randomly sample it from vlist.\n",
    "    i = randint(0, len(vlist))\n",
    "    target = vlist[i]\n",
    "\n",
    "    # add edge\n",
    "    e = g.add_edge(v, target)\n",
    "    e_age[e] = i\n",
    "\n",
    "    # put v and target in the list\n",
    "    vlist.append(target)\n",
    "    vlist.append(v)\n",
    "\n",
    "    "
   ]
  },
  {
   "cell_type": "code",
   "execution_count": 6,
   "metadata": {},
   "outputs": [
    {
     "name": "stdout",
     "output_type": "stream",
     "text": [
      "vertex: 36063 in-degree: 0 out-degree: 1 age: 36063\n",
      "vertex: 9075 in-degree: 4 out-degree: 1 age: 9075\n",
      "vertex: 5967 in-degree: 3 out-degree: 1 age: 5967\n",
      "vertex: 1113 in-degree: 7 out-degree: 1 age: 1113\n",
      "vertex: 25 in-degree: 84 out-degree: 1 age: 25\n",
      "vertex: 10 in-degree: 541 out-degree: 1 age: 10\n",
      "vertex: 5 in-degree: 140 out-degree: 1 age: 5\n",
      "vertex: 2 in-degree: 362 out-degree: 1 age: 2\n",
      "vertex: 0 in-degree: 636 out-degree: 0 age: 0\n",
      "Nowhere else to go... We found the main hub!\n"
     ]
    }
   ],
   "source": [
    "# now we have a graph!\n",
    "\n",
    "# let's do a random walk on the graph and print the age of the vertices we find,\n",
    "# just for fun.\n",
    "\n",
    "v = g.vertex(randint(0, g.num_vertices()))\n",
    "while True:\n",
    "    print(\"vertex:\", int(v), \"in-degree:\", v.in_degree(), \"out-degree:\",\n",
    "          v.out_degree(), \"age:\", v_age[v])\n",
    "\n",
    "    if v.out_degree() == 0:\n",
    "        print(\"Nowhere else to go... We found the main hub!\")\n",
    "        break\n",
    "\n",
    "    n_list = []\n",
    "    for w in v.out_neighbors():\n",
    "        n_list.append(w)\n",
    "    v = n_list[randint(0, len(n_list))]"
   ]
  },
  {
   "cell_type": "code",
   "execution_count": 7,
   "metadata": {},
   "outputs": [
    {
     "data": {
      "image/png": "[encoded data removed]",
      "text/plain": [
       "<Figure size 432x288 with 1 Axes>"
      ]
     },
     "metadata": {
      "needs_background": "light"
     },
     "output_type": "display_data"
    }
   ],
   "source": [
    "# let's save our graph for posterity. We want to save the age properties as\n",
    "# well... To do this, they must become \"internal\" properties:\n",
    "\n",
    "g.vertex_properties[\"age\"] = v_age\n",
    "g.edge_properties[\"age\"] = e_age\n",
    "\n",
    "# now we can save it\n",
    "g.save(\"/home/user/graphing/data/price.xml.gz\")\n",
    "\n",
    "\n",
    "# Let's plot its in-degree distribution\n",
    "in_hist = vertex_hist(g, \"in\")\n",
    "\n",
    "y = in_hist[0]\n",
    "err = sqrt(in_hist[0])\n",
    "err[err >= y] = y[err >= y] - 1e-2\n",
    "\n",
    "figure(figsize=(6,4))\n",
    "errorbar(in_hist[1][:-1], in_hist[0], fmt=\"o\", yerr=err,\n",
    "        label=\"in\")\n",
    "gca().set_yscale(\"log\")\n",
    "gca().set_xscale(\"log\")\n",
    "gca().set_ylim(1e-1, 1e5)\n",
    "gca().set_xlim(0.8, 1e3)\n",
    "subplots_adjust(left=0.2, bottom=0.2)\n",
    "xlabel(\"$k_{in}$\")\n",
    "ylabel(\"$NP(k_{in})$\")\n",
    "tight_layout()\n",
    "savefig(\"/home/user/graphing/data/price-deg-dist.pdf\")\n",
    "savefig(\"/home/user/graphing/data/price-deg-dist.svg\")"
   ]
  },
  {
   "cell_type": "code",
   "execution_count": null,
   "metadata": {},
   "outputs": [],
   "source": [
    "g = load_graph(\"/home/user/graphing/data/price.xml.gz\")\n",
    "age = g.vertex_properties[\"age\"]\n",
    "\n",
    "pos = sfdp_layout(g)\n",
    "graph_draw(g, pos, output_size=(1000, 1000), vertex_color=[1,1,1,0],\n",
    "           vertex_fill_color=age, vertex_size=1, edge_pen_width=1.2,\n",
    "           vcmap=matplotlib.cm.gist_heat_r, output=\"/home/user/graphing/data/price.pdf\")"
   ]
  },
  {
   "cell_type": "code",
   "execution_count": null,
   "metadata": {},
   "outputs": [],
   "source": []
  }
 ],
 "metadata": {
  "kernelspec": {
   "display_name": "Python 3",
   "language": "python",
   "name": "python3"
  },
  "language_info": {
   "codemirror_mode": {
    "name": "ipython",
    "version": 3
   },
   "file_extension": ".py",
   "mimetype": "text/x-python",
   "name": "python",
   "nbconvert_exporter": "python",
   "pygments_lexer": "ipython3",
   "version": "3.7.3"
  }
 },
 "nbformat": 4,
 "nbformat_minor": 2
}

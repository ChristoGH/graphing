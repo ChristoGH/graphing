{
 "cells": [
  {
   "cell_type": "code",
   "execution_count": 1,
   "metadata": {},
   "outputs": [],
   "source": [
    "#! /usr/bin/env python\n",
    "\n",
    "# We will need some things from several places\n",
    "from __future__ import division, absolute_import, print_function\n",
    "import sys\n",
    "if sys.version_info < (3,):\n",
    "    range = xrange\n",
    "import os\n",
    "from pylab import *  # for plotting\n",
    "from numpy.random import *  # for random sampling\n",
    "seed(42)"
   ]
  },
  {
   "cell_type": "code",
   "execution_count": 7,
   "metadata": {},
   "outputs": [],
   "source": [
    "# We need to import the graph_tool module itself\n",
    "from graph_tool.all import *\n",
    "\n",
    "# let's construct a Price network (the one that existed before Barabasi). It is\n",
    "# a directed network, with preferential attachment. The algorithm below is\n",
    "# very naive, and a bit slow, but quite simple.\n",
    "\n",
    "# We start with an empty, directed graph\n",
    "g = Graph()\n",
    "\n",
    "# We want also to keep the age information for each vertex and edge. For that\n",
    "# let's create some property maps\n",
    "v_age = g.new_vertex_property(\"int\")\n",
    "e_age = g.new_edge_property(\"int\")\n",
    "\n",
    "# The final size of the network\n",
    "N = 100000\n",
    "\n",
    "# We have to start with one vertex\n",
    "v = g.add_vertex()\n",
    "v_age[v] = 0\n",
    "\n",
    "# we will keep a list of the vertices. The number of times a vertex is in this\n",
    "# list will give the probability of it being selected.\n",
    "vlist = [v]"
   ]
  },
  {
   "cell_type": "code",
   "execution_count": 20,
   "metadata": {},
   "outputs": [
    {
     "data": {
      "text/plain": [
       "<Vertex object with index '21' at 0x7fd8a6fac210>"
      ]
     },
     "execution_count": 20,
     "metadata": {},
     "output_type": "execute_result"
    }
   ],
   "source": [
    "vlist[42]"
   ]
  },
  {
   "cell_type": "code",
   "execution_count": 9,
   "metadata": {},
   "outputs": [],
   "source": [
    "# let's now add the new edges and vertices\n",
    "for i in range(1, N):\n",
    "    # create our new vertex\n",
    "    v = g.add_vertex()\n",
    "    v_age[v] = i\n",
    "\n",
    "    # we need to sample a new vertex to be the target, based on its in-degree +\n",
    "    # 1. For that, we simply randomly sample it from vlist.\n",
    "    i = randint(0, len(vlist))\n",
    "    target = vlist[i]\n",
    "\n",
    "    # add edge\n",
    "    e = g.add_edge(v, target)\n",
    "    e_age[e] = i\n",
    "\n",
    "    # put v and target in the list\n",
    "    vlist.append(target)\n",
    "    vlist.append(v)\n",
    "\n",
    "    "
   ]
  },
  {
   "cell_type": "code",
   "execution_count": 13,
   "metadata": {},
   "outputs": [
    {
     "data": {
      "text/plain": [
       "1"
      ]
     },
     "execution_count": 13,
     "metadata": {},
     "output_type": "execute_result"
    }
   ],
   "source": [
    "v_age[1]"
   ]
  },
  {
   "cell_type": "code",
   "execution_count": 21,
   "metadata": {},
   "outputs": [],
   "source": [
    "# let's construct a Price network (the one that existed before Barabasi). It is\n",
    "# a directed network, with preferential attachment. The algorithm below is\n",
    "# very naive, and a bit slow, but quite simple.\n",
    "\n",
    "# We start with an empty, directed graph\n",
    "g = Graph()"
   ]
  },
  {
   "cell_type": "code",
   "execution_count": 22,
   "metadata": {},
   "outputs": [],
   "source": [
    "# We want also to keep the age information for each vertex and edge. For that\n",
    "# let's create some property maps\n",
    "v_type = g.new_vertex_property(\"string\")\n",
    "v_dedupe=g.new_vertex_property(\"string\")\n",
    "e_date = g.new_edge_property(\"string\")"
   ]
  },
  {
   "cell_type": "code",
   "execution_count": 23,
   "metadata": {},
   "outputs": [],
   "source": [
    "# The final size of the network\n",
    "N = 100000\n",
    "\n",
    "# We have to start with one vertex\n",
    "v = g.add_vertex()\n",
    "v_name[v] = '2020-03-24'"
   ]
  },
  {
   "cell_type": "code",
   "execution_count": 24,
   "metadata": {},
   "outputs": [],
   "source": [
    "# we will keep a list of the vertices. The number of times a vertex is in this\n",
    "# list will give the probability of it being selected.\n",
    "vlist = [v]"
   ]
  },
  {
   "cell_type": "code",
   "execution_count": null,
   "metadata": {},
   "outputs": [],
   "source": [
    "g."
   ]
  }
 ],
 "metadata": {
  "kernelspec": {
   "display_name": "Python 3",
   "language": "python",
   "name": "python3"
  },
  "language_info": {
   "codemirror_mode": {
    "name": "ipython",
    "version": 3
   },
   "file_extension": ".py",
   "mimetype": "text/x-python",
   "name": "python",
   "nbconvert_exporter": "python",
   "pygments_lexer": "ipython3",
   "version": "3.7.3"
  }
 },
 "nbformat": 4,
 "nbformat_minor": 2
}

{
 "cells": [
  {
   "cell_type": "markdown",
   "metadata": {},
   "source": [
    "https://neo4j.com/developer/guide-build-a-recommendation-engine/"
   ]
  },
  {
   "cell_type": "code",
   "execution_count": 1,
   "metadata": {},
   "outputs": [],
   "source": [
    "import pandas as pd\n",
    "from py2neo import Graph\n",
    "graph = Graph(\"bolt://localhost:7687\", user='neo4j', password='newPassword')\n",
    "# graph = Graph()"
   ]
  },
  {
   "cell_type": "code",
   "execution_count": 2,
   "metadata": {},
   "outputs": [],
   "source": [
    "import matplotlib \n",
    "import matplotlib.pyplot as plt"
   ]
  },
  {
   "cell_type": "markdown",
   "metadata": {},
   "source": [
    "## Part 1, Recommendations"
   ]
  },
  {
   "cell_type": "markdown",
   "metadata": {},
   "source": [
    "#### 1. Collaborative or preferential filtering."
   ]
  },
  {
   "cell_type": "markdown",
   "metadata": {},
   "source": [
    "Collaborative filtering is based on the idea that people like things similar to other things they like, and things that are liked by other people with similar taste.\n",
    "In a retail environment, preferential filtering is based on the idea that people shop at places where there is a commonality in style, quality, price and appeal, and shops are similarly liked by people with similar preferences.\n",
    "In a retail graph such as this behaviour or preferences arre revealed by clusters of nodes. "
   ]
  },
  {
   "cell_type": "markdown",
   "metadata": {},
   "source": [
    "Check that our database is running:"
   ]
  },
  {
   "cell_type": "code",
   "execution_count": 3,
   "metadata": {},
   "outputs": [
    {
     "data": {
      "text/plain": [
       "[{'nodes': [(_-5:Merchant {constraints: ['CONSTRAINT ON ( merchant:Merchant ) ASSERT (merchant.franchisename) IS UNIQUE'], indexes: [], name: 'Merchant'}),\n",
       "   (_-4:Client {constraints: ['CONSTRAINT ON ( client:Client ) ASSERT (client.dedupestatic) IS UNIQUE'], indexes: [], name: 'Client'}),\n",
       "   (_-6:Segment {constraints: ['CONSTRAINT ON ( segment:Segment ) ASSERT (segment.seg_l3_num) IS UNIQUE'], indexes: [], name: 'Segment'})],\n",
       "  'relationships': [(Client)-[:TRANSACTED_AT {}]->(Merchant),\n",
       "   (Merchant)-[:MERCHANT_VALUE_LINK {}]->(Merchant),\n",
       "   (Merchant)-[:MERCHANT_LINK {}]->(Merchant),\n",
       "   (Merchant)-[:MERCHANT_FEET_LINK {}]->(Merchant)]}]"
      ]
     },
     "execution_count": 3,
     "metadata": {},
     "output_type": "execute_result"
    }
   ],
   "source": [
    "graph.run(\"CALL db.schema.visualization()\").data()"
   ]
  },
  {
   "cell_type": "markdown",
   "metadata": {},
   "source": [
    "### Goal 1: Co-merchant, co-client collaborative filtering with Neo4J Cypher"
   ]
  },
  {
   "cell_type": "markdown",
   "metadata": {},
   "source": [
    "#### Find popular merchants:"
   ]
  },
  {
   "cell_type": "code",
   "execution_count": null,
   "metadata": {},
   "outputs": [],
   "source": [
    "popular_merchants_query = \"\"\"\n",
    "MATCH (merchant:Merchant)<-[transacted_at:TRANSACTED_AT]-(client)\n",
    "WITH merchant.franchisename as merchant, count(transacted_at) as relationships\n",
    "RETURN merchant, relationships \n",
    "ORDER BY relationships DESC\n",
    "\"\"\"\n",
    "graph.run(popular_merchants_query).to_data_frame()"
   ]
  },
  {
   "cell_type": "markdown",
   "metadata": {},
   "source": [
    "#### Find popular first-degree merchants (co-merchants 'merchant friends' linked via customers/Nedbank clients):"
   ]
  },
  {
   "cell_type": "markdown",
   "metadata": {},
   "source": [
    "Choose 1 merchant, 'DIS-CHEM DAINFERN'"
   ]
  },
  {
   "cell_type": "code",
   "execution_count": null,
   "metadata": {},
   "outputs": [],
   "source": [
    "merchant='DIS-CHEM DAINFERN'"
   ]
  },
  {
   "cell_type": "markdown",
   "metadata": {},
   "source": [
    "How many unique client relationships to this merchant?"
   ]
  },
  {
   "cell_type": "code",
   "execution_count": null,
   "metadata": {},
   "outputs": [],
   "source": [
    "merchantName='DIS-CHEM DAINFERN'\n",
    "popular_merchants_query = \"\"\"\n",
    "MATCH (merchant:Merchant {franchisename:$merchantName})<-[transacted_at:TRANSACTED_AT]-(client)\n",
    "RETURN count(client) AS uniqueClients\n",
    "\"\"\"\n",
    "\n",
    "graph.run(popular_merchants_query, {\"merchantName\": merchantName}).to_data_frame()"
   ]
  },
  {
   "cell_type": "markdown",
   "metadata": {},
   "source": [
    "How many transactions and how much was spent at this merchant:"
   ]
  },
  {
   "cell_type": "code",
   "execution_count": null,
   "metadata": {},
   "outputs": [],
   "source": [
    "merchantName='DIS-CHEM DAINFERN'\n",
    "popular_merchants_query = \"\"\"\n",
    "MATCH (merchant:Merchant {franchisename:$merchantName})<-[transacted_at:TRANSACTED_AT]-(client)\n",
    "RETURN count(client) AS uniqueclients, sum(transacted_at.transactioncount) AS transactioncount, \n",
    "sum(transacted_at.transactionamount) AS transactionamount\n",
    "\"\"\"\n",
    "\n",
    "graph.run(popular_merchants_query, {\"merchantName\": merchantName}).to_data_frame()"
   ]
  },
  {
   "cell_type": "markdown",
   "metadata": {},
   "source": [
    "Here we look at the number of client (of DIS-CHEM DAINFERN) transactions at first degree separated merchants:"
   ]
  },
  {
   "cell_type": "code",
   "execution_count": null,
   "metadata": {},
   "outputs": [],
   "source": [
    "merchantName='DIS-CHEM DAINFERN'\n",
    "popular_merchants_query = \"\"\"\n",
    "MATCH (merchant1:Merchant {franchisename:$merchantName})<-[:TRANSACTED_AT]-()-[merchantTransactions:TRANSACTED_AT]->(merchant2:Merchant)\n",
    "WHERE merchant1<>merchant2\n",
    "RETURN DISTINCT(merchant2.franchisename) AS first_degree_merchant, \n",
    "       count(merchantTransactions) AS first_degree_merchant_transactions,\n",
    "       sum(merchantTransactions.transactionamount) as transactionamount,\n",
    "       sum(merchantTransactions.transactioncount) as transactioncount\n",
    "ORDER BY first_degree_merchant_transactions DESC\n",
    "\"\"\"\n",
    "\n",
    "graph.run(popular_merchants_query, {\"merchantName\": merchantName}).to_data_frame()"
   ]
  },
  {
   "cell_type": "code",
   "execution_count": null,
   "metadata": {},
   "outputs": [],
   "source": [
    "popular_df=graph.run(popular_merchants_query, {\"merchantName\": merchantName}).to_data_frame()"
   ]
  },
  {
   "cell_type": "code",
   "execution_count": null,
   "metadata": {},
   "outputs": [],
   "source": [
    "fig1, ax1 = plt.subplots()\n",
    "ax1.hist(pd.Series(popular_df['first_degree_merchant_transactions'].dropna()), 1250, density=True, facecolor='g', alpha=0.75)\n",
    "ax1.set_xscale(\"log\")\n",
    "ax1.set_yscale(\"log\")\n",
    "plt.tight_layout()\n",
    "plt.show()"
   ]
  },
  {
   "cell_type": "markdown",
   "metadata": {},
   "source": [
    "#### There is almost a 50% chance of a Dischem DSQ shopper shopping at a PNP DSQ too!  ie, a dischem shopper made their way to PNP 1/2 times.  But of those clients who visited both Dischem Dainfern Square and PNP DSQ committed the more than half the number of transactions at PNP"
   ]
  },
  {
   "cell_type": "markdown",
   "metadata": {},
   "source": [
    "Choose the most popular first degree merchant (to DIS-CHEM dainfern) (Check the spelling!), 'PNP CRP DEINFERN SQUAR'"
   ]
  },
  {
   "cell_type": "code",
   "execution_count": null,
   "metadata": {},
   "outputs": [],
   "source": [
    "merchantName='PNP CRP DEINFERN SQUAR'"
   ]
  },
  {
   "cell_type": "markdown",
   "metadata": {},
   "source": [
    "How many unique customer relationships to this merchant:"
   ]
  },
  {
   "cell_type": "code",
   "execution_count": null,
   "metadata": {},
   "outputs": [],
   "source": [
    "popular_merchants_query = \"\"\"\n",
    "MATCH (merchant1:Merchant {franchisename:$merchantName})<-[:TRANSACTED_AT]-(client)\n",
    "RETURN count(client) AS uniqueClients\n",
    "\"\"\"\n",
    "graph.run(popular_merchants_query, {\"merchantName\": merchantName}).to_data_frame()"
   ]
  },
  {
   "cell_type": "markdown",
   "metadata": {},
   "source": [
    "Take 'PNP CRP DEINFERN SQUAR' as merchant zero and extract its first degree separated merchants:"
   ]
  },
  {
   "cell_type": "code",
   "execution_count": null,
   "metadata": {},
   "outputs": [],
   "source": [
    "merchantName='PNP CRP DEINFERN SQUAR'\n",
    "popular_merchants_query = \"\"\"\n",
    "MATCH (merchant1:Merchant {franchisename:$merchantName})<-[:TRANSACTED_AT]-()-[merchantTransactions:TRANSACTED_AT]->(merchant2:Merchant)\n",
    "WHERE merchant1<>merchant2\n",
    "RETURN DISTINCT(merchant2.franchisename) AS first_degree_merchant, \n",
    "       count(merchantTransactions) AS first_degree_merchant_transactions,\n",
    "       sum(merchantTransactions.transactionamount) as transactionamount,\n",
    "       sum(merchantTransactions.transactioncount) as transactioncount\n",
    "ORDER BY first_degree_merchant_transactions DESC\n",
    "\"\"\"\n",
    "\n",
    "graph.run(popular_merchants_query, {\"merchantName\": merchantName}).to_data_frame()"
   ]
  },
  {
   "cell_type": "markdown",
   "metadata": {},
   "source": [
    "There is hence a less that 30% (116/383) chance of a client visiting PNP and Dischem at this mall, ie all the PNP shoppers less than 1/3 made their way to Dischem.  But the probability of PNP-WW is also less (112/383) than DISCHEM-WW (111/252)"
   ]
  },
  {
   "cell_type": "markdown",
   "metadata": {},
   "source": [
    "#### Carry on with DSQ merchant, PNP CRP DEINFERN SQUAR."
   ]
  },
  {
   "cell_type": "markdown",
   "metadata": {},
   "source": [
    "#### Merchant of Merchant transactions"
   ]
  },
  {
   "cell_type": "code",
   "execution_count": null,
   "metadata": {},
   "outputs": [],
   "source": [
    "merchantName='PNP CRP DEINFERN SQUAR'\n",
    "merchantName_clients = \"\"\"\n",
    "MATCH (merchant:Merchant {franchisename: $merchantName})<-[:TRANSACTED_AT]-(client:Client)\n",
    "RETURN client.dedupestatic AS client, size((client)-[:TRANSACTED_AT]-(merchant)) AS merchantTransactions,\n",
    "size((client)-[:TRANSACTED_AT]-()) AS momTransactions\n",
    "ORDER BY momTransactions DESC\n",
    "LIMIT 20\n",
    "\"\"\"\n",
    "\n",
    "graph.run(merchantName_clients,  {\"merchantName\": merchantName}).to_data_frame()"
   ]
  },
  {
   "cell_type": "markdown",
   "metadata": {},
   "source": [
    "### Find the co-merchants, the merchant-of-merchants"
   ]
  },
  {
   "cell_type": "code",
   "execution_count": null,
   "metadata": {},
   "outputs": [],
   "source": [
    "# franchisename='DIS-CHEM DAINFERN'\n",
    "# clicks='Clicks Dairnfern'\n",
    "def merchantdf_fn(franchisename):\n",
    "    competition_query = \"\"\"MATCH (client:Client)-[transaction:TRANSACTED_AT]-(merchant:Merchant {franchisename:$franchisename})\n",
    "    RETURN client.dedupestatic as client, merchant.franchisename\"\"\"\n",
    "    return graph.run(competition_query,  {\"franchisename\":franchisename}).to_data_frame()\n",
    "\n",
    "def intersection(lst1, lst2): \n",
    "    lst3 = [value for value in lst1 if value in lst2] \n",
    "    return lst3 "
   ]
  },
  {
   "cell_type": "code",
   "execution_count": null,
   "metadata": {},
   "outputs": [],
   "source": [
    "merchantName='PNP CRP DEINFERN SQUAR'\n",
    "collaborations_query = \"\"\"\n",
    "MATCH (:Merchant {franchisename: $merchantName})<-[:TRANSACTED_AT]-(client)-[:TRANSACTED_AT]->(momMerchant:Merchant)\n",
    "RETURN momMerchant.franchisename AS momMerchant, count(*) AS coMerchantsCount\n",
    "ORDER BY coMerchantsCount DESC\n",
    "LIMIT 10\n",
    "\"\"\"\n",
    "\n",
    "graph.run(collaborations_query,  {\"merchantName\": merchantName}).to_data_frame()"
   ]
  },
  {
   "cell_type": "markdown",
   "metadata": {},
   "source": [
    "Find all the clients who shopped at Dischem and Clicks, Dainfern:"
   ]
  },
  {
   "cell_type": "code",
   "execution_count": null,
   "metadata": {},
   "outputs": [],
   "source": [
    "dischem_df=merchantdf_fn(franchisename='DIS-CHEM DAINFERN')\n",
    "clicks_df=merchantdf_fn(franchisename='Clicks Dairnfern')"
   ]
  },
  {
   "cell_type": "code",
   "execution_count": null,
   "metadata": {},
   "outputs": [],
   "source": [
    "print(\"There are: \",len(set(dischem_df.client)), \" unique DISCHEM clients and \", len(set(clicks_df.client)), \" unique clients at CLICKS\")"
   ]
  },
  {
   "cell_type": "markdown",
   "metadata": {},
   "source": [
    "Calculate the clients who shopped at both:"
   ]
  },
  {
   "cell_type": "code",
   "execution_count": null,
   "metadata": {},
   "outputs": [],
   "source": [
    "len(intersection(list(dischem_df.client),list(clicks_df.client)))"
   ]
  },
  {
   "cell_type": "markdown",
   "metadata": {},
   "source": [
    "## Recommendations"
   ]
  },
  {
   "cell_type": "markdown",
   "metadata": {},
   "source": [
    "### Motive, means and alibi"
   ]
  },
  {
   "cell_type": "markdown",
   "metadata": {},
   "source": [
    "Look at the Dainfern Square 'complex/network' of merchants.  Take the top four by transactioncount or feet, being\n",
    "'PNP CRP DEINFERN SQUAR',\n",
    "'WOOLWORTHS MAROUN SQ',\n",
    "'Spar Broadacres Spar',\n",
    "'Clicks Dairnfern'.  \n",
    "We find the clients who shopped at these, ie had the 'means' to shop at DIS-CHEM DAINFERN but didn't.  The had no alibi!"
   ]
  },
  {
   "cell_type": "code",
   "execution_count": null,
   "metadata": {},
   "outputs": [],
   "source": [
    "victim='DIS-CHEM DAINFERN'\n",
    "means1='PNP CRP DEINFERN SQUAR'\n",
    "means2='WOOLWORTHS MAROUN SQ'\n",
    "means3='Spar Broadacres Spar'\n",
    "means4='Clicks Dairnfern'\n",
    "\n",
    "recommendations_query = \"\"\"\n",
    "MATCH (client:Client)-[:TRANSACTED_AT]-(m:Merchant) \n",
    "WHERE m.franchisename IN [$means1,$means2,$means3,$means4] AND NOT (client)-[:TRANSACTED_AT]-(m:Merchant {franchisename:$victim})\n",
    "RETURN  client.dedupestatic as client\"\"\"\n",
    "\n",
    "df=graph.run(recommendations_query,  {\"victim\": victim, \"means1\":means1,\"means2\":means2,\n",
    "                                  \"means3\":means3,\"means4\":means4}).to_data_frame()"
   ]
  },
  {
   "cell_type": "code",
   "execution_count": null,
   "metadata": {},
   "outputs": [],
   "source": [
    "df"
   ]
  },
  {
   "cell_type": "code",
   "execution_count": null,
   "metadata": {},
   "outputs": [],
   "source": [
    "victim='DIS-CHEM DAINFERN'\n",
    "means4='Clicks Dairnfern'\n",
    "\n",
    "recommendations_query = \"\"\"\n",
    "MATCH (client:Client)-[:TRANSACTED_AT]-(m:Merchant) \n",
    "WHERE m.franchisename IN [$means4] AND NOT (client)-[:TRANSACTED_AT]-(m:Merchant {franchisename:$victim})\n",
    "RETURN  client.dedupestatic as client\"\"\"\n",
    "\n",
    "df=graph.run(recommendations_query,  {\"victim\": victim, \"means4\":means4}).to_data_frame()"
   ]
  },
  {
   "cell_type": "code",
   "execution_count": null,
   "metadata": {},
   "outputs": [],
   "source": [
    "df"
   ]
  },
  {
   "cell_type": "code",
   "execution_count": null,
   "metadata": {},
   "outputs": [],
   "source": [
    "victim='DIS-CHEM DAINFERN'\n",
    "means4='Clicks Dairnfern'\n",
    "\n",
    "recommendations_query = \"\"\"\n",
    "MATCH (client1:Client)-[:TRANSACTED_AT]-(m0:Merchant)-[:TRANSACTED_AT]-(client0:Client)-[:TRANSACTED_AT]-(m1:Merchant {franchisename:$victim})\n",
    "WHERE ID(client1)<>ID(client0) AND ID(m0)<>ID(m1) \n",
    "AND NOT (client1:Client)-[:TRANSACTED_AT]-(m1:Merchant {franchisename:$victim})\n",
    "AND NOT m0.companyname in ['NETFLIX','TAKEALOT','GOOGLE','SHOWMAX','UBER']\n",
    "\n",
    "RETURN client1.dedupestatic as dedupestatic, m0.franchisename as franchisename0, m1.franchisename as franchisename1\n",
    "\"\"\"\n",
    "\n",
    "df=graph.run(recommendations_query,  {\"victim\": victim}).to_data_frame()"
   ]
  },
  {
   "cell_type": "code",
   "execution_count": null,
   "metadata": {},
   "outputs": [],
   "source": [
    "df"
   ]
  },
  {
   "cell_type": "code",
   "execution_count": null,
   "metadata": {},
   "outputs": [],
   "source": [
    "victim='DIS-CHEM DAINFERN'\n",
    "means4='Clicks Dairnfern'\n",
    "\n",
    "recommendations_query = \"\"\"\n",
    "MATCH (client1:Client)-[:TRANSACTED_AT]-(m0:Merchant)-[:TRANSACTED_AT]-(client0:Client)-[:TRANSACTED_AT]-(m1:Merchant {franchisename:$victim})\n",
    "WHERE ID(client1)<>ID(client0) AND ID(m0)<>ID(m1) \n",
    "AND NOT (client1:Client)-[:TRANSACTED_AT]-(m1:Merchant {franchisename:$victim})\n",
    "AND NOT m0.companyname in ['NETFLIX','TAKEALOT','GOOGLE','SHOWMAX','UBER']\n",
    "\n",
    "RETURN COUNT(client1.dedupestatic) as count, m0.franchisename as franchisename0, m1.franchisename as franchisename1\n",
    "ORDER BY count\n",
    "\"\"\"\n",
    "\n",
    "df=graph.run(recommendations_query,  {\"victim\": victim}).to_data_frame()"
   ]
  },
  {
   "cell_type": "code",
   "execution_count": null,
   "metadata": {},
   "outputs": [],
   "source": [
    "df"
   ]
  },
  {
   "cell_type": "code",
   "execution_count": null,
   "metadata": {},
   "outputs": [],
   "source": [
    "recommendations_query=\"\"\"MATCH path=(merchant0:Merchant {franchisename:'DIS-CHEM DAINFERN'})-[:TRANSACTED_AT]-(client:Client)\n",
    "MATCH (merchant1:Merchant)-[:TRANSACTED_AT]-(client:Client)\n",
    "MATCH (merchant2:Merchant)-[:TRANSACTED_AT]-(client:Client)\n",
    "WHERE ID(merchant1)<ID(merchant2) AND ID(merchant0)<>ID(merchant2) AND ID(merchant0)<>ID(merchant1)\n",
    "RETURN merchant0.franchisename AS franchisename0,count(merchant1.franchisename) as count,\n",
    "merchant1.franchisename AS franchisename1, merchant2.franchisename AS franchisename2 \n",
    "ORDER BY count DESC \"\"\"\n",
    "graph.run(recommendations_query).to_data_frame()"
   ]
  },
  {
   "cell_type": "code",
   "execution_count": null,
   "metadata": {},
   "outputs": [],
   "source": [
    "recommendations_query=\"\"\"MATCH path=(merchant0:Merchant {franchisename:'DIS-CHEM DAINFERN'})-[:TRANSACTED_AT]-(client:Client)\n",
    "MATCH (merchant1:Merchant)-[:TRANSACTED_AT]-(client:Client)\n",
    "MATCH (merchant2:Merchant)-[:TRANSACTED_AT]-(client:Client)\n",
    "MATCH (merchant3:Merchant)-[:TRANSACTED_AT]-(client:Client)\n",
    "WHERE ID(merchant1)<ID(merchant2) AND ID(merchant0)<>ID(merchant2) AND ID(merchant0)<>ID(merchant1) \n",
    "AND ID(merchant0)<>ID(merchant3) AND ID(merchant2)<ID(merchant3)\n",
    "RETURN merchant0.franchisename AS franchisename0,count(merchant1.franchisename) as count,\n",
    "merchant1.franchisename AS franchisename1, merchant2.franchisename AS franchisename2,\n",
    "merchant3.franchisename AS franchisename3 \n",
    "ORDER BY count DESC \"\"\"\n",
    "graph.run(recommendations_query).to_data_frame()"
   ]
  },
  {
   "cell_type": "code",
   "execution_count": null,
   "metadata": {},
   "outputs": [],
   "source": [
    "seedMerchant=\"NETFLIX.COM\"\n",
    "recommendations_query=\"\"\"MATCH path=(merchant0:Merchant {franchisename:$seedMerchant})-[:TRANSACTED_AT]-(client:Client)\n",
    "MATCH (merchant1:Merchant)-[:TRANSACTED_AT]-(client:Client)\n",
    "MATCH (merchant2:Merchant)-[:TRANSACTED_AT]-(client:Client)\n",
    "MATCH (merchant3:Merchant)-[:TRANSACTED_AT]-(client:Client)\n",
    "MATCH (merchant4:Merchant)-[:TRANSACTED_AT]-(client:Client)\n",
    "WHERE ID(merchant1)<ID(merchant2) AND \n",
    "ID(merchant0)<>ID(merchant2) AND\n",
    "ID(merchant0)<>ID(merchant1) AND \n",
    "ID(merchant0)<>ID(merchant3) AND \n",
    "ID(merchant0)<>ID(merchant4) AND \n",
    "ID(merchant2)<ID(merchant3) AND \n",
    "ID(merchant3)<ID(merchant4)\n",
    "RETURN merchant0.franchisename AS franchisename0,count(merchant1.franchisename) as count,\n",
    "merchant1.franchisename AS franchisename1, merchant2.franchisename AS franchisename2,\n",
    "merchant3.franchisename AS franchisename3, merchant4.franchisename AS franchisename4 \n",
    "ORDER BY count DESC \"\"\"\n",
    "graph.run(recommendations_query, {\"seedMerchant\": seedMerchant}).to_data_frame()"
   ]
  },
  {
   "cell_type": "code",
   "execution_count": 5,
   "metadata": {},
   "outputs": [
    {
     "data": {
      "text/html": [
       "<div>\n",
       "<style scoped>\n",
       "    .dataframe tbody tr th:only-of-type {\n",
       "        vertical-align: middle;\n",
       "    }\n",
       "\n",
       "    .dataframe tbody tr th {\n",
       "        vertical-align: top;\n",
       "    }\n",
       "\n",
       "    .dataframe thead th {\n",
       "        text-align: right;\n",
       "    }\n",
       "</style>\n",
       "<table border=\"1\" class=\"dataframe\">\n",
       "  <thead>\n",
       "    <tr style=\"text-align: right;\">\n",
       "      <th></th>\n",
       "      <th>franchisename0</th>\n",
       "      <th>count</th>\n",
       "      <th>franchisename1</th>\n",
       "      <th>franchisename2</th>\n",
       "    </tr>\n",
       "  </thead>\n",
       "  <tbody>\n",
       "    <tr>\n",
       "      <th>0</th>\n",
       "      <td>NETFLIX.COM</td>\n",
       "      <td>1376</td>\n",
       "      <td>Mr D Food ZA</td>\n",
       "      <td>UBER SA HELP.U</td>\n",
       "    </tr>\n",
       "    <tr>\n",
       "      <th>1</th>\n",
       "      <td>NETFLIX.COM</td>\n",
       "      <td>1308</td>\n",
       "      <td>Mr D Food ZA</td>\n",
       "      <td>Mr D Food</td>\n",
       "    </tr>\n",
       "    <tr>\n",
       "      <th>2</th>\n",
       "      <td>NETFLIX.COM</td>\n",
       "      <td>1004</td>\n",
       "      <td>UBER EATS</td>\n",
       "      <td>UBER SA HELP.U</td>\n",
       "    </tr>\n",
       "    <tr>\n",
       "      <th>3</th>\n",
       "      <td>NETFLIX.COM</td>\n",
       "      <td>926</td>\n",
       "      <td>SHOWMAX</td>\n",
       "      <td>UBER SA HELP.U</td>\n",
       "    </tr>\n",
       "    <tr>\n",
       "      <th>4</th>\n",
       "      <td>NETFLIX.COM</td>\n",
       "      <td>911</td>\n",
       "      <td>BOLT.EU /O/</td>\n",
       "      <td>UBER SA HELP.U</td>\n",
       "    </tr>\n",
       "    <tr>\n",
       "      <th>...</th>\n",
       "      <td>...</td>\n",
       "      <td>...</td>\n",
       "      <td>...</td>\n",
       "      <td>...</td>\n",
       "    </tr>\n",
       "    <tr>\n",
       "      <th>4424195</th>\n",
       "      <td>NETFLIX.COM</td>\n",
       "      <td>1</td>\n",
       "      <td>CHECKERS HYPER FOURWWA</td>\n",
       "      <td>Checkers Sunni</td>\n",
       "    </tr>\n",
       "    <tr>\n",
       "      <th>4424196</th>\n",
       "      <td>NETFLIX.COM</td>\n",
       "      <td>1</td>\n",
       "      <td>SEATTLE DISCOVERY</td>\n",
       "      <td>Checkers Sunni</td>\n",
       "    </tr>\n",
       "    <tr>\n",
       "      <th>4424197</th>\n",
       "      <td>NETFLIX.COM</td>\n",
       "      <td>1</td>\n",
       "      <td>WOOLWORTHS- BROADACRES</td>\n",
       "      <td>Checkers Sunni</td>\n",
       "    </tr>\n",
       "    <tr>\n",
       "      <th>4424198</th>\n",
       "      <td>NETFLIX.COM</td>\n",
       "      <td>1</td>\n",
       "      <td>CHECKERS RIVONIA VILLA</td>\n",
       "      <td>Checkers Sunni</td>\n",
       "    </tr>\n",
       "    <tr>\n",
       "      <th>4424199</th>\n",
       "      <td>NETFLIX.COM</td>\n",
       "      <td>1</td>\n",
       "      <td>CHECKERS NICOLWAY</td>\n",
       "      <td>ENGEN MORNINGS</td>\n",
       "    </tr>\n",
       "  </tbody>\n",
       "</table>\n",
       "<p>4424200 rows × 4 columns</p>\n",
       "</div>"
      ],
      "text/plain": [
       "        franchisename0  count          franchisename1  franchisename2\n",
       "0          NETFLIX.COM   1376            Mr D Food ZA  UBER SA HELP.U\n",
       "1          NETFLIX.COM   1308            Mr D Food ZA       Mr D Food\n",
       "2          NETFLIX.COM   1004               UBER EATS  UBER SA HELP.U\n",
       "3          NETFLIX.COM    926                 SHOWMAX  UBER SA HELP.U\n",
       "4          NETFLIX.COM    911             BOLT.EU /O/  UBER SA HELP.U\n",
       "...                ...    ...                     ...             ...\n",
       "4424195    NETFLIX.COM      1  CHECKERS HYPER FOURWWA  Checkers Sunni\n",
       "4424196    NETFLIX.COM      1       SEATTLE DISCOVERY  Checkers Sunni\n",
       "4424197    NETFLIX.COM      1  WOOLWORTHS- BROADACRES  Checkers Sunni\n",
       "4424198    NETFLIX.COM      1  CHECKERS RIVONIA VILLA  Checkers Sunni\n",
       "4424199    NETFLIX.COM      1       CHECKERS NICOLWAY  ENGEN MORNINGS\n",
       "\n",
       "[4424200 rows x 4 columns]"
      ]
     },
     "execution_count": 5,
     "metadata": {},
     "output_type": "execute_result"
    }
   ],
   "source": [
    "seedMerchant=\"NETFLIX.COM\"\n",
    "recommendations_query=\"\"\"MATCH path=(merchant0:Merchant {franchisename:$seedMerchant})-[:TRANSACTED_AT]-(client:Client)\n",
    "MATCH (merchant1:Merchant)-[:TRANSACTED_AT]-(client:Client)\n",
    "MATCH (merchant2:Merchant)-[:TRANSACTED_AT]-(client:Client)\n",
    "WHERE ID(merchant0)<>ID(merchant1) AND\n",
    "ID(merchant1)<ID(merchant2) AND\n",
    "ID(merchant0)<>ID(merchant2) \n",
    "RETURN merchant0.franchisename AS franchisename0,count(merchant1.franchisename) as count,\n",
    "merchant1.franchisename AS franchisename1, merchant2.franchisename AS franchisename2\n",
    "ORDER BY count DESC \"\"\"\n",
    "graph.run(recommendations_query, {\"seedMerchant\": seedMerchant}).to_data_frame()"
   ]
  },
  {
   "cell_type": "markdown",
   "metadata": {},
   "source": [
    "### Page Ranking"
   ]
  },
  {
   "cell_type": "markdown",
   "metadata": {},
   "source": [
    "Copy of 03_Recommendations_Part1.ipynb"
   ]
  },
  {
   "cell_type": "markdown",
   "metadata": {},
   "source": [
    "https://www.cs.princeton.edu/~chazelle/courses/BIB/pagerank.htm"
   ]
  },
  {
   "cell_type": "markdown",
   "metadata": {},
   "source": [
    "PageRank is an algorithm that measures connectivity of nodes. (connectivity is also referred to as the transitive influence) It can be computed by either \n",
    "1. iteratively distributing one node’s rank (originally based on degree) over its neighbors or \n",
    "2. by randomly traversing the graph and counting the frequency of hitting each node during these walks.\n",
    "\n",
    "The following PageRank code is run over the whole graph to find out the most influential Merchant in terms of transactions:"
   ]
  },
  {
   "cell_type": "markdown",
   "metadata": {},
   "source": [
    "#### Find popular merchants:"
   ]
  },
  {
   "cell_type": "code",
   "execution_count": null,
   "metadata": {},
   "outputs": [],
   "source": [
    "popular_merchants_query = \"\"\"\n",
    "MATCH (merchant:Merchant)\n",
    "RETURN merchant.franchisename, size((merchant)<-[:TRANSACTED_AT]-()) AS transactions\n",
    "ORDER BY transactions DESC\n",
    "LIMIT 10\n",
    "\"\"\"\n",
    "\n",
    "graph.run(popular_merchants_query).to_data_frame()"
   ]
  },
  {
   "cell_type": "markdown",
   "metadata": {},
   "source": [
    "#### Pick one merchant, 'franchisename:'DIS-CHEM DAINFERN' "
   ]
  },
  {
   "cell_type": "code",
   "execution_count": null,
   "metadata": {},
   "outputs": [],
   "source": [
    "franchisename='DIS-CHEM DAINFERN'"
   ]
  },
  {
   "cell_type": "code",
   "execution_count": null,
   "metadata": {},
   "outputs": [],
   "source": [
    "query = \"\"\"\n",
    "MATCH (m:Merchant {franchisename:$franchisename})\n",
    "RETURN m.companyname\n",
    "\"\"\"\n",
    "graph.run(query, {\"franchisename\": franchisename}).to_data_frame()"
   ]
  },
  {
   "cell_type": "code",
   "execution_count": null,
   "metadata": {},
   "outputs": [],
   "source": [
    "# query = \"\"\"\n",
    "#     CALL db.index.fulltext.createNodeIndex('merchants', ['Merchant'], ['franchisename'])\n",
    "# \"\"\"\n",
    "# graph.run(query).data()"
   ]
  },
  {
   "cell_type": "markdown",
   "metadata": {},
   "source": [
    "#### Retrieve FULLTEXT indices:"
   ]
  },
  {
   "cell_type": "code",
   "execution_count": null,
   "metadata": {},
   "outputs": [],
   "source": [
    "query = \"\"\"\n",
    "CALL db.indexes()\n",
    "YIELD name, uniqueness, type\n",
    "WHERE type = \"FULLTEXT\"\n",
    "RETURN *\n",
    "\"\"\"\n",
    "graph.run(query).to_data_frame()"
   ]
  },
  {
   "cell_type": "markdown",
   "metadata": {},
   "source": [
    "#### Conduct a full text search on franchisename over the entire graph:"
   ]
  },
  {
   "cell_type": "code",
   "execution_count": null,
   "metadata": {},
   "outputs": [],
   "source": [
    "query = \"\"\"\n",
    "CALL db.index.fulltext.queryNodes(\"merchants\", \"columbine\")\n",
    "YIELD node, score\n",
    "RETURN node.franchisename, score, [(client)-[:TRANSACTED_AT]-(node) | client.dedupestatic] AS clients\n",
    "LIMIT 10\n",
    "\"\"\"\n",
    "graph.run(query).to_data_frame()"
   ]
  },
  {
   "cell_type": "code",
   "execution_count": null,
   "metadata": {},
   "outputs": [],
   "source": [
    "my_node = graph.run(\"\"\"MATCH (merchant:Merchant {companyname:'DISCHEM'})\n",
    "RETURN merchant \"\"\").data()"
   ]
  },
  {
   "cell_type": "code",
   "execution_count": null,
   "metadata": {},
   "outputs": [],
   "source": [
    "my_node"
   ]
  },
  {
   "cell_type": "code",
   "execution_count": null,
   "metadata": {},
   "outputs": [],
   "source": [
    "my_node = graph.run(\"\"\"MATCH (merchant:Merchant {franchisename:'DIS-CHEM DAINFERN'})-[:TRANSACTED_AT]-(c:Client) \n",
    "RETURN merchant.franchisename, c.dedupestatic \"\"\").data()"
   ]
  },
  {
   "cell_type": "code",
   "execution_count": null,
   "metadata": {},
   "outputs": [],
   "source": [
    "len(my_node)"
   ]
  },
  {
   "cell_type": "markdown",
   "metadata": {},
   "source": [
    "Retrieve the customers this merchant had and how many transactions they had:"
   ]
  },
  {
   "cell_type": "code",
   "execution_count": null,
   "metadata": {},
   "outputs": [],
   "source": [
    "author_articles_query = \"\"\"\n",
    "MATCH (:Merchant {franchisename: $franchisename})<-[:TRANSACTED_AT]-(client)\n",
    "RETURN client.dedupestatic AS client, size((client)-[:TRANSACTED_AT]->()) AS other_transactions\n",
    "ORDER BY other_transactions DESC\n",
    "LIMIT 20\n",
    "\"\"\"\n",
    "graph.run(author_articles_query,  {\"franchisename\": franchisename}).to_data_frame()"
   ]
  },
  {
   "cell_type": "markdown",
   "metadata": {},
   "source": [
    "Retrieve the customers this merchant had and how many other transactions they had EXCLUDING franchisename:"
   ]
  },
  {
   "cell_type": "code",
   "execution_count": null,
   "metadata": {},
   "outputs": [],
   "source": [
    "author_articles_query = \"\"\"\n",
    "MATCH (merchant1:Merchant {franchisename: $franchisename})<-[:TRANSACTED_AT]-(client)-[:TRANSACTED_AT]->(merchant2)\n",
    "WHERE merchant1<>merchant2\n",
    "RETURN client.dedupestatic AS client, count((client)-[:TRANSACTED_AT]->(merchant2)) AS other_transactions\n",
    "ORDER BY other_transactions DESC\n",
    "LIMIT 20\n",
    "\"\"\"\n",
    "graph.run(author_articles_query,  {\"franchisename\": franchisename}).to_data_frame()"
   ]
  },
  {
   "cell_type": "code",
   "execution_count": null,
   "metadata": {},
   "outputs": [],
   "source": [
    "collaborations_query = \"\"\"\n",
    "MATCH (:Merchant {franchisename: $franchisename})<-[:TRANSACTED_AT]-(client)-[:TRANSACTED_AT]->(comerchant)\n",
    "RETURN comerchant.franchisename AS franchisename, count(*) AS cotransactions\n",
    "ORDER BY cotransactions DESC\n",
    "LIMIT 10\n",
    "\"\"\"\n",
    "\n",
    "graph.run(collaborations_query,  {\"franchisename\": franchisename}).to_data_frame()"
   ]
  },
  {
   "cell_type": "code",
   "execution_count": null,
   "metadata": {},
   "outputs": [],
   "source": [
    "my_node = graph.run(\"\"\"MATCH (dischem:Merchant {franchisename:'DIS-CHEM DAINFERN'})-[:TRANSACTED_AT]-(c:Client)-\n",
    "[:TRANSACTED_AT]-(other:Merchant)\n",
    "WHERE other.franchisename<>dischem.franchisename \n",
    "RETURN dischem.franchisename, c.dedupestatic, other.franchisename, other.companyname\"\"\").data()"
   ]
  },
  {
   "cell_type": "code",
   "execution_count": null,
   "metadata": {},
   "outputs": [],
   "source": [
    "my_node"
   ]
  },
  {
   "cell_type": "code",
   "execution_count": null,
   "metadata": {},
   "outputs": [],
   "source": [
    "my_node = graph.run(\"\"\"MATCH (dischem:Merchant {franchisename:'DIS-CHEM DAINFERN'})-[:TRANSACTED_AT]-(c:Client)-\n",
    "[:TRANSACTED_AT]-(other:Merchant)\n",
    "WHERE other.franchisename<>dischem.franchisename \n",
    "RETURN DISTINCT(c.dedupestatic), count(DISTINCT other)\"\"\").data()\n",
    "my_node"
   ]
  },
  {
   "cell_type": "code",
   "execution_count": null,
   "metadata": {},
   "outputs": [],
   "source": [
    "my_node = graph.run(\"\"\"MATCH (dischem:Merchant {franchisename:'DIS-CHEM DAINFERN'})-[:TRANSACTED_AT]-(c:Client)-\n",
    "[othertransaction:TRANSACTED_AT]-(other:Merchant)\n",
    "WHERE other.franchisename<>dischem.franchisename \n",
    "RETURN DISTINCT(other.franchisename) AS other_franchisename, count(othertransaction) AS number_transactions\"\"\").data()\n",
    "my_node"
   ]
  },
  {
   "cell_type": "code",
   "execution_count": null,
   "metadata": {},
   "outputs": [],
   "source": [
    "my_node = graph.run(\"\"\"MATCH (dischem:Merchant {franchisename:'DIS-CHEM DAINFERN'})-[:TRANSACTED_AT]-(c:Client)-\n",
    "[othertransaction:TRANSACTED_AT]-(other:Merchant)\n",
    "WHERE other.franchisename<>dischem.franchisename \n",
    "WITH other.franchisename AS other_franchisename, count(othertransaction) AS number_transactions \n",
    "RETURN DISTINCT(other_franchisename), number_transactions\"\"\").data()\n",
    "my_node"
   ]
  },
  {
   "cell_type": "code",
   "execution_count": null,
   "metadata": {},
   "outputs": [],
   "source": [
    "my_node = graph.run(\"\"\"MATCH (dischem:Merchant {franchisename:'DIS-CHEM DAINFERN'})-[:TRANSACTED_AT]-(c0:Client)\n",
    "MATCH (c1:Client {dedupestatic:'2.11279273006e+11'})  \n",
    "WHERE c0.dedupestatic <> c1.dedupestatic  \n",
    "RETURN gds.alpha.linkprediction.commonNeighbors(c0, c1)\"\"\").data()\n",
    "my_node"
   ]
  },
  {
   "cell_type": "code",
   "execution_count": null,
   "metadata": {},
   "outputs": [],
   "source": [
    "my_node = graph.run(\"\"\"MATCH (dischem:Merchant {franchisename:'DIS-CHEM DAINFERN'})-[:TRANSACTED_AT]-(c0:Client) \n",
    "MATCH (dischem:Merchant {franchisename:'DIS-CHEM DAINFERN'})-[:TRANSACTED_AT]-(c1:Client) \n",
    "WHERE c0.dedupestatic <> c1.dedupestatic AND gds.alpha.linkprediction.commonNeighbors(c0, c1)>5 \n",
    "RETURN c0.dedupestatic, c1.dedupestatic, gds.alpha.linkprediction.commonNeighbors(c0, c1) as commons\"\"\").data()\n",
    "my_node"
   ]
  },
  {
   "cell_type": "code",
   "execution_count": null,
   "metadata": {},
   "outputs": [],
   "source": [
    "my_node = graph.run(\"\"\"MATCH (dischem:Merchant {franchisename:'DIS-CHEM DAINFERN'})-[:TRANSACTED_AT]-(c0:Client)\n",
    "WITH collect(distinct c0) as clients \n",
    "MATCH (dischem:Merchant {franchisename:'DIS-CHEM DAINFERN'})-[:TRANSACTED_AT]-(c1:Client) \n",
    "WHERE c1 NOT in clients AND gds.alpha.linkprediction.commonNeighbors(c0, c1)>5 \n",
    "RETURN c0.dedupestatic, c1.dedupestatic\"\"\").data()\n",
    "my_node"
   ]
  },
  {
   "cell_type": "code",
   "execution_count": null,
   "metadata": {},
   "outputs": [],
   "source": [
    " MATCH (p1:Person {name: 'Michael'})\n",
    " MATCH (p2:Person {name: 'Karin'})\n",
    " RETURN gds.alpha.linkprediction.commonNeighbors(p1, p2) AS score"
   ]
  },
  {
   "cell_type": "code",
   "execution_count": null,
   "metadata": {},
   "outputs": [],
   "source": [
    "my_node = graph.run(\"\"\"MATCH (dischem:Merchant {franchisename:'DIS-CHEM DAINFERN'})-[:TRANSACTED_AT]-(c0:Client) \n",
    "MATCH (dischem:Merchant {franchisename:'DIS-CHEM DAINFERN'})-[:TRANSACTED_AT]-(c1:Client)\n",
    "WHERE c0.dedupestatic <> c1.dedupestatic  \n",
    "RETURN DISTINCT(c0.dedupestatic), DISTINCT(c1.dedupestatic)\"\"\").data()\n",
    "my_node"
   ]
  },
  {
   "cell_type": "markdown",
   "metadata": {},
   "source": [
    "#### Peek into the file:"
   ]
  },
  {
   "cell_type": "code",
   "execution_count": null,
   "metadata": {},
   "outputs": [],
   "source": [
    "my_node = graph.run(\"\"\"MATCH (merchant:Merchant {franchisename:'DIS-CHEM DAINFERN'})-[:TRANSACTED_AT]-(c:Client) \n",
    "RETURN merchant.franchisename, c.dedupestatic \"\"\").data()"
   ]
  },
  {
   "cell_type": "code",
   "execution_count": null,
   "metadata": {},
   "outputs": [],
   "source": [
    "data"
   ]
  },
  {
   "cell_type": "code",
   "execution_count": null,
   "metadata": {},
   "outputs": [],
   "source": [
    "# crimes_header.csv\n",
    "filename='/var/lib/neo4j/import/beats.csv'\n",
    "beats = pd.read_csv(filename,nrows=10)\n",
    "beats"
   ]
  },
  {
   "cell_type": "code",
   "execution_count": null,
   "metadata": {},
   "outputs": [],
   "source": [
    "# crimes_header.csv\n",
    "filename='/var/lib/neo4j/import/crimes_header.csv'\n",
    "crimes_header_csv = pd.read_csv(filename,nrows=10)\n",
    "crimes_header_csv"
   ]
  },
  {
   "cell_type": "code",
   "execution_count": null,
   "metadata": {},
   "outputs": [],
   "source": [
    "filename='/var/lib/neo4j/import/crimes.csv'\n",
    "crimes_csv = pd.read_csv(filename,nrows=10)\n",
    "crimes_csv"
   ]
  },
  {
   "cell_type": "code",
   "execution_count": null,
   "metadata": {},
   "outputs": [],
   "source": [
    "import csv\n",
    "filename='/media/lnr-ai/christo/github_repos/graphing/data/clientswipes_202003_neo4j.csv'\n",
    "with open(filename) as csv_file:\n",
    "    csv_reader = csv.reader(csv_file, delimiter=',')\n",
    "    line_count = 0"
   ]
  },
  {
   "cell_type": "code",
   "execution_count": null,
   "metadata": {},
   "outputs": [],
   "source": [
    "    for row in csv_reader:\n",
    "        if line_count == 0:\n",
    "            print(f'Column names are {\", \".join(row)}')\n",
    "            line_count += 1\n",
    "        else:\n",
    "            print(f'\\t{row[0]} works in the {row[1]} department, and was born in {row[2]}.')\n",
    "            line_count += 1\n",
    "    print(f'Processed {line_count} lines.')"
   ]
  },
  {
   "cell_type": "code",
   "execution_count": null,
   "metadata": {},
   "outputs": [],
   "source": [
    "dedupegroup_list=list(set(df.Dedupegroup))"
   ]
  },
  {
   "cell_type": "code",
   "execution_count": null,
   "metadata": {},
   "outputs": [],
   "source": [
    "for dedupestatic in list(set(dedupegroup_list)):\n",
    "    print('Doing dedupestatic: ', dedupestatic, ' at index: ', dedupegroup_list.index(dedupestatic), ' of ', len(dedupegroup_list))        \n",
    "    client_param_dict={\"dedupestatic\":dedupestatic}\n",
    "    graph.run(\"MERGE (client:Client {dedupestatic:{dedupestatic}})\", client_param_dict)"
   ]
  },
  {
   "cell_type": "code",
   "execution_count": null,
   "metadata": {},
   "outputs": [],
   "source": [
    "for dedupe in dedupegroup_list:\n",
    "    gf=df[df.Dedupegroup==dedupe].copy()\n",
    "    print('Doing dedupestatic: ', dedupe, ' at index: ', dedupegroup_list.index(dedupe), ' of ', len(dedupegroup_list))    \n",
    "    for dedupestatic,companyname,franchisename,companyindex,class_id,discretionary,division_id,group_id,subclass_id,channel,TransactionAmount,TransactionDate in zip(gf.Dedupegroup, gf.companyname, gf.franchisename,gf.companyindex,gf.class_id,gf.discretionary,gf.division_id,gf.group_id,gf.subclass_id,gf.channel,gf.TransactionAmount,gf.TransactionDate):\n",
    "\n",
    "        client_param_dict={\"dedupestatic\":dedupestatic}\n",
    "        company_param_dict={\"companyname\":companyname,\n",
    "                  \"franchisename\":franchisename,\n",
    "                  \"companyindex\":companyindex,\n",
    "                  \"class_id\":class_id,\n",
    "                  \"discretionary\":discretionary,\n",
    "                  \"division_id\":division_id,\n",
    "                  \"group_id\":group_id,\n",
    "                  \"subclass_id\":subclass_id,\n",
    "                  \"channel\":channel}\n",
    "        franchise_param_dict={\n",
    "              \"franchisename\":franchisename,\"companyname\":companyname,}\n",
    "        transaction_param_dict={\"dedupestatic\":dedupestatic,\n",
    "              \"franchisename\":franchisename,\n",
    "    #           \"companyindex\":companyindex,\n",
    "              \"amount\":amount,\n",
    "              \"date\":date}\n",
    "        owner_param_dict={\"companyname\":companyname,\n",
    "              \"franchisename\":franchisename}\n",
    "    #   ------------------------------------------------------------------------------------------\n",
    "        graph.run(\"MERGE (client:Client {dedupestatic:{dedupestatic}})\", client_param_dict)\n",
    "    #   ------------------------------------------------------------------------------------------    \n",
    "        graph.run(\"\"\"MERGE (franchise:Franchise \n",
    "        {\n",
    "        franchisename:{franchisename},\n",
    "        companyname:{companyname}})\n",
    "        \"\"\", franchise_param_dict)\n",
    "    #   ------------------------------------------------------------------------------------------\n",
    "        graph.run(\"\"\"\n",
    "        MERGE (company:Company \n",
    "        {\n",
    "        companyname: {companyname}, \n",
    "        companyindex: {companyindex}}) ON CREATE SET company.channel={channel},\n",
    "        company.class_id={class_id},\n",
    "        company.discretionary={discretionary},\n",
    "        company.division_id={division_id},\n",
    "        company.group_id={group_id},\n",
    "        company.subclass_id={subclass_id},\n",
    "        company.channel={channel}\n",
    "        \"\"\", company_param_dict)\n",
    "    #   ------------------------------------------------------------------------------------------\n",
    "        graph.run(\"\"\"MATCH (client:Client {dedupestatic:{dedupestatic}}),(franchise:Franchise { franchisename: {franchisename} })\n",
    "        MERGE (client)-[t:transacted]->(franchise)\n",
    "        ON CREATE SET t.amount=[{amount}], t.date=[{date}]\n",
    "        ON MATCH SET t.amount=t.amount+{amount}, t.date=t.date+{date}\"\"\", transaction_param_dict)\n",
    "    #   ------------------------------------------------------------------------------------------\n",
    "        graph.run(\"\"\"MATCH (franchise:Franchise {franchisename:{franchisename}}),(company:Company { companyname: {companyname} })\n",
    "        MERGE (franchise)-[t:owned]->(company)\"\"\", owner_param_dict)    "
   ]
  },
  {
   "cell_type": "code",
   "execution_count": null,
   "metadata": {},
   "outputs": [],
   "source": []
  },
  {
   "cell_type": "code",
   "execution_count": null,
   "metadata": {},
   "outputs": [],
   "source": [
    "dedupestatic=dedupegroup_list[0]\n",
    "companyname=list(gf.companyname)[0]\n",
    "franchisename=list(gf.franchisename)[0]\n",
    "companyindex=list(gf.companyindex)[0]\n",
    "class_id=list(gf.class_id)[0]\n",
    "discretionary=list(gf.discretionary)[0]\n",
    "division_id=list(gf.division_id)[0]\n",
    "group_id=list(gf.group_id)[0]\n",
    "subclass_id=list(gf.subclass_id)[0]\n",
    "channel=list(gf.channel)[0]\n",
    "amount=list(gf.TransactionAmount)[0]\n",
    "date=list(gf.TransactionDate)[0]\n",
    "# companyindex=list(gf.companyindex)[0]\n",
    "# class_id=list(gf.class_id)[0]\n",
    "# discretionary=list(gf.discretionary)[0]\n",
    "# division_id=list(gf.division_id)[0]\n",
    "# group_id=list(gf.group_id)[0]\n",
    "# subclass_id=list(gf.subclass_id)[0]\n",
    "# channel=list(gf.channel)[0]"
   ]
  },
  {
   "cell_type": "code",
   "execution_count": null,
   "metadata": {},
   "outputs": [],
   "source": []
  },
  {
   "cell_type": "code",
   "execution_count": null,
   "metadata": {},
   "outputs": [],
   "source": []
  },
  {
   "cell_type": "code",
   "execution_count": null,
   "metadata": {},
   "outputs": [],
   "source": [
    "client_param_dict={\"dedupestatic\":dedupestatic}"
   ]
  },
  {
   "cell_type": "code",
   "execution_count": null,
   "metadata": {},
   "outputs": [],
   "source": [
    "company_param_dict={\"companyname\":companyname,\n",
    "          \"franchisename\":franchisename,\n",
    "          \"companyindex\":companyindex,\n",
    "          \"class_id\":class_id,\n",
    "          \"discretionary\":discretionary,\n",
    "          \"division_id\":division_id,\n",
    "          \"group_id\":group_id,\n",
    "          \"subclass_id\":subclass_id,\n",
    "          \"channel\":channel}"
   ]
  },
  {
   "cell_type": "code",
   "execution_count": null,
   "metadata": {},
   "outputs": [],
   "source": [
    "franchise_param_dict={\n",
    "          \"franchisename\":franchisename,\"companyname\":companyname,}"
   ]
  },
  {
   "cell_type": "code",
   "execution_count": null,
   "metadata": {},
   "outputs": [],
   "source": [
    "transaction_param_dict={\"dedupestatic\":dedupestatic,\n",
    "          \"franchisename\":franchisename,\n",
    "#           \"companyindex\":companyindex,\n",
    "          \"amount\":amount,\n",
    "          \"date\":date}"
   ]
  },
  {
   "cell_type": "code",
   "execution_count": null,
   "metadata": {},
   "outputs": [],
   "source": [
    "owner_param_dict={\"companyname\":companyname,\n",
    "          \"franchisename\":franchisename}"
   ]
  },
  {
   "cell_type": "code",
   "execution_count": null,
   "metadata": {},
   "outputs": [],
   "source": [
    "graph.run(\"MERGE (client:Client {dedupestatic:{dedupestatic}})\", client_param_dict)"
   ]
  },
  {
   "cell_type": "code",
   "execution_count": null,
   "metadata": {},
   "outputs": [],
   "source": [
    "graph.run(\"\"\"\n",
    "MERGE (franchise:Franchise \n",
    "{\n",
    "franchisename:{franchisename},\n",
    "companyname:{companyname}})\n",
    "\"\"\", franchise_param_dict)"
   ]
  },
  {
   "cell_type": "code",
   "execution_count": null,
   "metadata": {},
   "outputs": [],
   "source": [
    "graph.run(\"\"\"\n",
    "MERGE (company:Company \n",
    "{\n",
    "companyname: {companyname}, \n",
    "companyindex: {companyindex}}) ON CREATE SET company.channel={channel},\n",
    "company.class_id={class_id},\n",
    "company.discretionary={discretionary},\n",
    "company.division_id={division_id},\n",
    "company.group_id={group_id},\n",
    "company.subclass_id={subclass_id},\n",
    "company.channel={channel}\n",
    "\"\"\", company_param_dict)"
   ]
  },
  {
   "cell_type": "code",
   "execution_count": null,
   "metadata": {},
   "outputs": [],
   "source": [
    "graph.run(\"\"\"MATCH (client:Client {dedupestatic:{dedupestatic}}),(franchise:Franchise { franchisename: {franchisename} })\n",
    "MERGE (client)-[t:transacted]->(franchise)\n",
    "ON CREATE SET t.amount=[{amount}], t.date=[{date}]\n",
    "ON MATCH SET t.amount=t.amount+{amount}, t.date=t.date+{date}\"\"\", transaction_param_dict)\n"
   ]
  },
  {
   "cell_type": "code",
   "execution_count": null,
   "metadata": {},
   "outputs": [],
   "source": [
    "graph.run(\"\"\"MATCH (franchise:Franchise {franchisename:{franchisename}}),(company:Company { companyname: {companyname} })\n",
    "MERGE (franchise)-[t:owned]->(company)\"\"\", owner_param_dict)"
   ]
  },
  {
   "cell_type": "code",
   "execution_count": null,
   "metadata": {},
   "outputs": [],
   "source": []
  }
 ],
 "metadata": {
  "kernelspec": {
   "display_name": "Python 3",
   "language": "python",
   "name": "python3"
  },
  "language_info": {
   "codemirror_mode": {
    "name": "ipython",
    "version": 3
   },
   "file_extension": ".py",
   "mimetype": "text/x-python",
   "name": "python",
   "nbconvert_exporter": "python",
   "pygments_lexer": "ipython3",
   "version": "3.7.6"
  }
 },
 "nbformat": 4,
 "nbformat_minor": 4
}

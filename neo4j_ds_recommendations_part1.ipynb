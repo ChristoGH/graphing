{
 "cells": [
  {
   "cell_type": "markdown",
   "metadata": {},
   "source": [
    "https://neo4j.com/developer/guide-build-a-recommendation-engine/"
   ]
  },
  {
   "cell_type": "code",
   "execution_count": 1,
   "metadata": {},
   "outputs": [],
   "source": [
    "import pandas as pd\n",
    "from py2neo import Graph\n",
    "graph = Graph(\"bolt://localhost:7687\", user='neo4j', password='newPassword')\n",
    "# graph = Graph()"
   ]
  },
  {
   "cell_type": "code",
   "execution_count": 2,
   "metadata": {},
   "outputs": [],
   "source": [
    "import matplotlib \n",
    "import matplotlib.pyplot as plt"
   ]
  },
  {
   "cell_type": "markdown",
   "metadata": {},
   "source": [
    "## Part 1, Recommendations"
   ]
  },
  {
   "cell_type": "markdown",
   "metadata": {},
   "source": [
    "#### 1. Collaborative or preferential filtering."
   ]
  },
  {
   "cell_type": "markdown",
   "metadata": {},
   "source": [
    "Collaborative filtering is based on the idea that people like things similar to other things they like, and things that are liked by other people with similar taste.\n",
    "In a retail environment, collaborative filtering is based on the idea that people shop at places where there is a commonality in style, quality, price and appeal, and shops are similarly liked by people with similar preferences.\n",
    "In a retail graph such as this behaviour or preferences arre revealed by clusters of nodes. "
   ]
  },
  {
   "cell_type": "markdown",
   "metadata": {},
   "source": [
    "Check that our database is running:"
   ]
  },
  {
   "cell_type": "code",
   "execution_count": 3,
   "metadata": {},
   "outputs": [
    {
     "data": {
      "text/plain": [
       "[{'nodes': [(_-2:Merchant {constraints: ['CONSTRAINT ON ( merchant:Merchant ) ASSERT (merchant.franchisename) IS UNIQUE'], indexes: [], name: 'Merchant'}),\n",
       "   (_-1:Client {constraints: ['CONSTRAINT ON ( client:Client ) ASSERT (client.dedupestatic) IS UNIQUE'], indexes: [], name: 'Client'}),\n",
       "   (_-3:Segment {constraints: ['CONSTRAINT ON ( segment:Segment ) ASSERT (segment.seg_l3_num) IS UNIQUE'], indexes: [], name: 'Segment'})],\n",
       "  'relationships': [(Client)-[:TRANSACTED_AT {}]->(Merchant),\n",
       "   (Merchant)-[:MERCHANT_VALUE_LINK {}]->(Merchant),\n",
       "   (Merchant)-[:MERCHANT_LINK {}]->(Merchant),\n",
       "   (Merchant)-[:MERCHANT_FEET_LINK {}]->(Merchant)]}]"
      ]
     },
     "execution_count": 3,
     "metadata": {},
     "output_type": "execute_result"
    }
   ],
   "source": [
    "graph.run(\"CALL db.schema.visualization()\").data()"
   ]
  },
  {
   "cell_type": "markdown",
   "metadata": {},
   "source": [
    "### Goal 1: Co-merchant, co-client collaborative filtering with Neo4J Cypher"
   ]
  },
  {
   "cell_type": "markdown",
   "metadata": {},
   "source": [
    "#### Find popular merchants:"
   ]
  },
  {
   "cell_type": "code",
   "execution_count": 5,
   "metadata": {},
   "outputs": [
    {
     "data": {
      "text/html": [
       "<div>\n",
       "<style scoped>\n",
       "    .dataframe tbody tr th:only-of-type {\n",
       "        vertical-align: middle;\n",
       "    }\n",
       "\n",
       "    .dataframe tbody tr th {\n",
       "        vertical-align: top;\n",
       "    }\n",
       "\n",
       "    .dataframe thead th {\n",
       "        text-align: right;\n",
       "    }\n",
       "</style>\n",
       "<table border=\"1\" class=\"dataframe\">\n",
       "  <thead>\n",
       "    <tr style=\"text-align: right;\">\n",
       "      <th></th>\n",
       "      <th>merchant</th>\n",
       "      <th>relationships</th>\n",
       "    </tr>\n",
       "  </thead>\n",
       "  <tbody>\n",
       "    <tr>\n",
       "      <th>0</th>\n",
       "      <td>BOXER SUPERSTO</td>\n",
       "      <td>93970</td>\n",
       "    </tr>\n",
       "    <tr>\n",
       "      <th>1</th>\n",
       "      <td>NETFLIX.COM</td>\n",
       "      <td>84771</td>\n",
       "    </tr>\n",
       "    <tr>\n",
       "      <th>2</th>\n",
       "      <td>CheckersHyper</td>\n",
       "      <td>70692</td>\n",
       "    </tr>\n",
       "    <tr>\n",
       "      <th>3</th>\n",
       "      <td>payD Vodacom E</td>\n",
       "      <td>63589</td>\n",
       "    </tr>\n",
       "    <tr>\n",
       "      <th>4</th>\n",
       "      <td>Truworths</td>\n",
       "      <td>61202</td>\n",
       "    </tr>\n",
       "    <tr>\n",
       "      <th>...</th>\n",
       "      <td>...</td>\n",
       "      <td>...</td>\n",
       "    </tr>\n",
       "    <tr>\n",
       "      <th>92383</th>\n",
       "      <td>AIRBNB * HMTFEDBCW</td>\n",
       "      <td>1</td>\n",
       "    </tr>\n",
       "    <tr>\n",
       "      <th>92384</th>\n",
       "      <td>CAPE UNION MART HEIDELBER</td>\n",
       "      <td>1</td>\n",
       "    </tr>\n",
       "    <tr>\n",
       "      <th>92385</th>\n",
       "      <td>WIMPY LIFESTYLE TZANEEN</td>\n",
       "      <td>1</td>\n",
       "    </tr>\n",
       "    <tr>\n",
       "      <th>92386</th>\n",
       "      <td>MTN STORE WATERSTONE V</td>\n",
       "      <td>1</td>\n",
       "    </tr>\n",
       "    <tr>\n",
       "      <th>92387</th>\n",
       "      <td>FLYSAFAIR MRQCZS-JKO</td>\n",
       "      <td>1</td>\n",
       "    </tr>\n",
       "  </tbody>\n",
       "</table>\n",
       "<p>92388 rows × 2 columns</p>\n",
       "</div>"
      ],
      "text/plain": [
       "                        merchant  relationships\n",
       "0                 BOXER SUPERSTO          93970\n",
       "1                    NETFLIX.COM          84771\n",
       "2                  CheckersHyper          70692\n",
       "3                 payD Vodacom E          63589\n",
       "4                      Truworths          61202\n",
       "...                          ...            ...\n",
       "92383         AIRBNB * HMTFEDBCW              1\n",
       "92384  CAPE UNION MART HEIDELBER              1\n",
       "92385    WIMPY LIFESTYLE TZANEEN              1\n",
       "92386     MTN STORE WATERSTONE V              1\n",
       "92387       FLYSAFAIR MRQCZS-JKO              1\n",
       "\n",
       "[92388 rows x 2 columns]"
      ]
     },
     "execution_count": 5,
     "metadata": {},
     "output_type": "execute_result"
    }
   ],
   "source": [
    "popular_merchants_query = \"\"\"\n",
    "MATCH (merchant:Merchant)<-[transacted_at:TRANSACTED_AT]-(client)\n",
    "WITH merchant.franchisename as merchant, count(transacted_at) as relationships\n",
    "RETURN merchant, relationships \n",
    "ORDER BY relationships DESC\n",
    "\"\"\"\n",
    "graph.run(popular_merchants_query).to_data_frame()"
   ]
  },
  {
   "cell_type": "markdown",
   "metadata": {},
   "source": [
    "#### Find popular first-degree merchants (co-merchants 'merchant friends' linked via customers/Nedbank clients):"
   ]
  },
  {
   "cell_type": "markdown",
   "metadata": {},
   "source": [
    "Choose 1 merchant, 'DIS-CHEM DAINFERN'"
   ]
  },
  {
   "cell_type": "code",
   "execution_count": 6,
   "metadata": {},
   "outputs": [],
   "source": [
    "merchant='DIS-CHEM DAINFERN'"
   ]
  },
  {
   "cell_type": "markdown",
   "metadata": {},
   "source": [
    "How many unique client relationships to this merchant?"
   ]
  },
  {
   "cell_type": "code",
   "execution_count": 7,
   "metadata": {},
   "outputs": [
    {
     "data": {
      "text/html": [
       "<div>\n",
       "<style scoped>\n",
       "    .dataframe tbody tr th:only-of-type {\n",
       "        vertical-align: middle;\n",
       "    }\n",
       "\n",
       "    .dataframe tbody tr th {\n",
       "        vertical-align: top;\n",
       "    }\n",
       "\n",
       "    .dataframe thead th {\n",
       "        text-align: right;\n",
       "    }\n",
       "</style>\n",
       "<table border=\"1\" class=\"dataframe\">\n",
       "  <thead>\n",
       "    <tr style=\"text-align: right;\">\n",
       "      <th></th>\n",
       "      <th>uniqueClients</th>\n",
       "    </tr>\n",
       "  </thead>\n",
       "  <tbody>\n",
       "    <tr>\n",
       "      <th>0</th>\n",
       "      <td>252</td>\n",
       "    </tr>\n",
       "  </tbody>\n",
       "</table>\n",
       "</div>"
      ],
      "text/plain": [
       "   uniqueClients\n",
       "0            252"
      ]
     },
     "execution_count": 7,
     "metadata": {},
     "output_type": "execute_result"
    }
   ],
   "source": [
    "merchantName='DIS-CHEM DAINFERN'\n",
    "popular_merchants_query = \"\"\"\n",
    "MATCH (merchant:Merchant {franchisename:$merchantName})<-[transacted_at:TRANSACTED_AT]-(client)\n",
    "RETURN count(client) AS uniqueClients\n",
    "\"\"\"\n",
    "\n",
    "graph.run(popular_merchants_query, {\"merchantName\": merchantName}).to_data_frame()"
   ]
  },
  {
   "cell_type": "markdown",
   "metadata": {},
   "source": [
    "How many transactions and how much was spent at this merchant:"
   ]
  },
  {
   "cell_type": "code",
   "execution_count": 19,
   "metadata": {},
   "outputs": [
    {
     "data": {
      "text/html": [
       "<div>\n",
       "<style scoped>\n",
       "    .dataframe tbody tr th:only-of-type {\n",
       "        vertical-align: middle;\n",
       "    }\n",
       "\n",
       "    .dataframe tbody tr th {\n",
       "        vertical-align: top;\n",
       "    }\n",
       "\n",
       "    .dataframe thead th {\n",
       "        text-align: right;\n",
       "    }\n",
       "</style>\n",
       "<table border=\"1\" class=\"dataframe\">\n",
       "  <thead>\n",
       "    <tr style=\"text-align: right;\">\n",
       "      <th></th>\n",
       "      <th>uniqueclients</th>\n",
       "      <th>transactioncount</th>\n",
       "      <th>transactionamount</th>\n",
       "    </tr>\n",
       "  </thead>\n",
       "  <tbody>\n",
       "    <tr>\n",
       "      <th>0</th>\n",
       "      <td>252</td>\n",
       "      <td>387</td>\n",
       "      <td>-263574.71</td>\n",
       "    </tr>\n",
       "  </tbody>\n",
       "</table>\n",
       "</div>"
      ],
      "text/plain": [
       "   uniqueclients  transactioncount  transactionamount\n",
       "0            252               387         -263574.71"
      ]
     },
     "execution_count": 19,
     "metadata": {},
     "output_type": "execute_result"
    }
   ],
   "source": [
    "merchantName='DIS-CHEM DAINFERN'\n",
    "popular_merchants_query = \"\"\"\n",
    "MATCH (merchant:Merchant {franchisename:$merchantName})<-[transacted_at:TRANSACTED_AT]-(client)\n",
    "RETURN count(client) AS uniqueclients, sum(transacted_at.transactioncount) AS transactioncount, \n",
    "sum(transacted_at.transactionamount) AS transactionamount\n",
    "\"\"\"\n",
    "\n",
    "graph.run(popular_merchants_query, {\"merchantName\": merchantName}).to_data_frame()"
   ]
  },
  {
   "cell_type": "markdown",
   "metadata": {},
   "source": [
    "Here we look at the number of client (of DIS-CHEM DAINFERN) transactions at first degree separated merchants:"
   ]
  },
  {
   "cell_type": "code",
   "execution_count": 14,
   "metadata": {},
   "outputs": [
    {
     "data": {
      "text/html": [
       "<div>\n",
       "<style scoped>\n",
       "    .dataframe tbody tr th:only-of-type {\n",
       "        vertical-align: middle;\n",
       "    }\n",
       "\n",
       "    .dataframe tbody tr th {\n",
       "        vertical-align: top;\n",
       "    }\n",
       "\n",
       "    .dataframe thead th {\n",
       "        text-align: right;\n",
       "    }\n",
       "</style>\n",
       "<table border=\"1\" class=\"dataframe\">\n",
       "  <thead>\n",
       "    <tr style=\"text-align: right;\">\n",
       "      <th></th>\n",
       "      <th>first_degree_merchant</th>\n",
       "      <th>first_degree_merchant_transactions</th>\n",
       "      <th>transactionamount</th>\n",
       "      <th>transactioncount</th>\n",
       "    </tr>\n",
       "  </thead>\n",
       "  <tbody>\n",
       "    <tr>\n",
       "      <th>0</th>\n",
       "      <td>PNP CRP DEINFERN SQUAR</td>\n",
       "      <td>116</td>\n",
       "      <td>-144490.67</td>\n",
       "      <td>252</td>\n",
       "    </tr>\n",
       "    <tr>\n",
       "      <th>1</th>\n",
       "      <td>WOOLWORTHS MAROUN SQ</td>\n",
       "      <td>111</td>\n",
       "      <td>-325572.49</td>\n",
       "      <td>314</td>\n",
       "    </tr>\n",
       "    <tr>\n",
       "      <th>2</th>\n",
       "      <td>Spar Broadacres Spar</td>\n",
       "      <td>72</td>\n",
       "      <td>-132158.20</td>\n",
       "      <td>185</td>\n",
       "    </tr>\n",
       "    <tr>\n",
       "      <th>3</th>\n",
       "      <td>Clicks Dairnfern</td>\n",
       "      <td>62</td>\n",
       "      <td>-49656.84</td>\n",
       "      <td>96</td>\n",
       "    </tr>\n",
       "    <tr>\n",
       "      <th>4</th>\n",
       "      <td>NETFLIX.COM</td>\n",
       "      <td>50</td>\n",
       "      <td>-8047.28</td>\n",
       "      <td>52</td>\n",
       "    </tr>\n",
       "    <tr>\n",
       "      <th>...</th>\n",
       "      <td>...</td>\n",
       "      <td>...</td>\n",
       "      <td>...</td>\n",
       "      <td>...</td>\n",
       "    </tr>\n",
       "    <tr>\n",
       "      <th>1219</th>\n",
       "      <td>PNP CLOTHING BENMORE G</td>\n",
       "      <td>1</td>\n",
       "      <td>-249.99</td>\n",
       "      <td>1</td>\n",
       "    </tr>\n",
       "    <tr>\n",
       "      <th>1220</th>\n",
       "      <td>Cltx Kingfisher S S    Fo</td>\n",
       "      <td>1</td>\n",
       "      <td>-793.55</td>\n",
       "      <td>1</td>\n",
       "    </tr>\n",
       "    <tr>\n",
       "      <th>1221</th>\n",
       "      <td>POS Clicks   INS FUNDS</td>\n",
       "      <td>1</td>\n",
       "      <td>-8.60</td>\n",
       "      <td>1</td>\n",
       "    </tr>\n",
       "    <tr>\n",
       "      <th>1222</th>\n",
       "      <td>COTTON ON FOUR</td>\n",
       "      <td>1</td>\n",
       "      <td>-562.00</td>\n",
       "      <td>1</td>\n",
       "    </tr>\n",
       "    <tr>\n",
       "      <th>1223</th>\n",
       "      <td>Amazon Prime*GKLKJ</td>\n",
       "      <td>1</td>\n",
       "      <td>-242.21</td>\n",
       "      <td>1</td>\n",
       "    </tr>\n",
       "  </tbody>\n",
       "</table>\n",
       "<p>1224 rows × 4 columns</p>\n",
       "</div>"
      ],
      "text/plain": [
       "          first_degree_merchant  first_degree_merchant_transactions  \\\n",
       "0        PNP CRP DEINFERN SQUAR                                 116   \n",
       "1          WOOLWORTHS MAROUN SQ                                 111   \n",
       "2          Spar Broadacres Spar                                  72   \n",
       "3              Clicks Dairnfern                                  62   \n",
       "4                   NETFLIX.COM                                  50   \n",
       "...                         ...                                 ...   \n",
       "1219     PNP CLOTHING BENMORE G                                   1   \n",
       "1220  Cltx Kingfisher S S    Fo                                   1   \n",
       "1221     POS Clicks   INS FUNDS                                   1   \n",
       "1222             COTTON ON FOUR                                   1   \n",
       "1223         Amazon Prime*GKLKJ                                   1   \n",
       "\n",
       "      transactionamount  transactioncount  \n",
       "0            -144490.67               252  \n",
       "1            -325572.49               314  \n",
       "2            -132158.20               185  \n",
       "3             -49656.84                96  \n",
       "4              -8047.28                52  \n",
       "...                 ...               ...  \n",
       "1219            -249.99                 1  \n",
       "1220            -793.55                 1  \n",
       "1221              -8.60                 1  \n",
       "1222            -562.00                 1  \n",
       "1223            -242.21                 1  \n",
       "\n",
       "[1224 rows x 4 columns]"
      ]
     },
     "execution_count": 14,
     "metadata": {},
     "output_type": "execute_result"
    }
   ],
   "source": [
    "merchantName='DIS-CHEM DAINFERN'\n",
    "popular_merchants_query = \"\"\"\n",
    "MATCH (merchant1:Merchant {franchisename:$merchantName})<-[:TRANSACTED_AT]-()-[merchantTransactions:TRANSACTED_AT]->(merchant2:Merchant)\n",
    "WHERE merchant1<>merchant2\n",
    "RETURN DISTINCT(merchant2.franchisename) AS first_degree_merchant, \n",
    "       count(merchantTransactions) AS first_degree_merchant_transactions,\n",
    "       sum(merchantTransactions.transactionamount) as transactionamount,\n",
    "       sum(merchantTransactions.transactioncount) as transactioncount\n",
    "ORDER BY first_degree_merchant_transactions DESC\n",
    "\"\"\"\n",
    "\n",
    "graph.run(popular_merchants_query, {\"merchantName\": merchantName}).to_data_frame()"
   ]
  },
  {
   "cell_type": "code",
   "execution_count": 15,
   "metadata": {},
   "outputs": [],
   "source": [
    "popular_df=graph.run(popular_merchants_query, {\"merchantName\": merchantName}).to_data_frame()"
   ]
  },
  {
   "cell_type": "code",
   "execution_count": 16,
   "metadata": {},
   "outputs": [
    {
     "data": {
      "image/png": "[encoded data removed]",
      "text/plain": [
       "<Figure size 432x288 with 1 Axes>"
      ]
     },
     "metadata": {
      "needs_background": "light"
     },
     "output_type": "display_data"
    }
   ],
   "source": [
    "fig1, ax1 = plt.subplots()\n",
    "ax1.hist(pd.Series(popular_df['first_degree_merchant_transactions'].dropna()), 1250, density=True, facecolor='g', alpha=0.75)\n",
    "ax1.set_xscale(\"log\")\n",
    "ax1.set_yscale(\"log\")\n",
    "plt.tight_layout()\n",
    "plt.show()"
   ]
  },
  {
   "cell_type": "markdown",
   "metadata": {},
   "source": [
    "#### There is almost a 50% chance of a Dischem DSQ shopper shopping at a PNP DSQ too!  ie, a dischem shopper made their way to PNP 1/2 times.  But of those clients who visited both Dischem Dainfern Square and PNP DSQ committed the more than half the number of transactions at PNP"
   ]
  },
  {
   "cell_type": "markdown",
   "metadata": {},
   "source": [
    "Choose the most popular first degree merchant (to DIS-CHEM dainfern) (Check the spelling!), 'PNP CRP DEINFERN SQUAR'"
   ]
  },
  {
   "cell_type": "code",
   "execution_count": 20,
   "metadata": {},
   "outputs": [],
   "source": [
    "merchantName='PNP CRP DEINFERN SQUAR'"
   ]
  },
  {
   "cell_type": "markdown",
   "metadata": {},
   "source": [
    "How many unique customer relationships to this merchant:"
   ]
  },
  {
   "cell_type": "code",
   "execution_count": 21,
   "metadata": {},
   "outputs": [
    {
     "data": {
      "text/html": [
       "<div>\n",
       "<style scoped>\n",
       "    .dataframe tbody tr th:only-of-type {\n",
       "        vertical-align: middle;\n",
       "    }\n",
       "\n",
       "    .dataframe tbody tr th {\n",
       "        vertical-align: top;\n",
       "    }\n",
       "\n",
       "    .dataframe thead th {\n",
       "        text-align: right;\n",
       "    }\n",
       "</style>\n",
       "<table border=\"1\" class=\"dataframe\">\n",
       "  <thead>\n",
       "    <tr style=\"text-align: right;\">\n",
       "      <th></th>\n",
       "      <th>uniqueClients</th>\n",
       "    </tr>\n",
       "  </thead>\n",
       "  <tbody>\n",
       "    <tr>\n",
       "      <th>0</th>\n",
       "      <td>384</td>\n",
       "    </tr>\n",
       "  </tbody>\n",
       "</table>\n",
       "</div>"
      ],
      "text/plain": [
       "   uniqueClients\n",
       "0            384"
      ]
     },
     "execution_count": 21,
     "metadata": {},
     "output_type": "execute_result"
    }
   ],
   "source": [
    "popular_merchants_query = \"\"\"\n",
    "MATCH (merchant1:Merchant {franchisename:$merchantName})<-[:TRANSACTED_AT]-(client)\n",
    "RETURN count(client) AS uniqueClients\n",
    "\"\"\"\n",
    "graph.run(popular_merchants_query, {\"merchantName\": merchantName}).to_data_frame()"
   ]
  },
  {
   "cell_type": "markdown",
   "metadata": {},
   "source": [
    "Take 'PNP CRP DEINFERN SQUAR' as merchant zero and extract its first degree separated merchants:"
   ]
  },
  {
   "cell_type": "code",
   "execution_count": 23,
   "metadata": {},
   "outputs": [
    {
     "data": {
      "text/html": [
       "<div>\n",
       "<style scoped>\n",
       "    .dataframe tbody tr th:only-of-type {\n",
       "        vertical-align: middle;\n",
       "    }\n",
       "\n",
       "    .dataframe tbody tr th {\n",
       "        vertical-align: top;\n",
       "    }\n",
       "\n",
       "    .dataframe thead th {\n",
       "        text-align: right;\n",
       "    }\n",
       "</style>\n",
       "<table border=\"1\" class=\"dataframe\">\n",
       "  <thead>\n",
       "    <tr style=\"text-align: right;\">\n",
       "      <th></th>\n",
       "      <th>first_degree_merchant</th>\n",
       "      <th>first_degree_merchant_transactions</th>\n",
       "      <th>transactionamount</th>\n",
       "      <th>transactioncount</th>\n",
       "    </tr>\n",
       "  </thead>\n",
       "  <tbody>\n",
       "    <tr>\n",
       "      <th>0</th>\n",
       "      <td>DIS-CHEM DAINFERN</td>\n",
       "      <td>116</td>\n",
       "      <td>-150853.25</td>\n",
       "      <td>232</td>\n",
       "    </tr>\n",
       "    <tr>\n",
       "      <th>1</th>\n",
       "      <td>WOOLWORTHS MAROUN SQ</td>\n",
       "      <td>112</td>\n",
       "      <td>-318951.90</td>\n",
       "      <td>308</td>\n",
       "    </tr>\n",
       "    <tr>\n",
       "      <th>2</th>\n",
       "      <td>Clicks Dairnfern</td>\n",
       "      <td>101</td>\n",
       "      <td>-72091.11</td>\n",
       "      <td>147</td>\n",
       "    </tr>\n",
       "    <tr>\n",
       "      <th>3</th>\n",
       "      <td>Spar Broadacres Spar</td>\n",
       "      <td>94</td>\n",
       "      <td>-180051.66</td>\n",
       "      <td>221</td>\n",
       "    </tr>\n",
       "    <tr>\n",
       "      <th>4</th>\n",
       "      <td>NETFLIX.COM</td>\n",
       "      <td>74</td>\n",
       "      <td>-12224.00</td>\n",
       "      <td>78</td>\n",
       "    </tr>\n",
       "    <tr>\n",
       "      <th>...</th>\n",
       "      <td>...</td>\n",
       "      <td>...</td>\n",
       "      <td>...</td>\n",
       "      <td>...</td>\n",
       "    </tr>\n",
       "    <tr>\n",
       "      <th>1930</th>\n",
       "      <td>MRP HOME FOURW</td>\n",
       "      <td>1</td>\n",
       "      <td>-1565.84</td>\n",
       "      <td>1</td>\n",
       "    </tr>\n",
       "    <tr>\n",
       "      <th>1931</th>\n",
       "      <td>WOOLWORTHS VALLEY CENTNTR</td>\n",
       "      <td>1</td>\n",
       "      <td>-311.45</td>\n",
       "      <td>1</td>\n",
       "    </tr>\n",
       "    <tr>\n",
       "      <th>1932</th>\n",
       "      <td>PNP CRP HYDEPARK</td>\n",
       "      <td>1</td>\n",
       "      <td>-2520.87</td>\n",
       "      <td>1</td>\n",
       "    </tr>\n",
       "    <tr>\n",
       "      <th>1933</th>\n",
       "      <td>SASOL MINTYS ROSEBAN</td>\n",
       "      <td>1</td>\n",
       "      <td>-1776.66</td>\n",
       "      <td>3</td>\n",
       "    </tr>\n",
       "    <tr>\n",
       "      <th>1934</th>\n",
       "      <td>COMPUTICKET</td>\n",
       "      <td>1</td>\n",
       "      <td>-310.00</td>\n",
       "      <td>1</td>\n",
       "    </tr>\n",
       "  </tbody>\n",
       "</table>\n",
       "<p>1935 rows × 4 columns</p>\n",
       "</div>"
      ],
      "text/plain": [
       "          first_degree_merchant  first_degree_merchant_transactions  \\\n",
       "0             DIS-CHEM DAINFERN                                 116   \n",
       "1          WOOLWORTHS MAROUN SQ                                 112   \n",
       "2              Clicks Dairnfern                                 101   \n",
       "3          Spar Broadacres Spar                                  94   \n",
       "4                   NETFLIX.COM                                  74   \n",
       "...                         ...                                 ...   \n",
       "1930             MRP HOME FOURW                                   1   \n",
       "1931  WOOLWORTHS VALLEY CENTNTR                                   1   \n",
       "1932           PNP CRP HYDEPARK                                   1   \n",
       "1933       SASOL MINTYS ROSEBAN                                   1   \n",
       "1934                COMPUTICKET                                   1   \n",
       "\n",
       "      transactionamount  transactioncount  \n",
       "0            -150853.25               232  \n",
       "1            -318951.90               308  \n",
       "2             -72091.11               147  \n",
       "3            -180051.66               221  \n",
       "4             -12224.00                78  \n",
       "...                 ...               ...  \n",
       "1930           -1565.84                 1  \n",
       "1931            -311.45                 1  \n",
       "1932           -2520.87                 1  \n",
       "1933           -1776.66                 3  \n",
       "1934            -310.00                 1  \n",
       "\n",
       "[1935 rows x 4 columns]"
      ]
     },
     "execution_count": 23,
     "metadata": {},
     "output_type": "execute_result"
    }
   ],
   "source": [
    "merchantName='PNP CRP DEINFERN SQUAR'\n",
    "popular_merchants_query = \"\"\"\n",
    "MATCH (merchant1:Merchant {franchisename:$merchantName})<-[:TRANSACTED_AT]-()-[merchantTransactions:TRANSACTED_AT]->(merchant2:Merchant)\n",
    "WHERE merchant1<>merchant2\n",
    "RETURN DISTINCT(merchant2.franchisename) AS first_degree_merchant, \n",
    "       count(merchantTransactions) AS first_degree_merchant_transactions,\n",
    "       sum(merchantTransactions.transactionamount) as transactionamount,\n",
    "       sum(merchantTransactions.transactioncount) as transactioncount\n",
    "ORDER BY first_degree_merchant_transactions DESC\n",
    "\"\"\"\n",
    "\n",
    "graph.run(popular_merchants_query, {\"merchantName\": merchantName}).to_data_frame()"
   ]
  },
  {
   "cell_type": "markdown",
   "metadata": {},
   "source": [
    "There is hence a less that 30% (116/383) chance of a client visiting PNP and Dischem at this mall, ie all the PNP shoppers less than 1/3 made their way to Dischem.  But the probability of PNP-WW is also less (112/383) than DISCHEM-WW (111/252)"
   ]
  },
  {
   "cell_type": "markdown",
   "metadata": {},
   "source": [
    "#### Carry on with DSQ merchant, PNP CRP DEINFERN SQUAR."
   ]
  },
  {
   "cell_type": "markdown",
   "metadata": {},
   "source": [
    "#### Merchant of Merchant transactions"
   ]
  },
  {
   "cell_type": "code",
   "execution_count": 24,
   "metadata": {},
   "outputs": [
    {
     "data": {
      "text/html": [
       "<div>\n",
       "<style scoped>\n",
       "    .dataframe tbody tr th:only-of-type {\n",
       "        vertical-align: middle;\n",
       "    }\n",
       "\n",
       "    .dataframe tbody tr th {\n",
       "        vertical-align: top;\n",
       "    }\n",
       "\n",
       "    .dataframe thead th {\n",
       "        text-align: right;\n",
       "    }\n",
       "</style>\n",
       "<table border=\"1\" class=\"dataframe\">\n",
       "  <thead>\n",
       "    <tr style=\"text-align: right;\">\n",
       "      <th></th>\n",
       "      <th>client</th>\n",
       "      <th>merchantTransactions</th>\n",
       "      <th>momTransactions</th>\n",
       "    </tr>\n",
       "  </thead>\n",
       "  <tbody>\n",
       "    <tr>\n",
       "      <th>0</th>\n",
       "      <td>1.91030354806e+11</td>\n",
       "      <td>1</td>\n",
       "      <td>51</td>\n",
       "    </tr>\n",
       "    <tr>\n",
       "      <th>1</th>\n",
       "      <td>1.918431743e+11</td>\n",
       "      <td>1</td>\n",
       "      <td>44</td>\n",
       "    </tr>\n",
       "    <tr>\n",
       "      <th>2</th>\n",
       "      <td>1.100845365e+11</td>\n",
       "      <td>1</td>\n",
       "      <td>42</td>\n",
       "    </tr>\n",
       "    <tr>\n",
       "      <th>3</th>\n",
       "      <td>1.46345547626e+11</td>\n",
       "      <td>1</td>\n",
       "      <td>40</td>\n",
       "    </tr>\n",
       "    <tr>\n",
       "      <th>4</th>\n",
       "      <td>1.91493430605e+11</td>\n",
       "      <td>1</td>\n",
       "      <td>40</td>\n",
       "    </tr>\n",
       "    <tr>\n",
       "      <th>5</th>\n",
       "      <td>1.10425265102e+11</td>\n",
       "      <td>1</td>\n",
       "      <td>39</td>\n",
       "    </tr>\n",
       "    <tr>\n",
       "      <th>6</th>\n",
       "      <td>1.54000226594e+11</td>\n",
       "      <td>1</td>\n",
       "      <td>37</td>\n",
       "    </tr>\n",
       "    <tr>\n",
       "      <th>7</th>\n",
       "      <td>1.93019260407e+11</td>\n",
       "      <td>1</td>\n",
       "      <td>36</td>\n",
       "    </tr>\n",
       "    <tr>\n",
       "      <th>8</th>\n",
       "      <td>1.10126319502e+11</td>\n",
       "      <td>1</td>\n",
       "      <td>36</td>\n",
       "    </tr>\n",
       "    <tr>\n",
       "      <th>9</th>\n",
       "      <td>2.110886841e+11</td>\n",
       "      <td>1</td>\n",
       "      <td>34</td>\n",
       "    </tr>\n",
       "    <tr>\n",
       "      <th>10</th>\n",
       "      <td>1.91106095427e+11</td>\n",
       "      <td>1</td>\n",
       "      <td>34</td>\n",
       "    </tr>\n",
       "    <tr>\n",
       "      <th>11</th>\n",
       "      <td>1.91103744734e+11</td>\n",
       "      <td>1</td>\n",
       "      <td>33</td>\n",
       "    </tr>\n",
       "    <tr>\n",
       "      <th>12</th>\n",
       "      <td>1.10133831809e+11</td>\n",
       "      <td>1</td>\n",
       "      <td>32</td>\n",
       "    </tr>\n",
       "    <tr>\n",
       "      <th>13</th>\n",
       "      <td>2.11518828627e+11</td>\n",
       "      <td>1</td>\n",
       "      <td>32</td>\n",
       "    </tr>\n",
       "    <tr>\n",
       "      <th>14</th>\n",
       "      <td>1.10219408203e+11</td>\n",
       "      <td>1</td>\n",
       "      <td>31</td>\n",
       "    </tr>\n",
       "    <tr>\n",
       "      <th>15</th>\n",
       "      <td>1.10016537009e+11</td>\n",
       "      <td>1</td>\n",
       "      <td>31</td>\n",
       "    </tr>\n",
       "    <tr>\n",
       "      <th>16</th>\n",
       "      <td>1.10021154503e+11</td>\n",
       "      <td>1</td>\n",
       "      <td>31</td>\n",
       "    </tr>\n",
       "    <tr>\n",
       "      <th>17</th>\n",
       "      <td>1.91061158603e+11</td>\n",
       "      <td>1</td>\n",
       "      <td>31</td>\n",
       "    </tr>\n",
       "    <tr>\n",
       "      <th>18</th>\n",
       "      <td>1.91895415634e+11</td>\n",
       "      <td>1</td>\n",
       "      <td>31</td>\n",
       "    </tr>\n",
       "    <tr>\n",
       "      <th>19</th>\n",
       "      <td>1.30000323957e+11</td>\n",
       "      <td>1</td>\n",
       "      <td>30</td>\n",
       "    </tr>\n",
       "  </tbody>\n",
       "</table>\n",
       "</div>"
      ],
      "text/plain": [
       "               client  merchantTransactions  momTransactions\n",
       "0   1.91030354806e+11                     1               51\n",
       "1     1.918431743e+11                     1               44\n",
       "2     1.100845365e+11                     1               42\n",
       "3   1.46345547626e+11                     1               40\n",
       "4   1.91493430605e+11                     1               40\n",
       "5   1.10425265102e+11                     1               39\n",
       "6   1.54000226594e+11                     1               37\n",
       "7   1.93019260407e+11                     1               36\n",
       "8   1.10126319502e+11                     1               36\n",
       "9     2.110886841e+11                     1               34\n",
       "10  1.91106095427e+11                     1               34\n",
       "11  1.91103744734e+11                     1               33\n",
       "12  1.10133831809e+11                     1               32\n",
       "13  2.11518828627e+11                     1               32\n",
       "14  1.10219408203e+11                     1               31\n",
       "15  1.10016537009e+11                     1               31\n",
       "16  1.10021154503e+11                     1               31\n",
       "17  1.91061158603e+11                     1               31\n",
       "18  1.91895415634e+11                     1               31\n",
       "19  1.30000323957e+11                     1               30"
      ]
     },
     "execution_count": 24,
     "metadata": {},
     "output_type": "execute_result"
    }
   ],
   "source": [
    "merchantName='PNP CRP DEINFERN SQUAR'\n",
    "merchantName_clients = \"\"\"\n",
    "MATCH (merchant:Merchant {franchisename: $merchantName})<-[:TRANSACTED_AT]-(client:Client)\n",
    "RETURN client.dedupestatic AS client, size((client)-[:TRANSACTED_AT]-(merchant)) AS merchantTransactions,\n",
    "size((client)-[:TRANSACTED_AT]-()) AS momTransactions\n",
    "ORDER BY momTransactions DESC\n",
    "LIMIT 20\n",
    "\"\"\"\n",
    "\n",
    "graph.run(merchantName_clients,  {\"merchantName\": merchantName}).to_data_frame()"
   ]
  },
  {
   "cell_type": "markdown",
   "metadata": {},
   "source": [
    "### Find the co-merchants, the merchant-of-merchants"
   ]
  },
  {
   "cell_type": "code",
   "execution_count": 25,
   "metadata": {},
   "outputs": [],
   "source": [
    "# franchisename='DIS-CHEM DAINFERN'\n",
    "# clicks='Clicks Dairnfern'\n",
    "def merchantdf_fn(franchisename):\n",
    "    competition_query = \"\"\"MATCH (client:Client)-[transaction:TRANSACTED_AT]-(merchant:Merchant {franchisename:$franchisename})\n",
    "    RETURN client.dedupestatic as client, merchant.franchisename\"\"\"\n",
    "    return graph.run(competition_query,  {\"franchisename\":franchisename}).to_data_frame()\n",
    "\n",
    "def intersection(lst1, lst2): \n",
    "    lst3 = [value for value in lst1 if value in lst2] \n",
    "    return lst3 "
   ]
  },
  {
   "cell_type": "code",
   "execution_count": 26,
   "metadata": {},
   "outputs": [
    {
     "data": {
      "text/html": [
       "<div>\n",
       "<style scoped>\n",
       "    .dataframe tbody tr th:only-of-type {\n",
       "        vertical-align: middle;\n",
       "    }\n",
       "\n",
       "    .dataframe tbody tr th {\n",
       "        vertical-align: top;\n",
       "    }\n",
       "\n",
       "    .dataframe thead th {\n",
       "        text-align: right;\n",
       "    }\n",
       "</style>\n",
       "<table border=\"1\" class=\"dataframe\">\n",
       "  <thead>\n",
       "    <tr style=\"text-align: right;\">\n",
       "      <th></th>\n",
       "      <th>momMerchant</th>\n",
       "      <th>coMerchantsCount</th>\n",
       "    </tr>\n",
       "  </thead>\n",
       "  <tbody>\n",
       "    <tr>\n",
       "      <th>0</th>\n",
       "      <td>DIS-CHEM DAINFERN</td>\n",
       "      <td>116</td>\n",
       "    </tr>\n",
       "    <tr>\n",
       "      <th>1</th>\n",
       "      <td>WOOLWORTHS MAROUN SQ</td>\n",
       "      <td>112</td>\n",
       "    </tr>\n",
       "    <tr>\n",
       "      <th>2</th>\n",
       "      <td>Clicks Dairnfern</td>\n",
       "      <td>101</td>\n",
       "    </tr>\n",
       "    <tr>\n",
       "      <th>3</th>\n",
       "      <td>Spar Broadacres Spar</td>\n",
       "      <td>94</td>\n",
       "    </tr>\n",
       "    <tr>\n",
       "      <th>4</th>\n",
       "      <td>NETFLIX.COM</td>\n",
       "      <td>74</td>\n",
       "    </tr>\n",
       "    <tr>\n",
       "      <th>5</th>\n",
       "      <td>PNP CRP DEINFE</td>\n",
       "      <td>63</td>\n",
       "    </tr>\n",
       "    <tr>\n",
       "      <th>6</th>\n",
       "      <td>WOOLWORTHS MAROUN SQUAR</td>\n",
       "      <td>58</td>\n",
       "    </tr>\n",
       "    <tr>\n",
       "      <th>7</th>\n",
       "      <td>Makro Riversands</td>\n",
       "      <td>52</td>\n",
       "    </tr>\n",
       "    <tr>\n",
       "      <th>8</th>\n",
       "      <td>PNP CRP FOURWAYS</td>\n",
       "      <td>50</td>\n",
       "    </tr>\n",
       "    <tr>\n",
       "      <th>9</th>\n",
       "      <td>WOOLWORTHS MAR</td>\n",
       "      <td>48</td>\n",
       "    </tr>\n",
       "  </tbody>\n",
       "</table>\n",
       "</div>"
      ],
      "text/plain": [
       "               momMerchant  coMerchantsCount\n",
       "0        DIS-CHEM DAINFERN               116\n",
       "1     WOOLWORTHS MAROUN SQ               112\n",
       "2         Clicks Dairnfern               101\n",
       "3     Spar Broadacres Spar                94\n",
       "4              NETFLIX.COM                74\n",
       "5           PNP CRP DEINFE                63\n",
       "6  WOOLWORTHS MAROUN SQUAR                58\n",
       "7         Makro Riversands                52\n",
       "8         PNP CRP FOURWAYS                50\n",
       "9           WOOLWORTHS MAR                48"
      ]
     },
     "execution_count": 26,
     "metadata": {},
     "output_type": "execute_result"
    }
   ],
   "source": [
    "merchantName='PNP CRP DEINFERN SQUAR'\n",
    "collaborations_query = \"\"\"\n",
    "MATCH (:Merchant {franchisename: $merchantName})<-[:TRANSACTED_AT]-(client)-[:TRANSACTED_AT]->(momMerchant:Merchant)\n",
    "RETURN momMerchant.franchisename AS momMerchant, count(*) AS coMerchantsCount\n",
    "ORDER BY coMerchantsCount DESC\n",
    "LIMIT 10\n",
    "\"\"\"\n",
    "\n",
    "graph.run(collaborations_query,  {\"merchantName\": merchantName}).to_data_frame()"
   ]
  },
  {
   "cell_type": "markdown",
   "metadata": {},
   "source": [
    "Find all the clients who shopped at Dischem and Clicks, Dainfern:"
   ]
  },
  {
   "cell_type": "code",
   "execution_count": 27,
   "metadata": {},
   "outputs": [],
   "source": [
    "dischem_df=merchantdf_fn(franchisename='DIS-CHEM DAINFERN')\n",
    "clicks_df=merchantdf_fn(franchisename='Clicks Dairnfern')"
   ]
  },
  {
   "cell_type": "code",
   "execution_count": 28,
   "metadata": {},
   "outputs": [
    {
     "name": "stdout",
     "output_type": "stream",
     "text": [
      "There are:  252  unique DISCHEM clients and  251  unique clients at CLICKS\n"
     ]
    }
   ],
   "source": [
    "print(\"There are: \",len(set(dischem_df.client)), \" unique DISCHEM clients and \", len(set(clicks_df.client)), \" unique clients at CLICKS\")"
   ]
  },
  {
   "cell_type": "markdown",
   "metadata": {},
   "source": [
    "Calculate the clients who shopped at both:"
   ]
  },
  {
   "cell_type": "code",
   "execution_count": 29,
   "metadata": {},
   "outputs": [
    {
     "data": {
      "text/plain": [
       "62"
      ]
     },
     "execution_count": 29,
     "metadata": {},
     "output_type": "execute_result"
    }
   ],
   "source": [
    "len(intersection(list(dischem_df.client),list(clicks_df.client)))"
   ]
  },
  {
   "cell_type": "markdown",
   "metadata": {},
   "source": [
    "## Recommendations"
   ]
  },
  {
   "cell_type": "markdown",
   "metadata": {},
   "source": [
    "### Motive, means and alibi"
   ]
  },
  {
   "cell_type": "markdown",
   "metadata": {},
   "source": [
    "Look at the Dainfern Square 'complex/network' of merchants.  Take the top four by transactioncount or feet, being\n",
    "'PNP CRP DEINFERN SQUAR',\n",
    "'WOOLWORTHS MAROUN SQ',\n",
    "'Spar Broadacres Spar',\n",
    "'Clicks Dairnfern'.  \n",
    "We find the clients who shopped at these, ie had the 'means' to shop at DIS-CHEM DAINFERN but didn't.  The had no alibi!"
   ]
  },
  {
   "cell_type": "code",
   "execution_count": 33,
   "metadata": {},
   "outputs": [],
   "source": [
    "victim='DIS-CHEM DAINFERN'\n",
    "means1='PNP CRP DEINFERN SQUAR'\n",
    "means2='WOOLWORTHS MAROUN SQ'\n",
    "means3='Spar Broadacres Spar'\n",
    "means4='Clicks Dairnfern'\n",
    "\n",
    "recommendations_query = \"\"\"\n",
    "MATCH (client:Client)-[:TRANSACTED_AT]-(m:Merchant) \n",
    "WHERE m.franchisename IN [$means1,$means2,$means3,$means4] AND NOT (client)-[:TRANSACTED_AT]-(m:Merchant {franchisename:$victim})\n",
    "RETURN  client.dedupestatic as client\"\"\"\n",
    "\n",
    "df=graph.run(recommendations_query,  {\"victim\": victim, \"means1\":means1,\"means2\":means2,\n",
    "                                  \"means3\":means3,\"means4\":means4}).to_data_frame()"
   ]
  },
  {
   "cell_type": "code",
   "execution_count": 34,
   "metadata": {},
   "outputs": [
    {
     "data": {
      "text/html": [
       "<div>\n",
       "<style scoped>\n",
       "    .dataframe tbody tr th:only-of-type {\n",
       "        vertical-align: middle;\n",
       "    }\n",
       "\n",
       "    .dataframe tbody tr th {\n",
       "        vertical-align: top;\n",
       "    }\n",
       "\n",
       "    .dataframe thead th {\n",
       "        text-align: right;\n",
       "    }\n",
       "</style>\n",
       "<table border=\"1\" class=\"dataframe\">\n",
       "  <thead>\n",
       "    <tr style=\"text-align: right;\">\n",
       "      <th></th>\n",
       "      <th>client</th>\n",
       "    </tr>\n",
       "  </thead>\n",
       "  <tbody>\n",
       "    <tr>\n",
       "      <th>0</th>\n",
       "      <td>1.20000229728e+11</td>\n",
       "    </tr>\n",
       "    <tr>\n",
       "      <th>1</th>\n",
       "      <td>1.91602204709e+11</td>\n",
       "    </tr>\n",
       "    <tr>\n",
       "      <th>2</th>\n",
       "      <td>2.11497704705e+11</td>\n",
       "    </tr>\n",
       "    <tr>\n",
       "      <th>3</th>\n",
       "      <td>1.91862230227e+11</td>\n",
       "    </tr>\n",
       "    <tr>\n",
       "      <th>4</th>\n",
       "      <td>1.10104738405e+11</td>\n",
       "    </tr>\n",
       "    <tr>\n",
       "      <th>...</th>\n",
       "      <td>...</td>\n",
       "    </tr>\n",
       "    <tr>\n",
       "      <th>1911</th>\n",
       "      <td>1.91103172202e+11</td>\n",
       "    </tr>\n",
       "    <tr>\n",
       "      <th>1912</th>\n",
       "      <td>1.91196977307e+11</td>\n",
       "    </tr>\n",
       "    <tr>\n",
       "      <th>1913</th>\n",
       "      <td>1.91030354806e+11</td>\n",
       "    </tr>\n",
       "    <tr>\n",
       "      <th>1914</th>\n",
       "      <td>1.20000415053e+11</td>\n",
       "    </tr>\n",
       "    <tr>\n",
       "      <th>1915</th>\n",
       "      <td>1.91101148802e+11</td>\n",
       "    </tr>\n",
       "  </tbody>\n",
       "</table>\n",
       "<p>1916 rows × 1 columns</p>\n",
       "</div>"
      ],
      "text/plain": [
       "                 client\n",
       "0     1.20000229728e+11\n",
       "1     1.91602204709e+11\n",
       "2     2.11497704705e+11\n",
       "3     1.91862230227e+11\n",
       "4     1.10104738405e+11\n",
       "...                 ...\n",
       "1911  1.91103172202e+11\n",
       "1912  1.91196977307e+11\n",
       "1913  1.91030354806e+11\n",
       "1914  1.20000415053e+11\n",
       "1915  1.91101148802e+11\n",
       "\n",
       "[1916 rows x 1 columns]"
      ]
     },
     "execution_count": 34,
     "metadata": {},
     "output_type": "execute_result"
    }
   ],
   "source": [
    "df"
   ]
  },
  {
   "cell_type": "code",
   "execution_count": 36,
   "metadata": {},
   "outputs": [],
   "source": [
    "victim='DIS-CHEM DAINFERN'\n",
    "means4='Clicks Dairnfern'\n",
    "\n",
    "recommendations_query = \"\"\"\n",
    "MATCH (client:Client)-[:TRANSACTED_AT]-(m:Merchant) \n",
    "WHERE m.franchisename IN [$means4] AND NOT (client)-[:TRANSACTED_AT]-(m:Merchant {franchisename:$victim})\n",
    "RETURN  client.dedupestatic as client\"\"\"\n",
    "\n",
    "df=graph.run(recommendations_query,  {\"victim\": victim, \"means4\":means4}).to_data_frame()"
   ]
  },
  {
   "cell_type": "code",
   "execution_count": 37,
   "metadata": {},
   "outputs": [
    {
     "data": {
      "text/html": [
       "<div>\n",
       "<style scoped>\n",
       "    .dataframe tbody tr th:only-of-type {\n",
       "        vertical-align: middle;\n",
       "    }\n",
       "\n",
       "    .dataframe tbody tr th {\n",
       "        vertical-align: top;\n",
       "    }\n",
       "\n",
       "    .dataframe thead th {\n",
       "        text-align: right;\n",
       "    }\n",
       "</style>\n",
       "<table border=\"1\" class=\"dataframe\">\n",
       "  <thead>\n",
       "    <tr style=\"text-align: right;\">\n",
       "      <th></th>\n",
       "      <th>client</th>\n",
       "    </tr>\n",
       "  </thead>\n",
       "  <tbody>\n",
       "    <tr>\n",
       "      <th>0</th>\n",
       "      <td>1.10226300609e+11</td>\n",
       "    </tr>\n",
       "    <tr>\n",
       "      <th>1</th>\n",
       "      <td>1.54000469268e+11</td>\n",
       "    </tr>\n",
       "    <tr>\n",
       "      <th>2</th>\n",
       "      <td>1.91184958102e+11</td>\n",
       "    </tr>\n",
       "    <tr>\n",
       "      <th>3</th>\n",
       "      <td>1.91352215506e+11</td>\n",
       "    </tr>\n",
       "    <tr>\n",
       "      <th>4</th>\n",
       "      <td>1.10272980501e+11</td>\n",
       "    </tr>\n",
       "    <tr>\n",
       "      <th>...</th>\n",
       "      <td>...</td>\n",
       "    </tr>\n",
       "    <tr>\n",
       "      <th>246</th>\n",
       "      <td>1.91103172202e+11</td>\n",
       "    </tr>\n",
       "    <tr>\n",
       "      <th>247</th>\n",
       "      <td>1.91196977307e+11</td>\n",
       "    </tr>\n",
       "    <tr>\n",
       "      <th>248</th>\n",
       "      <td>1.91030354806e+11</td>\n",
       "    </tr>\n",
       "    <tr>\n",
       "      <th>249</th>\n",
       "      <td>1.20000415053e+11</td>\n",
       "    </tr>\n",
       "    <tr>\n",
       "      <th>250</th>\n",
       "      <td>1.91101148802e+11</td>\n",
       "    </tr>\n",
       "  </tbody>\n",
       "</table>\n",
       "<p>251 rows × 1 columns</p>\n",
       "</div>"
      ],
      "text/plain": [
       "                client\n",
       "0    1.10226300609e+11\n",
       "1    1.54000469268e+11\n",
       "2    1.91184958102e+11\n",
       "3    1.91352215506e+11\n",
       "4    1.10272980501e+11\n",
       "..                 ...\n",
       "246  1.91103172202e+11\n",
       "247  1.91196977307e+11\n",
       "248  1.91030354806e+11\n",
       "249  1.20000415053e+11\n",
       "250  1.91101148802e+11\n",
       "\n",
       "[251 rows x 1 columns]"
      ]
     },
     "execution_count": 37,
     "metadata": {},
     "output_type": "execute_result"
    }
   ],
   "source": [
    "df"
   ]
  },
  {
   "cell_type": "markdown",
   "metadata": {},
   "source": [
    "### Page Ranking"
   ]
  },
  {
   "cell_type": "markdown",
   "metadata": {},
   "source": [
    "Copy of 03_Recommendations_Part1.ipynb"
   ]
  },
  {
   "cell_type": "markdown",
   "metadata": {},
   "source": [
    "https://www.cs.princeton.edu/~chazelle/courses/BIB/pagerank.htm"
   ]
  },
  {
   "cell_type": "markdown",
   "metadata": {},
   "source": [
    "PageRank is an algorithm that measures connectivity of nodes. (connectivity is also referred to as the transitive influence) It can be computed by either \n",
    "1. iteratively distributing one node’s rank (originally based on degree) over its neighbors or \n",
    "2. by randomly traversing the graph and counting the frequency of hitting each node during these walks.\n",
    "\n",
    "The following PageRank code is run over the whole graph to find out the most influential Merchant in terms of transactions:"
   ]
  },
  {
   "cell_type": "markdown",
   "metadata": {},
   "source": [
    "#### Find popular merchants:"
   ]
  },
  {
   "cell_type": "code",
   "execution_count": null,
   "metadata": {},
   "outputs": [],
   "source": [
    "popular_merchants_query = \"\"\"\n",
    "MATCH (merchant:Merchant)\n",
    "RETURN merchant.franchisename, size((merchant)<-[:TRANSACTED_AT]-()) AS transactions\n",
    "ORDER BY transactions DESC\n",
    "LIMIT 10\n",
    "\"\"\"\n",
    "\n",
    "graph.run(popular_merchants_query).to_data_frame()"
   ]
  },
  {
   "cell_type": "markdown",
   "metadata": {},
   "source": [
    "#### Pick one merchant, 'franchisename:'DIS-CHEM DAINFERN' "
   ]
  },
  {
   "cell_type": "code",
   "execution_count": null,
   "metadata": {},
   "outputs": [],
   "source": [
    "franchisename='DIS-CHEM DAINFERN'"
   ]
  },
  {
   "cell_type": "code",
   "execution_count": null,
   "metadata": {},
   "outputs": [],
   "source": [
    "query = \"\"\"\n",
    "MATCH (m:Merchant {franchisename:$franchisename})\n",
    "RETURN m.companyname\n",
    "\"\"\"\n",
    "graph.run(query, {\"franchisename\": franchisename}).to_data_frame()"
   ]
  },
  {
   "cell_type": "code",
   "execution_count": null,
   "metadata": {},
   "outputs": [],
   "source": [
    "# query = \"\"\"\n",
    "#     CALL db.index.fulltext.createNodeIndex('merchants', ['Merchant'], ['franchisename'])\n",
    "# \"\"\"\n",
    "# graph.run(query).data()"
   ]
  },
  {
   "cell_type": "markdown",
   "metadata": {},
   "source": [
    "#### Retrieve FULLTEXT indices:"
   ]
  },
  {
   "cell_type": "code",
   "execution_count": null,
   "metadata": {},
   "outputs": [],
   "source": [
    "query = \"\"\"\n",
    "CALL db.indexes()\n",
    "YIELD name, uniqueness, type\n",
    "WHERE type = \"FULLTEXT\"\n",
    "RETURN *\n",
    "\"\"\"\n",
    "graph.run(query).to_data_frame()"
   ]
  },
  {
   "cell_type": "markdown",
   "metadata": {},
   "source": [
    "#### Conduct a full text search on franchisename over the entire graph:"
   ]
  },
  {
   "cell_type": "code",
   "execution_count": null,
   "metadata": {},
   "outputs": [],
   "source": [
    "query = \"\"\"\n",
    "CALL db.index.fulltext.queryNodes(\"merchants\", \"columbine\")\n",
    "YIELD node, score\n",
    "RETURN node.franchisename, score, [(client)-[:TRANSACTED_AT]-(node) | client.dedupestatic] AS clients\n",
    "LIMIT 10\n",
    "\"\"\"\n",
    "graph.run(query).to_data_frame()"
   ]
  },
  {
   "cell_type": "code",
   "execution_count": null,
   "metadata": {},
   "outputs": [],
   "source": [
    "my_node = graph.run(\"\"\"MATCH (merchant:Merchant {companyname:'DISCHEM'})\n",
    "RETURN merchant \"\"\").data()"
   ]
  },
  {
   "cell_type": "code",
   "execution_count": null,
   "metadata": {},
   "outputs": [],
   "source": [
    "my_node"
   ]
  },
  {
   "cell_type": "code",
   "execution_count": null,
   "metadata": {},
   "outputs": [],
   "source": [
    "my_node = graph.run(\"\"\"MATCH (merchant:Merchant {franchisename:'DIS-CHEM DAINFERN'})-[:TRANSACTED_AT]-(c:Client) \n",
    "RETURN merchant.franchisename, c.dedupestatic \"\"\").data()"
   ]
  },
  {
   "cell_type": "code",
   "execution_count": null,
   "metadata": {},
   "outputs": [],
   "source": [
    "len(my_node)"
   ]
  },
  {
   "cell_type": "markdown",
   "metadata": {},
   "source": [
    "Retrieve the customers this merchant had and how many transactions they had:"
   ]
  },
  {
   "cell_type": "code",
   "execution_count": null,
   "metadata": {},
   "outputs": [],
   "source": [
    "author_articles_query = \"\"\"\n",
    "MATCH (:Merchant {franchisename: $franchisename})<-[:TRANSACTED_AT]-(client)\n",
    "RETURN client.dedupestatic AS client, size((client)-[:TRANSACTED_AT]->()) AS other_transactions\n",
    "ORDER BY other_transactions DESC\n",
    "LIMIT 20\n",
    "\"\"\"\n",
    "graph.run(author_articles_query,  {\"franchisename\": franchisename}).to_data_frame()"
   ]
  },
  {
   "cell_type": "markdown",
   "metadata": {},
   "source": [
    "Retrieve the customers this merchant had and how many other transactions they had EXCLUDING franchisename:"
   ]
  },
  {
   "cell_type": "code",
   "execution_count": null,
   "metadata": {},
   "outputs": [],
   "source": [
    "author_articles_query = \"\"\"\n",
    "MATCH (merchant1:Merchant {franchisename: $franchisename})<-[:TRANSACTED_AT]-(client)-[:TRANSACTED_AT]->(merchant2)\n",
    "WHERE merchant1<>merchant2\n",
    "RETURN client.dedupestatic AS client, count((client)-[:TRANSACTED_AT]->(merchant2)) AS other_transactions\n",
    "ORDER BY other_transactions DESC\n",
    "LIMIT 20\n",
    "\"\"\"\n",
    "graph.run(author_articles_query,  {\"franchisename\": franchisename}).to_data_frame()"
   ]
  },
  {
   "cell_type": "code",
   "execution_count": null,
   "metadata": {},
   "outputs": [],
   "source": [
    "collaborations_query = \"\"\"\n",
    "MATCH (:Merchant {franchisename: $franchisename})<-[:TRANSACTED_AT]-(client)-[:TRANSACTED_AT]->(comerchant)\n",
    "RETURN comerchant.franchisename AS franchisename, count(*) AS cotransactions\n",
    "ORDER BY cotransactions DESC\n",
    "LIMIT 10\n",
    "\"\"\"\n",
    "\n",
    "graph.run(collaborations_query,  {\"franchisename\": franchisename}).to_data_frame()"
   ]
  },
  {
   "cell_type": "code",
   "execution_count": null,
   "metadata": {},
   "outputs": [],
   "source": [
    "my_node = graph.run(\"\"\"MATCH (dischem:Merchant {franchisename:'DIS-CHEM DAINFERN'})-[:TRANSACTED_AT]-(c:Client)-\n",
    "[:TRANSACTED_AT]-(other:Merchant)\n",
    "WHERE other.franchisename<>dischem.franchisename \n",
    "RETURN dischem.franchisename, c.dedupestatic, other.franchisename, other.companyname\"\"\").data()"
   ]
  },
  {
   "cell_type": "code",
   "execution_count": null,
   "metadata": {},
   "outputs": [],
   "source": [
    "my_node"
   ]
  },
  {
   "cell_type": "code",
   "execution_count": null,
   "metadata": {},
   "outputs": [],
   "source": [
    "my_node = graph.run(\"\"\"MATCH (dischem:Merchant {franchisename:'DIS-CHEM DAINFERN'})-[:TRANSACTED_AT]-(c:Client)-\n",
    "[:TRANSACTED_AT]-(other:Merchant)\n",
    "WHERE other.franchisename<>dischem.franchisename \n",
    "RETURN DISTINCT(c.dedupestatic), count(DISTINCT other)\"\"\").data()\n",
    "my_node"
   ]
  },
  {
   "cell_type": "code",
   "execution_count": null,
   "metadata": {},
   "outputs": [],
   "source": [
    "my_node = graph.run(\"\"\"MATCH (dischem:Merchant {franchisename:'DIS-CHEM DAINFERN'})-[:TRANSACTED_AT]-(c:Client)-\n",
    "[othertransaction:TRANSACTED_AT]-(other:Merchant)\n",
    "WHERE other.franchisename<>dischem.franchisename \n",
    "RETURN DISTINCT(other.franchisename) AS other_franchisename, count(othertransaction) AS number_transactions\"\"\").data()\n",
    "my_node"
   ]
  },
  {
   "cell_type": "code",
   "execution_count": null,
   "metadata": {},
   "outputs": [],
   "source": [
    "my_node = graph.run(\"\"\"MATCH (dischem:Merchant {franchisename:'DIS-CHEM DAINFERN'})-[:TRANSACTED_AT]-(c:Client)-\n",
    "[othertransaction:TRANSACTED_AT]-(other:Merchant)\n",
    "WHERE other.franchisename<>dischem.franchisename \n",
    "WITH other.franchisename AS other_franchisename, count(othertransaction) AS number_transactions \n",
    "RETURN DISTINCT(other_franchisename), number_transactions\"\"\").data()\n",
    "my_node"
   ]
  },
  {
   "cell_type": "code",
   "execution_count": null,
   "metadata": {},
   "outputs": [],
   "source": [
    "my_node = graph.run(\"\"\"MATCH (dischem:Merchant {franchisename:'DIS-CHEM DAINFERN'})-[:TRANSACTED_AT]-(c0:Client)\n",
    "MATCH (c1:Client {dedupestatic:'2.11279273006e+11'})  \n",
    "WHERE c0.dedupestatic <> c1.dedupestatic  \n",
    "RETURN gds.alpha.linkprediction.commonNeighbors(c0, c1)\"\"\").data()\n",
    "my_node"
   ]
  },
  {
   "cell_type": "code",
   "execution_count": null,
   "metadata": {},
   "outputs": [],
   "source": [
    "my_node = graph.run(\"\"\"MATCH (dischem:Merchant {franchisename:'DIS-CHEM DAINFERN'})-[:TRANSACTED_AT]-(c0:Client) \n",
    "MATCH (dischem:Merchant {franchisename:'DIS-CHEM DAINFERN'})-[:TRANSACTED_AT]-(c1:Client) \n",
    "WHERE c0.dedupestatic <> c1.dedupestatic AND gds.alpha.linkprediction.commonNeighbors(c0, c1)>5 \n",
    "RETURN c0.dedupestatic, c1.dedupestatic, gds.alpha.linkprediction.commonNeighbors(c0, c1) as commons\"\"\").data()\n",
    "my_node"
   ]
  },
  {
   "cell_type": "code",
   "execution_count": null,
   "metadata": {},
   "outputs": [],
   "source": [
    "my_node = graph.run(\"\"\"MATCH (dischem:Merchant {franchisename:'DIS-CHEM DAINFERN'})-[:TRANSACTED_AT]-(c0:Client)\n",
    "WITH collect(distinct c0) as clients \n",
    "MATCH (dischem:Merchant {franchisename:'DIS-CHEM DAINFERN'})-[:TRANSACTED_AT]-(c1:Client) \n",
    "WHERE c1 NOT in clients AND gds.alpha.linkprediction.commonNeighbors(c0, c1)>5 \n",
    "RETURN c0.dedupestatic, c1.dedupestatic\"\"\").data()\n",
    "my_node"
   ]
  },
  {
   "cell_type": "code",
   "execution_count": null,
   "metadata": {},
   "outputs": [],
   "source": [
    " MATCH (p1:Person {name: 'Michael'})\n",
    " MATCH (p2:Person {name: 'Karin'})\n",
    " RETURN gds.alpha.linkprediction.commonNeighbors(p1, p2) AS score"
   ]
  },
  {
   "cell_type": "code",
   "execution_count": null,
   "metadata": {},
   "outputs": [],
   "source": [
    "my_node = graph.run(\"\"\"MATCH (dischem:Merchant {franchisename:'DIS-CHEM DAINFERN'})-[:TRANSACTED_AT]-(c0:Client) \n",
    "MATCH (dischem:Merchant {franchisename:'DIS-CHEM DAINFERN'})-[:TRANSACTED_AT]-(c1:Client)\n",
    "WHERE c0.dedupestatic <> c1.dedupestatic  \n",
    "RETURN DISTINCT(c0.dedupestatic), DISTINCT(c1.dedupestatic)\"\"\").data()\n",
    "my_node"
   ]
  },
  {
   "cell_type": "markdown",
   "metadata": {},
   "source": [
    "#### Peek into the file:"
   ]
  },
  {
   "cell_type": "code",
   "execution_count": null,
   "metadata": {},
   "outputs": [],
   "source": [
    "my_node = graph.run(\"\"\"MATCH (merchant:Merchant {franchisename:'DIS-CHEM DAINFERN'})-[:TRANSACTED_AT]-(c:Client) \n",
    "RETURN merchant.franchisename, c.dedupestatic \"\"\").data()"
   ]
  },
  {
   "cell_type": "code",
   "execution_count": null,
   "metadata": {},
   "outputs": [],
   "source": [
    "data"
   ]
  },
  {
   "cell_type": "code",
   "execution_count": null,
   "metadata": {},
   "outputs": [],
   "source": [
    "# crimes_header.csv\n",
    "filename='/var/lib/neo4j/import/beats.csv'\n",
    "beats = pd.read_csv(filename,nrows=10)\n",
    "beats"
   ]
  },
  {
   "cell_type": "code",
   "execution_count": null,
   "metadata": {},
   "outputs": [],
   "source": [
    "# crimes_header.csv\n",
    "filename='/var/lib/neo4j/import/crimes_header.csv'\n",
    "crimes_header_csv = pd.read_csv(filename,nrows=10)\n",
    "crimes_header_csv"
   ]
  },
  {
   "cell_type": "code",
   "execution_count": null,
   "metadata": {},
   "outputs": [],
   "source": [
    "filename='/var/lib/neo4j/import/crimes.csv'\n",
    "crimes_csv = pd.read_csv(filename,nrows=10)\n",
    "crimes_csv"
   ]
  },
  {
   "cell_type": "code",
   "execution_count": null,
   "metadata": {},
   "outputs": [],
   "source": [
    "import csv\n",
    "filename='/media/lnr-ai/christo/github_repos/graphing/data/clientswipes_202003_neo4j.csv'\n",
    "with open(filename) as csv_file:\n",
    "    csv_reader = csv.reader(csv_file, delimiter=',')\n",
    "    line_count = 0"
   ]
  },
  {
   "cell_type": "code",
   "execution_count": null,
   "metadata": {},
   "outputs": [],
   "source": [
    "    for row in csv_reader:\n",
    "        if line_count == 0:\n",
    "            print(f'Column names are {\", \".join(row)}')\n",
    "            line_count += 1\n",
    "        else:\n",
    "            print(f'\\t{row[0]} works in the {row[1]} department, and was born in {row[2]}.')\n",
    "            line_count += 1\n",
    "    print(f'Processed {line_count} lines.')"
   ]
  },
  {
   "cell_type": "code",
   "execution_count": null,
   "metadata": {},
   "outputs": [],
   "source": [
    "dedupegroup_list=list(set(df.Dedupegroup))"
   ]
  },
  {
   "cell_type": "code",
   "execution_count": null,
   "metadata": {},
   "outputs": [],
   "source": [
    "for dedupestatic in list(set(dedupegroup_list)):\n",
    "    print('Doing dedupestatic: ', dedupestatic, ' at index: ', dedupegroup_list.index(dedupestatic), ' of ', len(dedupegroup_list))        \n",
    "    client_param_dict={\"dedupestatic\":dedupestatic}\n",
    "    graph.run(\"MERGE (client:Client {dedupestatic:{dedupestatic}})\", client_param_dict)"
   ]
  },
  {
   "cell_type": "code",
   "execution_count": null,
   "metadata": {},
   "outputs": [],
   "source": [
    "for dedupe in dedupegroup_list:\n",
    "    gf=df[df.Dedupegroup==dedupe].copy()\n",
    "    print('Doing dedupestatic: ', dedupe, ' at index: ', dedupegroup_list.index(dedupe), ' of ', len(dedupegroup_list))    \n",
    "    for dedupestatic,companyname,franchisename,companyindex,class_id,discretionary,division_id,group_id,subclass_id,channel,TransactionAmount,TransactionDate in zip(gf.Dedupegroup, gf.companyname, gf.franchisename,gf.companyindex,gf.class_id,gf.discretionary,gf.division_id,gf.group_id,gf.subclass_id,gf.channel,gf.TransactionAmount,gf.TransactionDate):\n",
    "\n",
    "        client_param_dict={\"dedupestatic\":dedupestatic}\n",
    "        company_param_dict={\"companyname\":companyname,\n",
    "                  \"franchisename\":franchisename,\n",
    "                  \"companyindex\":companyindex,\n",
    "                  \"class_id\":class_id,\n",
    "                  \"discretionary\":discretionary,\n",
    "                  \"division_id\":division_id,\n",
    "                  \"group_id\":group_id,\n",
    "                  \"subclass_id\":subclass_id,\n",
    "                  \"channel\":channel}\n",
    "        franchise_param_dict={\n",
    "              \"franchisename\":franchisename,\"companyname\":companyname,}\n",
    "        transaction_param_dict={\"dedupestatic\":dedupestatic,\n",
    "              \"franchisename\":franchisename,\n",
    "    #           \"companyindex\":companyindex,\n",
    "              \"amount\":amount,\n",
    "              \"date\":date}\n",
    "        owner_param_dict={\"companyname\":companyname,\n",
    "              \"franchisename\":franchisename}\n",
    "    #   ------------------------------------------------------------------------------------------\n",
    "        graph.run(\"MERGE (client:Client {dedupestatic:{dedupestatic}})\", client_param_dict)\n",
    "    #   ------------------------------------------------------------------------------------------    \n",
    "        graph.run(\"\"\"MERGE (franchise:Franchise \n",
    "        {\n",
    "        franchisename:{franchisename},\n",
    "        companyname:{companyname}})\n",
    "        \"\"\", franchise_param_dict)\n",
    "    #   ------------------------------------------------------------------------------------------\n",
    "        graph.run(\"\"\"\n",
    "        MERGE (company:Company \n",
    "        {\n",
    "        companyname: {companyname}, \n",
    "        companyindex: {companyindex}}) ON CREATE SET company.channel={channel},\n",
    "        company.class_id={class_id},\n",
    "        company.discretionary={discretionary},\n",
    "        company.division_id={division_id},\n",
    "        company.group_id={group_id},\n",
    "        company.subclass_id={subclass_id},\n",
    "        company.channel={channel}\n",
    "        \"\"\", company_param_dict)\n",
    "    #   ------------------------------------------------------------------------------------------\n",
    "        graph.run(\"\"\"MATCH (client:Client {dedupestatic:{dedupestatic}}),(franchise:Franchise { franchisename: {franchisename} })\n",
    "        MERGE (client)-[t:transacted]->(franchise)\n",
    "        ON CREATE SET t.amount=[{amount}], t.date=[{date}]\n",
    "        ON MATCH SET t.amount=t.amount+{amount}, t.date=t.date+{date}\"\"\", transaction_param_dict)\n",
    "    #   ------------------------------------------------------------------------------------------\n",
    "        graph.run(\"\"\"MATCH (franchise:Franchise {franchisename:{franchisename}}),(company:Company { companyname: {companyname} })\n",
    "        MERGE (franchise)-[t:owned]->(company)\"\"\", owner_param_dict)    "
   ]
  },
  {
   "cell_type": "code",
   "execution_count": null,
   "metadata": {},
   "outputs": [],
   "source": []
  },
  {
   "cell_type": "code",
   "execution_count": null,
   "metadata": {},
   "outputs": [],
   "source": [
    "dedupestatic=dedupegroup_list[0]\n",
    "companyname=list(gf.companyname)[0]\n",
    "franchisename=list(gf.franchisename)[0]\n",
    "companyindex=list(gf.companyindex)[0]\n",
    "class_id=list(gf.class_id)[0]\n",
    "discretionary=list(gf.discretionary)[0]\n",
    "division_id=list(gf.division_id)[0]\n",
    "group_id=list(gf.group_id)[0]\n",
    "subclass_id=list(gf.subclass_id)[0]\n",
    "channel=list(gf.channel)[0]\n",
    "amount=list(gf.TransactionAmount)[0]\n",
    "date=list(gf.TransactionDate)[0]\n",
    "# companyindex=list(gf.companyindex)[0]\n",
    "# class_id=list(gf.class_id)[0]\n",
    "# discretionary=list(gf.discretionary)[0]\n",
    "# division_id=list(gf.division_id)[0]\n",
    "# group_id=list(gf.group_id)[0]\n",
    "# subclass_id=list(gf.subclass_id)[0]\n",
    "# channel=list(gf.channel)[0]"
   ]
  },
  {
   "cell_type": "code",
   "execution_count": null,
   "metadata": {},
   "outputs": [],
   "source": []
  },
  {
   "cell_type": "code",
   "execution_count": null,
   "metadata": {},
   "outputs": [],
   "source": []
  },
  {
   "cell_type": "code",
   "execution_count": null,
   "metadata": {},
   "outputs": [],
   "source": [
    "client_param_dict={\"dedupestatic\":dedupestatic}"
   ]
  },
  {
   "cell_type": "code",
   "execution_count": null,
   "metadata": {},
   "outputs": [],
   "source": [
    "company_param_dict={\"companyname\":companyname,\n",
    "          \"franchisename\":franchisename,\n",
    "          \"companyindex\":companyindex,\n",
    "          \"class_id\":class_id,\n",
    "          \"discretionary\":discretionary,\n",
    "          \"division_id\":division_id,\n",
    "          \"group_id\":group_id,\n",
    "          \"subclass_id\":subclass_id,\n",
    "          \"channel\":channel}"
   ]
  },
  {
   "cell_type": "code",
   "execution_count": null,
   "metadata": {},
   "outputs": [],
   "source": [
    "franchise_param_dict={\n",
    "          \"franchisename\":franchisename,\"companyname\":companyname,}"
   ]
  },
  {
   "cell_type": "code",
   "execution_count": null,
   "metadata": {},
   "outputs": [],
   "source": [
    "transaction_param_dict={\"dedupestatic\":dedupestatic,\n",
    "          \"franchisename\":franchisename,\n",
    "#           \"companyindex\":companyindex,\n",
    "          \"amount\":amount,\n",
    "          \"date\":date}"
   ]
  },
  {
   "cell_type": "code",
   "execution_count": null,
   "metadata": {},
   "outputs": [],
   "source": [
    "owner_param_dict={\"companyname\":companyname,\n",
    "          \"franchisename\":franchisename}"
   ]
  },
  {
   "cell_type": "code",
   "execution_count": null,
   "metadata": {},
   "outputs": [],
   "source": [
    "graph.run(\"MERGE (client:Client {dedupestatic:{dedupestatic}})\", client_param_dict)"
   ]
  },
  {
   "cell_type": "code",
   "execution_count": null,
   "metadata": {},
   "outputs": [],
   "source": [
    "graph.run(\"\"\"\n",
    "MERGE (franchise:Franchise \n",
    "{\n",
    "franchisename:{franchisename},\n",
    "companyname:{companyname}})\n",
    "\"\"\", franchise_param_dict)"
   ]
  },
  {
   "cell_type": "code",
   "execution_count": null,
   "metadata": {},
   "outputs": [],
   "source": [
    "graph.run(\"\"\"\n",
    "MERGE (company:Company \n",
    "{\n",
    "companyname: {companyname}, \n",
    "companyindex: {companyindex}}) ON CREATE SET company.channel={channel},\n",
    "company.class_id={class_id},\n",
    "company.discretionary={discretionary},\n",
    "company.division_id={division_id},\n",
    "company.group_id={group_id},\n",
    "company.subclass_id={subclass_id},\n",
    "company.channel={channel}\n",
    "\"\"\", company_param_dict)"
   ]
  },
  {
   "cell_type": "code",
   "execution_count": null,
   "metadata": {},
   "outputs": [],
   "source": [
    "graph.run(\"\"\"MATCH (client:Client {dedupestatic:{dedupestatic}}),(franchise:Franchise { franchisename: {franchisename} })\n",
    "MERGE (client)-[t:transacted]->(franchise)\n",
    "ON CREATE SET t.amount=[{amount}], t.date=[{date}]\n",
    "ON MATCH SET t.amount=t.amount+{amount}, t.date=t.date+{date}\"\"\", transaction_param_dict)\n"
   ]
  },
  {
   "cell_type": "code",
   "execution_count": null,
   "metadata": {},
   "outputs": [],
   "source": [
    "graph.run(\"\"\"MATCH (franchise:Franchise {franchisename:{franchisename}}),(company:Company { companyname: {companyname} })\n",
    "MERGE (franchise)-[t:owned]->(company)\"\"\", owner_param_dict)"
   ]
  },
  {
   "cell_type": "code",
   "execution_count": null,
   "metadata": {},
   "outputs": [],
   "source": []
  }
 ],
 "metadata": {
  "kernelspec": {
   "display_name": "Python 3",
   "language": "python",
   "name": "python3"
  },
  "language_info": {
   "codemirror_mode": {
    "name": "ipython",
    "version": 3
   },
   "file_extension": ".py",
   "mimetype": "text/x-python",
   "name": "python",
   "nbconvert_exporter": "python",
   "pygments_lexer": "ipython3",
   "version": "3.7.6"
  }
 },
 "nbformat": 4,
 "nbformat_minor": 4
}

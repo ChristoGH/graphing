{
 "cells": [
  {
   "cell_type": "code",
   "execution_count": 1,
   "metadata": {},
   "outputs": [],
   "source": [
    "import pandas as pd\n",
    "from py2neo import Graph\n",
    "graph = Graph(\"bolt://localhost:7687\", user='neo4j', password='newPassword')\n",
    "# graph = Graph()"
   ]
  },
  {
   "cell_type": "code",
   "execution_count": 5,
   "metadata": {},
   "outputs": [],
   "source": [
    "import matplotlib \n",
    "import matplotlib.pyplot as plt"
   ]
  },
  {
   "cell_type": "code",
   "execution_count": 3,
   "metadata": {},
   "outputs": [
    {
     "data": {
      "text/html": [
       "<div>\n",
       "<style scoped>\n",
       "    .dataframe tbody tr th:only-of-type {\n",
       "        vertical-align: middle;\n",
       "    }\n",
       "\n",
       "    .dataframe tbody tr th {\n",
       "        vertical-align: top;\n",
       "    }\n",
       "\n",
       "    .dataframe thead th {\n",
       "        text-align: right;\n",
       "    }\n",
       "</style>\n",
       "<table border=\"1\" class=\"dataframe\">\n",
       "  <thead>\n",
       "    <tr style=\"text-align: right;\">\n",
       "      <th></th>\n",
       "      <th>label</th>\n",
       "      <th>count</th>\n",
       "    </tr>\n",
       "  </thead>\n",
       "  <tbody>\n",
       "    <tr>\n",
       "      <th>1</th>\n",
       "      <td>Merchant</td>\n",
       "      <td>578685</td>\n",
       "    </tr>\n",
       "    <tr>\n",
       "      <th>0</th>\n",
       "      <td>Client</td>\n",
       "      <td>2216269</td>\n",
       "    </tr>\n",
       "  </tbody>\n",
       "</table>\n",
       "</div>"
      ],
      "text/plain": [
       "      label    count\n",
       "1  Merchant   578685\n",
       "0    Client  2216269"
      ]
     },
     "execution_count": 3,
     "metadata": {},
     "output_type": "execute_result"
    }
   ],
   "source": [
    "# https://neo4j.com/graphacademy/online-training/data-science/part-2/\n",
    "result = {\"label\": [], \"count\": []}\n",
    "for label in graph.run(\"CALL db.labels()\").to_series():\n",
    "    query = f\"MATCH (:`{label}`) RETURN count(*) as count\"\n",
    "    count = graph.run(query).to_data_frame().iloc[0]['count']\n",
    "    result[\"label\"].append(label)\n",
    "    result[\"count\"].append(count)\n",
    "nodes_df = pd.DataFrame(data=result)\n",
    "nodes_df.sort_values(\"count\")"
   ]
  },
  {
   "cell_type": "code",
   "execution_count": 6,
   "metadata": {},
   "outputs": [
    {
     "data": {
      "image/png": "[encoded data removed]",
      "text/plain": [
       "<Figure size 432x288 with 1 Axes>"
      ]
     },
     "metadata": {
      "needs_background": "light"
     },
     "output_type": "display_data"
    }
   ],
   "source": [
    "\n",
    "nodes_df.plot(kind='bar', x='label', y='count', legend=None, title=\"Node Cardinalities\")\n",
    "plt.yscale(\"log\")\n",
    "plt.xticks(rotation=45)\n",
    "plt.tight_layout()\n",
    "plt.show()"
   ]
  },
  {
   "cell_type": "code",
   "execution_count": 7,
   "metadata": {},
   "outputs": [
    {
     "data": {
      "text/html": [
       "<div>\n",
       "<style scoped>\n",
       "    .dataframe tbody tr th:only-of-type {\n",
       "        vertical-align: middle;\n",
       "    }\n",
       "\n",
       "    .dataframe tbody tr th {\n",
       "        vertical-align: top;\n",
       "    }\n",
       "\n",
       "    .dataframe thead th {\n",
       "        text-align: right;\n",
       "    }\n",
       "</style>\n",
       "<table border=\"1\" class=\"dataframe\">\n",
       "  <thead>\n",
       "    <tr style=\"text-align: right;\">\n",
       "      <th></th>\n",
       "      <th>relType</th>\n",
       "      <th>count</th>\n",
       "    </tr>\n",
       "  </thead>\n",
       "  <tbody>\n",
       "    <tr>\n",
       "      <th>0</th>\n",
       "      <td>TRANSACTED_AT</td>\n",
       "      <td>17919151</td>\n",
       "    </tr>\n",
       "  </tbody>\n",
       "</table>\n",
       "</div>"
      ],
      "text/plain": [
       "         relType     count\n",
       "0  TRANSACTED_AT  17919151"
      ]
     },
     "execution_count": 7,
     "metadata": {},
     "output_type": "execute_result"
    }
   ],
   "source": [
    "result = {\"relType\": [], \"count\": []}\n",
    "for relationship_type in graph.run(\"CALL db.relationshipTypes()\").to_series():\n",
    "    query = f\"MATCH ()-[:`{relationship_type}`]->() RETURN count(*) as count\"\n",
    "    count = graph.run(query).to_data_frame().iloc[0]['count']\n",
    "    result[\"relType\"].append(relationship_type)\n",
    "    result[\"count\"].append(count)\n",
    "rels_df = pd.DataFrame(data=result)\n",
    "rels_df.sort_values(\"count\")"
   ]
  },
  {
   "cell_type": "code",
   "execution_count": 8,
   "metadata": {},
   "outputs": [
    {
     "data": {
      "image/png": "[encoded data removed]",
      "text/plain": [
       "<Figure size 432x288 with 1 Axes>"
      ]
     },
     "metadata": {
      "needs_background": "light"
     },
     "output_type": "display_data"
    }
   ],
   "source": [
    "rels_df.plot(kind='bar', x='relType', y='count', legend=None, title=\"Relationship Cardinalities\")\n",
    "plt.xticks(rotation=45)\n",
    "plt.tight_layout()\n",
    "plt.show()"
   ]
  },
  {
   "cell_type": "code",
   "execution_count": 18,
   "metadata": {},
   "outputs": [
    {
     "data": {
      "text/html": [
       "<div>\n",
       "<style scoped>\n",
       "    .dataframe tbody tr th:only-of-type {\n",
       "        vertical-align: middle;\n",
       "    }\n",
       "\n",
       "    .dataframe tbody tr th {\n",
       "        vertical-align: top;\n",
       "    }\n",
       "\n",
       "    .dataframe thead th {\n",
       "        text-align: right;\n",
       "    }\n",
       "</style>\n",
       "<table border=\"1\" class=\"dataframe\">\n",
       "  <thead>\n",
       "    <tr style=\"text-align: right;\">\n",
       "      <th></th>\n",
       "      <th>merchant1</th>\n",
       "      <th>dedupestatic</th>\n",
       "      <th>merchant2</th>\n",
       "      <th>merchant1_transactions</th>\n",
       "      <th>merchant2_transactions</th>\n",
       "    </tr>\n",
       "  </thead>\n",
       "  <tbody>\n",
       "    <tr>\n",
       "      <th>0</th>\n",
       "      <td>DIS-CHEM DAINFERN</td>\n",
       "      <td>1.10231270801e+11</td>\n",
       "      <td>Spar Broad A</td>\n",
       "      <td>252</td>\n",
       "      <td>51</td>\n",
       "    </tr>\n",
       "    <tr>\n",
       "      <th>1</th>\n",
       "      <td>DIS-CHEM DAINFERN</td>\n",
       "      <td>1.10231270801e+11</td>\n",
       "      <td>FOURWAYS GAR</td>\n",
       "      <td>252</td>\n",
       "      <td>533</td>\n",
       "    </tr>\n",
       "    <tr>\n",
       "      <th>2</th>\n",
       "      <td>DIS-CHEM DAINFERN</td>\n",
       "      <td>1.10231270801e+11</td>\n",
       "      <td>WOOLWORTHS- BR</td>\n",
       "      <td>252</td>\n",
       "      <td>2110</td>\n",
       "    </tr>\n",
       "    <tr>\n",
       "      <th>3</th>\n",
       "      <td>DIS-CHEM DAINFERN</td>\n",
       "      <td>1.10231270801e+11</td>\n",
       "      <td>Clicks Fourway</td>\n",
       "      <td>252</td>\n",
       "      <td>1736</td>\n",
       "    </tr>\n",
       "    <tr>\n",
       "      <th>4</th>\n",
       "      <td>DIS-CHEM DAINFERN</td>\n",
       "      <td>1.10231270801e+11</td>\n",
       "      <td>BUILDERS EXP C</td>\n",
       "      <td>252</td>\n",
       "      <td>1889</td>\n",
       "    </tr>\n",
       "    <tr>\n",
       "      <th>5</th>\n",
       "      <td>DIS-CHEM DAINFERN</td>\n",
       "      <td>1.10231270801e+11</td>\n",
       "      <td>Spar Broadacre</td>\n",
       "      <td>252</td>\n",
       "      <td>2574</td>\n",
       "    </tr>\n",
       "    <tr>\n",
       "      <th>6</th>\n",
       "      <td>DIS-CHEM DAINFERN</td>\n",
       "      <td>1.10231270801e+11</td>\n",
       "      <td>FOURNOS FOURWA</td>\n",
       "      <td>252</td>\n",
       "      <td>14</td>\n",
       "    </tr>\n",
       "    <tr>\n",
       "      <th>7</th>\n",
       "      <td>DIS-CHEM DAINFERN</td>\n",
       "      <td>1.10231270801e+11</td>\n",
       "      <td>HERBERT EVAN</td>\n",
       "      <td>252</td>\n",
       "      <td>412</td>\n",
       "    </tr>\n",
       "    <tr>\n",
       "      <th>8</th>\n",
       "      <td>DIS-CHEM DAINFERN</td>\n",
       "      <td>1.10231270801e+11</td>\n",
       "      <td>PNA DAINFERN</td>\n",
       "      <td>252</td>\n",
       "      <td>379</td>\n",
       "    </tr>\n",
       "    <tr>\n",
       "      <th>9</th>\n",
       "      <td>DIS-CHEM DAINFERN</td>\n",
       "      <td>1.10231270801e+11</td>\n",
       "      <td>Dainfern squar</td>\n",
       "      <td>252</td>\n",
       "      <td>242</td>\n",
       "    </tr>\n",
       "    <tr>\n",
       "      <th>10</th>\n",
       "      <td>DIS-CHEM DAINFERN</td>\n",
       "      <td>1.10231270801e+11</td>\n",
       "      <td>THE PANTRY C</td>\n",
       "      <td>252</td>\n",
       "      <td>80</td>\n",
       "    </tr>\n",
       "    <tr>\n",
       "      <th>11</th>\n",
       "      <td>DIS-CHEM DAINFERN</td>\n",
       "      <td>1.10231270801e+11</td>\n",
       "      <td>Microsoft*Offi</td>\n",
       "      <td>252</td>\n",
       "      <td>2928</td>\n",
       "    </tr>\n",
       "    <tr>\n",
       "      <th>12</th>\n",
       "      <td>DIS-CHEM DAINFERN</td>\n",
       "      <td>1.10231270801e+11</td>\n",
       "      <td>PALM GARDENS V</td>\n",
       "      <td>252</td>\n",
       "      <td>48</td>\n",
       "    </tr>\n",
       "    <tr>\n",
       "      <th>13</th>\n",
       "      <td>DIS-CHEM DAINFERN</td>\n",
       "      <td>1.10231270801e+11</td>\n",
       "      <td>WOOLWORTHS CED</td>\n",
       "      <td>252</td>\n",
       "      <td>1207</td>\n",
       "    </tr>\n",
       "    <tr>\n",
       "      <th>14</th>\n",
       "      <td>DIS-CHEM DAINFERN</td>\n",
       "      <td>1.10231270801e+11</td>\n",
       "      <td>Hair@Kim -</td>\n",
       "      <td>252</td>\n",
       "      <td>6</td>\n",
       "    </tr>\n",
       "    <tr>\n",
       "      <th>15</th>\n",
       "      <td>DIS-CHEM DAINFERN</td>\n",
       "      <td>1.10231270801e+11</td>\n",
       "      <td>DR KRIEL</td>\n",
       "      <td>252</td>\n",
       "      <td>5</td>\n",
       "    </tr>\n",
       "    <tr>\n",
       "      <th>16</th>\n",
       "      <td>DIS-CHEM DAINFERN</td>\n",
       "      <td>1.10231270801e+11</td>\n",
       "      <td>FOURWAYS GARDE</td>\n",
       "      <td>252</td>\n",
       "      <td>48</td>\n",
       "    </tr>\n",
       "    <tr>\n",
       "      <th>17</th>\n",
       "      <td>DIS-CHEM DAINFERN</td>\n",
       "      <td>1.10231270801e+11</td>\n",
       "      <td>SHOWMAX</td>\n",
       "      <td>252</td>\n",
       "      <td>11493</td>\n",
       "    </tr>\n",
       "    <tr>\n",
       "      <th>18</th>\n",
       "      <td>DIS-CHEM DAINFERN</td>\n",
       "      <td>1.10231270801e+11</td>\n",
       "      <td>THE COMPOUND</td>\n",
       "      <td>252</td>\n",
       "      <td>81</td>\n",
       "    </tr>\n",
       "    <tr>\n",
       "      <th>19</th>\n",
       "      <td>DIS-CHEM DAINFERN</td>\n",
       "      <td>1.10231270801e+11</td>\n",
       "      <td>NETFLIX.COM</td>\n",
       "      <td>252</td>\n",
       "      <td>84771</td>\n",
       "    </tr>\n",
       "    <tr>\n",
       "      <th>20</th>\n",
       "      <td>DIS-CHEM DAINFERN</td>\n",
       "      <td>1.10231270801e+11</td>\n",
       "      <td>Spar Fourways</td>\n",
       "      <td>252</td>\n",
       "      <td>1134</td>\n",
       "    </tr>\n",
       "    <tr>\n",
       "      <th>21</th>\n",
       "      <td>DIS-CHEM DAINFERN</td>\n",
       "      <td>1.10231270801e+11</td>\n",
       "      <td>WOOLWORTHS MAR</td>\n",
       "      <td>252</td>\n",
       "      <td>1565</td>\n",
       "    </tr>\n",
       "    <tr>\n",
       "      <th>22</th>\n",
       "      <td>DIS-CHEM DAINFERN</td>\n",
       "      <td>1.10231270801e+11</td>\n",
       "      <td>GOOGLE *Google</td>\n",
       "      <td>252</td>\n",
       "      <td>7005</td>\n",
       "    </tr>\n",
       "    <tr>\n",
       "      <th>23</th>\n",
       "      <td>DIS-CHEM DAINFERN</td>\n",
       "      <td>1.10231270801e+11</td>\n",
       "      <td>DIS-CHEM DAINF</td>\n",
       "      <td>252</td>\n",
       "      <td>1069</td>\n",
       "    </tr>\n",
       "    <tr>\n",
       "      <th>24</th>\n",
       "      <td>DIS-CHEM DAINFERN</td>\n",
       "      <td>1.10231270801e+11</td>\n",
       "      <td>WOOLWORTHS FOU</td>\n",
       "      <td>252</td>\n",
       "      <td>1704</td>\n",
       "    </tr>\n",
       "  </tbody>\n",
       "</table>\n",
       "</div>"
      ],
      "text/plain": [
       "            merchant1       dedupestatic       merchant2  \\\n",
       "0   DIS-CHEM DAINFERN  1.10231270801e+11    Spar Broad A   \n",
       "1   DIS-CHEM DAINFERN  1.10231270801e+11    FOURWAYS GAR   \n",
       "2   DIS-CHEM DAINFERN  1.10231270801e+11  WOOLWORTHS- BR   \n",
       "3   DIS-CHEM DAINFERN  1.10231270801e+11  Clicks Fourway   \n",
       "4   DIS-CHEM DAINFERN  1.10231270801e+11  BUILDERS EXP C   \n",
       "5   DIS-CHEM DAINFERN  1.10231270801e+11  Spar Broadacre   \n",
       "6   DIS-CHEM DAINFERN  1.10231270801e+11  FOURNOS FOURWA   \n",
       "7   DIS-CHEM DAINFERN  1.10231270801e+11    HERBERT EVAN   \n",
       "8   DIS-CHEM DAINFERN  1.10231270801e+11    PNA DAINFERN   \n",
       "9   DIS-CHEM DAINFERN  1.10231270801e+11  Dainfern squar   \n",
       "10  DIS-CHEM DAINFERN  1.10231270801e+11    THE PANTRY C   \n",
       "11  DIS-CHEM DAINFERN  1.10231270801e+11  Microsoft*Offi   \n",
       "12  DIS-CHEM DAINFERN  1.10231270801e+11  PALM GARDENS V   \n",
       "13  DIS-CHEM DAINFERN  1.10231270801e+11  WOOLWORTHS CED   \n",
       "14  DIS-CHEM DAINFERN  1.10231270801e+11      Hair@Kim -   \n",
       "15  DIS-CHEM DAINFERN  1.10231270801e+11        DR KRIEL   \n",
       "16  DIS-CHEM DAINFERN  1.10231270801e+11  FOURWAYS GARDE   \n",
       "17  DIS-CHEM DAINFERN  1.10231270801e+11         SHOWMAX   \n",
       "18  DIS-CHEM DAINFERN  1.10231270801e+11    THE COMPOUND   \n",
       "19  DIS-CHEM DAINFERN  1.10231270801e+11     NETFLIX.COM   \n",
       "20  DIS-CHEM DAINFERN  1.10231270801e+11   Spar Fourways   \n",
       "21  DIS-CHEM DAINFERN  1.10231270801e+11  WOOLWORTHS MAR   \n",
       "22  DIS-CHEM DAINFERN  1.10231270801e+11  GOOGLE *Google   \n",
       "23  DIS-CHEM DAINFERN  1.10231270801e+11  DIS-CHEM DAINF   \n",
       "24  DIS-CHEM DAINFERN  1.10231270801e+11  WOOLWORTHS FOU   \n",
       "\n",
       "    merchant1_transactions  merchant2_transactions  \n",
       "0                      252                      51  \n",
       "1                      252                     533  \n",
       "2                      252                    2110  \n",
       "3                      252                    1736  \n",
       "4                      252                    1889  \n",
       "5                      252                    2574  \n",
       "6                      252                      14  \n",
       "7                      252                     412  \n",
       "8                      252                     379  \n",
       "9                      252                     242  \n",
       "10                     252                      80  \n",
       "11                     252                    2928  \n",
       "12                     252                      48  \n",
       "13                     252                    1207  \n",
       "14                     252                       6  \n",
       "15                     252                       5  \n",
       "16                     252                      48  \n",
       "17                     252                   11493  \n",
       "18                     252                      81  \n",
       "19                     252                   84771  \n",
       "20                     252                    1134  \n",
       "21                     252                    1565  \n",
       "22                     252                    7005  \n",
       "23                     252                    1069  \n",
       "24                     252                    1704  "
      ]
     },
     "execution_count": 18,
     "metadata": {},
     "output_type": "execute_result"
    }
   ],
   "source": [
    "exploratory_query = \"\"\"\n",
    "MATCH (merchant1:Merchant {franchisename:'DIS-CHEM DAINFERN'})<-[:TRANSACTED_AT]-(client:Client)-[:TRANSACTED_AT]->(merchant2:Merchant)\n",
    "WHERE merchant1<>merchant2\n",
    "RETURN merchant1.franchisename AS merchant1, client.dedupestatic AS dedupestatic,  merchant2.franchisename AS merchant2, \n",
    "       size((merchant1)-[:TRANSACTED_AT]-()) AS merchant1_transactions, \n",
    "       size((merchant2)-[:TRANSACTED_AT]-()) AS merchant2_transactions\n",
    "ORDER BY rand()\n",
    "LIMIT 25\n",
    "\"\"\"\n",
    "\n",
    "graph.run(exploratory_query).to_data_frame()"
   ]
  },
  {
   "cell_type": "code",
   "execution_count": 15,
   "metadata": {},
   "outputs": [
    {
     "data": {
      "text/html": [
       "<div>\n",
       "<style scoped>\n",
       "    .dataframe tbody tr th:only-of-type {\n",
       "        vertical-align: middle;\n",
       "    }\n",
       "\n",
       "    .dataframe tbody tr th {\n",
       "        vertical-align: top;\n",
       "    }\n",
       "\n",
       "    .dataframe thead th {\n",
       "        text-align: right;\n",
       "    }\n",
       "</style>\n",
       "<table border=\"1\" class=\"dataframe\">\n",
       "  <thead>\n",
       "    <tr style=\"text-align: right;\">\n",
       "      <th></th>\n",
       "      <th>transactions</th>\n",
       "    </tr>\n",
       "  </thead>\n",
       "  <tbody>\n",
       "    <tr>\n",
       "      <th>count</th>\n",
       "      <td>1544.000000</td>\n",
       "    </tr>\n",
       "    <tr>\n",
       "      <th>mean</th>\n",
       "      <td>194.995466</td>\n",
       "    </tr>\n",
       "    <tr>\n",
       "      <th>std</th>\n",
       "      <td>415.986285</td>\n",
       "    </tr>\n",
       "    <tr>\n",
       "      <th>min</th>\n",
       "      <td>1.000000</td>\n",
       "    </tr>\n",
       "    <tr>\n",
       "      <th>25%</th>\n",
       "      <td>3.000000</td>\n",
       "    </tr>\n",
       "    <tr>\n",
       "      <th>50%</th>\n",
       "      <td>31.000000</td>\n",
       "    </tr>\n",
       "    <tr>\n",
       "      <th>75%</th>\n",
       "      <td>180.250000</td>\n",
       "    </tr>\n",
       "    <tr>\n",
       "      <th>90%</th>\n",
       "      <td>505.500000</td>\n",
       "    </tr>\n",
       "    <tr>\n",
       "      <th>99%</th>\n",
       "      <td>2008.410000</td>\n",
       "    </tr>\n",
       "    <tr>\n",
       "      <th>max</th>\n",
       "      <td>4016.000000</td>\n",
       "    </tr>\n",
       "  </tbody>\n",
       "</table>\n",
       "</div>"
      ],
      "text/plain": [
       "       transactions\n",
       "count   1544.000000\n",
       "mean     194.995466\n",
       "std      415.986285\n",
       "min        1.000000\n",
       "25%        3.000000\n",
       "50%       31.000000\n",
       "75%      180.250000\n",
       "90%      505.500000\n",
       "99%     2008.410000\n",
       "max     4016.000000"
      ]
     },
     "execution_count": 15,
     "metadata": {},
     "output_type": "execute_result"
    }
   ],
   "source": [
    "query = \"\"\"\n",
    "MATCH (m:Merchant {companyname:'DISCHEM'})-[transaction:TRANSACTED_AT]-(client:Client)\n",
    "RETURN m.franchisename AS Merchant, count(transaction) AS transactions\n",
    "\"\"\"\n",
    "\n",
    "citation_df = graph.run(query).to_data_frame()\n",
    "citation_df.describe([.25, .5, .75, .9, .99])"
   ]
  },
  {
   "cell_type": "code",
   "execution_count": null,
   "metadata": {},
   "outputs": [],
   "source": [
    "result=graph.run(\"\"\"MATCH (merchant:Merchant {franchisename:'DIS-CHEM DAINFERN'})\n",
    "RETURN merchant.companyname \"\"\").data()"
   ]
  },
  {
   "cell_type": "code",
   "execution_count": null,
   "metadata": {},
   "outputs": [],
   "source": [
    "nodes = [n for n in result]"
   ]
  },
  {
   "cell_type": "code",
   "execution_count": null,
   "metadata": {},
   "outputs": [],
   "source": [
    "nodes"
   ]
  },
  {
   "cell_type": "code",
   "execution_count": null,
   "metadata": {},
   "outputs": [],
   "source": [
    "my_node = graph.run(\"\"\"MATCH (merchant:Merchant {companyname:'DISCHEM'})\n",
    "RETURN merchant \"\"\").data()"
   ]
  },
  {
   "cell_type": "code",
   "execution_count": null,
   "metadata": {},
   "outputs": [],
   "source": [
    "my_node"
   ]
  },
  {
   "cell_type": "code",
   "execution_count": null,
   "metadata": {},
   "outputs": [],
   "source": [
    "my_node = graph.run(\"\"\"MATCH (merchant:Merchant {franchisename:'DIS-CHEM DAINFERN'})-[:TRANSACTED_AT]-(c:Client) \n",
    "RETURN merchant.franchisename, c.dedupestatic \"\"\").data()"
   ]
  },
  {
   "cell_type": "code",
   "execution_count": null,
   "metadata": {},
   "outputs": [],
   "source": [
    "len(my_node)"
   ]
  },
  {
   "cell_type": "code",
   "execution_count": null,
   "metadata": {},
   "outputs": [],
   "source": [
    "my_node = graph.run(\"\"\"MATCH (dischem:Merchant {franchisename:'DIS-CHEM DAINFERN'})-[:TRANSACTED_AT]-(c:Client)-\n",
    "[:TRANSACTED_AT]-(other:Merchant)\n",
    "WHERE other.franchisename<>dischem.franchisename \n",
    "RETURN dischem.franchisename, c.dedupestatic, other.franchisename, other.companyname\"\"\").data()"
   ]
  },
  {
   "cell_type": "code",
   "execution_count": null,
   "metadata": {},
   "outputs": [],
   "source": [
    "my_node"
   ]
  },
  {
   "cell_type": "code",
   "execution_count": null,
   "metadata": {},
   "outputs": [],
   "source": [
    "my_node = graph.run(\"\"\"MATCH (dischem:Merchant {franchisename:'DIS-CHEM DAINFERN'})-[:TRANSACTED_AT]-(c:Client)-\n",
    "[:TRANSACTED_AT]-(other:Merchant)\n",
    "WHERE other.franchisename<>dischem.franchisename \n",
    "RETURN DISTINCT(c.dedupestatic), count(DISTINCT other)\"\"\").data()\n",
    "my_node"
   ]
  },
  {
   "cell_type": "code",
   "execution_count": null,
   "metadata": {},
   "outputs": [],
   "source": [
    "my_node = graph.run(\"\"\"MATCH (dischem:Merchant {franchisename:'DIS-CHEM DAINFERN'})-[:TRANSACTED_AT]-(c:Client)-\n",
    "[othertransaction:TRANSACTED_AT]-(other:Merchant)\n",
    "WHERE other.franchisename<>dischem.franchisename \n",
    "RETURN DISTINCT(other.franchisename) AS other_franchisename, count(othertransaction) AS number_transactions\"\"\").data()\n",
    "my_node"
   ]
  },
  {
   "cell_type": "code",
   "execution_count": null,
   "metadata": {},
   "outputs": [],
   "source": [
    "my_node = graph.run(\"\"\"MATCH (dischem:Merchant {franchisename:'DIS-CHEM DAINFERN'})-[:TRANSACTED_AT]-(c:Client)-\n",
    "[othertransaction:TRANSACTED_AT]-(other:Merchant)\n",
    "WHERE other.franchisename<>dischem.franchisename \n",
    "WITH other.franchisename AS other_franchisename, count(othertransaction) AS number_transactions \n",
    "RETURN DISTINCT(other_franchisename), number_transactions\"\"\").data()\n",
    "my_node"
   ]
  },
  {
   "cell_type": "code",
   "execution_count": null,
   "metadata": {},
   "outputs": [],
   "source": [
    "my_node = graph.run(\"\"\"MATCH (dischem:Merchant {franchisename:'DIS-CHEM DAINFERN'})-[:TRANSACTED_AT]-(c0:Client)\n",
    "MATCH (c1:Client {dedupestatic:'2.11279273006e+11'})  \n",
    "WHERE c0.dedupestatic <> c1.dedupestatic  \n",
    "RETURN gds.alpha.linkprediction.commonNeighbors(c0, c1)\"\"\").data()\n",
    "my_node"
   ]
  },
  {
   "cell_type": "code",
   "execution_count": null,
   "metadata": {},
   "outputs": [],
   "source": [
    "my_node = graph.run(\"\"\"MATCH (dischem:Merchant {franchisename:'DIS-CHEM DAINFERN'})-[:TRANSACTED_AT]-(c0:Client) \n",
    "MATCH (dischem:Merchant {franchisename:'DIS-CHEM DAINFERN'})-[:TRANSACTED_AT]-(c1:Client) \n",
    "WHERE c0.dedupestatic <> c1.dedupestatic AND gds.alpha.linkprediction.commonNeighbors(c0, c1)>5 \n",
    "RETURN c0.dedupestatic, c1.dedupestatic, gds.alpha.linkprediction.commonNeighbors(c0, c1) as commons\"\"\").data()\n",
    "my_node"
   ]
  },
  {
   "cell_type": "code",
   "execution_count": null,
   "metadata": {},
   "outputs": [],
   "source": [
    "my_node = graph.run(\"\"\"MATCH (dischem:Merchant {franchisename:'DIS-CHEM DAINFERN'})-[:TRANSACTED_AT]-(c0:Client)\n",
    "WITH collect(distinct c0) as clients \n",
    "MATCH (dischem:Merchant {franchisename:'DIS-CHEM DAINFERN'})-[:TRANSACTED_AT]-(c1:Client) \n",
    "WHERE c1 NOT in clients AND gds.alpha.linkprediction.commonNeighbors(c0, c1)>5 \n",
    "RETURN c0.dedupestatic, c1.dedupestatic\"\"\").data()\n",
    "my_node"
   ]
  },
  {
   "cell_type": "code",
   "execution_count": null,
   "metadata": {},
   "outputs": [],
   "source": [
    " MATCH (p1:Person {name: 'Michael'})\n",
    " MATCH (p2:Person {name: 'Karin'})\n",
    " RETURN gds.alpha.linkprediction.commonNeighbors(p1, p2) AS score"
   ]
  },
  {
   "cell_type": "code",
   "execution_count": null,
   "metadata": {},
   "outputs": [],
   "source": [
    "my_node = graph.run(\"\"\"MATCH (dischem:Merchant {franchisename:'DIS-CHEM DAINFERN'})-[:TRANSACTED_AT]-(c0:Client) \n",
    "MATCH (dischem:Merchant {franchisename:'DIS-CHEM DAINFERN'})-[:TRANSACTED_AT]-(c1:Client)\n",
    "WHERE c0.dedupestatic <> c1.dedupestatic  \n",
    "RETURN DISTINCT(c0.dedupestatic), DISTINCT(c1.dedupestatic)\"\"\").data()\n",
    "my_node"
   ]
  },
  {
   "cell_type": "markdown",
   "metadata": {},
   "source": [
    "#### Peek into the file:"
   ]
  },
  {
   "cell_type": "code",
   "execution_count": null,
   "metadata": {},
   "outputs": [],
   "source": [
    "my_node = graph.run(\"\"\"MATCH (merchant:Merchant {franchisename:'DIS-CHEM DAINFERN'})-[:TRANSACTED_AT]-(c:Client) \n",
    "RETURN merchant.franchisename, c.dedupestatic \"\"\").data()"
   ]
  },
  {
   "cell_type": "code",
   "execution_count": null,
   "metadata": {},
   "outputs": [],
   "source": [
    "data"
   ]
  },
  {
   "cell_type": "code",
   "execution_count": null,
   "metadata": {},
   "outputs": [],
   "source": [
    "# crimes_header.csv\n",
    "filename='/var/lib/neo4j/import/beats.csv'\n",
    "beats = pd.read_csv(filename,nrows=10)\n",
    "beats"
   ]
  },
  {
   "cell_type": "code",
   "execution_count": null,
   "metadata": {},
   "outputs": [],
   "source": [
    "# crimes_header.csv\n",
    "filename='/var/lib/neo4j/import/crimes_header.csv'\n",
    "crimes_header_csv = pd.read_csv(filename,nrows=10)\n",
    "crimes_header_csv"
   ]
  },
  {
   "cell_type": "code",
   "execution_count": null,
   "metadata": {},
   "outputs": [],
   "source": [
    "filename='/var/lib/neo4j/import/crimes.csv'\n",
    "crimes_csv = pd.read_csv(filename,nrows=10)\n",
    "crimes_csv"
   ]
  },
  {
   "cell_type": "code",
   "execution_count": null,
   "metadata": {},
   "outputs": [],
   "source": [
    "import csv\n",
    "filename='/media/lnr-ai/christo/github_repos/graphing/data/clientswipes_202003_neo4j.csv'\n",
    "with open(filename) as csv_file:\n",
    "    csv_reader = csv.reader(csv_file, delimiter=',')\n",
    "    line_count = 0"
   ]
  },
  {
   "cell_type": "code",
   "execution_count": null,
   "metadata": {},
   "outputs": [],
   "source": [
    "    for row in csv_reader:\n",
    "        if line_count == 0:\n",
    "            print(f'Column names are {\", \".join(row)}')\n",
    "            line_count += 1\n",
    "        else:\n",
    "            print(f'\\t{row[0]} works in the {row[1]} department, and was born in {row[2]}.')\n",
    "            line_count += 1\n",
    "    print(f'Processed {line_count} lines.')"
   ]
  },
  {
   "cell_type": "code",
   "execution_count": null,
   "metadata": {},
   "outputs": [],
   "source": [
    "dedupegroup_list=list(set(df.Dedupegroup))"
   ]
  },
  {
   "cell_type": "code",
   "execution_count": null,
   "metadata": {},
   "outputs": [],
   "source": [
    "for dedupestatic in list(set(dedupegroup_list)):\n",
    "    print('Doing dedupestatic: ', dedupestatic, ' at index: ', dedupegroup_list.index(dedupestatic), ' of ', len(dedupegroup_list))        \n",
    "    client_param_dict={\"dedupestatic\":dedupestatic}\n",
    "    graph.run(\"MERGE (client:Client {dedupestatic:{dedupestatic}})\", client_param_dict)"
   ]
  },
  {
   "cell_type": "code",
   "execution_count": null,
   "metadata": {},
   "outputs": [],
   "source": [
    "for dedupe in dedupegroup_list:\n",
    "    gf=df[df.Dedupegroup==dedupe].copy()\n",
    "    print('Doing dedupestatic: ', dedupe, ' at index: ', dedupegroup_list.index(dedupe), ' of ', len(dedupegroup_list))    \n",
    "    for dedupestatic,companyname,franchisename,companyindex,class_id,discretionary,division_id,group_id,subclass_id,channel,TransactionAmount,TransactionDate in zip(gf.Dedupegroup, gf.companyname, gf.franchisename,gf.companyindex,gf.class_id,gf.discretionary,gf.division_id,gf.group_id,gf.subclass_id,gf.channel,gf.TransactionAmount,gf.TransactionDate):\n",
    "\n",
    "        client_param_dict={\"dedupestatic\":dedupestatic}\n",
    "        company_param_dict={\"companyname\":companyname,\n",
    "                  \"franchisename\":franchisename,\n",
    "                  \"companyindex\":companyindex,\n",
    "                  \"class_id\":class_id,\n",
    "                  \"discretionary\":discretionary,\n",
    "                  \"division_id\":division_id,\n",
    "                  \"group_id\":group_id,\n",
    "                  \"subclass_id\":subclass_id,\n",
    "                  \"channel\":channel}\n",
    "        franchise_param_dict={\n",
    "              \"franchisename\":franchisename,\"companyname\":companyname,}\n",
    "        transaction_param_dict={\"dedupestatic\":dedupestatic,\n",
    "              \"franchisename\":franchisename,\n",
    "    #           \"companyindex\":companyindex,\n",
    "              \"amount\":amount,\n",
    "              \"date\":date}\n",
    "        owner_param_dict={\"companyname\":companyname,\n",
    "              \"franchisename\":franchisename}\n",
    "    #   ------------------------------------------------------------------------------------------\n",
    "        graph.run(\"MERGE (client:Client {dedupestatic:{dedupestatic}})\", client_param_dict)\n",
    "    #   ------------------------------------------------------------------------------------------    \n",
    "        graph.run(\"\"\"MERGE (franchise:Franchise \n",
    "        {\n",
    "        franchisename:{franchisename},\n",
    "        companyname:{companyname}})\n",
    "        \"\"\", franchise_param_dict)\n",
    "    #   ------------------------------------------------------------------------------------------\n",
    "        graph.run(\"\"\"\n",
    "        MERGE (company:Company \n",
    "        {\n",
    "        companyname: {companyname}, \n",
    "        companyindex: {companyindex}}) ON CREATE SET company.channel={channel},\n",
    "        company.class_id={class_id},\n",
    "        company.discretionary={discretionary},\n",
    "        company.division_id={division_id},\n",
    "        company.group_id={group_id},\n",
    "        company.subclass_id={subclass_id},\n",
    "        company.channel={channel}\n",
    "        \"\"\", company_param_dict)\n",
    "    #   ------------------------------------------------------------------------------------------\n",
    "        graph.run(\"\"\"MATCH (client:Client {dedupestatic:{dedupestatic}}),(franchise:Franchise { franchisename: {franchisename} })\n",
    "        MERGE (client)-[t:transacted]->(franchise)\n",
    "        ON CREATE SET t.amount=[{amount}], t.date=[{date}]\n",
    "        ON MATCH SET t.amount=t.amount+{amount}, t.date=t.date+{date}\"\"\", transaction_param_dict)\n",
    "    #   ------------------------------------------------------------------------------------------\n",
    "        graph.run(\"\"\"MATCH (franchise:Franchise {franchisename:{franchisename}}),(company:Company { companyname: {companyname} })\n",
    "        MERGE (franchise)-[t:owned]->(company)\"\"\", owner_param_dict)    "
   ]
  },
  {
   "cell_type": "code",
   "execution_count": null,
   "metadata": {},
   "outputs": [],
   "source": []
  },
  {
   "cell_type": "code",
   "execution_count": null,
   "metadata": {},
   "outputs": [],
   "source": [
    "dedupestatic=dedupegroup_list[0]\n",
    "companyname=list(gf.companyname)[0]\n",
    "franchisename=list(gf.franchisename)[0]\n",
    "companyindex=list(gf.companyindex)[0]\n",
    "class_id=list(gf.class_id)[0]\n",
    "discretionary=list(gf.discretionary)[0]\n",
    "division_id=list(gf.division_id)[0]\n",
    "group_id=list(gf.group_id)[0]\n",
    "subclass_id=list(gf.subclass_id)[0]\n",
    "channel=list(gf.channel)[0]\n",
    "amount=list(gf.TransactionAmount)[0]\n",
    "date=list(gf.TransactionDate)[0]\n",
    "# companyindex=list(gf.companyindex)[0]\n",
    "# class_id=list(gf.class_id)[0]\n",
    "# discretionary=list(gf.discretionary)[0]\n",
    "# division_id=list(gf.division_id)[0]\n",
    "# group_id=list(gf.group_id)[0]\n",
    "# subclass_id=list(gf.subclass_id)[0]\n",
    "# channel=list(gf.channel)[0]"
   ]
  },
  {
   "cell_type": "code",
   "execution_count": null,
   "metadata": {},
   "outputs": [],
   "source": []
  },
  {
   "cell_type": "code",
   "execution_count": null,
   "metadata": {},
   "outputs": [],
   "source": []
  },
  {
   "cell_type": "code",
   "execution_count": null,
   "metadata": {},
   "outputs": [],
   "source": [
    "client_param_dict={\"dedupestatic\":dedupestatic}"
   ]
  },
  {
   "cell_type": "code",
   "execution_count": null,
   "metadata": {},
   "outputs": [],
   "source": [
    "company_param_dict={\"companyname\":companyname,\n",
    "          \"franchisename\":franchisename,\n",
    "          \"companyindex\":companyindex,\n",
    "          \"class_id\":class_id,\n",
    "          \"discretionary\":discretionary,\n",
    "          \"division_id\":division_id,\n",
    "          \"group_id\":group_id,\n",
    "          \"subclass_id\":subclass_id,\n",
    "          \"channel\":channel}"
   ]
  },
  {
   "cell_type": "code",
   "execution_count": null,
   "metadata": {},
   "outputs": [],
   "source": [
    "franchise_param_dict={\n",
    "          \"franchisename\":franchisename,\"companyname\":companyname,}"
   ]
  },
  {
   "cell_type": "code",
   "execution_count": null,
   "metadata": {},
   "outputs": [],
   "source": [
    "transaction_param_dict={\"dedupestatic\":dedupestatic,\n",
    "          \"franchisename\":franchisename,\n",
    "#           \"companyindex\":companyindex,\n",
    "          \"amount\":amount,\n",
    "          \"date\":date}"
   ]
  },
  {
   "cell_type": "code",
   "execution_count": null,
   "metadata": {},
   "outputs": [],
   "source": [
    "owner_param_dict={\"companyname\":companyname,\n",
    "          \"franchisename\":franchisename}"
   ]
  },
  {
   "cell_type": "code",
   "execution_count": null,
   "metadata": {},
   "outputs": [],
   "source": [
    "graph.run(\"MERGE (client:Client {dedupestatic:{dedupestatic}})\", client_param_dict)"
   ]
  },
  {
   "cell_type": "code",
   "execution_count": null,
   "metadata": {},
   "outputs": [],
   "source": [
    "graph.run(\"\"\"\n",
    "MERGE (franchise:Franchise \n",
    "{\n",
    "franchisename:{franchisename},\n",
    "companyname:{companyname}})\n",
    "\"\"\", franchise_param_dict)"
   ]
  },
  {
   "cell_type": "code",
   "execution_count": null,
   "metadata": {},
   "outputs": [],
   "source": [
    "graph.run(\"\"\"\n",
    "MERGE (company:Company \n",
    "{\n",
    "companyname: {companyname}, \n",
    "companyindex: {companyindex}}) ON CREATE SET company.channel={channel},\n",
    "company.class_id={class_id},\n",
    "company.discretionary={discretionary},\n",
    "company.division_id={division_id},\n",
    "company.group_id={group_id},\n",
    "company.subclass_id={subclass_id},\n",
    "company.channel={channel}\n",
    "\"\"\", company_param_dict)"
   ]
  },
  {
   "cell_type": "code",
   "execution_count": null,
   "metadata": {},
   "outputs": [],
   "source": [
    "graph.run(\"\"\"MATCH (client:Client {dedupestatic:{dedupestatic}}),(franchise:Franchise { franchisename: {franchisename} })\n",
    "MERGE (client)-[t:transacted]->(franchise)\n",
    "ON CREATE SET t.amount=[{amount}], t.date=[{date}]\n",
    "ON MATCH SET t.amount=t.amount+{amount}, t.date=t.date+{date}\"\"\", transaction_param_dict)\n"
   ]
  },
  {
   "cell_type": "code",
   "execution_count": null,
   "metadata": {},
   "outputs": [],
   "source": [
    "graph.run(\"\"\"MATCH (franchise:Franchise {franchisename:{franchisename}}),(company:Company { companyname: {companyname} })\n",
    "MERGE (franchise)-[t:owned]->(company)\"\"\", owner_param_dict)"
   ]
  },
  {
   "cell_type": "code",
   "execution_count": null,
   "metadata": {},
   "outputs": [],
   "source": []
  }
 ],
 "metadata": {
  "kernelspec": {
   "display_name": "Python 3",
   "language": "python",
   "name": "python3"
  },
  "language_info": {
   "codemirror_mode": {
    "name": "ipython",
    "version": 3
   },
   "file_extension": ".py",
   "mimetype": "text/x-python",
   "name": "python",
   "nbconvert_exporter": "python",
   "pygments_lexer": "ipython3",
   "version": "3.7.6"
  }
 },
 "nbformat": 4,
 "nbformat_minor": 4
}

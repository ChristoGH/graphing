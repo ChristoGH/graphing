{
 "cells": [
  {
   "cell_type": "code",
   "execution_count": 1,
   "metadata": {},
   "outputs": [],
   "source": [
    "import pandas as pd\n",
    "from py2neo import Graph\n",
    "graph = Graph(\"bolt://localhost:7687\", user='neo4j', password='newPassword')\n",
    "# graph = Graph()"
   ]
  },
  {
   "cell_type": "code",
   "execution_count": 2,
   "metadata": {},
   "outputs": [],
   "source": [
    "import matplotlib \n",
    "import matplotlib.pyplot as plt"
   ]
  },
  {
   "cell_type": "markdown",
   "metadata": {},
   "source": [
    "### Part 1, EDA"
   ]
  },
  {
   "cell_type": "markdown",
   "metadata": {},
   "source": [
    "#### Let's drill down into the Nedbank Behaviour db. How many nodes do we have for each label?"
   ]
  },
  {
   "cell_type": "markdown",
   "metadata": {},
   "source": [
    "https://colab.research.google.com/github/neo4j-contrib/training-v2/blob/master/Courses/DataScience/notebooks/02_EDA.ipynb#scrollTo=0r69d4ek5huR"
   ]
  },
  {
   "cell_type": "code",
   "execution_count": 3,
   "metadata": {},
   "outputs": [
    {
     "data": {
      "text/html": [
       "<div>\n",
       "<style scoped>\n",
       "    .dataframe tbody tr th:only-of-type {\n",
       "        vertical-align: middle;\n",
       "    }\n",
       "\n",
       "    .dataframe tbody tr th {\n",
       "        vertical-align: top;\n",
       "    }\n",
       "\n",
       "    .dataframe thead th {\n",
       "        text-align: right;\n",
       "    }\n",
       "</style>\n",
       "<table border=\"1\" class=\"dataframe\">\n",
       "  <thead>\n",
       "    <tr style=\"text-align: right;\">\n",
       "      <th></th>\n",
       "      <th>label</th>\n",
       "      <th>count</th>\n",
       "    </tr>\n",
       "  </thead>\n",
       "  <tbody>\n",
       "    <tr>\n",
       "      <th>1</th>\n",
       "      <td>Merchant</td>\n",
       "      <td>578685</td>\n",
       "    </tr>\n",
       "    <tr>\n",
       "      <th>0</th>\n",
       "      <td>Client</td>\n",
       "      <td>2216269</td>\n",
       "    </tr>\n",
       "  </tbody>\n",
       "</table>\n",
       "</div>"
      ],
      "text/plain": [
       "      label    count\n",
       "1  Merchant   578685\n",
       "0    Client  2216269"
      ]
     },
     "execution_count": 3,
     "metadata": {},
     "output_type": "execute_result"
    }
   ],
   "source": [
    "# https://neo4j.com/graphacademy/online-training/data-science/part-2/\n",
    "result = {\"label\": [], \"count\": []}\n",
    "for label in graph.run(\"CALL db.labels()\").to_series():\n",
    "    query = f\"MATCH (:`{label}`) RETURN count(*) as count\"\n",
    "    count = graph.run(query).to_data_frame().iloc[0]['count']\n",
    "    result[\"label\"].append(label)\n",
    "    result[\"count\"].append(count)\n",
    "nodes_df = pd.DataFrame(data=result)\n",
    "nodes_df.sort_values(\"count\")"
   ]
  },
  {
   "cell_type": "markdown",
   "metadata": {},
   "source": [
    "#### Visualize counts:"
   ]
  },
  {
   "cell_type": "code",
   "execution_count": null,
   "metadata": {},
   "outputs": [],
   "source": [
    "nodes_df.plot(kind='bar', x='label', y='count', legend=None, title=\"Node Cardinalities\")\n",
    "plt.yscale(\"log\")\n",
    "plt.xticks(rotation=45)\n",
    "plt.tight_layout()\n",
    "plt.show()"
   ]
  },
  {
   "cell_type": "markdown",
   "metadata": {},
   "source": [
    "#### Here are the types of relationships and their counts in the db:"
   ]
  },
  {
   "cell_type": "code",
   "execution_count": null,
   "metadata": {},
   "outputs": [],
   "source": [
    "result = {\"relType\": [], \"count\": []}\n",
    "for relationship_type in graph.run(\"CALL db.relationshipTypes()\").to_series():\n",
    "    query = f\"MATCH ()-[:`{relationship_type}`]->() RETURN count(*) as count\"\n",
    "    count = graph.run(query).to_data_frame().iloc[0]['count']\n",
    "    result[\"relType\"].append(relationship_type)\n",
    "    result[\"count\"].append(count)\n",
    "rels_df = pd.DataFrame(data=result)\n",
    "rels_df.sort_values(\"count\")"
   ]
  },
  {
   "cell_type": "markdown",
   "metadata": {},
   "source": [
    "#### Visualize relationship cardinalities:"
   ]
  },
  {
   "cell_type": "code",
   "execution_count": null,
   "metadata": {},
   "outputs": [],
   "source": [
    "rels_df.plot(kind='bar', x='relType', y='count', legend=None, title=\"Relationship Cardinalities\")\n",
    "plt.xticks(rotation=45)\n",
    "plt.tight_layout()\n",
    "plt.show()"
   ]
  },
  {
   "cell_type": "markdown",
   "metadata": {},
   "source": [
    "#### Now let's explore the Merchant data. "
   ]
  },
  {
   "cell_type": "markdown",
   "metadata": {},
   "source": [
    "Now let's explore the transaction data in more detail.  We need to zoom in on one Merchant. The following query finds Dsichem and Dischem Dainfern Square in particular, the uniqe clients that vistited this merchant, the number of unique Nedbank Clients that visited the Merchant (Merchant1) and then any other Merchant (Merchant2) thi client may have visited and how many unique clients (merchant2_transactions) transacted at Merchant 2:"
   ]
  },
  {
   "cell_type": "code",
   "execution_count": null,
   "metadata": {},
   "outputs": [],
   "source": [
    "exploratory_query = \"\"\"\n",
    "MATCH (merchant1:Merchant {franchisename:'DIS-CHEM DAINFERN'})<-[:TRANSACTED_AT]-(client:Client)-[:TRANSACTED_AT]->(merchant2:Merchant)\n",
    "WHERE merchant1<>merchant2\n",
    "RETURN merchant1.franchisename AS merchant1, client.dedupestatic AS dedupestatic,  merchant2.franchisename AS merchant2, \n",
    "       size((merchant1)-[:TRANSACTED_AT]-()) AS merchant1_transactions, \n",
    "       size((merchant2)-[:TRANSACTED_AT]-()) AS merchant2_transactions\n",
    "ORDER BY rand()\n",
    "\"\"\"\n",
    "\n",
    "graph.run(exploratory_query).to_data_frame()"
   ]
  },
  {
   "cell_type": "code",
   "execution_count": null,
   "metadata": {},
   "outputs": [],
   "source": [
    "exploratory_query = \"\"\"\n",
    "MATCH (merchant1:Merchant {franchisename:'DIS-CHEM DAINFERN'})<-[:TRANSACTED_AT]-()-[:TRANSACTED_AT]->(merchant2:Merchant)\n",
    "WHERE merchant1<>merchant2\n",
    "RETURN merchant1.franchisename AS merchant1, merchant2.franchisename AS merchant2, \n",
    "       size((merchant1)-[:TRANSACTED_AT]-()) AS merchant1_transactions, \n",
    "       size((merchant2)-[:TRANSACTED_AT]-()) AS merchant2_transactions\n",
    "ORDER BY rand()\n",
    "\"\"\"\n",
    "\n",
    "graph.run(exploratory_query).to_data_frame()"
   ]
  },
  {
   "cell_type": "code",
   "execution_count": null,
   "metadata": {},
   "outputs": [],
   "source": [
    "query = \"\"\"\n",
    "MATCH (m:Merchant {companyname:'DISCHEM'})-[transaction:TRANSACTED_AT]-(client:Client)\n",
    "RETURN m.franchisename AS Merchant, count(transaction) AS transactions\n",
    "\"\"\"\n",
    "\n",
    "citation_df = graph.run(query).to_data_frame()\n",
    "citation_df.describe([.25, .5, .75, .9, .99])"
   ]
  },
  {
   "cell_type": "code",
   "execution_count": null,
   "metadata": {},
   "outputs": [],
   "source": [
    "citation_df"
   ]
  },
  {
   "cell_type": "markdown",
   "metadata": {},
   "source": [
    "#### Find popular first-degree merchants ('friends' linked via customers):"
   ]
  },
  {
   "cell_type": "markdown",
   "metadata": {},
   "source": [
    "How many unique client transaction at this merchant?"
   ]
  },
  {
   "cell_type": "code",
   "execution_count": null,
   "metadata": {},
   "outputs": [],
   "source": [
    "popular_merchants_query = \"\"\"\n",
    "MATCH (merchant1:Merchant {franchisename:'DIS-CHEM DAINFERN'})<-[:TRANSACTED_AT]-(client)\n",
    "RETURN count(client) AS uniqueClients\n",
    "\"\"\"\n",
    "\n",
    "graph.run(popular_merchants_query).to_data_frame()"
   ]
  },
  {
   "cell_type": "markdown",
   "metadata": {},
   "source": [
    "Here we look at the number of customer transactions at first degree merchants:"
   ]
  },
  {
   "cell_type": "code",
   "execution_count": null,
   "metadata": {},
   "outputs": [],
   "source": [
    "popular_merchants_query = \"\"\"\n",
    "MATCH (merchant1:Merchant {franchisename:'DIS-CHEM DAINFERN'})<-[:TRANSACTED_AT]-()-[merchantTransactions:TRANSACTED_AT]->(merchant2:Merchant)\n",
    "WHERE merchant1<>merchant2\n",
    "RETURN DISTINCT(merchant2.franchisename) AS first_degree_merchant, \n",
    "       count(merchantTransactions) AS first_degree_merchant_transactions\n",
    "ORDER BY first_degree_merchant_transactions DESC\n",
    "\"\"\"\n",
    "\n",
    "graph.run(popular_merchants_query).to_data_frame()"
   ]
  },
  {
   "cell_type": "code",
   "execution_count": null,
   "metadata": {},
   "outputs": [],
   "source": [
    "popular_fd=graph.run(popular_merchants_query).to_data_frame()"
   ]
  },
  {
   "cell_type": "code",
   "execution_count": null,
   "metadata": {},
   "outputs": [],
   "source": [
    "fig1, ax1 = plt.subplots()\n",
    "ax1.hist(pd.Series(popular_fd['first_degree_merchant_transactions'].dropna()), 1250, density=True, facecolor='g', alpha=0.75)\n",
    "ax1.set_xscale(\"log\")\n",
    "plt.tight_layout()\n",
    "plt.show()"
   ]
  },
  {
   "cell_type": "markdown",
   "metadata": {},
   "source": [
    "#### There is almost a 50% chance of a Dischem DSQ shopper shopping at a PNP DSQ too!  ie, a dischem shopper made their way to PNP 1/2 times."
   ]
  },
  {
   "cell_type": "markdown",
   "metadata": {},
   "source": [
    "Choose the most popular fisrt degree merchant (to DIS-CHEM dainfern) (Check the spelling!):"
   ]
  },
  {
   "cell_type": "code",
   "execution_count": null,
   "metadata": {},
   "outputs": [],
   "source": [
    "merchantName='PNP CRP DEINFERN SQUAR'"
   ]
  },
  {
   "cell_type": "markdown",
   "metadata": {},
   "source": [
    "How many unique customer transaction to this merchant:"
   ]
  },
  {
   "cell_type": "code",
   "execution_count": null,
   "metadata": {},
   "outputs": [],
   "source": [
    "popular_merchants_query = \"\"\"\n",
    "MATCH (merchant1:Merchant {franchisename:$merchantName})<-[:TRANSACTED_AT]-(client)\n",
    "RETURN count(client) AS uniqueClients\n",
    "\"\"\"\n",
    "graph.run(popular_merchants_query, {\"merchantName\": merchantName}).to_data_frame()"
   ]
  },
  {
   "cell_type": "markdown",
   "metadata": {},
   "source": [
    "Now.  Take 'PNP CRP DEINFERN SQUAR' as merchant zero and extract its first degree merchant friends:"
   ]
  },
  {
   "cell_type": "code",
   "execution_count": null,
   "metadata": {},
   "outputs": [],
   "source": [
    "popular_merchants_query = \"\"\"\n",
    "MATCH (merchant1:Merchant {franchisename:$merchantName})<-[:TRANSACTED_AT]-()-[merchantTransactions:TRANSACTED_AT]->(merchant2:Merchant)\n",
    "WHERE merchant1<>merchant2\n",
    "RETURN DISTINCT(merchant2.franchisename) AS merchant2, \n",
    "       count(merchantTransactions) AS merchant2_transactions\n",
    "ORDER BY merchant2_transactions DESC\n",
    "\"\"\"\n",
    "\n",
    "graph.run(popular_merchants_query, {\"merchantName\": merchantName}).to_data_frame()"
   ]
  },
  {
   "cell_type": "markdown",
   "metadata": {},
   "source": [
    "There is hence a less that 30% (116/383) chance of a client visiting PNP and Dischem at this mall, ie all the PNP shoppers less than 1/3 made their way to Dischem.  But the probability of PNP-WW is also less (112/383) than DISCHEM-WW (111/252)"
   ]
  },
  {
   "cell_type": "markdown",
   "metadata": {},
   "source": [
    "#### Carry on with DSQ merchant, PNP CRP DEINFERN SQUAR."
   ]
  },
  {
   "cell_type": "code",
   "execution_count": null,
   "metadata": {},
   "outputs": [],
   "source": []
  },
  {
   "cell_type": "markdown",
   "metadata": {},
   "source": [
    "#### Merchant of Merchant transactions"
   ]
  },
  {
   "cell_type": "code",
   "execution_count": null,
   "metadata": {},
   "outputs": [],
   "source": [
    "merchantName='PNP CRP DEINFERN SQUAR'\n",
    "merchantName_clients = \"\"\"\n",
    "MATCH (merchant:Merchant {franchisename: $merchantName})<-[:TRANSACTED_AT]-(client:Client)\n",
    "RETURN client.dedupestatic AS client, size((client)-[:TRANSACTED_AT]-(merchant)) AS merchantTransactions,\n",
    "size((client)-[:TRANSACTED_AT]-()) AS momTransactions\n",
    "ORDER BY momTransactions DESC\n",
    "LIMIT 20\n",
    "\"\"\"\n",
    "\n",
    "graph.run(merchantName_clients,  {\"merchantName\": merchantName}).to_data_frame()"
   ]
  },
  {
   "cell_type": "markdown",
   "metadata": {},
   "source": [
    "### Find the co-merchants, the merchant-of-merchants"
   ]
  },
  {
   "cell_type": "code",
   "execution_count": null,
   "metadata": {},
   "outputs": [],
   "source": [
    "merchantName='PNP CRP DEINFERN SQUAR'\n",
    "collaborations_query = \"\"\"\n",
    "MATCH (:Merchant {franchisename: $merchantName})<-[:TRANSACTED_AT]-(client)-[:TRANSACTED_AT]->(momMerchant:Merchant)\n",
    "RETURN momMerchant.franchisename AS momMerchant, count(*) AS coMerchantsCount\n",
    "ORDER BY coMerchantsCount DESC\n",
    "LIMIT 10\n",
    "\"\"\"\n",
    "\n",
    "graph.run(collaborations_query,  {\"merchantName\": merchantName}).to_data_frame()"
   ]
  },
  {
   "cell_type": "markdown",
   "metadata": {},
   "source": [
    "### cocMerchants:"
   ]
  },
  {
   "cell_type": "markdown",
   "metadata": {},
   "source": [
    "## Recommendations"
   ]
  },
  {
   "cell_type": "markdown",
   "metadata": {},
   "source": [
    "### Page Ranking"
   ]
  },
  {
   "cell_type": "markdown",
   "metadata": {},
   "source": [
    "Copy of 03_Recommendations_Part1.ipynb"
   ]
  },
  {
   "cell_type": "markdown",
   "metadata": {},
   "source": [
    "https://www.cs.princeton.edu/~chazelle/courses/BIB/pagerank.htm"
   ]
  },
  {
   "cell_type": "markdown",
   "metadata": {},
   "source": [
    "PageRank is an algorithm that measures the transitive influence or connectivity of nodes. It can be computed by either iteratively distributing one node’s rank (originally based on degree) over its neighbors or by randomly traversing the graph and counting the frequency of hitting each node during these walks.\n",
    "\n",
    "The following PageRank code is run over the whole graph to find out the most influential Merchant in terms of transactions:"
   ]
  },
  {
   "cell_type": "markdown",
   "metadata": {},
   "source": [
    "#### Find popular merchants:"
   ]
  },
  {
   "cell_type": "code",
   "execution_count": null,
   "metadata": {},
   "outputs": [],
   "source": [
    "popular_merchants_query = \"\"\"\n",
    "MATCH (merchant:Merchant)\n",
    "RETURN merchant.franchisename, size((merchant)<-[:TRANSACTED_AT]-()) AS transactions\n",
    "ORDER BY transactions DESC\n",
    "LIMIT 10\n",
    "\"\"\"\n",
    "\n",
    "graph.run(popular_merchants_query).to_data_frame()"
   ]
  },
  {
   "cell_type": "markdown",
   "metadata": {},
   "source": [
    "#### Pick one merchant, 'franchisename:'DIS-CHEM DAINFERN' "
   ]
  },
  {
   "cell_type": "code",
   "execution_count": null,
   "metadata": {},
   "outputs": [],
   "source": [
    "franchisename='DIS-CHEM DAINFERN'"
   ]
  },
  {
   "cell_type": "code",
   "execution_count": null,
   "metadata": {},
   "outputs": [],
   "source": [
    "query = \"\"\"\n",
    "MATCH (m:Merchant {franchisename:$franchisename})\n",
    "RETURN m.companyname\n",
    "\"\"\"\n",
    "graph.run(query, {\"franchisename\": franchisename}).to_data_frame()"
   ]
  },
  {
   "cell_type": "code",
   "execution_count": null,
   "metadata": {},
   "outputs": [],
   "source": [
    "query = \"\"\"\n",
    "    CALL db.index.fulltext.createNodeIndex('merchants', ['Merchant'], ['franchisename'])\n",
    "\"\"\"\n",
    "graph.run(query).data()"
   ]
  },
  {
   "cell_type": "code",
   "execution_count": null,
   "metadata": {},
   "outputs": [],
   "source": [
    "query = \"\"\"\n",
    "CALL db.indexes()\n",
    "YIELD name, uniqueness, type\n",
    "WHERE type = \"FULLTEXT\"\n",
    "RETURN *\n",
    "\"\"\"\n",
    "graph.run(query).to_data_frame()"
   ]
  },
  {
   "cell_type": "code",
   "execution_count": null,
   "metadata": {},
   "outputs": [],
   "source": [
    "query = \"\"\"\n",
    "CALL db.index.fulltext.queryNodes(\"merchants\", \"columbine\")\n",
    "YIELD node, score\n",
    "RETURN node.franchisename, score, [(client)-[:TRANSACTED_AT]-(node) | client.dedupestatic] AS clients\n",
    "LIMIT 10\n",
    "\"\"\"\n",
    "graph.run(query).to_data_frame()"
   ]
  },
  {
   "cell_type": "code",
   "execution_count": null,
   "metadata": {},
   "outputs": [],
   "source": [
    "query = \"\"\"\n",
    "CALL db.index.fulltext.queryNodes(\"merchant\", \"columbine\")\n",
    "YIELD node, score\n",
    "MATCH (node)-[:TRANSACTED_AT]-(client)\n",
    "RETURN author.name, sum(score) AS totalScore, collect(node.title) AS articles\n",
    "ORDER By totalScore DESC\n",
    "LIMIT 20\n",
    "\"\"\"\n",
    "\n",
    "graph.run(query).to_data_frame()"
   ]
  },
  {
   "cell_type": "code",
   "execution_count": null,
   "metadata": {},
   "outputs": [],
   "source": [
    "nodes = [n for n in result]"
   ]
  },
  {
   "cell_type": "code",
   "execution_count": null,
   "metadata": {},
   "outputs": [],
   "source": [
    "nodes"
   ]
  },
  {
   "cell_type": "code",
   "execution_count": null,
   "metadata": {},
   "outputs": [],
   "source": [
    "my_node = graph.run(\"\"\"MATCH (merchant:Merchant {companyname:'DISCHEM'})\n",
    "RETURN merchant \"\"\").data()"
   ]
  },
  {
   "cell_type": "code",
   "execution_count": null,
   "metadata": {},
   "outputs": [],
   "source": [
    "my_node"
   ]
  },
  {
   "cell_type": "code",
   "execution_count": null,
   "metadata": {},
   "outputs": [],
   "source": [
    "my_node = graph.run(\"\"\"MATCH (merchant:Merchant {franchisename:'DIS-CHEM DAINFERN'})-[:TRANSACTED_AT]-(c:Client) \n",
    "RETURN merchant.franchisename, c.dedupestatic \"\"\").data()"
   ]
  },
  {
   "cell_type": "code",
   "execution_count": null,
   "metadata": {},
   "outputs": [],
   "source": [
    "len(my_node)"
   ]
  },
  {
   "cell_type": "markdown",
   "metadata": {},
   "source": [
    "Retrieve the customers this merchant had and how many transactions they had:"
   ]
  },
  {
   "cell_type": "code",
   "execution_count": null,
   "metadata": {},
   "outputs": [],
   "source": [
    "author_articles_query = \"\"\"\n",
    "MATCH (:Merchant {franchisename: $franchisename})<-[:TRANSACTED_AT]-(client)\n",
    "RETURN client.dedupestatic AS client, size((client)-[:TRANSACTED_AT]->()) AS other_transactions\n",
    "ORDER BY other_transactions DESC\n",
    "LIMIT 20\n",
    "\"\"\"\n",
    "graph.run(author_articles_query,  {\"franchisename\": franchisename}).to_data_frame()"
   ]
  },
  {
   "cell_type": "markdown",
   "metadata": {},
   "source": [
    "Retrieve the customers this merchant had and how many other transactions they had:"
   ]
  },
  {
   "cell_type": "code",
   "execution_count": null,
   "metadata": {},
   "outputs": [],
   "source": [
    "author_articles_query = \"\"\"\n",
    "MATCH (merchant1:Merchant {franchisename: $franchisename})<-[:TRANSACTED_AT]-(client)-[:TRANSACTED_AT]->(merchant2)\n",
    "WHERE merchant1<>merchant2\n",
    "RETURN client.dedupestatic AS client, count((client)-[:TRANSACTED_AT]->(merchant2)) AS other_transactions\n",
    "ORDER BY other_transactions DESC\n",
    "LIMIT 20\n",
    "\"\"\"\n",
    "graph.run(author_articles_query,  {\"franchisename\": franchisename}).to_data_frame()"
   ]
  },
  {
   "cell_type": "code",
   "execution_count": null,
   "metadata": {},
   "outputs": [],
   "source": [
    "collaborations_query = \"\"\"\n",
    "MATCH (:Merchant {franchisename: $franchisename})<-[:TRANSACTED_AT]-(client)-[:TRANSACTED_AT]->(comerchant)\n",
    "RETURN comerchant.franchisename AS franchisename, count(*) AS cotransactions\n",
    "ORDER BY cotransactions DESC\n",
    "LIMIT 10\n",
    "\"\"\"\n",
    "\n",
    "graph.run(collaborations_query,  {\"franchisename\": franchisename}).to_data_frame()"
   ]
  },
  {
   "cell_type": "code",
   "execution_count": null,
   "metadata": {},
   "outputs": [],
   "source": [
    "my_node = graph.run(\"\"\"MATCH (dischem:Merchant {franchisename:'DIS-CHEM DAINFERN'})-[:TRANSACTED_AT]-(c:Client)-\n",
    "[:TRANSACTED_AT]-(other:Merchant)\n",
    "WHERE other.franchisename<>dischem.franchisename \n",
    "RETURN dischem.franchisename, c.dedupestatic, other.franchisename, other.companyname\"\"\").data()"
   ]
  },
  {
   "cell_type": "code",
   "execution_count": null,
   "metadata": {},
   "outputs": [],
   "source": [
    "my_node"
   ]
  },
  {
   "cell_type": "code",
   "execution_count": null,
   "metadata": {},
   "outputs": [],
   "source": [
    "my_node = graph.run(\"\"\"MATCH (dischem:Merchant {franchisename:'DIS-CHEM DAINFERN'})-[:TRANSACTED_AT]-(c:Client)-\n",
    "[:TRANSACTED_AT]-(other:Merchant)\n",
    "WHERE other.franchisename<>dischem.franchisename \n",
    "RETURN DISTINCT(c.dedupestatic), count(DISTINCT other)\"\"\").data()\n",
    "my_node"
   ]
  },
  {
   "cell_type": "code",
   "execution_count": null,
   "metadata": {},
   "outputs": [],
   "source": [
    "my_node = graph.run(\"\"\"MATCH (dischem:Merchant {franchisename:'DIS-CHEM DAINFERN'})-[:TRANSACTED_AT]-(c:Client)-\n",
    "[othertransaction:TRANSACTED_AT]-(other:Merchant)\n",
    "WHERE other.franchisename<>dischem.franchisename \n",
    "RETURN DISTINCT(other.franchisename) AS other_franchisename, count(othertransaction) AS number_transactions\"\"\").data()\n",
    "my_node"
   ]
  },
  {
   "cell_type": "code",
   "execution_count": null,
   "metadata": {},
   "outputs": [],
   "source": [
    "my_node = graph.run(\"\"\"MATCH (dischem:Merchant {franchisename:'DIS-CHEM DAINFERN'})-[:TRANSACTED_AT]-(c:Client)-\n",
    "[othertransaction:TRANSACTED_AT]-(other:Merchant)\n",
    "WHERE other.franchisename<>dischem.franchisename \n",
    "WITH other.franchisename AS other_franchisename, count(othertransaction) AS number_transactions \n",
    "RETURN DISTINCT(other_franchisename), number_transactions\"\"\").data()\n",
    "my_node"
   ]
  },
  {
   "cell_type": "code",
   "execution_count": null,
   "metadata": {},
   "outputs": [],
   "source": [
    "my_node = graph.run(\"\"\"MATCH (dischem:Merchant {franchisename:'DIS-CHEM DAINFERN'})-[:TRANSACTED_AT]-(c0:Client)\n",
    "MATCH (c1:Client {dedupestatic:'2.11279273006e+11'})  \n",
    "WHERE c0.dedupestatic <> c1.dedupestatic  \n",
    "RETURN gds.alpha.linkprediction.commonNeighbors(c0, c1)\"\"\").data()\n",
    "my_node"
   ]
  },
  {
   "cell_type": "code",
   "execution_count": null,
   "metadata": {},
   "outputs": [],
   "source": [
    "my_node = graph.run(\"\"\"MATCH (dischem:Merchant {franchisename:'DIS-CHEM DAINFERN'})-[:TRANSACTED_AT]-(c0:Client) \n",
    "MATCH (dischem:Merchant {franchisename:'DIS-CHEM DAINFERN'})-[:TRANSACTED_AT]-(c1:Client) \n",
    "WHERE c0.dedupestatic <> c1.dedupestatic AND gds.alpha.linkprediction.commonNeighbors(c0, c1)>5 \n",
    "RETURN c0.dedupestatic, c1.dedupestatic, gds.alpha.linkprediction.commonNeighbors(c0, c1) as commons\"\"\").data()\n",
    "my_node"
   ]
  },
  {
   "cell_type": "code",
   "execution_count": null,
   "metadata": {},
   "outputs": [],
   "source": [
    "my_node = graph.run(\"\"\"MATCH (dischem:Merchant {franchisename:'DIS-CHEM DAINFERN'})-[:TRANSACTED_AT]-(c0:Client)\n",
    "WITH collect(distinct c0) as clients \n",
    "MATCH (dischem:Merchant {franchisename:'DIS-CHEM DAINFERN'})-[:TRANSACTED_AT]-(c1:Client) \n",
    "WHERE c1 NOT in clients AND gds.alpha.linkprediction.commonNeighbors(c0, c1)>5 \n",
    "RETURN c0.dedupestatic, c1.dedupestatic\"\"\").data()\n",
    "my_node"
   ]
  },
  {
   "cell_type": "code",
   "execution_count": null,
   "metadata": {},
   "outputs": [],
   "source": [
    " MATCH (p1:Person {name: 'Michael'})\n",
    " MATCH (p2:Person {name: 'Karin'})\n",
    " RETURN gds.alpha.linkprediction.commonNeighbors(p1, p2) AS score"
   ]
  },
  {
   "cell_type": "code",
   "execution_count": null,
   "metadata": {},
   "outputs": [],
   "source": [
    "my_node = graph.run(\"\"\"MATCH (dischem:Merchant {franchisename:'DIS-CHEM DAINFERN'})-[:TRANSACTED_AT]-(c0:Client) \n",
    "MATCH (dischem:Merchant {franchisename:'DIS-CHEM DAINFERN'})-[:TRANSACTED_AT]-(c1:Client)\n",
    "WHERE c0.dedupestatic <> c1.dedupestatic  \n",
    "RETURN DISTINCT(c0.dedupestatic), DISTINCT(c1.dedupestatic)\"\"\").data()\n",
    "my_node"
   ]
  },
  {
   "cell_type": "markdown",
   "metadata": {},
   "source": [
    "#### Peek into the file:"
   ]
  },
  {
   "cell_type": "code",
   "execution_count": null,
   "metadata": {},
   "outputs": [],
   "source": [
    "my_node = graph.run(\"\"\"MATCH (merchant:Merchant {franchisename:'DIS-CHEM DAINFERN'})-[:TRANSACTED_AT]-(c:Client) \n",
    "RETURN merchant.franchisename, c.dedupestatic \"\"\").data()"
   ]
  },
  {
   "cell_type": "code",
   "execution_count": null,
   "metadata": {},
   "outputs": [],
   "source": [
    "data"
   ]
  },
  {
   "cell_type": "code",
   "execution_count": null,
   "metadata": {},
   "outputs": [],
   "source": [
    "# crimes_header.csv\n",
    "filename='/var/lib/neo4j/import/beats.csv'\n",
    "beats = pd.read_csv(filename,nrows=10)\n",
    "beats"
   ]
  },
  {
   "cell_type": "code",
   "execution_count": null,
   "metadata": {},
   "outputs": [],
   "source": [
    "# crimes_header.csv\n",
    "filename='/var/lib/neo4j/import/crimes_header.csv'\n",
    "crimes_header_csv = pd.read_csv(filename,nrows=10)\n",
    "crimes_header_csv"
   ]
  },
  {
   "cell_type": "code",
   "execution_count": null,
   "metadata": {},
   "outputs": [],
   "source": [
    "filename='/var/lib/neo4j/import/crimes.csv'\n",
    "crimes_csv = pd.read_csv(filename,nrows=10)\n",
    "crimes_csv"
   ]
  },
  {
   "cell_type": "code",
   "execution_count": 17,
   "metadata": {},
   "outputs": [],
   "source": [
    "import csv\n",
    "filename='/var/lib/neo4j/clientswipes_202003.csv'\n",
    "clientswipes_202003_csv = pd.read_csv(filename,nrows=3000000)"
   ]
  },
  {
   "cell_type": "code",
   "execution_count": 22,
   "metadata": {},
   "outputs": [
    {
     "data": {
      "text/plain": [
       "0          2020-03-01T00:00:00.000Z\n",
       "1          2020-03-01T00:00:00.000Z\n",
       "2          2020-03-01T00:00:00.000Z\n",
       "3          2020-03-01T00:00:00.000Z\n",
       "4          2020-03-01T00:00:00.000Z\n",
       "                     ...           \n",
       "2999995    2020-03-19T00:00:00.000Z\n",
       "2999996    2020-03-19T00:00:00.000Z\n",
       "2999997    2020-03-19T00:00:00.000Z\n",
       "2999998    2020-03-19T00:00:00.000Z\n",
       "2999999    2020-03-19T00:00:00.000Z\n",
       "Name: TransactionDate, Length: 3000000, dtype: object"
      ]
     },
     "execution_count": 22,
     "metadata": {},
     "output_type": "execute_result"
    }
   ],
   "source": [
    "clientswipes_202003_csv['TransactionDate']"
   ]
  },
  {
   "cell_type": "code",
   "execution_count": null,
   "metadata": {},
   "outputs": [],
   "source": [
    "    for row in csv_reader:\n",
    "        if line_count == 0:\n",
    "            print(f'Column names are {\", \".join(row)}')\n",
    "            line_count += 1\n",
    "        else:\n",
    "            print(f'\\t{row[0]} works in the {row[1]} department, and was born in {row[2]}.')\n",
    "            line_count += 1\n",
    "    print(f'Processed {line_count} lines.')"
   ]
  },
  {
   "cell_type": "code",
   "execution_count": null,
   "metadata": {},
   "outputs": [],
   "source": [
    "dedupegroup_list=list(set(df.Dedupegroup))"
   ]
  },
  {
   "cell_type": "code",
   "execution_count": null,
   "metadata": {},
   "outputs": [],
   "source": [
    "for dedupestatic in list(set(dedupegroup_list)):\n",
    "    print('Doing dedupestatic: ', dedupestatic, ' at index: ', dedupegroup_list.index(dedupestatic), ' of ', len(dedupegroup_list))        \n",
    "    client_param_dict={\"dedupestatic\":dedupestatic}\n",
    "    graph.run(\"MERGE (client:Client {dedupestatic:{dedupestatic}})\", client_param_dict)"
   ]
  },
  {
   "cell_type": "code",
   "execution_count": null,
   "metadata": {},
   "outputs": [],
   "source": [
    "for dedupe in dedupegroup_list:\n",
    "    gf=df[df.Dedupegroup==dedupe].copy()\n",
    "    print('Doing dedupestatic: ', dedupe, ' at index: ', dedupegroup_list.index(dedupe), ' of ', len(dedupegroup_list))    \n",
    "    for dedupestatic,companyname,franchisename,companyindex,class_id,discretionary,division_id,group_id,subclass_id,channel,TransactionAmount,TransactionDate in zip(gf.Dedupegroup, gf.companyname, gf.franchisename,gf.companyindex,gf.class_id,gf.discretionary,gf.division_id,gf.group_id,gf.subclass_id,gf.channel,gf.TransactionAmount,gf.TransactionDate):\n",
    "\n",
    "        client_param_dict={\"dedupestatic\":dedupestatic}\n",
    "        company_param_dict={\"companyname\":companyname,\n",
    "                  \"franchisename\":franchisename,\n",
    "                  \"companyindex\":companyindex,\n",
    "                  \"class_id\":class_id,\n",
    "                  \"discretionary\":discretionary,\n",
    "                  \"division_id\":division_id,\n",
    "                  \"group_id\":group_id,\n",
    "                  \"subclass_id\":subclass_id,\n",
    "                  \"channel\":channel}\n",
    "        franchise_param_dict={\n",
    "              \"franchisename\":franchisename,\"companyname\":companyname,}\n",
    "        transaction_param_dict={\"dedupestatic\":dedupestatic,\n",
    "              \"franchisename\":franchisename,\n",
    "    #           \"companyindex\":companyindex,\n",
    "              \"amount\":amount,\n",
    "              \"date\":date}\n",
    "        owner_param_dict={\"companyname\":companyname,\n",
    "              \"franchisename\":franchisename}\n",
    "    #   ------------------------------------------------------------------------------------------\n",
    "        graph.run(\"MERGE (client:Client {dedupestatic:{dedupestatic}})\", client_param_dict)\n",
    "    #   ------------------------------------------------------------------------------------------    \n",
    "        graph.run(\"\"\"MERGE (franchise:Franchise \n",
    "        {\n",
    "        franchisename:{franchisename},\n",
    "        companyname:{companyname}})\n",
    "        \"\"\", franchise_param_dict)\n",
    "    #   ------------------------------------------------------------------------------------------\n",
    "        graph.run(\"\"\"\n",
    "        MERGE (company:Company \n",
    "        {\n",
    "        companyname: {companyname}, \n",
    "        companyindex: {companyindex}}) ON CREATE SET company.channel={channel},\n",
    "        company.class_id={class_id},\n",
    "        company.discretionary={discretionary},\n",
    "        company.division_id={division_id},\n",
    "        company.group_id={group_id},\n",
    "        company.subclass_id={subclass_id},\n",
    "        company.channel={channel}\n",
    "        \"\"\", company_param_dict)\n",
    "    #   ------------------------------------------------------------------------------------------\n",
    "        graph.run(\"\"\"MATCH (client:Client {dedupestatic:{dedupestatic}}),(franchise:Franchise { franchisename: {franchisename} })\n",
    "        MERGE (client)-[t:transacted]->(franchise)\n",
    "        ON CREATE SET t.amount=[{amount}], t.date=[{date}]\n",
    "        ON MATCH SET t.amount=t.amount+{amount}, t.date=t.date+{date}\"\"\", transaction_param_dict)\n",
    "    #   ------------------------------------------------------------------------------------------\n",
    "        graph.run(\"\"\"MATCH (franchise:Franchise {franchisename:{franchisename}}),(company:Company { companyname: {companyname} })\n",
    "        MERGE (franchise)-[t:owned]->(company)\"\"\", owner_param_dict)    "
   ]
  },
  {
   "cell_type": "code",
   "execution_count": null,
   "metadata": {},
   "outputs": [],
   "source": []
  },
  {
   "cell_type": "code",
   "execution_count": null,
   "metadata": {},
   "outputs": [],
   "source": [
    "dedupestatic=dedupegroup_list[0]\n",
    "companyname=list(gf.companyname)[0]\n",
    "franchisename=list(gf.franchisename)[0]\n",
    "companyindex=list(gf.companyindex)[0]\n",
    "class_id=list(gf.class_id)[0]\n",
    "discretionary=list(gf.discretionary)[0]\n",
    "division_id=list(gf.division_id)[0]\n",
    "group_id=list(gf.group_id)[0]\n",
    "subclass_id=list(gf.subclass_id)[0]\n",
    "channel=list(gf.channel)[0]\n",
    "amount=list(gf.TransactionAmount)[0]\n",
    "date=list(gf.TransactionDate)[0]\n",
    "# companyindex=list(gf.companyindex)[0]\n",
    "# class_id=list(gf.class_id)[0]\n",
    "# discretionary=list(gf.discretionary)[0]\n",
    "# division_id=list(gf.division_id)[0]\n",
    "# group_id=list(gf.group_id)[0]\n",
    "# subclass_id=list(gf.subclass_id)[0]\n",
    "# channel=list(gf.channel)[0]"
   ]
  },
  {
   "cell_type": "code",
   "execution_count": null,
   "metadata": {},
   "outputs": [],
   "source": []
  },
  {
   "cell_type": "code",
   "execution_count": null,
   "metadata": {},
   "outputs": [],
   "source": []
  },
  {
   "cell_type": "code",
   "execution_count": null,
   "metadata": {},
   "outputs": [],
   "source": [
    "client_param_dict={\"dedupestatic\":dedupestatic}"
   ]
  },
  {
   "cell_type": "code",
   "execution_count": null,
   "metadata": {},
   "outputs": [],
   "source": [
    "company_param_dict={\"companyname\":companyname,\n",
    "          \"franchisename\":franchisename,\n",
    "          \"companyindex\":companyindex,\n",
    "          \"class_id\":class_id,\n",
    "          \"discretionary\":discretionary,\n",
    "          \"division_id\":division_id,\n",
    "          \"group_id\":group_id,\n",
    "          \"subclass_id\":subclass_id,\n",
    "          \"channel\":channel}"
   ]
  },
  {
   "cell_type": "code",
   "execution_count": null,
   "metadata": {},
   "outputs": [],
   "source": [
    "franchise_param_dict={\n",
    "          \"franchisename\":franchisename,\"companyname\":companyname,}"
   ]
  },
  {
   "cell_type": "code",
   "execution_count": null,
   "metadata": {},
   "outputs": [],
   "source": [
    "transaction_param_dict={\"dedupestatic\":dedupestatic,\n",
    "          \"franchisename\":franchisename,\n",
    "#           \"companyindex\":companyindex,\n",
    "          \"amount\":amount,\n",
    "          \"date\":date}"
   ]
  },
  {
   "cell_type": "code",
   "execution_count": null,
   "metadata": {},
   "outputs": [],
   "source": [
    "owner_param_dict={\"companyname\":companyname,\n",
    "          \"franchisename\":franchisename}"
   ]
  },
  {
   "cell_type": "code",
   "execution_count": null,
   "metadata": {},
   "outputs": [],
   "source": [
    "graph.run(\"MERGE (client:Client {dedupestatic:{dedupestatic}})\", client_param_dict)"
   ]
  },
  {
   "cell_type": "code",
   "execution_count": null,
   "metadata": {},
   "outputs": [],
   "source": [
    "graph.run(\"\"\"\n",
    "MERGE (franchise:Franchise \n",
    "{\n",
    "franchisename:{franchisename},\n",
    "companyname:{companyname}})\n",
    "\"\"\", franchise_param_dict)"
   ]
  },
  {
   "cell_type": "code",
   "execution_count": null,
   "metadata": {},
   "outputs": [],
   "source": [
    "graph.run(\"\"\"\n",
    "MERGE (company:Company \n",
    "{\n",
    "companyname: {companyname}, \n",
    "companyindex: {companyindex}}) ON CREATE SET company.channel={channel},\n",
    "company.class_id={class_id},\n",
    "company.discretionary={discretionary},\n",
    "company.division_id={division_id},\n",
    "company.group_id={group_id},\n",
    "company.subclass_id={subclass_id},\n",
    "company.channel={channel}\n",
    "\"\"\", company_param_dict)"
   ]
  },
  {
   "cell_type": "code",
   "execution_count": null,
   "metadata": {},
   "outputs": [],
   "source": [
    "graph.run(\"\"\"MATCH (client:Client {dedupestatic:{dedupestatic}}),(franchise:Franchise { franchisename: {franchisename} })\n",
    "MERGE (client)-[t:transacted]->(franchise)\n",
    "ON CREATE SET t.amount=[{amount}], t.date=[{date}]\n",
    "ON MATCH SET t.amount=t.amount+{amount}, t.date=t.date+{date}\"\"\", transaction_param_dict)\n"
   ]
  },
  {
   "cell_type": "code",
   "execution_count": null,
   "metadata": {},
   "outputs": [],
   "source": [
    "graph.run(\"\"\"MATCH (franchise:Franchise {franchisename:{franchisename}}),(company:Company { companyname: {companyname} })\n",
    "MERGE (franchise)-[t:owned]->(company)\"\"\", owner_param_dict)"
   ]
  },
  {
   "cell_type": "code",
   "execution_count": null,
   "metadata": {},
   "outputs": [],
   "source": []
  }
 ],
 "metadata": {
  "kernelspec": {
   "display_name": "Python 3",
   "language": "python",
   "name": "python3"
  },
  "language_info": {
   "codemirror_mode": {
    "name": "ipython",
    "version": 3
   },
   "file_extension": ".py",
   "mimetype": "text/x-python",
   "name": "python",
   "nbconvert_exporter": "python",
   "pygments_lexer": "ipython3",
   "version": "3.7.6"
  }
 },
 "nbformat": 4,
 "nbformat_minor": 4
}

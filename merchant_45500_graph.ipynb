{
 "cells": [
  {
   "cell_type": "markdown",
   "metadata": {},
   "source": [
    "\n",
    "### This is the graph of fuel spend.  \n",
    "The database work was done in __/media/lnr-ai/christo/github_repos/graphing/project_45500.cql__ \n",
    "\n",
    "In this work we aim to achieve the following:\n",
    "Merchant rank each of the fuel station communities where the member count is greater than 4."
   ]
  },
  {
   "cell_type": "markdown",
   "metadata": {},
   "source": [
    "Load libraries:"
   ]
  },
  {
   "cell_type": "code",
   "execution_count": 70,
   "metadata": {},
   "outputs": [],
   "source": [
    "import pandas as pd\n",
    "from py2neo import Graph\n",
    "graph = Graph(\"bolt://localhost:7687\", user='neo4j', password='newPassword')\n",
    "import time\n",
    "import glob\n",
    "import os"
   ]
  },
  {
   "cell_type": "markdown",
   "metadata": {},
   "source": [
    "### Merchant ranking"
   ]
  },
  {
   "cell_type": "markdown",
   "metadata": {},
   "source": [
    "The following needs to run only once. It creates a parameter  called __merchantRank_45500__ on each of the fuel station merchant nodes that belongs to a community of fuel stations where the member counts is more than some minimum.  "
   ]
  },
  {
   "cell_type": "markdown",
   "metadata": {},
   "source": [
    "This portion of the script only needs to run only once\n",
    "\n",
    "Define neo4j query to extract all fuel station communities as created in /media/lnr-ai/christo/github_repos/graphing/project_45500.cql.  Draw the community number and the member count:"
   ]
  },
  {
   "cell_type": "code",
   "execution_count": 71,
   "metadata": {},
   "outputs": [],
   "source": [
    "neo4j_query=\"\"\"\n",
    "MATCH (m:Merchant {subclass_id:45500})\n",
    "RETURN COUNT(m.merchant_45500_community) as membercount, m.merchant_45500_community as merchant_45500_community\n",
    "ORDER BY membercount ASC;\n",
    "\"\"\"\n",
    "merchant_rank_df=graph.run(neo4j_query).to_data_frame()"
   ]
  },
  {
   "cell_type": "markdown",
   "metadata": {},
   "source": [
    "View this dataframe:"
   ]
  },
  {
   "cell_type": "code",
   "execution_count": 72,
   "metadata": {},
   "outputs": [
    {
     "data": {
      "text/html": [
       "<div>\n",
       "<style scoped>\n",
       "    .dataframe tbody tr th:only-of-type {\n",
       "        vertical-align: middle;\n",
       "    }\n",
       "\n",
       "    .dataframe tbody tr th {\n",
       "        vertical-align: top;\n",
       "    }\n",
       "\n",
       "    .dataframe thead th {\n",
       "        text-align: right;\n",
       "    }\n",
       "</style>\n",
       "<table border=\"1\" class=\"dataframe\">\n",
       "  <thead>\n",
       "    <tr style=\"text-align: right;\">\n",
       "      <th></th>\n",
       "      <th>membercount</th>\n",
       "      <th>merchant_45500_community</th>\n",
       "    </tr>\n",
       "  </thead>\n",
       "  <tbody>\n",
       "    <tr>\n",
       "      <th>0</th>\n",
       "      <td>1</td>\n",
       "      <td>0</td>\n",
       "    </tr>\n",
       "    <tr>\n",
       "      <th>1</th>\n",
       "      <td>1</td>\n",
       "      <td>11373</td>\n",
       "    </tr>\n",
       "    <tr>\n",
       "      <th>2</th>\n",
       "      <td>1</td>\n",
       "      <td>4</td>\n",
       "    </tr>\n",
       "    <tr>\n",
       "      <th>3</th>\n",
       "      <td>1</td>\n",
       "      <td>11374</td>\n",
       "    </tr>\n",
       "    <tr>\n",
       "      <th>4</th>\n",
       "      <td>1</td>\n",
       "      <td>5</td>\n",
       "    </tr>\n",
       "    <tr>\n",
       "      <th>...</th>\n",
       "      <td>...</td>\n",
       "      <td>...</td>\n",
       "    </tr>\n",
       "    <tr>\n",
       "      <th>8155</th>\n",
       "      <td>205</td>\n",
       "      <td>1938</td>\n",
       "    </tr>\n",
       "    <tr>\n",
       "      <th>8156</th>\n",
       "      <td>227</td>\n",
       "      <td>4018</td>\n",
       "    </tr>\n",
       "    <tr>\n",
       "      <th>8157</th>\n",
       "      <td>237</td>\n",
       "      <td>2776</td>\n",
       "    </tr>\n",
       "    <tr>\n",
       "      <th>8158</th>\n",
       "      <td>268</td>\n",
       "      <td>6821</td>\n",
       "    </tr>\n",
       "    <tr>\n",
       "      <th>8159</th>\n",
       "      <td>320</td>\n",
       "      <td>3005</td>\n",
       "    </tr>\n",
       "  </tbody>\n",
       "</table>\n",
       "<p>8160 rows × 2 columns</p>\n",
       "</div>"
      ],
      "text/plain": [
       "      membercount  merchant_45500_community\n",
       "0               1                         0\n",
       "1               1                     11373\n",
       "2               1                         4\n",
       "3               1                     11374\n",
       "4               1                         5\n",
       "...           ...                       ...\n",
       "8155          205                      1938\n",
       "8156          227                      4018\n",
       "8157          237                      2776\n",
       "8158          268                      6821\n",
       "8159          320                      3005\n",
       "\n",
       "[8160 rows x 2 columns]"
      ]
     },
     "execution_count": 72,
     "metadata": {},
     "output_type": "execute_result"
    }
   ],
   "source": [
    "merchant_rank_df"
   ]
  },
  {
   "cell_type": "markdown",
   "metadata": {},
   "source": [
    "Limit this dataframe to communities with more than 4 members:"
   ]
  },
  {
   "cell_type": "code",
   "execution_count": 73,
   "metadata": {},
   "outputs": [],
   "source": [
    "merchant_rank_df=merchant_rank_df[merchant_rank_df['membercount']>4].copy()"
   ]
  },
  {
   "cell_type": "markdown",
   "metadata": {},
   "source": [
    "Create a unique list of all community members:"
   ]
  },
  {
   "cell_type": "code",
   "execution_count": 74,
   "metadata": {},
   "outputs": [],
   "source": [
    "merchant_45500_community_list=list(set(merchant_rank_df['merchant_45500_community']))"
   ]
  },
  {
   "cell_type": "markdown",
   "metadata": {},
   "source": [
    "Save the above dataframe to a .csv file:"
   ]
  },
  {
   "cell_type": "code",
   "execution_count": 75,
   "metadata": {},
   "outputs": [],
   "source": [
    "merchant_rank_df_copy=merchant_rank_df.copy()\n",
    "merchant_rank_df.to_csv(path_or_buf='/media/lnr-ai/christo/github_repos/graphing/data/merchant_45500_community_df',index=False)"
   ]
  },
  {
   "cell_type": "markdown",
   "metadata": {},
   "source": [
    "Set the first element of merchant_45500_community_list equal to merchant_45500_community:"
   ]
  },
  {
   "cell_type": "code",
   "execution_count": 76,
   "metadata": {},
   "outputs": [],
   "source": [
    "merchant_45500_community=merchant_45500_community_list[0]"
   ]
  },
  {
   "cell_type": "markdown",
   "metadata": {},
   "source": [
    "Create a subgraph of all merchants in the merchant_45500_community; we will drop this graph in the iteration that follows."
   ]
  },
  {
   "cell_type": "code",
   "execution_count": 77,
   "metadata": {},
   "outputs": [
    {
     "name": "stdout",
     "output_type": "stream",
     "text": [
      "Create subgraph on community 5638:\n"
     ]
    },
    {
     "data": {
      "text/plain": [
       "[{'graphName': 'merchant_45500_graph',\n",
       "  'nodeCount': 15,\n",
       "  'relationshipCount': 52,\n",
       "  'createMillis': 1581}]"
      ]
     },
     "execution_count": 77,
     "metadata": {},
     "output_type": "execute_result"
    }
   ],
   "source": [
    "# Create a subgraph of all merchants in merchant_45500_community:\n",
    "print('Create subgraph on community {merchant_45500_community}:'.format(merchant_45500_community=merchant_45500_community))\n",
    "neo4j_query=\"\"\"CALL gds.graph.create.cypher(\n",
    "    'merchant_45500_graph',\n",
    "    'MATCH (m0:Merchant {{subclass_id:45500}}) \n",
    "    WHERE m0.merchant_45500_community = {merchant_45500_community} RETURN id(m0) AS id, \n",
    "    m0.totaltransactionamount as totaltransactionamount, m0.totaltransactioncount as totaltransactioncount',\n",
    "    'MATCH (m0:Merchant)-[rel:MERCHANT_FEET_LINK_45500]->(m1:Merchant) \n",
    "    WHERE rel.count > 1 AND \n",
    "    m0.merchant_45500_community = {merchant_45500_community} AND \n",
    "    m1.merchant_45500_community = {merchant_45500_community}\n",
    "    RETURN id(m0) AS source, id(m1) AS target, rel.count as count'\n",
    ")\n",
    "YIELD graphName, nodeCount, relationshipCount, createMillis;\n",
    "\"\"\".format(merchant_45500_community=merchant_45500_community)\n",
    "graph.run(neo4j_query).data()\n"
   ]
  },
  {
   "cell_type": "markdown",
   "metadata": {},
   "source": [
    "In the following iteration we iterate over the contents of the merchant_45500_community_list list."
   ]
  },
  {
   "cell_type": "code",
   "execution_count": null,
   "metadata": {},
   "outputs": [],
   "source": [
    "merchant_rank_df=pd.DataFrame()\n",
    "# merchant_45500_community=merchant_45500_community_list[0]\n",
    "A=merchant_45500_community_list.copy()\n",
    "counter=0\n",
    "for merchant_45500_community in merchant_45500_community_list:\n",
    "    counter+=1\n",
    "    print('Doing community {merchant_45500_community}; {counter} of {countlen}'.format(merchant_45500_community=merchant_45500_community, counter=counter,countlen=len(merchant_45500_community_list)))\n",
    "    print('Drop subgraph:')\n",
    "    neo4j_query=\"\"\"CALL gds.graph.drop('merchant_45500_graph') YIELD graphName;\"\"\"\n",
    "    graph.run(neo4j_query).data()\n",
    "# Create a subgraph of all merchants in merchant_45500_community:\n",
    "    print('Create subgraph on community {merchant_45500_community}:'.format(merchant_45500_community=merchant_45500_community))\n",
    "    neo4j_query=\"\"\"CALL gds.graph.create.cypher(\n",
    "        'merchant_45500_graph',\n",
    "        'MATCH (m0:Merchant {{subclass_id:45500}}) \n",
    "        WHERE m0.merchant_45500_community = {merchant_45500_community} RETURN id(m0) AS id, \n",
    "        m0.totaltransactionamount as totaltransactionamount, m0.totaltransactioncount as totaltransactioncount',\n",
    "        'MATCH (m0:Merchant)-[rel:MERCHANT_FEET_LINK_45500]->(m1:Merchant) \n",
    "        WHERE rel.count > 1 AND \n",
    "        m0.merchant_45500_community = {merchant_45500_community} AND \n",
    "        m1.merchant_45500_community = {merchant_45500_community}\n",
    "        RETURN id(m0) AS source, id(m1) AS target, rel.count as count'\n",
    "    )\n",
    "    YIELD graphName, nodeCount, relationshipCount, createMillis;\n",
    "    \"\"\".format(merchant_45500_community=merchant_45500_community)\n",
    "    graph.run(neo4j_query).data()\n",
    "# Write the MerchantRank on community nodes.  The rank belongs to the community of merchants as defined by the sub graph created above:\n",
    "    print('MerchantRank community members:')\n",
    "    neo4j_query=\"\"\"\n",
    "    CALL gds.pageRank.write('merchant_45500_graph', {\n",
    "      maxIterations: 20,\n",
    "      dampingFactor: 0.85,\n",
    "      writeProperty: 'merchantRank_45500',\n",
    "      relationshipWeightProperty: 'count'\n",
    "    })\n",
    "    YIELD nodePropertiesWritten AS writtenProperties, ranIterations;\"\"\"\n",
    "    graph.run(neo4j_query).data()\n",
    "    print('Extract community members with merchant rank: ')\n",
    "    neo4j_query=\"\"\"\n",
    "    MATCH (m:Merchant {{subclass_id:45500}}) WHERE m.merchant_45500_community = {merchant_45500_community}\n",
    "    RETURN m.franchisename as franchisename, m.companyname as companyname,  m.merchantRank_45500 as MerchantRank, {merchant_45500_community} as merchant_45500_community \n",
    "    ORDER BY MerchantRank DESC;\n",
    "    \"\"\".format(merchant_45500_community=merchant_45500_community)\n",
    "    df=graph.run(neo4j_query).to_data_frame()\n",
    "\n",
    "    df['rankID']=range(1,df.shape[0]+1)\n",
    "    print('Append extracted merchant community to a result dataframe:')    \n",
    "    merchant_rank_df=merchant_rank_df.append(df,ignore_index=True)\n",
    "    A.pop(A.index(merchant_45500_community))\n",
    "    print('====================================================================================================')"
   ]
  },
  {
   "cell_type": "code",
   "execution_count": null,
   "metadata": {},
   "outputs": [],
   "source": [
    "A"
   ]
  },
  {
   "cell_type": "code",
   "execution_count": null,
   "metadata": {},
   "outputs": [],
   "source": [
    "graph = Graph(\"bolt://localhost:7687\", user='neo4j', password='newPassword')"
   ]
  },
  {
   "cell_type": "code",
   "execution_count": null,
   "metadata": {},
   "outputs": [],
   "source": [
    "# merchant_rank_df=pd.DataFrame()\n",
    "merchant_45500_community_list=A.copy()\n",
    "counter=0\n",
    "for merchant_45500_community in merchant_45500_community_list:\n",
    "    counter+=1\n",
    "    print('Doing community {merchant_45500_community}; {counter} of {countlen}'.format(merchant_45500_community=merchant_45500_community, counter=counter,countlen=len(merchant_45500_community_list)))\n",
    "    print('Drop subgraph:')\n",
    "    neo4j_query=\"\"\"CALL gds.graph.drop('merchant_45500_graph') YIELD graphName;\"\"\"\n",
    "    graph.run(neo4j_query).data()\n",
    "# Create a subgraph of all merchants in merchant_45500_community:\n",
    "    print('Create subgraph on community {merchant_45500_community}:'.format(merchant_45500_community=merchant_45500_community))\n",
    "    neo4j_query=\"\"\"CALL gds.graph.create.cypher(\n",
    "        'merchant_45500_graph',\n",
    "        'MATCH (m0:Merchant {{subclass_id:45500}}) \n",
    "        WHERE m0.merchant_45500_community = {merchant_45500_community} RETURN id(m0) AS id, \n",
    "        m0.totaltransactionamount as totaltransactionamount, m0.totaltransactioncount as totaltransactioncount',\n",
    "        'MATCH (m0:Merchant)-[rel:MERCHANT_FEET_LINK_45500]->(m1:Merchant) \n",
    "        WHERE rel.count > 1 AND \n",
    "        m0.merchant_45500_community = {merchant_45500_community} AND \n",
    "        m1.merchant_45500_community = {merchant_45500_community}\n",
    "        RETURN id(m0) AS source, id(m1) AS target, rel.count as count'\n",
    "    )\n",
    "    YIELD graphName, nodeCount, relationshipCount, createMillis;\n",
    "    \"\"\".format(merchant_45500_community=merchant_45500_community)\n",
    "    graph.run(neo4j_query).data()\n",
    "# Write the MerchantRank on community nodes.  The rank belongs to the community of merchants as defined by the sub graph created above:\n",
    "    print('MerchantRank community members:')\n",
    "    neo4j_query=\"\"\"\n",
    "    CALL gds.pageRank.write('merchant_45500_graph', {\n",
    "      maxIterations: 20,\n",
    "      dampingFactor: 0.85,\n",
    "      writeProperty: 'merchantRank_45500',\n",
    "      relationshipWeightProperty: 'count'\n",
    "    })\n",
    "    YIELD nodePropertiesWritten AS writtenProperties, ranIterations;\"\"\"\n",
    "    graph.run(neo4j_query).data()\n",
    "    print('Extract community members with merchant rank: ')\n",
    "    neo4j_query=\"\"\"\n",
    "    MATCH (m:Merchant {{subclass_id:45500}}) WHERE m.merchant_45500_community = {merchant_45500_community}\n",
    "    RETURN m.franchisename as franchisename, m.companyname as companyname,  m.merchantRank_45500 as MerchantRank, {merchant_45500_community} as merchant_45500_community \n",
    "    ORDER BY MerchantRank DESC;\n",
    "    \"\"\".format(merchant_45500_community=merchant_45500_community)\n",
    "    df=graph.run(neo4j_query).to_data_frame()\n",
    "\n",
    "    df['rankID']=range(1,df.shape[0]+1)\n",
    "    print('Append extracted merchant community to a result dataframe:')    \n",
    "    merchant_rank_df=merchant_rank_df.append(df,ignore_index=True)\n",
    "    A.pop(A.index(merchant_45500_community))    \n",
    "    print('====================================================================================================')"
   ]
  },
  {
   "cell_type": "markdown",
   "metadata": {},
   "source": [
    "Save the contents of merchant_rank_df into a .csv file:"
   ]
  },
  {
   "cell_type": "code",
   "execution_count": null,
   "metadata": {},
   "outputs": [],
   "source": [
    "merchant_rank_df.to_csv(path_or_buf='/media/lnr-ai/christo/github_repos/graphing/data/merchant_45500_rank_df',index=False)"
   ]
  },
  {
   "cell_type": "markdown",
   "metadata": {},
   "source": [
    "We now have two dataframes thus far.  Dataframe merchant_45500_community_df ontains only the community number and the community count:"
   ]
  },
  {
   "cell_type": "code",
   "execution_count": 82,
   "metadata": {},
   "outputs": [],
   "source": [
    "merchant_45500_community_df=pd.read_csv(filepath_or_buffer='/media/lnr-ai/christo/github_repos/graphing/data/merchant_45500_community_df')"
   ]
  },
  {
   "cell_type": "code",
   "execution_count": 80,
   "metadata": {},
   "outputs": [
    {
     "data": {
      "text/plain": [
       "['membercount', 'merchant_45500_community']"
      ]
     },
     "execution_count": 80,
     "metadata": {},
     "output_type": "execute_result"
    }
   ],
   "source": [
    "list(merchant_45500_community_df)"
   ]
  },
  {
   "cell_type": "markdown",
   "metadata": {},
   "source": [
    "Dataframe merchant_rank_df contains the community number (merchant_45500_community) and the rank of the merchant (MerchantRank) in that community.  It also has the franchise and company names. Read the same file into merchant_rank_df:"
   ]
  },
  {
   "cell_type": "code",
   "execution_count": 92,
   "metadata": {},
   "outputs": [],
   "source": [
    "merchant_45500_rank_df=pd.read_csv(filepath_or_buffer='/media/lnr-ai/christo/github_repos/graphing/data/merchant_45500_rank_df')"
   ]
  },
  {
   "cell_type": "code",
   "execution_count": 93,
   "metadata": {},
   "outputs": [
    {
     "data": {
      "text/plain": [
       "['franchisename',\n",
       " 'companyname',\n",
       " 'MerchantRank',\n",
       " 'merchant_45500_community',\n",
       " 'rankID']"
      ]
     },
     "execution_count": 93,
     "metadata": {},
     "output_type": "execute_result"
    }
   ],
   "source": [
    "list(merchant_45500_rank_df)"
   ]
  },
  {
   "cell_type": "markdown",
   "metadata": {},
   "source": [
    "Merge merchant_45500_rank_df and merchant_45500_community_df on the merchant_45500_community column:"
   ]
  },
  {
   "cell_type": "code",
   "execution_count": null,
   "metadata": {},
   "outputs": [],
   "source": [
    "df=merchant_45500_rank_df.merge(merchant_45500_community_df,left_on='merchant_45500_community',\n",
    "                             right_on='merchant_45500_community',how='left')"
   ]
  },
  {
   "cell_type": "code",
   "execution_count": 15,
   "metadata": {},
   "outputs": [],
   "source": [
    "df.to_csv('/media/lnr-ai/christo/github_repos/graphing/data/merchant_45500_df',index=False)"
   ]
  },
  {
   "cell_type": "code",
   "execution_count": 14,
   "metadata": {},
   "outputs": [
    {
     "data": {
      "text/plain": [
       "78"
      ]
     },
     "execution_count": 14,
     "metadata": {},
     "output_type": "execute_result"
    }
   ],
   "source": [
    "len(set(df['merchant_45500_community']))"
   ]
  },
  {
   "cell_type": "markdown",
   "metadata": {},
   "source": [
    "### Community aggregation:"
   ]
  },
  {
   "cell_type": "markdown",
   "metadata": {},
   "source": [
    "Here we use the results of the code above to do aggregation on the fuel station communities:"
   ]
  },
  {
   "cell_type": "markdown",
   "metadata": {},
   "source": [
    "Connect to neo4J:"
   ]
  },
  {
   "cell_type": "code",
   "execution_count": 38,
   "metadata": {},
   "outputs": [],
   "source": [
    "graph = Graph(\"bolt://localhost:7687\", user='neo4j', password='newPassword')"
   ]
  },
  {
   "cell_type": "markdown",
   "metadata": {},
   "source": [
    "In what follows we do two pieces of aggregation\n",
    "1. By merchant. Include \n",
    "    1. community number (merchant_45500_community),\n",
    "    2. companyname,\n",
    "    3. franchisename,\n",
    "    4. merchant rank, \n",
    "    5. total transaction amount and \n",
    "    6. total number of transactions.    "
   ]
  },
  {
   "cell_type": "code",
   "execution_count": 39,
   "metadata": {},
   "outputs": [],
   "source": [
    "neo4j_query=\"\"\"MATCH (merchant:Merchant {subclass_id:45500})\n",
    "WHERE EXISTS(merchant.merchantRank_45500)\n",
    "RETURN merchant.merchant_45500_community as merchant_45500_community,\n",
    "merchant.companyname as companyname, \n",
    "merchant.franchisename as franchisename, \n",
    "merchant.merchantRank_45500 as merchant_rank,\n",
    "merchant.totaltransactionamount as totaltransactionamount,\n",
    "merchant.totaltransactioncount as totaltransactioncount\n",
    "ORDER BY merchant_45500_community ASC;\n",
    "\"\"\"\n",
    "# merchant_rank_df=merchant_rank_df.append(df,ignore_index=True)\n",
    "df=graph.run(neo4j_query).to_data_frame()"
   ]
  },
  {
   "cell_type": "markdown",
   "metadata": {},
   "source": [
    "Create a new column __franchise_rank__.  This column holds the rank of a merchant in a merchant community based on the merchant rank, 1 being the franchise with the highest merchant rank - the franchise most likely to visited by a shopper."
   ]
  },
  {
   "cell_type": "code",
   "execution_count": 40,
   "metadata": {},
   "outputs": [],
   "source": [
    "df['franchise_rank']=df.groupby(\"merchant_45500_community\")[\"merchant_rank\"].rank(\"dense\", ascending=False)"
   ]
  },
  {
   "cell_type": "markdown",
   "metadata": {},
   "source": [
    "Look at one company and ask the question of how many merchants see this company with the highest merchant rank:"
   ]
  },
  {
   "cell_type": "code",
   "execution_count": 44,
   "metadata": {},
   "outputs": [
    {
     "data": {
      "text/html": [
       "<div>\n",
       "<style scoped>\n",
       "    .dataframe tbody tr th:only-of-type {\n",
       "        vertical-align: middle;\n",
       "    }\n",
       "\n",
       "    .dataframe tbody tr th {\n",
       "        vertical-align: top;\n",
       "    }\n",
       "\n",
       "    .dataframe thead th {\n",
       "        text-align: right;\n",
       "    }\n",
       "</style>\n",
       "<table border=\"1\" class=\"dataframe\">\n",
       "  <thead>\n",
       "    <tr style=\"text-align: right;\">\n",
       "      <th></th>\n",
       "      <th>merchant_45500_community</th>\n",
       "      <th>companyname</th>\n",
       "      <th>franchisename</th>\n",
       "      <th>merchant_rank</th>\n",
       "      <th>totaltransactionamount</th>\n",
       "      <th>totaltransactioncount</th>\n",
       "      <th>franchise_rank</th>\n",
       "    </tr>\n",
       "  </thead>\n",
       "  <tbody>\n",
       "    <tr>\n",
       "      <th>9</th>\n",
       "      <td>358</td>\n",
       "      <td>BP</td>\n",
       "      <td>BP KIASHA PA</td>\n",
       "      <td>4.283081</td>\n",
       "      <td>-722820.14</td>\n",
       "      <td>2992</td>\n",
       "      <td>1.0</td>\n",
       "    </tr>\n",
       "    <tr>\n",
       "      <th>1570</th>\n",
       "      <td>2971</td>\n",
       "      <td>BP</td>\n",
       "      <td>BP ELDORADO</td>\n",
       "      <td>1.259391</td>\n",
       "      <td>-206941.48</td>\n",
       "      <td>1122</td>\n",
       "      <td>1.0</td>\n",
       "    </tr>\n",
       "    <tr>\n",
       "      <th>2342</th>\n",
       "      <td>3605</td>\n",
       "      <td>BP</td>\n",
       "      <td>BP VALLEY MO</td>\n",
       "      <td>2.034436</td>\n",
       "      <td>-581875.97</td>\n",
       "      <td>1729</td>\n",
       "      <td>1.0</td>\n",
       "    </tr>\n",
       "  </tbody>\n",
       "</table>\n",
       "</div>"
      ],
      "text/plain": [
       "      merchant_45500_community companyname franchisename  merchant_rank  \\\n",
       "9                          358          BP  BP KIASHA PA       4.283081   \n",
       "1570                      2971          BP   BP ELDORADO       1.259391   \n",
       "2342                      3605          BP  BP VALLEY MO       2.034436   \n",
       "\n",
       "      totaltransactionamount  totaltransactioncount  franchise_rank  \n",
       "9                 -722820.14                   2992             1.0  \n",
       "1570              -206941.48                   1122             1.0  \n",
       "2342              -581875.97                   1729             1.0  "
      ]
     },
     "execution_count": 44,
     "metadata": {},
     "output_type": "execute_result"
    }
   ],
   "source": [
    "df[(df.companyname=='BP')&(df.franchise_rank==1)]"
   ]
  },
  {
   "cell_type": "code",
   "execution_count": 45,
   "metadata": {},
   "outputs": [
    {
     "data": {
      "text/plain": [
       "78"
      ]
     },
     "execution_count": 45,
     "metadata": {},
     "output_type": "execute_result"
    }
   ],
   "source": [
    "len(set(df.merchant_45500_community))"
   ]
  },
  {
   "cell_type": "code",
   "execution_count": 47,
   "metadata": {},
   "outputs": [
    {
     "data": {
      "text/html": [
       "<div>\n",
       "<style scoped>\n",
       "    .dataframe tbody tr th:only-of-type {\n",
       "        vertical-align: middle;\n",
       "    }\n",
       "\n",
       "    .dataframe tbody tr th {\n",
       "        vertical-align: top;\n",
       "    }\n",
       "\n",
       "    .dataframe thead th {\n",
       "        text-align: right;\n",
       "    }\n",
       "</style>\n",
       "<table border=\"1\" class=\"dataframe\">\n",
       "  <thead>\n",
       "    <tr style=\"text-align: right;\">\n",
       "      <th></th>\n",
       "      <th>merchant_45500_community</th>\n",
       "      <th>companyname</th>\n",
       "      <th>franchisename</th>\n",
       "      <th>merchant_rank</th>\n",
       "      <th>totaltransactionamount</th>\n",
       "      <th>totaltransactioncount</th>\n",
       "      <th>franchise_rank</th>\n",
       "    </tr>\n",
       "  </thead>\n",
       "  <tbody>\n",
       "    <tr>\n",
       "      <th>3</th>\n",
       "      <td>346</td>\n",
       "      <td>ENGEN</td>\n",
       "      <td>ENGEN PANDA</td>\n",
       "      <td>1.975369</td>\n",
       "      <td>-197556.70</td>\n",
       "      <td>947</td>\n",
       "      <td>1.0</td>\n",
       "    </tr>\n",
       "    <tr>\n",
       "      <th>9</th>\n",
       "      <td>358</td>\n",
       "      <td>BP</td>\n",
       "      <td>BP KIASHA PA</td>\n",
       "      <td>4.283081</td>\n",
       "      <td>-722820.14</td>\n",
       "      <td>2992</td>\n",
       "      <td>1.0</td>\n",
       "    </tr>\n",
       "    <tr>\n",
       "      <th>36</th>\n",
       "      <td>478</td>\n",
       "      <td>ENGEN</td>\n",
       "      <td>ENGEN HI Q A</td>\n",
       "      <td>2.466796</td>\n",
       "      <td>-368401.60</td>\n",
       "      <td>1326</td>\n",
       "      <td>1.0</td>\n",
       "    </tr>\n",
       "    <tr>\n",
       "      <th>54</th>\n",
       "      <td>686</td>\n",
       "      <td>SHELL</td>\n",
       "      <td>SHELL NONGOM</td>\n",
       "      <td>2.658348</td>\n",
       "      <td>-518676.51</td>\n",
       "      <td>1590</td>\n",
       "      <td>1.0</td>\n",
       "    </tr>\n",
       "    <tr>\n",
       "      <th>67</th>\n",
       "      <td>975</td>\n",
       "      <td>ENGEN</td>\n",
       "      <td>ENGEN BULT</td>\n",
       "      <td>3.486104</td>\n",
       "      <td>-306677.61</td>\n",
       "      <td>1950</td>\n",
       "      <td>1.0</td>\n",
       "    </tr>\n",
       "    <tr>\n",
       "      <th>...</th>\n",
       "      <td>...</td>\n",
       "      <td>...</td>\n",
       "      <td>...</td>\n",
       "      <td>...</td>\n",
       "      <td>...</td>\n",
       "      <td>...</td>\n",
       "      <td>...</td>\n",
       "    </tr>\n",
       "    <tr>\n",
       "      <th>3720</th>\n",
       "      <td>6438</td>\n",
       "      <td>TOTAL</td>\n",
       "      <td>TOTAL RA DES</td>\n",
       "      <td>3.975671</td>\n",
       "      <td>-538831.30</td>\n",
       "      <td>3008</td>\n",
       "      <td>1.0</td>\n",
       "    </tr>\n",
       "    <tr>\n",
       "      <th>3860</th>\n",
       "      <td>6745</td>\n",
       "      <td>SHELL</td>\n",
       "      <td>SHELL LADYSM</td>\n",
       "      <td>3.999127</td>\n",
       "      <td>-713923.88</td>\n",
       "      <td>2570</td>\n",
       "      <td>1.0</td>\n",
       "    </tr>\n",
       "    <tr>\n",
       "      <th>3993</th>\n",
       "      <td>6821</td>\n",
       "      <td>SHELL</td>\n",
       "      <td>SHELL NOORDW</td>\n",
       "      <td>9.255524</td>\n",
       "      <td>-686646.90</td>\n",
       "      <td>3122</td>\n",
       "      <td>1.0</td>\n",
       "    </tr>\n",
       "    <tr>\n",
       "      <th>4145</th>\n",
       "      <td>7697</td>\n",
       "      <td>CALTEX</td>\n",
       "      <td>CALTEX UITSIG</td>\n",
       "      <td>0.624765</td>\n",
       "      <td>-75689.36</td>\n",
       "      <td>472</td>\n",
       "      <td>1.0</td>\n",
       "    </tr>\n",
       "    <tr>\n",
       "      <th>4146</th>\n",
       "      <td>11222</td>\n",
       "      <td>SASOL</td>\n",
       "      <td>SASOL WALKERVI</td>\n",
       "      <td>1.791241</td>\n",
       "      <td>-441423.42</td>\n",
       "      <td>1708</td>\n",
       "      <td>1.0</td>\n",
       "    </tr>\n",
       "  </tbody>\n",
       "</table>\n",
       "<p>78 rows × 7 columns</p>\n",
       "</div>"
      ],
      "text/plain": [
       "      merchant_45500_community companyname   franchisename  merchant_rank  \\\n",
       "3                          346       ENGEN     ENGEN PANDA       1.975369   \n",
       "9                          358          BP    BP KIASHA PA       4.283081   \n",
       "36                         478       ENGEN    ENGEN HI Q A       2.466796   \n",
       "54                         686       SHELL    SHELL NONGOM       2.658348   \n",
       "67                         975       ENGEN      ENGEN BULT       3.486104   \n",
       "...                        ...         ...             ...            ...   \n",
       "3720                      6438       TOTAL    TOTAL RA DES       3.975671   \n",
       "3860                      6745       SHELL    SHELL LADYSM       3.999127   \n",
       "3993                      6821       SHELL    SHELL NOORDW       9.255524   \n",
       "4145                      7697      CALTEX   CALTEX UITSIG       0.624765   \n",
       "4146                     11222       SASOL  SASOL WALKERVI       1.791241   \n",
       "\n",
       "      totaltransactionamount  totaltransactioncount  franchise_rank  \n",
       "3                 -197556.70                    947             1.0  \n",
       "9                 -722820.14                   2992             1.0  \n",
       "36                -368401.60                   1326             1.0  \n",
       "54                -518676.51                   1590             1.0  \n",
       "67                -306677.61                   1950             1.0  \n",
       "...                      ...                    ...             ...  \n",
       "3720              -538831.30                   3008             1.0  \n",
       "3860              -713923.88                   2570             1.0  \n",
       "3993              -686646.90                   3122             1.0  \n",
       "4145               -75689.36                    472             1.0  \n",
       "4146              -441423.42                   1708             1.0  \n",
       "\n",
       "[78 rows x 7 columns]"
      ]
     },
     "execution_count": 47,
     "metadata": {},
     "output_type": "execute_result"
    }
   ],
   "source": [
    "df[(df.franchise_rank==1)]"
   ]
  },
  {
   "cell_type": "code",
   "execution_count": 50,
   "metadata": {},
   "outputs": [
    {
     "data": {
      "text/html": [
       "<div>\n",
       "<style scoped>\n",
       "    .dataframe tbody tr th:only-of-type {\n",
       "        vertical-align: middle;\n",
       "    }\n",
       "\n",
       "    .dataframe tbody tr th {\n",
       "        vertical-align: top;\n",
       "    }\n",
       "\n",
       "    .dataframe thead th {\n",
       "        text-align: right;\n",
       "    }\n",
       "</style>\n",
       "<table border=\"1\" class=\"dataframe\">\n",
       "  <thead>\n",
       "    <tr style=\"text-align: right;\">\n",
       "      <th></th>\n",
       "      <th>merchant_45500_community</th>\n",
       "      <th>companyname</th>\n",
       "      <th>franchisename</th>\n",
       "      <th>merchant_rank</th>\n",
       "      <th>totaltransactionamount</th>\n",
       "      <th>totaltransactioncount</th>\n",
       "      <th>franchise_rank</th>\n",
       "    </tr>\n",
       "  </thead>\n",
       "  <tbody>\n",
       "    <tr>\n",
       "      <th>4146</th>\n",
       "      <td>11222</td>\n",
       "      <td>SASOL</td>\n",
       "      <td>SASOL WALKERVI</td>\n",
       "      <td>1.791241</td>\n",
       "      <td>-441423.42</td>\n",
       "      <td>1708</td>\n",
       "      <td>1.0</td>\n",
       "    </tr>\n",
       "    <tr>\n",
       "      <th>4147</th>\n",
       "      <td>11222</td>\n",
       "      <td>ENGEN</td>\n",
       "      <td>ENGEN WALKER</td>\n",
       "      <td>0.291602</td>\n",
       "      <td>-84630.80</td>\n",
       "      <td>244</td>\n",
       "      <td>5.0</td>\n",
       "    </tr>\n",
       "    <tr>\n",
       "      <th>4148</th>\n",
       "      <td>11222</td>\n",
       "      <td>ENGEN</td>\n",
       "      <td>ENGEN WALKERVI</td>\n",
       "      <td>0.959515</td>\n",
       "      <td>-20953.05</td>\n",
       "      <td>60</td>\n",
       "      <td>4.0</td>\n",
       "    </tr>\n",
       "    <tr>\n",
       "      <th>4149</th>\n",
       "      <td>11222</td>\n",
       "      <td>SHELL</td>\n",
       "      <td>SHELL SOUTH CI</td>\n",
       "      <td>0.150000</td>\n",
       "      <td>-80809.00</td>\n",
       "      <td>292</td>\n",
       "      <td>6.0</td>\n",
       "    </tr>\n",
       "    <tr>\n",
       "      <th>4150</th>\n",
       "      <td>11222</td>\n",
       "      <td>TOTAL</td>\n",
       "      <td>TOTAL DE DEUR</td>\n",
       "      <td>1.776675</td>\n",
       "      <td>-49356.46</td>\n",
       "      <td>211</td>\n",
       "      <td>2.0</td>\n",
       "    </tr>\n",
       "    <tr>\n",
       "      <th>4151</th>\n",
       "      <td>11222</td>\n",
       "      <td>SASOL</td>\n",
       "      <td>SASOL WALKERVILLE</td>\n",
       "      <td>0.150000</td>\n",
       "      <td>-60230.52</td>\n",
       "      <td>142</td>\n",
       "      <td>6.0</td>\n",
       "    </tr>\n",
       "    <tr>\n",
       "      <th>4152</th>\n",
       "      <td>11222</td>\n",
       "      <td>TOTAL</td>\n",
       "      <td>TOTAL DE DEU</td>\n",
       "      <td>1.650348</td>\n",
       "      <td>-177508.54</td>\n",
       "      <td>834</td>\n",
       "      <td>3.0</td>\n",
       "    </tr>\n",
       "  </tbody>\n",
       "</table>\n",
       "</div>"
      ],
      "text/plain": [
       "      merchant_45500_community companyname      franchisename  merchant_rank  \\\n",
       "4146                     11222       SASOL     SASOL WALKERVI       1.791241   \n",
       "4147                     11222       ENGEN       ENGEN WALKER       0.291602   \n",
       "4148                     11222       ENGEN     ENGEN WALKERVI       0.959515   \n",
       "4149                     11222       SHELL     SHELL SOUTH CI       0.150000   \n",
       "4150                     11222       TOTAL      TOTAL DE DEUR       1.776675   \n",
       "4151                     11222       SASOL  SASOL WALKERVILLE       0.150000   \n",
       "4152                     11222       TOTAL       TOTAL DE DEU       1.650348   \n",
       "\n",
       "      totaltransactionamount  totaltransactioncount  franchise_rank  \n",
       "4146              -441423.42                   1708             1.0  \n",
       "4147               -84630.80                    244             5.0  \n",
       "4148               -20953.05                     60             4.0  \n",
       "4149               -80809.00                    292             6.0  \n",
       "4150               -49356.46                    211             2.0  \n",
       "4151               -60230.52                    142             6.0  \n",
       "4152              -177508.54                    834             3.0  "
      ]
     },
     "execution_count": 50,
     "metadata": {},
     "output_type": "execute_result"
    }
   ],
   "source": [
    "df[(df.merchant_45500_community==11222)]"
   ]
  },
  {
   "cell_type": "markdown",
   "metadata": {},
   "source": [
    "Add another two columns, __totaltransactionamount_rank__ is the rank of all franchises in a community base on __totaltransactionamount__ and __totaltransactioncount_rank__ is likewise based on __totaltransactioncount__."
   ]
  },
  {
   "cell_type": "code",
   "execution_count": 53,
   "metadata": {},
   "outputs": [],
   "source": [
    "# df['totaltransactionamount']=-df['totaltransactionamount']\n",
    "df['totaltransactionamount_rank']=df.groupby(\"merchant_45500_community\")[\"totaltransactionamount\"].rank(\"dense\", ascending=False)\n",
    "df['totaltransactioncount_rank']=df.groupby(\"merchant_45500_community\")[\"totaltransactioncount\"].rank(\"dense\", ascending=False)"
   ]
  },
  {
   "cell_type": "code",
   "execution_count": 56,
   "metadata": {},
   "outputs": [
    {
     "data": {
      "text/html": [
       "<div>\n",
       "<style scoped>\n",
       "    .dataframe tbody tr th:only-of-type {\n",
       "        vertical-align: middle;\n",
       "    }\n",
       "\n",
       "    .dataframe tbody tr th {\n",
       "        vertical-align: top;\n",
       "    }\n",
       "\n",
       "    .dataframe thead th {\n",
       "        text-align: right;\n",
       "    }\n",
       "</style>\n",
       "<table border=\"1\" class=\"dataframe\">\n",
       "  <thead>\n",
       "    <tr style=\"text-align: right;\">\n",
       "      <th></th>\n",
       "      <th>merchant_45500_community</th>\n",
       "      <th>totaltransactionamount</th>\n",
       "      <th>totaltransactioncount</th>\n",
       "      <th>franchise_rank</th>\n",
       "      <th>totaltransactionamount_rank</th>\n",
       "      <th>totaltransactioncount_rank</th>\n",
       "    </tr>\n",
       "  </thead>\n",
       "  <tbody>\n",
       "    <tr>\n",
       "      <th>0</th>\n",
       "      <td>346</td>\n",
       "      <td>18553.60</td>\n",
       "      <td>78</td>\n",
       "      <td>6.0</td>\n",
       "      <td>7.0</td>\n",
       "      <td>7.0</td>\n",
       "    </tr>\n",
       "    <tr>\n",
       "      <th>1</th>\n",
       "      <td>346</td>\n",
       "      <td>292259.29</td>\n",
       "      <td>1135</td>\n",
       "      <td>5.0</td>\n",
       "      <td>3.0</td>\n",
       "      <td>3.0</td>\n",
       "    </tr>\n",
       "    <tr>\n",
       "      <th>2</th>\n",
       "      <td>346</td>\n",
       "      <td>427067.14</td>\n",
       "      <td>1508</td>\n",
       "      <td>3.0</td>\n",
       "      <td>1.0</td>\n",
       "      <td>2.0</td>\n",
       "    </tr>\n",
       "    <tr>\n",
       "      <th>3</th>\n",
       "      <td>346</td>\n",
       "      <td>197556.70</td>\n",
       "      <td>947</td>\n",
       "      <td>1.0</td>\n",
       "      <td>4.0</td>\n",
       "      <td>4.0</td>\n",
       "    </tr>\n",
       "    <tr>\n",
       "      <th>4</th>\n",
       "      <td>346</td>\n",
       "      <td>159964.26</td>\n",
       "      <td>516</td>\n",
       "      <td>4.0</td>\n",
       "      <td>5.0</td>\n",
       "      <td>5.0</td>\n",
       "    </tr>\n",
       "    <tr>\n",
       "      <th>...</th>\n",
       "      <td>...</td>\n",
       "      <td>...</td>\n",
       "      <td>...</td>\n",
       "      <td>...</td>\n",
       "      <td>...</td>\n",
       "      <td>...</td>\n",
       "    </tr>\n",
       "    <tr>\n",
       "      <th>4148</th>\n",
       "      <td>11222</td>\n",
       "      <td>20953.05</td>\n",
       "      <td>60</td>\n",
       "      <td>4.0</td>\n",
       "      <td>7.0</td>\n",
       "      <td>7.0</td>\n",
       "    </tr>\n",
       "    <tr>\n",
       "      <th>4149</th>\n",
       "      <td>11222</td>\n",
       "      <td>80809.00</td>\n",
       "      <td>292</td>\n",
       "      <td>6.0</td>\n",
       "      <td>4.0</td>\n",
       "      <td>3.0</td>\n",
       "    </tr>\n",
       "    <tr>\n",
       "      <th>4150</th>\n",
       "      <td>11222</td>\n",
       "      <td>49356.46</td>\n",
       "      <td>211</td>\n",
       "      <td>2.0</td>\n",
       "      <td>6.0</td>\n",
       "      <td>5.0</td>\n",
       "    </tr>\n",
       "    <tr>\n",
       "      <th>4151</th>\n",
       "      <td>11222</td>\n",
       "      <td>60230.52</td>\n",
       "      <td>142</td>\n",
       "      <td>6.0</td>\n",
       "      <td>5.0</td>\n",
       "      <td>6.0</td>\n",
       "    </tr>\n",
       "    <tr>\n",
       "      <th>4152</th>\n",
       "      <td>11222</td>\n",
       "      <td>177508.54</td>\n",
       "      <td>834</td>\n",
       "      <td>3.0</td>\n",
       "      <td>2.0</td>\n",
       "      <td>2.0</td>\n",
       "    </tr>\n",
       "  </tbody>\n",
       "</table>\n",
       "<p>4153 rows × 6 columns</p>\n",
       "</div>"
      ],
      "text/plain": [
       "      merchant_45500_community  totaltransactionamount  totaltransactioncount  \\\n",
       "0                          346                18553.60                     78   \n",
       "1                          346               292259.29                   1135   \n",
       "2                          346               427067.14                   1508   \n",
       "3                          346               197556.70                    947   \n",
       "4                          346               159964.26                    516   \n",
       "...                        ...                     ...                    ...   \n",
       "4148                     11222                20953.05                     60   \n",
       "4149                     11222                80809.00                    292   \n",
       "4150                     11222                49356.46                    211   \n",
       "4151                     11222                60230.52                    142   \n",
       "4152                     11222               177508.54                    834   \n",
       "\n",
       "      franchise_rank  totaltransactionamount_rank  totaltransactioncount_rank  \n",
       "0                6.0                          7.0                         7.0  \n",
       "1                5.0                          3.0                         3.0  \n",
       "2                3.0                          1.0                         2.0  \n",
       "3                1.0                          4.0                         4.0  \n",
       "4                4.0                          5.0                         5.0  \n",
       "...              ...                          ...                         ...  \n",
       "4148             4.0                          7.0                         7.0  \n",
       "4149             6.0                          4.0                         3.0  \n",
       "4150             2.0                          6.0                         5.0  \n",
       "4151             6.0                          5.0                         6.0  \n",
       "4152             3.0                          2.0                         2.0  \n",
       "\n",
       "[4153 rows x 6 columns]"
      ]
     },
     "execution_count": 56,
     "metadata": {},
     "output_type": "execute_result"
    }
   ],
   "source": [
    "df[['merchant_45500_community','totaltransactionamount','totaltransactioncount','franchise_rank','totaltransactionamount_rank','totaltransactioncount_rank']]"
   ]
  },
  {
   "cell_type": "code",
   "execution_count": 55,
   "metadata": {},
   "outputs": [],
   "source": [
    "df.to_csv(path_or_buf='/media/lnr-ai/christo/github_repos/graphing/data/merchant_45500_community_aggregation_df',index=False)"
   ]
  },
  {
   "cell_type": "markdown",
   "metadata": {},
   "source": [
    "#### Total client spend by fuel station clients:"
   ]
  },
  {
   "cell_type": "markdown",
   "metadata": {},
   "source": [
    "In the following aggregation we take all clients who spent at any off the merchant_45500_community fuel stations and aggregate their total spend (at all POS).  We also count the number of distinct clients and merchants belonging to each community."
   ]
  },
  {
   "cell_type": "code",
   "execution_count": 85,
   "metadata": {},
   "outputs": [],
   "source": [
    "neo4j_query=\"\"\"\n",
    "MATCH (client:Client)-[t:TRANSACTED_AT]-(merchant:Merchant)\n",
    "WHERE EXISTS(merchant.merchantRank_45500)\n",
    "RETURN merchant.merchant_45500_community as merchant_45500_community,\n",
    "COUNT(DISTINCT client) as nClients,\n",
    "SUM(client.totaltransactionamount) as totalspend,\n",
    "COUNT(DISTINCT merchant) as nMerchants\n",
    "ORDER BY nClients ASC;\n",
    "\"\"\"\n",
    "df=graph.run(neo4j_query).to_data_frame()"
   ]
  },
  {
   "cell_type": "code",
   "execution_count": 86,
   "metadata": {},
   "outputs": [
    {
     "data": {
      "text/html": [
       "<div>\n",
       "<style scoped>\n",
       "    .dataframe tbody tr th:only-of-type {\n",
       "        vertical-align: middle;\n",
       "    }\n",
       "\n",
       "    .dataframe tbody tr th {\n",
       "        vertical-align: top;\n",
       "    }\n",
       "\n",
       "    .dataframe thead th {\n",
       "        text-align: right;\n",
       "    }\n",
       "</style>\n",
       "<table border=\"1\" class=\"dataframe\">\n",
       "  <thead>\n",
       "    <tr style=\"text-align: right;\">\n",
       "      <th></th>\n",
       "      <th>merchant_45500_community</th>\n",
       "      <th>nClients</th>\n",
       "      <th>totalspend</th>\n",
       "      <th>nMerchants</th>\n",
       "    </tr>\n",
       "  </thead>\n",
       "  <tbody>\n",
       "    <tr>\n",
       "      <th>0</th>\n",
       "      <td>4028</td>\n",
       "      <td>729</td>\n",
       "      <td>-2.347251e+07</td>\n",
       "      <td>5</td>\n",
       "    </tr>\n",
       "    <tr>\n",
       "      <th>1</th>\n",
       "      <td>2065</td>\n",
       "      <td>960</td>\n",
       "      <td>-3.066793e+07</td>\n",
       "      <td>5</td>\n",
       "    </tr>\n",
       "    <tr>\n",
       "      <th>2</th>\n",
       "      <td>5606</td>\n",
       "      <td>1030</td>\n",
       "      <td>-2.524022e+07</td>\n",
       "      <td>7</td>\n",
       "    </tr>\n",
       "    <tr>\n",
       "      <th>3</th>\n",
       "      <td>2126</td>\n",
       "      <td>1085</td>\n",
       "      <td>-3.262959e+07</td>\n",
       "      <td>6</td>\n",
       "    </tr>\n",
       "    <tr>\n",
       "      <th>4</th>\n",
       "      <td>3817</td>\n",
       "      <td>1118</td>\n",
       "      <td>-3.409385e+07</td>\n",
       "      <td>8</td>\n",
       "    </tr>\n",
       "    <tr>\n",
       "      <th>...</th>\n",
       "      <td>...</td>\n",
       "      <td>...</td>\n",
       "      <td>...</td>\n",
       "      <td>...</td>\n",
       "    </tr>\n",
       "    <tr>\n",
       "      <th>73</th>\n",
       "      <td>1938</td>\n",
       "      <td>60110</td>\n",
       "      <td>-3.164864e+09</td>\n",
       "      <td>205</td>\n",
       "    </tr>\n",
       "    <tr>\n",
       "      <th>74</th>\n",
       "      <td>4018</td>\n",
       "      <td>63462</td>\n",
       "      <td>-2.854820e+09</td>\n",
       "      <td>227</td>\n",
       "    </tr>\n",
       "    <tr>\n",
       "      <th>75</th>\n",
       "      <td>2776</td>\n",
       "      <td>71139</td>\n",
       "      <td>-3.219391e+09</td>\n",
       "      <td>237</td>\n",
       "    </tr>\n",
       "    <tr>\n",
       "      <th>76</th>\n",
       "      <td>3005</td>\n",
       "      <td>80820</td>\n",
       "      <td>-4.073124e+09</td>\n",
       "      <td>320</td>\n",
       "    </tr>\n",
       "    <tr>\n",
       "      <th>77</th>\n",
       "      <td>6821</td>\n",
       "      <td>95351</td>\n",
       "      <td>-3.982369e+09</td>\n",
       "      <td>268</td>\n",
       "    </tr>\n",
       "  </tbody>\n",
       "</table>\n",
       "<p>78 rows × 4 columns</p>\n",
       "</div>"
      ],
      "text/plain": [
       "    merchant_45500_community  nClients    totalspend  nMerchants\n",
       "0                       4028       729 -2.347251e+07           5\n",
       "1                       2065       960 -3.066793e+07           5\n",
       "2                       5606      1030 -2.524022e+07           7\n",
       "3                       2126      1085 -3.262959e+07           6\n",
       "4                       3817      1118 -3.409385e+07           8\n",
       "..                       ...       ...           ...         ...\n",
       "73                      1938     60110 -3.164864e+09         205\n",
       "74                      4018     63462 -2.854820e+09         227\n",
       "75                      2776     71139 -3.219391e+09         237\n",
       "76                      3005     80820 -4.073124e+09         320\n",
       "77                      6821     95351 -3.982369e+09         268\n",
       "\n",
       "[78 rows x 4 columns]"
      ]
     },
     "execution_count": 86,
     "metadata": {},
     "output_type": "execute_result"
    }
   ],
   "source": [
    "df"
   ]
  },
  {
   "cell_type": "code",
   "execution_count": 89,
   "metadata": {},
   "outputs": [
    {
     "data": {
      "text/plain": [
       "-52896.249659140805"
      ]
     },
     "execution_count": 89,
     "metadata": {},
     "output_type": "execute_result"
    }
   ],
   "source": [
    "min(df['totalspend']/df['nClients'])"
   ]
  },
  {
   "cell_type": "markdown",
   "metadata": {},
   "source": [
    "Save the results to merchant_45500_community_spend_df:"
   ]
  },
  {
   "cell_type": "code",
   "execution_count": 59,
   "metadata": {},
   "outputs": [],
   "source": [
    "df.to_csv(path_or_buf='/media/lnr-ai/christo/github_repos/graphing/data/merchant_45500_community_spend_df',index=False)"
   ]
  },
  {
   "cell_type": "markdown",
   "metadata": {},
   "source": [
    "Read the previous two files:"
   ]
  },
  {
   "cell_type": "code",
   "execution_count": 95,
   "metadata": {},
   "outputs": [],
   "source": [
    "community_aggregation_df=pd.read_csv(filepath_or_buffer='/media/lnr-ai/christo/github_repos/graphing/data/merchant_45500_community_aggregation_df')\n",
    "community_spend_df=pd.read_csv(filepath_or_buffer='/media/lnr-ai/christo/github_repos/graphing/data/merchant_45500_community_spend_df')"
   ]
  },
  {
   "cell_type": "code",
   "execution_count": 96,
   "metadata": {},
   "outputs": [
    {
     "data": {
      "text/plain": [
       "['merchant_45500_community',\n",
       " 'companyname',\n",
       " 'franchisename',\n",
       " 'merchant_rank',\n",
       " 'totaltransactionamount',\n",
       " 'totaltransactioncount',\n",
       " 'franchise_rank',\n",
       " 'totaltransactionamount_rank',\n",
       " 'totaltransactioncount_rank']"
      ]
     },
     "execution_count": 96,
     "metadata": {},
     "output_type": "execute_result"
    }
   ],
   "source": [
    "list(community_aggregation_df)"
   ]
  },
  {
   "cell_type": "code",
   "execution_count": 97,
   "metadata": {},
   "outputs": [
    {
     "data": {
      "text/plain": [
       "['merchant_45500_community', 'nClients', 'totalspend', 'nMerchants']"
      ]
     },
     "execution_count": 97,
     "metadata": {},
     "output_type": "execute_result"
    }
   ],
   "source": [
    "list(community_spend_df)"
   ]
  },
  {
   "cell_type": "code",
   "execution_count": 98,
   "metadata": {},
   "outputs": [
    {
     "data": {
      "text/html": [
       "<div>\n",
       "<style scoped>\n",
       "    .dataframe tbody tr th:only-of-type {\n",
       "        vertical-align: middle;\n",
       "    }\n",
       "\n",
       "    .dataframe tbody tr th {\n",
       "        vertical-align: top;\n",
       "    }\n",
       "\n",
       "    .dataframe thead th {\n",
       "        text-align: right;\n",
       "    }\n",
       "</style>\n",
       "<table border=\"1\" class=\"dataframe\">\n",
       "  <thead>\n",
       "    <tr style=\"text-align: right;\">\n",
       "      <th></th>\n",
       "      <th>merchant_45500_community</th>\n",
       "      <th>companyname</th>\n",
       "      <th>franchisename</th>\n",
       "      <th>merchant_rank</th>\n",
       "      <th>totaltransactionamount</th>\n",
       "      <th>totaltransactioncount</th>\n",
       "      <th>franchise_rank</th>\n",
       "      <th>totaltransactionamount_rank</th>\n",
       "      <th>totaltransactioncount_rank</th>\n",
       "      <th>nClients</th>\n",
       "      <th>totalspend</th>\n",
       "      <th>nMerchants</th>\n",
       "    </tr>\n",
       "  </thead>\n",
       "  <tbody>\n",
       "    <tr>\n",
       "      <th>0</th>\n",
       "      <td>346</td>\n",
       "      <td>ENGEN</td>\n",
       "      <td>ENGEN PANDA MOTORS</td>\n",
       "      <td>0.150000</td>\n",
       "      <td>18553.60</td>\n",
       "      <td>78</td>\n",
       "      <td>6.0</td>\n",
       "      <td>7.0</td>\n",
       "      <td>7.0</td>\n",
       "      <td>3090</td>\n",
       "      <td>-68255088.24</td>\n",
       "      <td>7</td>\n",
       "    </tr>\n",
       "    <tr>\n",
       "      <th>1</th>\n",
       "      <td>346</td>\n",
       "      <td>SHELL</td>\n",
       "      <td>SHELL SUMMER</td>\n",
       "      <td>0.424530</td>\n",
       "      <td>292259.29</td>\n",
       "      <td>1135</td>\n",
       "      <td>5.0</td>\n",
       "      <td>3.0</td>\n",
       "      <td>3.0</td>\n",
       "      <td>3090</td>\n",
       "      <td>-68255088.24</td>\n",
       "      <td>7</td>\n",
       "    </tr>\n",
       "    <tr>\n",
       "      <th>2</th>\n",
       "      <td>346</td>\n",
       "      <td>CALTEX</td>\n",
       "      <td>Cltx Le Mans</td>\n",
       "      <td>1.456385</td>\n",
       "      <td>427067.14</td>\n",
       "      <td>1508</td>\n",
       "      <td>3.0</td>\n",
       "      <td>1.0</td>\n",
       "      <td>2.0</td>\n",
       "      <td>3090</td>\n",
       "      <td>-68255088.24</td>\n",
       "      <td>7</td>\n",
       "    </tr>\n",
       "    <tr>\n",
       "      <th>3</th>\n",
       "      <td>346</td>\n",
       "      <td>ENGEN</td>\n",
       "      <td>ENGEN PANDA</td>\n",
       "      <td>1.975369</td>\n",
       "      <td>197556.70</td>\n",
       "      <td>947</td>\n",
       "      <td>1.0</td>\n",
       "      <td>4.0</td>\n",
       "      <td>4.0</td>\n",
       "      <td>3090</td>\n",
       "      <td>-68255088.24</td>\n",
       "      <td>7</td>\n",
       "    </tr>\n",
       "    <tr>\n",
       "      <th>4</th>\n",
       "      <td>346</td>\n",
       "      <td>TOTAL</td>\n",
       "      <td>TOTAL WINGATE</td>\n",
       "      <td>0.750491</td>\n",
       "      <td>159964.26</td>\n",
       "      <td>516</td>\n",
       "      <td>4.0</td>\n",
       "      <td>5.0</td>\n",
       "      <td>5.0</td>\n",
       "      <td>3090</td>\n",
       "      <td>-68255088.24</td>\n",
       "      <td>7</td>\n",
       "    </tr>\n",
       "    <tr>\n",
       "      <th>...</th>\n",
       "      <td>...</td>\n",
       "      <td>...</td>\n",
       "      <td>...</td>\n",
       "      <td>...</td>\n",
       "      <td>...</td>\n",
       "      <td>...</td>\n",
       "      <td>...</td>\n",
       "      <td>...</td>\n",
       "      <td>...</td>\n",
       "      <td>...</td>\n",
       "      <td>...</td>\n",
       "      <td>...</td>\n",
       "    </tr>\n",
       "    <tr>\n",
       "      <th>4148</th>\n",
       "      <td>11222</td>\n",
       "      <td>ENGEN</td>\n",
       "      <td>ENGEN WALKERVI</td>\n",
       "      <td>0.959515</td>\n",
       "      <td>20953.05</td>\n",
       "      <td>60</td>\n",
       "      <td>4.0</td>\n",
       "      <td>7.0</td>\n",
       "      <td>7.0</td>\n",
       "      <td>1693</td>\n",
       "      <td>-40370950.30</td>\n",
       "      <td>7</td>\n",
       "    </tr>\n",
       "    <tr>\n",
       "      <th>4149</th>\n",
       "      <td>11222</td>\n",
       "      <td>SHELL</td>\n",
       "      <td>SHELL SOUTH CI</td>\n",
       "      <td>0.150000</td>\n",
       "      <td>80809.00</td>\n",
       "      <td>292</td>\n",
       "      <td>6.0</td>\n",
       "      <td>4.0</td>\n",
       "      <td>3.0</td>\n",
       "      <td>1693</td>\n",
       "      <td>-40370950.30</td>\n",
       "      <td>7</td>\n",
       "    </tr>\n",
       "    <tr>\n",
       "      <th>4150</th>\n",
       "      <td>11222</td>\n",
       "      <td>TOTAL</td>\n",
       "      <td>TOTAL DE DEUR</td>\n",
       "      <td>1.776675</td>\n",
       "      <td>49356.46</td>\n",
       "      <td>211</td>\n",
       "      <td>2.0</td>\n",
       "      <td>6.0</td>\n",
       "      <td>5.0</td>\n",
       "      <td>1693</td>\n",
       "      <td>-40370950.30</td>\n",
       "      <td>7</td>\n",
       "    </tr>\n",
       "    <tr>\n",
       "      <th>4151</th>\n",
       "      <td>11222</td>\n",
       "      <td>SASOL</td>\n",
       "      <td>SASOL WALKERVILLE</td>\n",
       "      <td>0.150000</td>\n",
       "      <td>60230.52</td>\n",
       "      <td>142</td>\n",
       "      <td>6.0</td>\n",
       "      <td>5.0</td>\n",
       "      <td>6.0</td>\n",
       "      <td>1693</td>\n",
       "      <td>-40370950.30</td>\n",
       "      <td>7</td>\n",
       "    </tr>\n",
       "    <tr>\n",
       "      <th>4152</th>\n",
       "      <td>11222</td>\n",
       "      <td>TOTAL</td>\n",
       "      <td>TOTAL DE DEU</td>\n",
       "      <td>1.650348</td>\n",
       "      <td>177508.54</td>\n",
       "      <td>834</td>\n",
       "      <td>3.0</td>\n",
       "      <td>2.0</td>\n",
       "      <td>2.0</td>\n",
       "      <td>1693</td>\n",
       "      <td>-40370950.30</td>\n",
       "      <td>7</td>\n",
       "    </tr>\n",
       "  </tbody>\n",
       "</table>\n",
       "<p>4153 rows × 12 columns</p>\n",
       "</div>"
      ],
      "text/plain": [
       "      merchant_45500_community companyname       franchisename  merchant_rank  \\\n",
       "0                          346       ENGEN  ENGEN PANDA MOTORS       0.150000   \n",
       "1                          346       SHELL        SHELL SUMMER       0.424530   \n",
       "2                          346      CALTEX        Cltx Le Mans       1.456385   \n",
       "3                          346       ENGEN         ENGEN PANDA       1.975369   \n",
       "4                          346       TOTAL       TOTAL WINGATE       0.750491   \n",
       "...                        ...         ...                 ...            ...   \n",
       "4148                     11222       ENGEN      ENGEN WALKERVI       0.959515   \n",
       "4149                     11222       SHELL      SHELL SOUTH CI       0.150000   \n",
       "4150                     11222       TOTAL       TOTAL DE DEUR       1.776675   \n",
       "4151                     11222       SASOL   SASOL WALKERVILLE       0.150000   \n",
       "4152                     11222       TOTAL        TOTAL DE DEU       1.650348   \n",
       "\n",
       "      totaltransactionamount  totaltransactioncount  franchise_rank  \\\n",
       "0                   18553.60                     78             6.0   \n",
       "1                  292259.29                   1135             5.0   \n",
       "2                  427067.14                   1508             3.0   \n",
       "3                  197556.70                    947             1.0   \n",
       "4                  159964.26                    516             4.0   \n",
       "...                      ...                    ...             ...   \n",
       "4148                20953.05                     60             4.0   \n",
       "4149                80809.00                    292             6.0   \n",
       "4150                49356.46                    211             2.0   \n",
       "4151                60230.52                    142             6.0   \n",
       "4152               177508.54                    834             3.0   \n",
       "\n",
       "      totaltransactionamount_rank  totaltransactioncount_rank  nClients  \\\n",
       "0                             7.0                         7.0      3090   \n",
       "1                             3.0                         3.0      3090   \n",
       "2                             1.0                         2.0      3090   \n",
       "3                             4.0                         4.0      3090   \n",
       "4                             5.0                         5.0      3090   \n",
       "...                           ...                         ...       ...   \n",
       "4148                          7.0                         7.0      1693   \n",
       "4149                          4.0                         3.0      1693   \n",
       "4150                          6.0                         5.0      1693   \n",
       "4151                          5.0                         6.0      1693   \n",
       "4152                          2.0                         2.0      1693   \n",
       "\n",
       "       totalspend  nMerchants  \n",
       "0    -68255088.24           7  \n",
       "1    -68255088.24           7  \n",
       "2    -68255088.24           7  \n",
       "3    -68255088.24           7  \n",
       "4    -68255088.24           7  \n",
       "...           ...         ...  \n",
       "4148 -40370950.30           7  \n",
       "4149 -40370950.30           7  \n",
       "4150 -40370950.30           7  \n",
       "4151 -40370950.30           7  \n",
       "4152 -40370950.30           7  \n",
       "\n",
       "[4153 rows x 12 columns]"
      ]
     },
     "execution_count": 98,
     "metadata": {},
     "output_type": "execute_result"
    }
   ],
   "source": [
    "community_aggregation_df.merge(community_spend_df,how='left',left_on='merchant_45500_community',right_on='merchant_45500_community')"
   ]
  },
  {
   "cell_type": "markdown",
   "metadata": {},
   "source": [
    "Here we look at totals by community and create new columns __community_totaltransactionamount__ and __community_totaltransactioncount__"
   ]
  },
  {
   "cell_type": "code",
   "execution_count": 90,
   "metadata": {},
   "outputs": [],
   "source": [
    "neo4j_query=\"\"\"MATCH (merchant:Merchant {subclass_id:45500})\n",
    "WHERE EXISTS(merchant.merchantRank_45500)\n",
    "RETURN merchant.merchant_45500_community as merchant_45500_community,\n",
    "COUNT(merchant.merchant_45500_community) as count_merchant_45500_community,\n",
    "SUM(merchant.totaltransactionamount) as community_totaltransactionamount,\n",
    "SUM(merchant.totaltransactioncount) as community_totaltransactioncount\n",
    "ORDER BY merchant_45500_community ASC;\n",
    "\"\"\"\n",
    "df=graph.run(neo4j_query).to_data_frame()"
   ]
  },
  {
   "cell_type": "code",
   "execution_count": 91,
   "metadata": {},
   "outputs": [
    {
     "data": {
      "text/html": [
       "<div>\n",
       "<style scoped>\n",
       "    .dataframe tbody tr th:only-of-type {\n",
       "        vertical-align: middle;\n",
       "    }\n",
       "\n",
       "    .dataframe tbody tr th {\n",
       "        vertical-align: top;\n",
       "    }\n",
       "\n",
       "    .dataframe thead th {\n",
       "        text-align: right;\n",
       "    }\n",
       "</style>\n",
       "<table border=\"1\" class=\"dataframe\">\n",
       "  <thead>\n",
       "    <tr style=\"text-align: right;\">\n",
       "      <th></th>\n",
       "      <th>merchant_45500_community</th>\n",
       "      <th>count_merchant_45500_community</th>\n",
       "      <th>community_totaltransactionamount</th>\n",
       "      <th>community_totaltransactioncount</th>\n",
       "    </tr>\n",
       "  </thead>\n",
       "  <tbody>\n",
       "    <tr>\n",
       "      <th>0</th>\n",
       "      <td>346</td>\n",
       "      <td>7</td>\n",
       "      <td>-1434187.51</td>\n",
       "      <td>6712</td>\n",
       "    </tr>\n",
       "    <tr>\n",
       "      <th>1</th>\n",
       "      <td>358</td>\n",
       "      <td>27</td>\n",
       "      <td>-8085643.23</td>\n",
       "      <td>35864</td>\n",
       "    </tr>\n",
       "    <tr>\n",
       "      <th>2</th>\n",
       "      <td>478</td>\n",
       "      <td>15</td>\n",
       "      <td>-3503355.64</td>\n",
       "      <td>12877</td>\n",
       "    </tr>\n",
       "    <tr>\n",
       "      <th>3</th>\n",
       "      <td>686</td>\n",
       "      <td>16</td>\n",
       "      <td>-4407264.20</td>\n",
       "      <td>15353</td>\n",
       "    </tr>\n",
       "    <tr>\n",
       "      <th>4</th>\n",
       "      <td>975</td>\n",
       "      <td>25</td>\n",
       "      <td>-3517133.49</td>\n",
       "      <td>17158</td>\n",
       "    </tr>\n",
       "    <tr>\n",
       "      <th>...</th>\n",
       "      <td>...</td>\n",
       "      <td>...</td>\n",
       "      <td>...</td>\n",
       "      <td>...</td>\n",
       "    </tr>\n",
       "    <tr>\n",
       "      <th>73</th>\n",
       "      <td>6438</td>\n",
       "      <td>140</td>\n",
       "      <td>-26447042.09</td>\n",
       "      <td>128154</td>\n",
       "    </tr>\n",
       "    <tr>\n",
       "      <th>74</th>\n",
       "      <td>6745</td>\n",
       "      <td>22</td>\n",
       "      <td>-4526567.10</td>\n",
       "      <td>16871</td>\n",
       "    </tr>\n",
       "    <tr>\n",
       "      <th>75</th>\n",
       "      <td>6821</td>\n",
       "      <td>268</td>\n",
       "      <td>-69571232.32</td>\n",
       "      <td>285461</td>\n",
       "    </tr>\n",
       "    <tr>\n",
       "      <th>76</th>\n",
       "      <td>7697</td>\n",
       "      <td>7</td>\n",
       "      <td>-1015858.60</td>\n",
       "      <td>3287</td>\n",
       "    </tr>\n",
       "    <tr>\n",
       "      <th>77</th>\n",
       "      <td>11222</td>\n",
       "      <td>7</td>\n",
       "      <td>-914911.79</td>\n",
       "      <td>3491</td>\n",
       "    </tr>\n",
       "  </tbody>\n",
       "</table>\n",
       "<p>78 rows × 4 columns</p>\n",
       "</div>"
      ],
      "text/plain": [
       "    merchant_45500_community  count_merchant_45500_community  \\\n",
       "0                        346                               7   \n",
       "1                        358                              27   \n",
       "2                        478                              15   \n",
       "3                        686                              16   \n",
       "4                        975                              25   \n",
       "..                       ...                             ...   \n",
       "73                      6438                             140   \n",
       "74                      6745                              22   \n",
       "75                      6821                             268   \n",
       "76                      7697                               7   \n",
       "77                     11222                               7   \n",
       "\n",
       "    community_totaltransactionamount  community_totaltransactioncount  \n",
       "0                        -1434187.51                             6712  \n",
       "1                        -8085643.23                            35864  \n",
       "2                        -3503355.64                            12877  \n",
       "3                        -4407264.20                            15353  \n",
       "4                        -3517133.49                            17158  \n",
       "..                               ...                              ...  \n",
       "73                      -26447042.09                           128154  \n",
       "74                       -4526567.10                            16871  \n",
       "75                      -69571232.32                           285461  \n",
       "76                       -1015858.60                             3287  \n",
       "77                        -914911.79                             3491  \n",
       "\n",
       "[78 rows x 4 columns]"
      ]
     },
     "execution_count": 91,
     "metadata": {},
     "output_type": "execute_result"
    }
   ],
   "source": [
    "df"
   ]
  },
  {
   "cell_type": "code",
   "execution_count": null,
   "metadata": {},
   "outputs": [],
   "source": []
  }
 ],
 "metadata": {
  "kernelspec": {
   "display_name": "Python 3",
   "language": "python",
   "name": "python3"
  },
  "language_info": {
   "codemirror_mode": {
    "name": "ipython",
    "version": 3
   },
   "file_extension": ".py",
   "mimetype": "text/x-python",
   "name": "python",
   "nbconvert_exporter": "python",
   "pygments_lexer": "ipython3",
   "version": "3.7.3"
  }
 },
 "nbformat": 4,
 "nbformat_minor": 4
}

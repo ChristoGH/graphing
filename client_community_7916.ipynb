{
 "cells": [
  {
   "cell_type": "code",
   "execution_count": 1,
   "metadata": {},
   "outputs": [],
   "source": [
    "import pandas as pd\n",
    "from py2neo import Graph\n",
    "graph = Graph(\"bolt://localhost:7687\", user='neo4j', password='newPassword')\n",
    "import time\n",
    "import glob\n",
    "import os"
   ]
  },
  {
   "cell_type": "code",
   "execution_count": 2,
   "metadata": {},
   "outputs": [],
   "source": [
    "neo4j_query=\"\"\"\n",
    "MATCH (c:Client)\n",
    "WHERE EXISTS(c.client_link_community_7916) \n",
    "RETURN COUNT(c.client_link_community_7916) as membercount, c.client_link_community_7916 as client_link_community_7916\n",
    "ORDER BY membercount ASC;\n",
    "\"\"\""
   ]
  },
  {
   "cell_type": "code",
   "execution_count": 3,
   "metadata": {},
   "outputs": [],
   "source": [
    "client_link_community_7916_df=graph.run(neo4j_query).to_data_frame()"
   ]
  },
  {
   "cell_type": "code",
   "execution_count": 4,
   "metadata": {},
   "outputs": [
    {
     "data": {
      "text/plain": [
       "['membercount', 'client_link_community_7916']"
      ]
     },
     "execution_count": 4,
     "metadata": {},
     "output_type": "execute_result"
    }
   ],
   "source": [
    "list(client_link_community_7916_df)"
   ]
  },
  {
   "cell_type": "code",
   "execution_count": null,
   "metadata": {},
   "outputs": [],
   "source": [
    "client_link_community_7916_list=list(client_link_community_7916_df.client_link_community_7916)"
   ]
  },
  {
   "cell_type": "code",
   "execution_count": null,
   "metadata": {},
   "outputs": [],
   "source": [
    "client_link_community_7916_list"
   ]
  },
  {
   "cell_type": "code",
   "execution_count": null,
   "metadata": {},
   "outputs": [],
   "source": [
    "community=822\n",
    "graphname='triadic_graph_{community}'.format(community=community)\n",
    "query=\"\"\"CALL gds.graph.exists('{graphname}') YIELD exists;\"\"\".format(graphname=graphname)\n",
    "exists=graph.run(query).data()\n",
    "exists[0]['exists']"
   ]
  },
  {
   "cell_type": "code",
   "execution_count": null,
   "metadata": {},
   "outputs": [],
   "source": [
    "create_graph_query = \"\"\"CALL gds.graph.create.cypher(\n",
    "    '{graphname}',\n",
    "    'MATCH (c0:Client) WHERE c0.client_link_community_7916={community} RETURN id(c0) AS id',\n",
    "    'MATCH (c0:Client)-[cl:CLIENT_LINK_7916]->(c1:Client) WHERE c0.client_link_community_7916={community} AND c1.client_link_community_7916={community} RETURN id(c0) AS source, id(c1) AS target, cl.count as count'\n",
    ")\n",
    "YIELD graphName, nodeCount, relationshipCount, createMillis;\"\"\".format(community=community,graphname=graphname)"
   ]
  },
  {
   "cell_type": "code",
   "execution_count": null,
   "metadata": {},
   "outputs": [],
   "source": [
    "graph.run(create_graph_query).data()"
   ]
  },
  {
   "cell_type": "code",
   "execution_count": null,
   "metadata": {},
   "outputs": [],
   "source": [
    "pagerank_query=\"\"\"CALL gds.pageRank.stream('{graphname}', {{ maxIterations: 20, dampingFactor: 0.85 }})\n",
    "YIELD nodeId, score\n",
    "RETURN gds.util.asNode(nodeId).dedupestatic AS dedupestatic, nodeId AS nodeId, score\n",
    "ORDER BY score DESC, dedupestatic ASC;\"\"\".format(graphname=graphname)"
   ]
  },
  {
   "cell_type": "code",
   "execution_count": null,
   "metadata": {},
   "outputs": [],
   "source": [
    "gf=graph.run(pagerank_query).to_data_frame()"
   ]
  },
  {
   "cell_type": "code",
   "execution_count": null,
   "metadata": {},
   "outputs": [],
   "source": [
    "gf"
   ]
  },
  {
   "cell_type": "code",
   "execution_count": null,
   "metadata": {},
   "outputs": [],
   "source": [
    "list(client_link_community_7916_df)"
   ]
  },
  {
   "cell_type": "code",
   "execution_count": null,
   "metadata": {},
   "outputs": [],
   "source": [
    "graph = Graph(\"bolt://localhost:7687\", user='neo4j', password='newPassword')\n",
    "hf=pd.DataFrame()\n",
    "donelist=[]\n",
    "leftoverlist=client_link_community_7916_list.copy()\n",
    "counter=0\n",
    "for community in client_link_community_7916_list:\n",
    "    print('Doing community {community}, {counter} of {total}'.format(community=community,counter=len(donelist),total=len(client_link_community_7916_list)))\n",
    "    graphname='triadic_graph_{community}'.format(community=community)\n",
    "    query=\"\"\"CALL gds.graph.exists('{graphname}') YIELD exists;\"\"\".format(graphname=graphname)\n",
    "    exists=graph.run(query).data()\n",
    "    if exists[0]['exists']:\n",
    "        print(\"graph exists!\")\n",
    "        graph.run(\"\"\"CALL gds.graph.drop('{graphname}') YIELD graphName;\"\"\".format(graphname=graphname)).data()\n",
    "    #     CALL gds.graph.drop('my-store-graph') YIELD graphName;\n",
    "    else:\n",
    "        print(\"graph doesn't exist!\")\n",
    "    # ----------------------------------------------------------------------------\n",
    "    create_graph_query = \"\"\"CALL gds.graph.create.cypher(\n",
    "        '{graphname}',\n",
    "        'MATCH (c0:Client) WHERE c0.client_link_community_7916={community} RETURN id(c0) AS id',\n",
    "        'MATCH (c0:Client)-[cl:CLIENT_LINK_7916]->(c1:Client) \n",
    "        WHERE c0.client_link_community_7916={community} AND \n",
    "        c1.client_link_community_7916={community} RETURN id(c0) AS source, id(c1) AS target, cl.count as count'\n",
    "    )\n",
    "    YIELD graphName, nodeCount, relationshipCount, createMillis;\"\"\".format(community=community,graphname=graphname)\n",
    "    print('create graph {graphname}: '.format(graphname=graphname))\n",
    "    graph.run(create_graph_query).data()\n",
    "    print('Do page rank algorithm on {graphname}'.format(graphname=graphname))\n",
    "    pagerank_query=\"\"\"CALL gds.pageRank.stream('{graphname}', {{ maxIterations: 20, dampingFactor: 0.85 }})\n",
    "    YIELD nodeId, score\n",
    "    RETURN gds.util.asNode(nodeId).dedupestatic AS dedupestatic, nodeId as nodeId, score\n",
    "    ORDER BY score DESC, dedupestatic ASC;\"\"\".format(graphname=graphname)\n",
    "    \n",
    "    gf=graph.run(pagerank_query).to_data_frame()\n",
    "    gf['community']=community\n",
    "    gf['membercount']=list(client_link_community_7916_df[client_link_community_7916_df.client_link_community_7916==community]['membercount'])[0]\n",
    "    gf.to_csv(path_or_buf='/media/lnr-ai/christo/github_repos/graphing/data/CLIENT_LINK_7916_{community}_df'.format(community=community),index=False) \n",
    "    hf = hf.append(gf, ignore_index=True)\n",
    "    print(gf)\n",
    "    print(\"Delete graph {graphname}...\".format(graphname=graphname))\n",
    "    graph.run(\"\"\"CALL gds.graph.drop('{graphname}') YIELD graphName;\"\"\".format(graphname=graphname)).data()\n",
    "#     print('-Sleep 60s---------------------------------')\n",
    "#     time.sleep(60)\n",
    "    donelist.append(community)\n",
    "    leftoverlist.pop(leftoverlist.index(community))\n",
    "    print(leftoverlist)\n",
    "    counter+=1\n",
    "    print(\"====================================================================================\")"
   ]
  },
  {
   "cell_type": "code",
   "execution_count": null,
   "metadata": {},
   "outputs": [],
   "source": [
    "# from py2neo import Graph\n",
    "graph = Graph(\"bolt://localhost:7687\", user='neo4j', password='newPassword')\n",
    "hf=pd.DataFrame()\n",
    "donelist=[]\n",
    "tmp_list=leftoverlist.copy()\n",
    "# leftoverlist=tmp_list\n",
    "counter=0\n",
    "for community in leftoverlist:\n",
    "    print('Doing community {community}, {counter} of {total}'.format(community=community,counter=len(donelist),total=len(tmp_list)))\n",
    "    # ----------------------------------------------------------------------------------------------------------    \n",
    "    graphname='triadic_graph_{community}'.format(community=community)\n",
    "    query=\"\"\"CALL gds.graph.exists('{graphname}') YIELD exists;\"\"\".format(graphname=graphname)\n",
    "    exists=graph.run(query).data()\n",
    "    if exists[0]['exists']:\n",
    "        print(\"graph exists!\")\n",
    "        graph.run(\"\"\"CALL gds.graph.drop('{graphname}') YIELD graphName;\"\"\".format(graphname=graphname)).data()\n",
    "    #     CALL gds.graph.drop('my-store-graph') YIELD graphName;\n",
    "    else:\n",
    "        print(\"graph doesn't exist!\")\n",
    "    # ----------------------------------------------------------------------------\n",
    "    create_graph_query = \"\"\"CALL gds.graph.create.cypher(\n",
    "        '{graphname}',\n",
    "        'MATCH (c0:Client) WHERE c0.client_link_community_7916={community} RETURN id(c0) AS id',\n",
    "        'MATCH (c0:Client)-[cl:CLIENT_LINK_7916]->(c1:Client) \n",
    "        WHERE c0.client_link_community_7916={community} AND \n",
    "        c1.client_link_community_7916={community} RETURN id(c0) AS source, id(c1) AS target, cl.count as count'\n",
    "    )\n",
    "    YIELD graphName, nodeCount, relationshipCount, createMillis;\"\"\".format(community=community,graphname=graphname)\n",
    "    graph.run(create_graph_query).data()\n",
    "\n",
    "    pagerank_query=\"\"\"CALL gds.pageRank.stream('{graphname}', {{ maxIterations: 20, dampingFactor: 0.85 }})\n",
    "    YIELD nodeId, score\n",
    "    RETURN gds.util.asNode(nodeId).dedupestatic AS dedupestatic, nodeId as nodeId, score\n",
    "    ORDER BY score DESC, dedupestatic ASC;\"\"\".format(graphname=graphname)\n",
    "\n",
    "    gf=graph.run(pagerank_query).to_data_frame()\n",
    "    gf['community']=community\n",
    "    gf['membercount']=list(client_link_community_7916_df[client_link_community_7916_df.client_link_community_7916==community]['membercount'])[0]\n",
    "    gf.to_csv(path_or_buf='/media/lnr-ai/christo/github_repos/graphing/data/CLIENT_LINK_7916_{community}_df'.format(community=community),index=False) \n",
    "    hf = hf.append(gf, ignore_index=True)\n",
    "    print(gf)\n",
    "    print(\"Delete graph {graphname}...\".format(graphname=graphname))\n",
    "    graph.run(\"\"\"CALL gds.graph.drop('{graphname}') YIELD graphName;\"\"\".format(graphname=graphname)).data()\n",
    "#     print('-Sleep 60s---------------------------------')\n",
    "#     time.sleep(60)\n",
    "    donelist.append(community)\n",
    "    tmp_list.pop(tmp_list.index(community))\n",
    "    print(tmp_list)\n",
    "    counter+=1\n",
    "    print(\"====================================================================================\")"
   ]
  },
  {
   "cell_type": "code",
   "execution_count": null,
   "metadata": {},
   "outputs": [],
   "source": [
    "tmp_list"
   ]
  },
  {
   "cell_type": "code",
   "execution_count": null,
   "metadata": {},
   "outputs": [],
   "source": [
    "# from py2neo import Graph\n",
    "graph = Graph(\"bolt://localhost:7687\", user='neo4j', password='newPassword')\n",
    "hf=pd.DataFrame()\n",
    "donelist=[]\n",
    "leftoverlist=tmp_list.copy()\n",
    "# leftoverlist=tmp_list\n",
    "counter=0\n",
    "for community in leftoverlist:\n",
    "    print('Doing community {community}, {counter} of {total}'.format(community=community,counter=len(donelist),total=len(tmp_list)))\n",
    "    # ----------------------------------------------------------------------------------------------------------    \n",
    "    graphname='triadic_graph_{community}'.format(community=community)\n",
    "    query=\"\"\"CALL gds.graph.exists('{graphname}') YIELD exists;\"\"\".format(graphname=graphname)\n",
    "    exists=graph.run(query).data()\n",
    "    if exists[0]['exists']:\n",
    "        print(\"graph exists!\")\n",
    "        graph.run(\"\"\"CALL gds.graph.drop('{graphname}') YIELD graphName;\"\"\".format(graphname=graphname)).data()\n",
    "    #     CALL gds.graph.drop('my-store-graph') YIELD graphName;\n",
    "    else:\n",
    "        print(\"graph doesn't exist!\")\n",
    "    # ----------------------------------------------------------------------------\n",
    "    create_graph_query = \"\"\"CALL gds.graph.create.cypher(\n",
    "        '{graphname}',\n",
    "        'MATCH (c0:Client) WHERE c0.client_link_community_7916={community} RETURN id(c0) AS id',\n",
    "        'MATCH (c0:Client)-[cl:CLIENT_LINK_7916]->(c1:Client) \n",
    "        WHERE c0.client_link_community_7916={community} AND \n",
    "        c1.client_link_community_7916={community} RETURN id(c0) AS source, id(c1) AS target, cl.count as count'\n",
    "    )\n",
    "    YIELD graphName, nodeCount, relationshipCount, createMillis;\"\"\".format(community=community,graphname=graphname)\n",
    "    graph.run(create_graph_query).data()\n",
    "\n",
    "    pagerank_query=\"\"\"CALL gds.pageRank.stream('{graphname}', {{ maxIterations: 20, dampingFactor: 0.85 }})\n",
    "    YIELD nodeId, score\n",
    "    RETURN gds.util.asNode(nodeId).dedupestatic AS dedupestatic, nodeId as nodeId, score\n",
    "    ORDER BY score DESC, dedupestatic ASC;\"\"\".format(graphname=graphname)\n",
    "    \n",
    "    gf=graph.run(pagerank_query).to_data_frame()\n",
    "    gf['community']=community\n",
    "    gf['membercount']=list(client_link_community_7916_df[client_link_community_7916_df.client_link_community_7916==community]['membercount'])[0]\n",
    "    gf.to_csv(path_or_buf='/media/lnr-ai/christo/github_repos/graphing/data/CLIENT_LINK_7916_{community}_df'.format(community=community),index=False) \n",
    "    hf = hf.append(gf, ignore_index=True)\n",
    "    print(gf)\n",
    "    print(\"Delete graph {graphname}...\".format(graphname=graphname))\n",
    "    graph.run(\"\"\"CALL gds.graph.drop('{graphname}') YIELD graphName;\"\"\".format(graphname=graphname)).data()\n",
    "#     print('-Sleep 60s---------------------------------')\n",
    "#     time.sleep(60)\n",
    "    donelist.append(community)\n",
    "    tmp_list.pop(tmp_list.index(community))\n",
    "    print(tmp_list)\n",
    "    counter+=1\n",
    "    print(\"====================================================================================\")"
   ]
  },
  {
   "cell_type": "code",
   "execution_count": null,
   "metadata": {},
   "outputs": [],
   "source": [
    "# path='/media/lnr-ai/christo/github_repos/graphing/data'\n",
    "path='/media/lnr-ai/christo/github_repos/graphing/data'\n",
    "file_list=glob.glob(path+'/*')\n",
    "# df.append(ignore_index=)"
   ]
  },
  {
   "cell_type": "code",
   "execution_count": null,
   "metadata": {},
   "outputs": [],
   "source": [
    "file_list"
   ]
  },
  {
   "cell_type": "code",
   "execution_count": null,
   "metadata": {},
   "outputs": [],
   "source": [
    "answer_dict={}\n",
    "answer_df=pd.DataFrame()\n",
    "for file_name in file_list:\n",
    "#     print(file_name)\n",
    "    if 'CLIENT_LINK_7916' in file_name:\n",
    "        print(file_name,int(file_name.split('_')[-2]))\n",
    "        df=pd.read_csv(filepath_or_buffer=file_name)\n",
    "#         answer_dict['franchisename_1']=df.iloc[0].franchisename\n",
    "        answer_dict['dedupestatic']=df.iloc[0].dedupestatic\n",
    "\n",
    "        answer_dict['nodeId']=df.iloc[0].nodeId           \n",
    "        answer_dict['score']=df.iloc[0].score        \n",
    "        answer_dict['community']=df.iloc[0].community       \n",
    "        answer_dict['membercount']=df.iloc[0].membercount            \n",
    "        answer_df=answer_df.append(answer_dict, ignore_index=True)"
   ]
  },
  {
   "cell_type": "code",
   "execution_count": null,
   "metadata": {},
   "outputs": [],
   "source": [
    "answer_df"
   ]
  },
  {
   "cell_type": "code",
   "execution_count": null,
   "metadata": {},
   "outputs": [],
   "source": [
    "print(file_name,int(file_name.split('_')[-2]))"
   ]
  },
  {
   "cell_type": "code",
   "execution_count": null,
   "metadata": {},
   "outputs": [],
   "source": [
    "file_name.split('_')[-1]"
   ]
  },
  {
   "cell_type": "code",
   "execution_count": null,
   "metadata": {},
   "outputs": [],
   "source": [
    "answer_df.to_csv('/media/lnr-ai/christo/github_repos/graphing/data/CLIENT_LINK_7916_pageranked.csv', index=False)"
   ]
  },
  {
   "cell_type": "code",
   "execution_count": 5,
   "metadata": {},
   "outputs": [],
   "source": [
    "answer_df=pd.read_csv('/media/lnr-ai/christo/github_repos/graphing/data/CLIENT_LINK_7916_pageranked.csv')"
   ]
  },
  {
   "cell_type": "code",
   "execution_count": 6,
   "metadata": {},
   "outputs": [],
   "source": [
    "neo4j_query=\"\"\"MATCH (c:Client)-[t:TRANSACTED_AT]->(m:Merchant) WHERE m.subclass_id=56101\n",
    "AND ID(c)=4636331.0 AND m.triadic_56101_community=7916 RETURN ID(c), t.transactionamount as transactionamount, \n",
    "t.transactioncount as transactioncount, \n",
    "m.franchisename as franchisename,\n",
    "c.client_link_community_7916 as client_community,\n",
    "m.triadic_56101_community as community;\"\"\""
   ]
  },
  {
   "cell_type": "code",
   "execution_count": 7,
   "metadata": {},
   "outputs": [],
   "source": [
    "df=graph.run(neo4j_query).to_data_frame()"
   ]
  },
  {
   "cell_type": "code",
   "execution_count": 8,
   "metadata": {},
   "outputs": [
    {
     "data": {
      "text/html": [
       "<div>\n",
       "<style scoped>\n",
       "    .dataframe tbody tr th:only-of-type {\n",
       "        vertical-align: middle;\n",
       "    }\n",
       "\n",
       "    .dataframe tbody tr th {\n",
       "        vertical-align: top;\n",
       "    }\n",
       "\n",
       "    .dataframe thead th {\n",
       "        text-align: right;\n",
       "    }\n",
       "</style>\n",
       "<table border=\"1\" class=\"dataframe\">\n",
       "  <thead>\n",
       "    <tr style=\"text-align: right;\">\n",
       "      <th></th>\n",
       "      <th>ID(c)</th>\n",
       "      <th>transactionamount</th>\n",
       "      <th>transactioncount</th>\n",
       "      <th>franchisename</th>\n",
       "      <th>client_community</th>\n",
       "      <th>community</th>\n",
       "    </tr>\n",
       "  </thead>\n",
       "  <tbody>\n",
       "    <tr>\n",
       "      <th>0</th>\n",
       "      <td>4636331</td>\n",
       "      <td>-84.0</td>\n",
       "      <td>1</td>\n",
       "      <td>NANDOS GROBLER</td>\n",
       "      <td>176</td>\n",
       "      <td>7916</td>\n",
       "    </tr>\n",
       "  </tbody>\n",
       "</table>\n",
       "</div>"
      ],
      "text/plain": [
       "     ID(c)  transactionamount  transactioncount   franchisename  \\\n",
       "0  4636331              -84.0                 1  NANDOS GROBLER   \n",
       "\n",
       "   client_community  community  \n",
       "0               176       7916  "
      ]
     },
     "execution_count": 8,
     "metadata": {},
     "output_type": "execute_result"
    }
   ],
   "source": [
    "df"
   ]
  },
  {
   "cell_type": "code",
   "execution_count": 10,
   "metadata": {},
   "outputs": [
    {
     "name": "stdout",
     "output_type": "stream",
     "text": [
      "    nodeId  transactionamount  transactioncount franchisename  \\\n",
      "0  4587292              -29.9                 1    KFC MOLOTO   \n",
      "\n",
      "   client_community  community  \n",
      "0              1415       7916  \n",
      "    nodeId  transactionamount  transactioncount   franchisename  \\\n",
      "0  4636331              -84.0                 1  NANDOS GROBLER   \n",
      "\n",
      "   client_community  community  \n",
      "0               176       7916  \n",
      "    nodeId  transactionamount  transactioncount franchisename  \\\n",
      "0  4649072             -264.9                 1  KFC GROBLERS   \n",
      "\n",
      "   client_community  community  \n",
      "0              1779       7916  \n",
      "    nodeId  transactionamount  transactioncount franchisename  \\\n",
      "0  4625674             -119.4                 1  KFC MOUTSIYA   \n",
      "\n",
      "   client_community  community  \n",
      "0               220       7916  \n",
      "    nodeId  transactionamount  transactioncount franchisename  \\\n",
      "0  4649198             -390.9                 2  KFC MOUTSE M   \n",
      "\n",
      "   client_community  community  \n",
      "0               232       7916  \n",
      "    nodeId  transactionamount  transactioncount franchisename  \\\n",
      "0  4630429             -195.6                 1  KFC MARBLE H   \n",
      "\n",
      "   client_community  community  \n",
      "0                27       7916  \n",
      "    nodeId  transactionamount  transactioncount franchisename  \\\n",
      "0  4640352             -134.9                 1  KFC Moratiwa   \n",
      "\n",
      "   client_community  community  \n",
      "0                31       7916  \n",
      "    nodeId  transactionamount  transactioncount   franchisename  \\\n",
      "0  4640435             -170.6                 1  WIMPY GROBLERS   \n",
      "\n",
      "   client_community  community  \n",
      "0                44       7916  \n",
      "    nodeId  transactionamount  transactioncount franchisename  \\\n",
      "0  4597772              -75.7                 1  KFC JANE FUR   \n",
      "\n",
      "   client_community  community  \n",
      "0                75       7916  \n",
      "    nodeId  transactionamount  transactioncount  franchisename  \\\n",
      "0  4632834              -73.9                 1  KFC SIYABUSWA   \n",
      "\n",
      "   client_community  community  \n",
      "0               822       7916  \n",
      "    nodeId  transactionamount  transactioncount franchisename  \\\n",
      "0  4590161              -84.8                 1  KFC PHOLA PA   \n",
      "\n",
      "   client_community  community  \n",
      "0                86       7916  \n",
      "    nodeId  transactionamount  transactioncount franchisename  \\\n",
      "0  4651141              -49.9                 1  McD Kwagga M   \n",
      "\n",
      "   client_community  community  \n",
      "0                95       7916  \n"
     ]
    }
   ],
   "source": [
    "client_link_df=pd.DataFrame()\n",
    "for nodeId in list(answer_df.nodeId):\n",
    "    neo4j_query=\"\"\"MATCH (c:Client)-[t:TRANSACTED_AT]->(m:Merchant) WHERE m.subclass_id=56101\n",
    "AND ID(c)={nodeId} AND m.triadic_56101_community=7916 RETURN ID(c) as nodeId, t.transactionamount as transactionamount, \n",
    "t.transactioncount as transactioncount, \n",
    "m.franchisename as franchisename,\n",
    "c.client_link_community_7916 as client_community,\n",
    "m.triadic_56101_community as community;\"\"\".format(nodeId=nodeId)\n",
    "    df=graph.run(neo4j_query).to_data_frame()\n",
    "    print(df)\n",
    "    client_link_df=client_link_df.append(df, ignore_index=True)"
   ]
  },
  {
   "cell_type": "code",
   "execution_count": 12,
   "metadata": {},
   "outputs": [],
   "source": [
    "client_link_df.sort_values('client_community',inplace = True)"
   ]
  },
  {
   "cell_type": "code",
   "execution_count": 14,
   "metadata": {},
   "outputs": [
    {
     "data": {
      "text/plain": [
       "['nodeId',\n",
       " 'transactionamount',\n",
       " 'transactioncount',\n",
       " 'franchisename',\n",
       " 'client_community',\n",
       " 'community']"
      ]
     },
     "execution_count": 14,
     "metadata": {},
     "output_type": "execute_result"
    }
   ],
   "source": [
    "list(client_link_df)"
   ]
  },
  {
   "cell_type": "code",
   "execution_count": 16,
   "metadata": {},
   "outputs": [
    {
     "name": "stdout",
     "output_type": "stream",
     "text": [
      "\\begin{tabular}{rlr}\n",
      "\\toprule\n",
      "  nodeId &   franchisename &  client\\_community \\\\\n",
      "\\midrule\n",
      " 4630429 &    KFC MARBLE H &                27 \\\\\n",
      " 4640352 &    KFC Moratiwa &                31 \\\\\n",
      " 4640435 &  WIMPY GROBLERS &                44 \\\\\n",
      " 4597772 &    KFC JANE FUR &                75 \\\\\n",
      " 4590161 &    KFC PHOLA PA &                86 \\\\\n",
      " 4651141 &    McD Kwagga M &                95 \\\\\n",
      " 4636331 &  NANDOS GROBLER &               176 \\\\\n",
      " 4625674 &    KFC MOUTSIYA &               220 \\\\\n",
      " 4649198 &    KFC MOUTSE M &               232 \\\\\n",
      " 4632834 &   KFC SIYABUSWA &               822 \\\\\n",
      " 4587292 &      KFC MOLOTO &              1415 \\\\\n",
      " 4649072 &    KFC GROBLERS &              1779 \\\\\n",
      "\\bottomrule\n",
      "\\end{tabular}\n",
      "\n"
     ]
    }
   ],
   "source": [
    "print(client_link_df[['nodeId',\n",
    "#  'transactionamount',\n",
    "#  'transactioncount',\n",
    " 'franchisename',\n",
    " 'client_community',]].to_latex(index=False))"
   ]
  },
  {
   "cell_type": "code",
   "execution_count": null,
   "metadata": {},
   "outputs": [],
   "source": [
    "list(answer_df)"
   ]
  },
  {
   "cell_type": "code",
   "execution_count": null,
   "metadata": {},
   "outputs": [],
   "source": [
    "hf=pd.DataFrame()\n",
    "for nodeId in list(answer_df.community):\n",
    "    neo4j_query=\"\"\"\n",
    "    MATCH (c:Client)-[t:TRANSACTED_AT]->(m:Merchant)\n",
    "    WHERE EXISTS(c.client_link_community_7916) AND c.client_link_community_7916={nodeId} AND m.subclass_id=56101\n",
    "    RETURN c.client_link_community_7916 AS client_link_community_7916,  \n",
    "    m.franchisename as franchisename, \n",
    "    SUM(t.transactionamount) AS transactionamount, \n",
    "    SUM(t.transactioncount) AS transactioncount\n",
    "    \"\"\".format(nodeId=nodeId)\n",
    "    df=graph.run(neo4j_query).to_data_frame()\n",
    "    print(df)\n",
    "    hf = hf.append(df, ignore_index=True)"
   ]
  },
  {
   "cell_type": "code",
   "execution_count": null,
   "metadata": {},
   "outputs": [],
   "source": [
    "hf.shape"
   ]
  },
  {
   "cell_type": "code",
   "execution_count": null,
   "metadata": {},
   "outputs": [],
   "source": [
    "list(hf)"
   ]
  },
  {
   "cell_type": "code",
   "execution_count": null,
   "metadata": {},
   "outputs": [],
   "source": [
    "sf=hf.pivot(index='client_link_community_7916', columns='franchisename', values='transactionamount')"
   ]
  },
  {
   "cell_type": "code",
   "execution_count": null,
   "metadata": {},
   "outputs": [],
   "source": [
    "# sf.reset_index(inplace=True)\n",
    "sf.fillna(0, inplace = True)"
   ]
  },
  {
   "cell_type": "code",
   "execution_count": null,
   "metadata": {},
   "outputs": [],
   "source": [
    "sf.sum(axis=0)"
   ]
  },
  {
   "cell_type": "code",
   "execution_count": null,
   "metadata": {},
   "outputs": [],
   "source": [
    "sf\n"
   ]
  },
  {
   "cell_type": "code",
   "execution_count": null,
   "metadata": {},
   "outputs": [],
   "source": [
    "x=sf.iloc[0].to_numpy()"
   ]
  },
  {
   "cell_type": "code",
   "execution_count": null,
   "metadata": {},
   "outputs": [],
   "source": [
    "x"
   ]
  },
  {
   "cell_type": "code",
   "execution_count": null,
   "metadata": {},
   "outputs": [],
   "source": [
    "import numpy as np\n",
    "np.argsort(x)"
   ]
  },
  {
   "cell_type": "code",
   "execution_count": null,
   "metadata": {},
   "outputs": [],
   "source": [
    "list(sf)[476]"
   ]
  },
  {
   "cell_type": "code",
   "execution_count": null,
   "metadata": {},
   "outputs": [],
   "source": [
    "np.argsort(x)[0:10]"
   ]
  },
  {
   "cell_type": "code",
   "execution_count": null,
   "metadata": {},
   "outputs": [],
   "source": [
    "list(sf)[np.argsort(x)[0:10]]"
   ]
  },
  {
   "cell_type": "code",
   "execution_count": null,
   "metadata": {},
   "outputs": [],
   "source": [
    "list(np.argsort(x)[0:10])"
   ]
  },
  {
   "cell_type": "code",
   "execution_count": null,
   "metadata": {},
   "outputs": [],
   "source": [
    "s=list(sf)\n",
    "s[np.argsort(x)[0:10]]"
   ]
  },
  {
   "cell_type": "code",
   "execution_count": null,
   "metadata": {},
   "outputs": [],
   "source": [
    "d=np.argsort(x)[0:10]"
   ]
  },
  {
   "cell_type": "code",
   "execution_count": null,
   "metadata": {},
   "outputs": [],
   "source": [
    "f=d.tolist()\n",
    "x=sf.iloc[3].to_numpy()\n",
    "[s[ind] for ind in np.argsort(x)[0:10]]"
   ]
  },
  {
   "cell_type": "code",
   "execution_count": null,
   "metadata": {},
   "outputs": [],
   "source": [
    "x.sort()"
   ]
  },
  {
   "cell_type": "code",
   "execution_count": null,
   "metadata": {},
   "outputs": [],
   "source": []
  }
 ],
 "metadata": {
  "kernelspec": {
   "display_name": "Python 3",
   "language": "python",
   "name": "python3"
  },
  "language_info": {
   "codemirror_mode": {
    "name": "ipython",
    "version": 3
   },
   "file_extension": ".py",
   "mimetype": "text/x-python",
   "name": "python",
   "nbconvert_exporter": "python",
   "pygments_lexer": "ipython3",
   "version": "3.7.3"
  }
 },
 "nbformat": 4,
 "nbformat_minor": 4
}

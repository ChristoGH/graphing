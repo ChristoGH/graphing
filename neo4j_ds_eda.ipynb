{
 "cells": [
  {
   "cell_type": "markdown",
   "metadata": {},
   "source": [
    "https://neo4j.com/graphacademy/online-training/data-science/part-2/"
   ]
  },
  {
   "cell_type": "markdown",
   "metadata": {},
   "source": [
    "/media/lnr-ai/applications/./neo4j-desktop-offline-1.2.7-x86_64.AppImage "
   ]
  },
  {
   "cell_type": "code",
   "execution_count": 1,
   "metadata": {},
   "outputs": [],
   "source": [
    "import pandas as pd\n",
    "from py2neo import Graph\n",
    "graph = Graph(\"bolt://localhost:7687\", user='neo4j', password='newPassword')\n",
    "# graph = Graph()"
   ]
  },
  {
   "cell_type": "code",
   "execution_count": 2,
   "metadata": {},
   "outputs": [],
   "source": [
    "import matplotlib \n",
    "import matplotlib.pyplot as plt"
   ]
  },
  {
   "cell_type": "markdown",
   "metadata": {},
   "source": [
    "### Part 1, EDA"
   ]
  },
  {
   "cell_type": "markdown",
   "metadata": {},
   "source": [
    "https://colab.research.google.com/github/neo4j-contrib/training-v2/blob/master/Courses/DataScience/notebooks/02_EDA.ipynb#scrollTo=0r69d4ek5huR"
   ]
  },
  {
   "cell_type": "markdown",
   "metadata": {},
   "source": [
    "#### Is the Neo4J db up and running?"
   ]
  },
  {
   "cell_type": "code",
   "execution_count": 3,
   "metadata": {},
   "outputs": [
    {
     "data": {
      "text/plain": [
       "[{'nodes': [(_-2:Merchant {constraints: ['CONSTRAINT ON ( merchant:Merchant ) ASSERT (merchant.franchisename) IS UNIQUE'], indexes: [], name: 'Merchant'}),\n",
       "   (_-1:Client {constraints: ['CONSTRAINT ON ( client:Client ) ASSERT (client.dedupestatic) IS UNIQUE'], indexes: [], name: 'Client'}),\n",
       "   (_-3:Segment {constraints: ['CONSTRAINT ON ( segment:Segment ) ASSERT (segment.seg_l3_num) IS UNIQUE'], indexes: [], name: 'Segment'})],\n",
       "  'relationships': [(Client)-[:TRANSACTED_AT {}]->(Merchant),\n",
       "   (Merchant)-[:MERCHANT_VALUE_LINK {}]->(Merchant),\n",
       "   (Merchant)-[:MERCHANT_LINK {}]->(Merchant),\n",
       "   (Merchant)-[:MERCHANT_FEET_LINK {}]->(Merchant)]}]"
      ]
     },
     "execution_count": 3,
     "metadata": {},
     "output_type": "execute_result"
    }
   ],
   "source": [
    "graph.run(\"CALL db.schema.visualization()\").data()"
   ]
  },
  {
   "cell_type": "markdown",
   "metadata": {},
   "source": [
    "#### In the browser, execute the following command:\n",
    "MATCH (c:Client)-[transacted_at:TRANSACTED_AT]->(merchant:Merchant) RETURN c,transacted_at,merchant LIMIT 50"
   ]
  },
  {
   "cell_type": "markdown",
   "metadata": {},
   "source": [
    "#### Drill down into the Nedbank Behaviour db. How many nodes do we have for each label?"
   ]
  },
  {
   "cell_type": "code",
   "execution_count": 4,
   "metadata": {},
   "outputs": [
    {
     "data": {
      "text/html": [
       "<div>\n",
       "<style scoped>\n",
       "    .dataframe tbody tr th:only-of-type {\n",
       "        vertical-align: middle;\n",
       "    }\n",
       "\n",
       "    .dataframe tbody tr th {\n",
       "        vertical-align: top;\n",
       "    }\n",
       "\n",
       "    .dataframe thead th {\n",
       "        text-align: right;\n",
       "    }\n",
       "</style>\n",
       "<table border=\"1\" class=\"dataframe\">\n",
       "  <thead>\n",
       "    <tr style=\"text-align: right;\">\n",
       "      <th></th>\n",
       "      <th>label</th>\n",
       "      <th>count</th>\n",
       "    </tr>\n",
       "  </thead>\n",
       "  <tbody>\n",
       "    <tr>\n",
       "      <th>2</th>\n",
       "      <td>Segment</td>\n",
       "      <td>35</td>\n",
       "    </tr>\n",
       "    <tr>\n",
       "      <th>1</th>\n",
       "      <td>Merchant</td>\n",
       "      <td>91942</td>\n",
       "    </tr>\n",
       "    <tr>\n",
       "      <th>0</th>\n",
       "      <td>Client</td>\n",
       "      <td>2216269</td>\n",
       "    </tr>\n",
       "  </tbody>\n",
       "</table>\n",
       "</div>"
      ],
      "text/plain": [
       "      label    count\n",
       "2   Segment       35\n",
       "1  Merchant    91942\n",
       "0    Client  2216269"
      ]
     },
     "execution_count": 4,
     "metadata": {},
     "output_type": "execute_result"
    }
   ],
   "source": [
    "# https://neo4j.com/graphacademy/online-training/data-science/part-2/\n",
    "result = {\"label\": [], \"count\": []}\n",
    "for label in graph.run(\"CALL db.labels()\").to_series():\n",
    "    query = f\"MATCH (:`{label}`) RETURN count(*) as count\"\n",
    "    count = graph.run(query).to_data_frame().iloc[0]['count']\n",
    "    result[\"label\"].append(label)\n",
    "    result[\"count\"].append(count)\n",
    "nodes_df = pd.DataFrame(data=result)\n",
    "nodes_df.sort_values(\"count\")"
   ]
  },
  {
   "cell_type": "markdown",
   "metadata": {},
   "source": [
    "#### Visualize counts:"
   ]
  },
  {
   "cell_type": "code",
   "execution_count": 5,
   "metadata": {},
   "outputs": [
    {
     "data": {
      "image/png": "[encoded data removed]",
      "text/plain": [
       "<Figure size 432x288 with 1 Axes>"
      ]
     },
     "metadata": {
      "needs_background": "light"
     },
     "output_type": "display_data"
    }
   ],
   "source": [
    "nodes_df.plot(kind='bar', x='label', y='count', legend=None, title=\"Node Cardinalities\")\n",
    "plt.yscale(\"log\")\n",
    "plt.xticks(rotation=45)\n",
    "plt.tight_layout()\n",
    "plt.show()"
   ]
  },
  {
   "cell_type": "markdown",
   "metadata": {},
   "source": [
    "Reveal the client node and its properties:"
   ]
  },
  {
   "cell_type": "code",
   "execution_count": 6,
   "metadata": {},
   "outputs": [
    {
     "data": {
      "text/plain": [
       "['seg_l3_num',\n",
       " 'period',\n",
       " 'seg_l3_str',\n",
       " 'totaltransactionamount',\n",
       " 'dedupestatic',\n",
       " 'totaltransactioncount']"
      ]
     },
     "execution_count": 6,
     "metadata": {},
     "output_type": "execute_result"
    }
   ],
   "source": [
    "exploratory_client_query=\"\"\"MATCH (c:Client)\n",
    "RETURN labels(c), keys(c) as properties, size(keys(c)), count(*)\n",
    "ORDER BY size(keys(c)) DESC\"\"\"\n",
    "df=graph.run(exploratory_client_query).to_data_frame()\n",
    "df.iloc[0]['properties']"
   ]
  },
  {
   "cell_type": "code",
   "execution_count": 7,
   "metadata": {},
   "outputs": [
    {
     "data": {
      "text/plain": [
       "['franchisename',\n",
       " 'discretionary',\n",
       " 'companyname',\n",
       " 'group_id',\n",
       " 'division_id',\n",
       " 'subclass_id',\n",
       " 'class_id',\n",
       " 'companyindex',\n",
       " 'totaltransactioncount',\n",
       " 'period',\n",
       " 'totaltransactionamount']"
      ]
     },
     "execution_count": 7,
     "metadata": {},
     "output_type": "execute_result"
    }
   ],
   "source": [
    "exploratory_client_query=\"\"\"MATCH (m:Merchant)\n",
    "RETURN labels(m), keys(m) as properties, size(keys(m)), count(*)\n",
    "ORDER BY size(keys(m)) DESC\"\"\"\n",
    "df=graph.run(exploratory_client_query).to_data_frame()\n",
    "df.iloc[0]['properties']"
   ]
  },
  {
   "cell_type": "markdown",
   "metadata": {},
   "source": [
    "#### Here are the types of relationships and their counts in the db:"
   ]
  },
  {
   "cell_type": "code",
   "execution_count": 8,
   "metadata": {},
   "outputs": [
    {
     "data": {
      "text/html": [
       "<div>\n",
       "<style scoped>\n",
       "    .dataframe tbody tr th:only-of-type {\n",
       "        vertical-align: middle;\n",
       "    }\n",
       "\n",
       "    .dataframe tbody tr th {\n",
       "        vertical-align: top;\n",
       "    }\n",
       "\n",
       "    .dataframe thead th {\n",
       "        text-align: right;\n",
       "    }\n",
       "</style>\n",
       "<table border=\"1\" class=\"dataframe\">\n",
       "  <thead>\n",
       "    <tr style=\"text-align: right;\">\n",
       "      <th></th>\n",
       "      <th>relType</th>\n",
       "      <th>count</th>\n",
       "    </tr>\n",
       "  </thead>\n",
       "  <tbody>\n",
       "    <tr>\n",
       "      <th>1</th>\n",
       "      <td>MERCHANT_LINK</td>\n",
       "      <td>127047</td>\n",
       "    </tr>\n",
       "    <tr>\n",
       "      <th>2</th>\n",
       "      <td>MERCHANT_FEET_LINK</td>\n",
       "      <td>141704</td>\n",
       "    </tr>\n",
       "    <tr>\n",
       "      <th>3</th>\n",
       "      <td>MERCHANT_VALUE_LINK</td>\n",
       "      <td>245568</td>\n",
       "    </tr>\n",
       "    <tr>\n",
       "      <th>0</th>\n",
       "      <td>TRANSACTED_AT</td>\n",
       "      <td>9914389</td>\n",
       "    </tr>\n",
       "  </tbody>\n",
       "</table>\n",
       "</div>"
      ],
      "text/plain": [
       "               relType    count\n",
       "1        MERCHANT_LINK   127047\n",
       "2   MERCHANT_FEET_LINK   141704\n",
       "3  MERCHANT_VALUE_LINK   245568\n",
       "0        TRANSACTED_AT  9914389"
      ]
     },
     "execution_count": 8,
     "metadata": {},
     "output_type": "execute_result"
    }
   ],
   "source": [
    "result = {\"relType\": [], \"count\": []}\n",
    "for relationship_type in graph.run(\"CALL db.relationshipTypes()\").to_series():\n",
    "    query = f\"MATCH ()-[:`{relationship_type}`]->() RETURN count(*) as count\"\n",
    "    count = graph.run(query).to_data_frame().iloc[0]['count']\n",
    "    result[\"relType\"].append(relationship_type)\n",
    "    result[\"count\"].append(count)\n",
    "rels_df = pd.DataFrame(data=result)\n",
    "rels_df.sort_values(\"count\")"
   ]
  },
  {
   "cell_type": "markdown",
   "metadata": {},
   "source": [
    "#### Visualize relationship cardinalities:"
   ]
  },
  {
   "cell_type": "code",
   "execution_count": null,
   "metadata": {},
   "outputs": [],
   "source": [
    "rels_df.plot(kind='bar', x='relType', y='count', legend=None, title=\"Relationship Cardinalities\")\n",
    "plt.xticks(rotation=45)\n",
    "plt.tight_layout()\n",
    "plt.show()"
   ]
  },
  {
   "cell_type": "markdown",
   "metadata": {},
   "source": [
    "#### Explore client nodes:"
   ]
  },
  {
   "cell_type": "markdown",
   "metadata": {},
   "source": [
    "Lets look at the relationship COUNTS between client and Merchant:"
   ]
  },
  {
   "cell_type": "code",
   "execution_count": 9,
   "metadata": {},
   "outputs": [
    {
     "data": {
      "text/html": [
       "<div>\n",
       "<style scoped>\n",
       "    .dataframe tbody tr th:only-of-type {\n",
       "        vertical-align: middle;\n",
       "    }\n",
       "\n",
       "    .dataframe tbody tr th {\n",
       "        vertical-align: top;\n",
       "    }\n",
       "\n",
       "    .dataframe thead th {\n",
       "        text-align: right;\n",
       "    }\n",
       "</style>\n",
       "<table border=\"1\" class=\"dataframe\">\n",
       "  <thead>\n",
       "    <tr style=\"text-align: right;\">\n",
       "      <th></th>\n",
       "      <th>client</th>\n",
       "      <th>number_merchant_relationships</th>\n",
       "    </tr>\n",
       "  </thead>\n",
       "  <tbody>\n",
       "    <tr>\n",
       "      <th>1908907</th>\n",
       "      <td>9.10300001710005e+19</td>\n",
       "      <td>1516</td>\n",
       "    </tr>\n",
       "    <tr>\n",
       "      <th>1908908</th>\n",
       "      <td>9.10500001710006e+19</td>\n",
       "      <td>1873</td>\n",
       "    </tr>\n",
       "    <tr>\n",
       "      <th>1908909</th>\n",
       "      <td>9.10400001710005e+19</td>\n",
       "      <td>1946</td>\n",
       "    </tr>\n",
       "    <tr>\n",
       "      <th>1908910</th>\n",
       "      <td>9.10400001710006e+19</td>\n",
       "      <td>2046</td>\n",
       "    </tr>\n",
       "    <tr>\n",
       "      <th>1908911</th>\n",
       "      <td>9.10600001710006e+19</td>\n",
       "      <td>2065</td>\n",
       "    </tr>\n",
       "  </tbody>\n",
       "</table>\n",
       "</div>"
      ],
      "text/plain": [
       "                       client  number_merchant_relationships\n",
       "1908907  9.10300001710005e+19                           1516\n",
       "1908908  9.10500001710006e+19                           1873\n",
       "1908909  9.10400001710005e+19                           1946\n",
       "1908910  9.10400001710006e+19                           2046\n",
       "1908911  9.10600001710006e+19                           2065"
      ]
     },
     "execution_count": 9,
     "metadata": {},
     "output_type": "execute_result"
    }
   ],
   "source": [
    "exploratory_client_query = \"\"\"\n",
    "MATCH (client:Client)-[transacted_at:TRANSACTED_AT]->(merchant:Merchant)\n",
    "WITH client.dedupestatic as client, count(transacted_at) as number_merchant_relationships\n",
    "RETURN client, number_merchant_relationships\n",
    "ORDER BY number_merchant_relationships\n",
    "\"\"\"\n",
    "df=graph.run(exploratory_client_query).to_data_frame()\n",
    "df.tail()"
   ]
  },
  {
   "cell_type": "code",
   "execution_count": 12,
   "metadata": {},
   "outputs": [
    {
     "data": {
      "text/html": [
       "<div>\n",
       "<style scoped>\n",
       "    .dataframe tbody tr th:only-of-type {\n",
       "        vertical-align: middle;\n",
       "    }\n",
       "\n",
       "    .dataframe tbody tr th {\n",
       "        vertical-align: top;\n",
       "    }\n",
       "\n",
       "    .dataframe thead th {\n",
       "        text-align: right;\n",
       "    }\n",
       "</style>\n",
       "<table border=\"1\" class=\"dataframe\">\n",
       "  <thead>\n",
       "    <tr style=\"text-align: right;\">\n",
       "      <th></th>\n",
       "      <th>client</th>\n",
       "      <th>number_merchant_relationships</th>\n",
       "    </tr>\n",
       "  </thead>\n",
       "  <tbody>\n",
       "    <tr>\n",
       "      <th>0</th>\n",
       "      <td>2.11697718705e+11</td>\n",
       "      <td>1</td>\n",
       "    </tr>\n",
       "    <tr>\n",
       "      <th>1</th>\n",
       "      <td>1.91574857e+11</td>\n",
       "      <td>1</td>\n",
       "    </tr>\n",
       "    <tr>\n",
       "      <th>2</th>\n",
       "      <td>1.81001500371e+11</td>\n",
       "      <td>1</td>\n",
       "    </tr>\n",
       "    <tr>\n",
       "      <th>3</th>\n",
       "      <td>2.11079047203e+11</td>\n",
       "      <td>1</td>\n",
       "    </tr>\n",
       "    <tr>\n",
       "      <th>4</th>\n",
       "      <td>1.90000572934e+11</td>\n",
       "      <td>1</td>\n",
       "    </tr>\n",
       "    <tr>\n",
       "      <th>5</th>\n",
       "      <td>2.11577951834e+11</td>\n",
       "      <td>1</td>\n",
       "    </tr>\n",
       "    <tr>\n",
       "      <th>6</th>\n",
       "      <td>1.10064549402e+11</td>\n",
       "      <td>1</td>\n",
       "    </tr>\n",
       "    <tr>\n",
       "      <th>7</th>\n",
       "      <td>2.11619066605e+11</td>\n",
       "      <td>1</td>\n",
       "    </tr>\n",
       "    <tr>\n",
       "      <th>8</th>\n",
       "      <td>1.20000213358e+11</td>\n",
       "      <td>1</td>\n",
       "    </tr>\n",
       "    <tr>\n",
       "      <th>9</th>\n",
       "      <td>1.91718558234e+11</td>\n",
       "      <td>1</td>\n",
       "    </tr>\n",
       "  </tbody>\n",
       "</table>\n",
       "</div>"
      ],
      "text/plain": [
       "              client  number_merchant_relationships\n",
       "0  2.11697718705e+11                              1\n",
       "1     1.91574857e+11                              1\n",
       "2  1.81001500371e+11                              1\n",
       "3  2.11079047203e+11                              1\n",
       "4  1.90000572934e+11                              1\n",
       "5  2.11577951834e+11                              1\n",
       "6  1.10064549402e+11                              1\n",
       "7  2.11619066605e+11                              1\n",
       "8  1.20000213358e+11                              1\n",
       "9  1.91718558234e+11                              1"
      ]
     },
     "execution_count": 12,
     "metadata": {},
     "output_type": "execute_result"
    }
   ],
   "source": [
    "df.head(10)"
   ]
  },
  {
   "cell_type": "code",
   "execution_count": 10,
   "metadata": {},
   "outputs": [
    {
     "data": {
      "text/plain": [
       "91060000171000594432"
      ]
     },
     "execution_count": 10,
     "metadata": {},
     "output_type": "execute_result"
    }
   ],
   "source": [
    "int(float(list(df['client'])[-1]))"
   ]
  },
  {
   "cell_type": "code",
   "execution_count": 11,
   "metadata": {},
   "outputs": [
    {
     "data": {
      "text/html": [
       "<div>\n",
       "<style scoped>\n",
       "    .dataframe tbody tr th:only-of-type {\n",
       "        vertical-align: middle;\n",
       "    }\n",
       "\n",
       "    .dataframe tbody tr th {\n",
       "        vertical-align: top;\n",
       "    }\n",
       "\n",
       "    .dataframe thead th {\n",
       "        text-align: right;\n",
       "    }\n",
       "</style>\n",
       "<table border=\"1\" class=\"dataframe\">\n",
       "  <thead>\n",
       "    <tr style=\"text-align: right;\">\n",
       "      <th></th>\n",
       "      <th>client</th>\n",
       "      <th>franchisename</th>\n",
       "      <th>companyname</th>\n",
       "    </tr>\n",
       "  </thead>\n",
       "  <tbody>\n",
       "    <tr>\n",
       "      <th>0</th>\n",
       "      <td>9.10600001710006e+19</td>\n",
       "      <td>MEDIRITE KIMBERLEY</td>\n",
       "      <td>MEDIRITE</td>\n",
       "    </tr>\n",
       "    <tr>\n",
       "      <th>1</th>\n",
       "      <td>9.10600001710006e+19</td>\n",
       "      <td>CLICKS HEIDELBERG</td>\n",
       "      <td>CLICKS</td>\n",
       "    </tr>\n",
       "    <tr>\n",
       "      <th>2</th>\n",
       "      <td>9.10600001710006e+19</td>\n",
       "      <td>MEDIRITE - BARTLETT</td>\n",
       "      <td>MEDIRITE</td>\n",
       "    </tr>\n",
       "    <tr>\n",
       "      <th>3</th>\n",
       "      <td>9.10600001710006e+19</td>\n",
       "      <td>WOOLWORTHS NORWOOD</td>\n",
       "      <td>WOOLWORTHS</td>\n",
       "    </tr>\n",
       "    <tr>\n",
       "      <th>4</th>\n",
       "      <td>9.10600001710006e+19</td>\n",
       "      <td>PNP POLOKWANE</td>\n",
       "      <td>PNP</td>\n",
       "    </tr>\n",
       "    <tr>\n",
       "      <th>...</th>\n",
       "      <td>...</td>\n",
       "      <td>...</td>\n",
       "      <td>...</td>\n",
       "    </tr>\n",
       "    <tr>\n",
       "      <th>2060</th>\n",
       "      <td>9.10600001710006e+19</td>\n",
       "      <td>PNP UMHLANGA</td>\n",
       "      <td>PNP</td>\n",
       "    </tr>\n",
       "    <tr>\n",
       "      <th>2061</th>\n",
       "      <td>9.10600001710006e+19</td>\n",
       "      <td>SUPERSPAR GATEWAY HERMANU</td>\n",
       "      <td>SPAR</td>\n",
       "    </tr>\n",
       "    <tr>\n",
       "      <th>2062</th>\n",
       "      <td>9.10600001710006e+19</td>\n",
       "      <td>PEP VEREENIGING</td>\n",
       "      <td>PEP</td>\n",
       "    </tr>\n",
       "    <tr>\n",
       "      <th>2063</th>\n",
       "      <td>9.10600001710006e+19</td>\n",
       "      <td>SHOPRITE GRAAFF REINET</td>\n",
       "      <td>SHOPRITE</td>\n",
       "    </tr>\n",
       "    <tr>\n",
       "      <th>2064</th>\n",
       "      <td>9.10600001710006e+19</td>\n",
       "      <td>PNP NEWTON PARK</td>\n",
       "      <td>PNP</td>\n",
       "    </tr>\n",
       "  </tbody>\n",
       "</table>\n",
       "<p>2065 rows × 3 columns</p>\n",
       "</div>"
      ],
      "text/plain": [
       "                    client              franchisename companyname\n",
       "0     9.10600001710006e+19         MEDIRITE KIMBERLEY    MEDIRITE\n",
       "1     9.10600001710006e+19          CLICKS HEIDELBERG      CLICKS\n",
       "2     9.10600001710006e+19        MEDIRITE - BARTLETT    MEDIRITE\n",
       "3     9.10600001710006e+19         WOOLWORTHS NORWOOD  WOOLWORTHS\n",
       "4     9.10600001710006e+19              PNP POLOKWANE         PNP\n",
       "...                    ...                        ...         ...\n",
       "2060  9.10600001710006e+19               PNP UMHLANGA         PNP\n",
       "2061  9.10600001710006e+19  SUPERSPAR GATEWAY HERMANU        SPAR\n",
       "2062  9.10600001710006e+19            PEP VEREENIGING         PEP\n",
       "2063  9.10600001710006e+19     SHOPRITE GRAAFF REINET    SHOPRITE\n",
       "2064  9.10600001710006e+19            PNP NEWTON PARK         PNP\n",
       "\n",
       "[2065 rows x 3 columns]"
      ]
     },
     "execution_count": 11,
     "metadata": {},
     "output_type": "execute_result"
    }
   ],
   "source": [
    "dedupestatic=list(df['client'])[-1]\n",
    "a_client_query = \"\"\"\n",
    "MATCH (client:Client {dedupestatic:$dedupestatic})-[:TRANSACTED_AT]->(merchant:Merchant)\n",
    "WITH client.dedupestatic as client, merchant.franchisename as franchisename, merchant.companyname as companyname\n",
    "RETURN client, franchisename,companyname\n",
    "\"\"\"\n",
    "graph.run(a_client_query, {\"dedupestatic\": dedupestatic}).to_data_frame()"
   ]
  },
  {
   "cell_type": "markdown",
   "metadata": {},
   "source": [
    "#### Now let's explore the Merchant data. "
   ]
  },
  {
   "cell_type": "markdown",
   "metadata": {},
   "source": [
    "This looks at the COMPANY level first and counts the unique relationships:"
   ]
  },
  {
   "cell_type": "code",
   "execution_count": 13,
   "metadata": {},
   "outputs": [
    {
     "data": {
      "text/html": [
       "<div>\n",
       "<style scoped>\n",
       "    .dataframe tbody tr th:only-of-type {\n",
       "        vertical-align: middle;\n",
       "    }\n",
       "\n",
       "    .dataframe tbody tr th {\n",
       "        vertical-align: top;\n",
       "    }\n",
       "\n",
       "    .dataframe thead th {\n",
       "        text-align: right;\n",
       "    }\n",
       "</style>\n",
       "<table border=\"1\" class=\"dataframe\">\n",
       "  <thead>\n",
       "    <tr style=\"text-align: right;\">\n",
       "      <th></th>\n",
       "      <th>company</th>\n",
       "      <th>number_company_relationships</th>\n",
       "    </tr>\n",
       "  </thead>\n",
       "  <tbody>\n",
       "    <tr>\n",
       "      <th>0</th>\n",
       "      <td>SPAR</td>\n",
       "      <td>1112968</td>\n",
       "    </tr>\n",
       "    <tr>\n",
       "      <th>1</th>\n",
       "      <td>PNP</td>\n",
       "      <td>1011818</td>\n",
       "    </tr>\n",
       "    <tr>\n",
       "      <th>2</th>\n",
       "      <td>SHOPRITE</td>\n",
       "      <td>647844</td>\n",
       "    </tr>\n",
       "    <tr>\n",
       "      <th>3</th>\n",
       "      <td>CHECKERS</td>\n",
       "      <td>595026</td>\n",
       "    </tr>\n",
       "    <tr>\n",
       "      <th>4</th>\n",
       "      <td>WOOLWORTHS</td>\n",
       "      <td>521081</td>\n",
       "    </tr>\n",
       "  </tbody>\n",
       "</table>\n",
       "</div>"
      ],
      "text/plain": [
       "      company  number_company_relationships\n",
       "0        SPAR                       1112968\n",
       "1         PNP                       1011818\n",
       "2    SHOPRITE                        647844\n",
       "3    CHECKERS                        595026\n",
       "4  WOOLWORTHS                        521081"
      ]
     },
     "execution_count": 13,
     "metadata": {},
     "output_type": "execute_result"
    }
   ],
   "source": [
    "exploratory_company_query = \"\"\"\n",
    "MATCH (client:Client)-[transacted_at:TRANSACTED_AT]->(merchant:Merchant)\n",
    "WHERE merchant.companyname<>'Unknown'\n",
    "WITH merchant.companyname as company, count(transacted_at) as number_company_relationships\n",
    "RETURN company, number_company_relationships\n",
    "ORDER BY number_company_relationships DESC\n",
    "\"\"\"\n",
    "df=graph.run(exploratory_company_query).to_data_frame()\n",
    "df.head()"
   ]
  },
  {
   "cell_type": "markdown",
   "metadata": {},
   "source": [
    "This looks at the MERCHANT level and counts the unique relationships:"
   ]
  },
  {
   "cell_type": "code",
   "execution_count": 14,
   "metadata": {},
   "outputs": [
    {
     "data": {
      "text/html": [
       "<div>\n",
       "<style scoped>\n",
       "    .dataframe tbody tr th:only-of-type {\n",
       "        vertical-align: middle;\n",
       "    }\n",
       "\n",
       "    .dataframe tbody tr th {\n",
       "        vertical-align: top;\n",
       "    }\n",
       "\n",
       "    .dataframe thead th {\n",
       "        text-align: right;\n",
       "    }\n",
       "</style>\n",
       "<table border=\"1\" class=\"dataframe\">\n",
       "  <thead>\n",
       "    <tr style=\"text-align: right;\">\n",
       "      <th></th>\n",
       "      <th>merchant</th>\n",
       "      <th>number_merchant_relationships</th>\n",
       "    </tr>\n",
       "  </thead>\n",
       "  <tbody>\n",
       "    <tr>\n",
       "      <th>0</th>\n",
       "      <td>BOXER SUPERSTO</td>\n",
       "      <td>93970</td>\n",
       "    </tr>\n",
       "    <tr>\n",
       "      <th>1</th>\n",
       "      <td>NETFLIX.COM</td>\n",
       "      <td>84771</td>\n",
       "    </tr>\n",
       "    <tr>\n",
       "      <th>2</th>\n",
       "      <td>CheckersHyper</td>\n",
       "      <td>70692</td>\n",
       "    </tr>\n",
       "    <tr>\n",
       "      <th>3</th>\n",
       "      <td>payD Vodacom E</td>\n",
       "      <td>63589</td>\n",
       "    </tr>\n",
       "    <tr>\n",
       "      <th>4</th>\n",
       "      <td>Truworths</td>\n",
       "      <td>61202</td>\n",
       "    </tr>\n",
       "  </tbody>\n",
       "</table>\n",
       "</div>"
      ],
      "text/plain": [
       "         merchant  number_merchant_relationships\n",
       "0  BOXER SUPERSTO                          93970\n",
       "1     NETFLIX.COM                          84771\n",
       "2   CheckersHyper                          70692\n",
       "3  payD Vodacom E                          63589\n",
       "4       Truworths                          61202"
      ]
     },
     "execution_count": 14,
     "metadata": {},
     "output_type": "execute_result"
    }
   ],
   "source": [
    "exploratory_franchise_query = \"\"\"\n",
    "MATCH ()-[transacted_at:TRANSACTED_AT]->(merchant:Merchant)\n",
    "WHERE merchant.companyname<>'Unknown'\n",
    "WITH merchant.franchisename as merchant, count(transacted_at) as number_merchant_relationships\n",
    "RETURN merchant, number_merchant_relationships\n",
    "ORDER BY number_merchant_relationships DESC\n",
    "\"\"\"\n",
    "df=graph.run(exploratory_franchise_query).to_data_frame()\n",
    "df.head()"
   ]
  },
  {
   "cell_type": "markdown",
   "metadata": {},
   "source": [
    "Now let's explore the transaction data in more detail.  We need to zoom in on one Merchant. The following query finds Dischem and Dischem Dainfern Square in particular, the unique clients that visited this merchant, the number of unique Nedbank Clients that visited the Merchant (Merchant1) and then any other Merchant (Merchant2) these client may have visited and how many unique clients (merchant2_transactions) transacted at Merchant 2:"
   ]
  },
  {
   "cell_type": "code",
   "execution_count": 15,
   "metadata": {},
   "outputs": [
    {
     "data": {
      "text/html": [
       "<div>\n",
       "<style scoped>\n",
       "    .dataframe tbody tr th:only-of-type {\n",
       "        vertical-align: middle;\n",
       "    }\n",
       "\n",
       "    .dataframe tbody tr th {\n",
       "        vertical-align: top;\n",
       "    }\n",
       "\n",
       "    .dataframe thead th {\n",
       "        text-align: right;\n",
       "    }\n",
       "</style>\n",
       "<table border=\"1\" class=\"dataframe\">\n",
       "  <thead>\n",
       "    <tr style=\"text-align: right;\">\n",
       "      <th></th>\n",
       "      <th>merchant1</th>\n",
       "      <th>dedupestatic</th>\n",
       "      <th>merchant2</th>\n",
       "      <th>transactioncount1</th>\n",
       "      <th>merchant1_transactions</th>\n",
       "      <th>transactioncount2</th>\n",
       "      <th>merchant2_transactions</th>\n",
       "    </tr>\n",
       "  </thead>\n",
       "  <tbody>\n",
       "    <tr>\n",
       "      <th>0</th>\n",
       "      <td>DIS-CHEM DAINFERN</td>\n",
       "      <td>1.10078235707e+11</td>\n",
       "      <td>Dischem Dain</td>\n",
       "      <td>9</td>\n",
       "      <td>252</td>\n",
       "      <td>1</td>\n",
       "      <td>296</td>\n",
       "    </tr>\n",
       "    <tr>\n",
       "      <th>1</th>\n",
       "      <td>DIS-CHEM DAINFERN</td>\n",
       "      <td>1.10078235707e+11</td>\n",
       "      <td>Clicks Lonehill</td>\n",
       "      <td>9</td>\n",
       "      <td>252</td>\n",
       "      <td>1</td>\n",
       "      <td>324</td>\n",
       "    </tr>\n",
       "    <tr>\n",
       "      <th>2</th>\n",
       "      <td>DIS-CHEM DAINFERN</td>\n",
       "      <td>1.10078235707e+11</td>\n",
       "      <td>WOOLWORTHS LONEHILL</td>\n",
       "      <td>9</td>\n",
       "      <td>252</td>\n",
       "      <td>1</td>\n",
       "      <td>702</td>\n",
       "    </tr>\n",
       "    <tr>\n",
       "      <th>3</th>\n",
       "      <td>DIS-CHEM DAINFERN</td>\n",
       "      <td>1.10078235707e+11</td>\n",
       "      <td>Cltx Witkoppen Motors</td>\n",
       "      <td>9</td>\n",
       "      <td>252</td>\n",
       "      <td>1</td>\n",
       "      <td>107</td>\n",
       "    </tr>\n",
       "    <tr>\n",
       "      <th>4</th>\n",
       "      <td>DIS-CHEM DAINFERN</td>\n",
       "      <td>1.10078235707e+11</td>\n",
       "      <td>DIS-CHEM MORNINGSIDE</td>\n",
       "      <td>9</td>\n",
       "      <td>252</td>\n",
       "      <td>2</td>\n",
       "      <td>157</td>\n",
       "    </tr>\n",
       "    <tr>\n",
       "      <th>...</th>\n",
       "      <td>...</td>\n",
       "      <td>...</td>\n",
       "      <td>...</td>\n",
       "      <td>...</td>\n",
       "      <td>...</td>\n",
       "      <td>...</td>\n",
       "      <td>...</td>\n",
       "    </tr>\n",
       "    <tr>\n",
       "      <th>3264</th>\n",
       "      <td>DIS-CHEM DAINFERN</td>\n",
       "      <td>1.10027771407e+11</td>\n",
       "      <td>OCEAN BASKET</td>\n",
       "      <td>1</td>\n",
       "      <td>252</td>\n",
       "      <td>1</td>\n",
       "      <td>4130</td>\n",
       "    </tr>\n",
       "    <tr>\n",
       "      <th>3265</th>\n",
       "      <td>DIS-CHEM DAINFERN</td>\n",
       "      <td>1.10027771407e+11</td>\n",
       "      <td>SASOL FERNGATE</td>\n",
       "      <td>1</td>\n",
       "      <td>252</td>\n",
       "      <td>4</td>\n",
       "      <td>482</td>\n",
       "    </tr>\n",
       "    <tr>\n",
       "      <th>3266</th>\n",
       "      <td>DIS-CHEM DAINFERN</td>\n",
       "      <td>1.10027771407e+11</td>\n",
       "      <td>ENGEN BLOCK HOUSE-SO</td>\n",
       "      <td>1</td>\n",
       "      <td>252</td>\n",
       "      <td>1</td>\n",
       "      <td>128</td>\n",
       "    </tr>\n",
       "    <tr>\n",
       "      <th>3267</th>\n",
       "      <td>DIS-CHEM DAINFERN</td>\n",
       "      <td>1.10027771407e+11</td>\n",
       "      <td>WOOLWORTHS MAROUN SQ</td>\n",
       "      <td>1</td>\n",
       "      <td>252</td>\n",
       "      <td>6</td>\n",
       "      <td>277</td>\n",
       "    </tr>\n",
       "    <tr>\n",
       "      <th>3268</th>\n",
       "      <td>DIS-CHEM DAINFERN</td>\n",
       "      <td>1.10027771407e+11</td>\n",
       "      <td>Spar Broadacres Spar</td>\n",
       "      <td>1</td>\n",
       "      <td>252</td>\n",
       "      <td>2</td>\n",
       "      <td>1004</td>\n",
       "    </tr>\n",
       "  </tbody>\n",
       "</table>\n",
       "<p>3269 rows × 7 columns</p>\n",
       "</div>"
      ],
      "text/plain": [
       "              merchant1       dedupestatic              merchant2  \\\n",
       "0     DIS-CHEM DAINFERN  1.10078235707e+11           Dischem Dain   \n",
       "1     DIS-CHEM DAINFERN  1.10078235707e+11        Clicks Lonehill   \n",
       "2     DIS-CHEM DAINFERN  1.10078235707e+11    WOOLWORTHS LONEHILL   \n",
       "3     DIS-CHEM DAINFERN  1.10078235707e+11  Cltx Witkoppen Motors   \n",
       "4     DIS-CHEM DAINFERN  1.10078235707e+11   DIS-CHEM MORNINGSIDE   \n",
       "...                 ...                ...                    ...   \n",
       "3264  DIS-CHEM DAINFERN  1.10027771407e+11           OCEAN BASKET   \n",
       "3265  DIS-CHEM DAINFERN  1.10027771407e+11         SASOL FERNGATE   \n",
       "3266  DIS-CHEM DAINFERN  1.10027771407e+11   ENGEN BLOCK HOUSE-SO   \n",
       "3267  DIS-CHEM DAINFERN  1.10027771407e+11   WOOLWORTHS MAROUN SQ   \n",
       "3268  DIS-CHEM DAINFERN  1.10027771407e+11   Spar Broadacres Spar   \n",
       "\n",
       "      transactioncount1  merchant1_transactions  transactioncount2  \\\n",
       "0                     9                     252                  1   \n",
       "1                     9                     252                  1   \n",
       "2                     9                     252                  1   \n",
       "3                     9                     252                  1   \n",
       "4                     9                     252                  2   \n",
       "...                 ...                     ...                ...   \n",
       "3264                  1                     252                  1   \n",
       "3265                  1                     252                  4   \n",
       "3266                  1                     252                  1   \n",
       "3267                  1                     252                  6   \n",
       "3268                  1                     252                  2   \n",
       "\n",
       "      merchant2_transactions  \n",
       "0                        296  \n",
       "1                        324  \n",
       "2                        702  \n",
       "3                        107  \n",
       "4                        157  \n",
       "...                      ...  \n",
       "3264                    4130  \n",
       "3265                     482  \n",
       "3266                     128  \n",
       "3267                     277  \n",
       "3268                    1004  \n",
       "\n",
       "[3269 rows x 7 columns]"
      ]
     },
     "execution_count": 15,
     "metadata": {},
     "output_type": "execute_result"
    }
   ],
   "source": [
    "exploratory_query = \"\"\"\n",
    "MATCH (merchant1:Merchant {franchisename:'DIS-CHEM DAINFERN'})<-[t1:TRANSACTED_AT]-(client:Client)-[t2:TRANSACTED_AT]->(merchant2:Merchant)\n",
    "WHERE ID(merchant1)<>ID(merchant2)\n",
    "RETURN merchant1.franchisename AS merchant1, client.dedupestatic AS dedupestatic,  \n",
    "merchant2.franchisename AS merchant2,t1.transactioncount as transactioncount1,\n",
    "       size((merchant1)-[:TRANSACTED_AT]-()) AS merchant1_transactions, \n",
    "       t2.transactioncount as transactioncount2,\n",
    "       size((merchant2)-[:TRANSACTED_AT]-()) AS merchant2_transactions\n",
    "ORDER BY transactioncount1 DESC\n",
    "\"\"\"\n",
    "\n",
    "graph.run(exploratory_query).to_data_frame() "
   ]
  },
  {
   "cell_type": "code",
   "execution_count": 16,
   "metadata": {},
   "outputs": [
    {
     "data": {
      "text/html": [
       "<div>\n",
       "<style scoped>\n",
       "    .dataframe tbody tr th:only-of-type {\n",
       "        vertical-align: middle;\n",
       "    }\n",
       "\n",
       "    .dataframe tbody tr th {\n",
       "        vertical-align: top;\n",
       "    }\n",
       "\n",
       "    .dataframe thead th {\n",
       "        text-align: right;\n",
       "    }\n",
       "</style>\n",
       "<table border=\"1\" class=\"dataframe\">\n",
       "  <thead>\n",
       "    <tr style=\"text-align: right;\">\n",
       "      <th></th>\n",
       "      <th>merchant1</th>\n",
       "      <th>merchant2</th>\n",
       "      <th>transactioncounts1</th>\n",
       "      <th>merchant1_transactions</th>\n",
       "      <th>transactioncounts2</th>\n",
       "      <th>merchant2_transactions</th>\n",
       "    </tr>\n",
       "  </thead>\n",
       "  <tbody>\n",
       "    <tr>\n",
       "      <th>0</th>\n",
       "      <td>DIS-CHEM DAINFERN</td>\n",
       "      <td>PNP CRP DEINFERN SQUAR</td>\n",
       "      <td>232</td>\n",
       "      <td>116</td>\n",
       "      <td>252</td>\n",
       "      <td>116</td>\n",
       "    </tr>\n",
       "    <tr>\n",
       "      <th>1</th>\n",
       "      <td>DIS-CHEM DAINFERN</td>\n",
       "      <td>WOOLWORTHS MAROUN SQ</td>\n",
       "      <td>197</td>\n",
       "      <td>111</td>\n",
       "      <td>314</td>\n",
       "      <td>111</td>\n",
       "    </tr>\n",
       "    <tr>\n",
       "      <th>2</th>\n",
       "      <td>DIS-CHEM DAINFERN</td>\n",
       "      <td>Spar Broadacres Spar</td>\n",
       "      <td>137</td>\n",
       "      <td>72</td>\n",
       "      <td>185</td>\n",
       "      <td>72</td>\n",
       "    </tr>\n",
       "    <tr>\n",
       "      <th>3</th>\n",
       "      <td>DIS-CHEM DAINFERN</td>\n",
       "      <td>Clicks Dairnfern</td>\n",
       "      <td>118</td>\n",
       "      <td>62</td>\n",
       "      <td>96</td>\n",
       "      <td>62</td>\n",
       "    </tr>\n",
       "    <tr>\n",
       "      <th>4</th>\n",
       "      <td>DIS-CHEM DAINFERN</td>\n",
       "      <td>NETFLIX.COM</td>\n",
       "      <td>75</td>\n",
       "      <td>50</td>\n",
       "      <td>52</td>\n",
       "      <td>50</td>\n",
       "    </tr>\n",
       "    <tr>\n",
       "      <th>...</th>\n",
       "      <td>...</td>\n",
       "      <td>...</td>\n",
       "      <td>...</td>\n",
       "      <td>...</td>\n",
       "      <td>...</td>\n",
       "      <td>...</td>\n",
       "    </tr>\n",
       "    <tr>\n",
       "      <th>1218</th>\n",
       "      <td>DIS-CHEM DAINFERN</td>\n",
       "      <td>Makro Woodme</td>\n",
       "      <td>1</td>\n",
       "      <td>1</td>\n",
       "      <td>1</td>\n",
       "      <td>1</td>\n",
       "    </tr>\n",
       "    <tr>\n",
       "      <th>1219</th>\n",
       "      <td>DIS-CHEM DAINFERN</td>\n",
       "      <td>PNP CRP KYALAM</td>\n",
       "      <td>1</td>\n",
       "      <td>1</td>\n",
       "      <td>1</td>\n",
       "      <td>1</td>\n",
       "    </tr>\n",
       "    <tr>\n",
       "      <th>1220</th>\n",
       "      <td>DIS-CHEM DAINFERN</td>\n",
       "      <td>TOTAL SUMMIT R</td>\n",
       "      <td>1</td>\n",
       "      <td>1</td>\n",
       "      <td>3</td>\n",
       "      <td>1</td>\n",
       "    </tr>\n",
       "    <tr>\n",
       "      <th>1221</th>\n",
       "      <td>DIS-CHEM DAINFERN</td>\n",
       "      <td>PNP CRP KYALAMI</td>\n",
       "      <td>1</td>\n",
       "      <td>1</td>\n",
       "      <td>1</td>\n",
       "      <td>1</td>\n",
       "    </tr>\n",
       "    <tr>\n",
       "      <th>1222</th>\n",
       "      <td>DIS-CHEM DAINFERN</td>\n",
       "      <td>CASCADES RESERVATIONS</td>\n",
       "      <td>1</td>\n",
       "      <td>1</td>\n",
       "      <td>1</td>\n",
       "      <td>1</td>\n",
       "    </tr>\n",
       "  </tbody>\n",
       "</table>\n",
       "<p>1223 rows × 6 columns</p>\n",
       "</div>"
      ],
      "text/plain": [
       "              merchant1               merchant2  transactioncounts1  \\\n",
       "0     DIS-CHEM DAINFERN  PNP CRP DEINFERN SQUAR                 232   \n",
       "1     DIS-CHEM DAINFERN    WOOLWORTHS MAROUN SQ                 197   \n",
       "2     DIS-CHEM DAINFERN    Spar Broadacres Spar                 137   \n",
       "3     DIS-CHEM DAINFERN        Clicks Dairnfern                 118   \n",
       "4     DIS-CHEM DAINFERN             NETFLIX.COM                  75   \n",
       "...                 ...                     ...                 ...   \n",
       "1218  DIS-CHEM DAINFERN            Makro Woodme                   1   \n",
       "1219  DIS-CHEM DAINFERN          PNP CRP KYALAM                   1   \n",
       "1220  DIS-CHEM DAINFERN          TOTAL SUMMIT R                   1   \n",
       "1221  DIS-CHEM DAINFERN         PNP CRP KYALAMI                   1   \n",
       "1222  DIS-CHEM DAINFERN   CASCADES RESERVATIONS                   1   \n",
       "\n",
       "      merchant1_transactions  transactioncounts2  merchant2_transactions  \n",
       "0                        116                 252                     116  \n",
       "1                        111                 314                     111  \n",
       "2                         72                 185                      72  \n",
       "3                         62                  96                      62  \n",
       "4                         50                  52                      50  \n",
       "...                      ...                 ...                     ...  \n",
       "1218                       1                   1                       1  \n",
       "1219                       1                   1                       1  \n",
       "1220                       1                   3                       1  \n",
       "1221                       1                   1                       1  \n",
       "1222                       1                   1                       1  \n",
       "\n",
       "[1223 rows x 6 columns]"
      ]
     },
     "execution_count": 16,
     "metadata": {},
     "output_type": "execute_result"
    }
   ],
   "source": [
    "exploratory_query = \"\"\"\n",
    "MATCH (merchant1:Merchant {franchisename:'DIS-CHEM DAINFERN'})<-[t1:TRANSACTED_AT]-(client:Client)-[t2:TRANSACTED_AT]->(merchant2:Merchant)\n",
    "WHERE ID(merchant1)<>ID(merchant2)\n",
    "RETURN merchant1.franchisename AS merchant1,  \n",
    "merchant2.franchisename AS merchant2,\n",
    "sum(t1.transactioncount) as transactioncounts1,\n",
    "count(t1) AS merchant1_transactions,\n",
    "sum(t2.transactioncount) as transactioncounts2,\n",
    "count(t2) AS merchant2_transactions\n",
    "ORDER BY transactioncounts1 DESC\n",
    "\"\"\"\n",
    "\n",
    "graph.run(exploratory_query).to_data_frame() "
   ]
  },
  {
   "cell_type": "markdown",
   "metadata": {},
   "source": [
    "How many distinct co merchants does Dischem Daifern have?"
   ]
  },
  {
   "cell_type": "code",
   "execution_count": null,
   "metadata": {},
   "outputs": [],
   "source": [
    "print('The clients of Dischem Dainfern transacted at',len(list(set(df.merchant2))), 'other merchants')"
   ]
  },
  {
   "cell_type": "code",
   "execution_count": null,
   "metadata": {},
   "outputs": [],
   "source": []
  }
 ],
 "metadata": {
  "kernelspec": {
   "display_name": "Python 3",
   "language": "python",
   "name": "python3"
  },
  "language_info": {
   "codemirror_mode": {
    "name": "ipython",
    "version": 3
   },
   "file_extension": ".py",
   "mimetype": "text/x-python",
   "name": "python",
   "nbconvert_exporter": "python",
   "pygments_lexer": "ipython3",
   "version": "3.7.6"
  }
 },
 "nbformat": 4,
 "nbformat_minor": 4
}

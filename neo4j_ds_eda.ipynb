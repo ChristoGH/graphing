{
 "cells": [
  {
   "cell_type": "markdown",
   "metadata": {},
   "source": [
    "https://neo4j.com/graphacademy/online-training/data-science/part-2/"
   ]
  },
  {
   "cell_type": "markdown",
   "metadata": {},
   "source": [
    "/media/lnr-ai/applications/./neo4j-desktop-offline-1.2.7-x86_64.AppImage "
   ]
  },
  {
   "cell_type": "code",
   "execution_count": 1,
   "metadata": {},
   "outputs": [],
   "source": [
    "import pandas as pd\n",
    "from py2neo import Graph\n",
    "graph = Graph(\"bolt://localhost:7687\", user='neo4j', password='newPassword')\n",
    "# graph = Graph()"
   ]
  },
  {
   "cell_type": "code",
   "execution_count": 2,
   "metadata": {},
   "outputs": [],
   "source": [
    "import matplotlib \n",
    "import matplotlib.pyplot as plt"
   ]
  },
  {
   "cell_type": "markdown",
   "metadata": {},
   "source": [
    "### Part 1, EDA"
   ]
  },
  {
   "cell_type": "markdown",
   "metadata": {},
   "source": [
    "https://colab.research.google.com/github/neo4j-contrib/training-v2/blob/master/Courses/DataScience/notebooks/02_EDA.ipynb#scrollTo=0r69d4ek5huR"
   ]
  },
  {
   "cell_type": "markdown",
   "metadata": {},
   "source": [
    "#### Is the Neo4J db up and running?"
   ]
  },
  {
   "cell_type": "code",
   "execution_count": 3,
   "metadata": {},
   "outputs": [
    {
     "data": {
      "text/plain": [
       "[{'nodes': [(_-2:Merchant {constraints: ['CONSTRAINT ON ( merchant:Merchant ) ASSERT (merchant.franchisename) IS UNIQUE'], indexes: [], name: 'Merchant'}),\n",
       "   (_-1:Client {constraints: ['CONSTRAINT ON ( client:Client ) ASSERT (client.dedupestatic) IS UNIQUE'], indexes: [], name: 'Client'}),\n",
       "   (_-3:Segment {constraints: ['CONSTRAINT ON ( segment:Segment ) ASSERT (segment.seg_l3_num) IS UNIQUE'], indexes: [], name: 'Segment'})],\n",
       "  'relationships': [(Client)-[:TRANSACTED_AT {}]->(Merchant)]}]"
      ]
     },
     "execution_count": 3,
     "metadata": {},
     "output_type": "execute_result"
    }
   ],
   "source": [
    "graph.run(\"CALL db.schema.visualization()\").data()"
   ]
  },
  {
   "cell_type": "markdown",
   "metadata": {},
   "source": [
    "#### In the browser, execute the following command:\n",
    "MATCH (c:Client)-[transacted_at:TRANSACTED_AT]->(merchant:Merchant) RETURN c,transacted_at,merchant LIMIT 50"
   ]
  },
  {
   "cell_type": "markdown",
   "metadata": {},
   "source": [
    "#### Let's drill down into the Nedbank Behaviour db. How many nodes do we have for each label?"
   ]
  },
  {
   "cell_type": "code",
   "execution_count": 4,
   "metadata": {},
   "outputs": [
    {
     "data": {
      "text/html": [
       "<div>\n",
       "<style scoped>\n",
       "    .dataframe tbody tr th:only-of-type {\n",
       "        vertical-align: middle;\n",
       "    }\n",
       "\n",
       "    .dataframe tbody tr th {\n",
       "        vertical-align: top;\n",
       "    }\n",
       "\n",
       "    .dataframe thead th {\n",
       "        text-align: right;\n",
       "    }\n",
       "</style>\n",
       "<table border=\"1\" class=\"dataframe\">\n",
       "  <thead>\n",
       "    <tr style=\"text-align: right;\">\n",
       "      <th></th>\n",
       "      <th>label</th>\n",
       "      <th>count</th>\n",
       "    </tr>\n",
       "  </thead>\n",
       "  <tbody>\n",
       "    <tr>\n",
       "      <th>2</th>\n",
       "      <td>Segment</td>\n",
       "      <td>35</td>\n",
       "    </tr>\n",
       "    <tr>\n",
       "      <th>1</th>\n",
       "      <td>Merchant</td>\n",
       "      <td>92388</td>\n",
       "    </tr>\n",
       "    <tr>\n",
       "      <th>0</th>\n",
       "      <td>Client</td>\n",
       "      <td>2216269</td>\n",
       "    </tr>\n",
       "  </tbody>\n",
       "</table>\n",
       "</div>"
      ],
      "text/plain": [
       "      label    count\n",
       "2   Segment       35\n",
       "1  Merchant    92388\n",
       "0    Client  2216269"
      ]
     },
     "execution_count": 4,
     "metadata": {},
     "output_type": "execute_result"
    }
   ],
   "source": [
    "# https://neo4j.com/graphacademy/online-training/data-science/part-2/\n",
    "result = {\"label\": [], \"count\": []}\n",
    "for label in graph.run(\"CALL db.labels()\").to_series():\n",
    "    query = f\"MATCH (:`{label}`) RETURN count(*) as count\"\n",
    "    count = graph.run(query).to_data_frame().iloc[0]['count']\n",
    "    result[\"label\"].append(label)\n",
    "    result[\"count\"].append(count)\n",
    "nodes_df = pd.DataFrame(data=result)\n",
    "nodes_df.sort_values(\"count\")"
   ]
  },
  {
   "cell_type": "markdown",
   "metadata": {},
   "source": [
    "#### Visualize counts:"
   ]
  },
  {
   "cell_type": "code",
   "execution_count": 5,
   "metadata": {},
   "outputs": [
    {
     "data": {
      "image/png": "[encoded data removed]",
      "text/plain": [
       "<Figure size 432x288 with 1 Axes>"
      ]
     },
     "metadata": {
      "needs_background": "light"
     },
     "output_type": "display_data"
    }
   ],
   "source": [
    "nodes_df.plot(kind='bar', x='label', y='count', legend=None, title=\"Node Cardinalities\")\n",
    "plt.yscale(\"log\")\n",
    "plt.xticks(rotation=45)\n",
    "plt.tight_layout()\n",
    "plt.show()"
   ]
  },
  {
   "cell_type": "markdown",
   "metadata": {},
   "source": [
    "#### Here are the types of relationships and their counts in the db:"
   ]
  },
  {
   "cell_type": "code",
   "execution_count": 6,
   "metadata": {},
   "outputs": [
    {
     "data": {
      "text/html": [
       "<div>\n",
       "<style scoped>\n",
       "    .dataframe tbody tr th:only-of-type {\n",
       "        vertical-align: middle;\n",
       "    }\n",
       "\n",
       "    .dataframe tbody tr th {\n",
       "        vertical-align: top;\n",
       "    }\n",
       "\n",
       "    .dataframe thead th {\n",
       "        text-align: right;\n",
       "    }\n",
       "</style>\n",
       "<table border=\"1\" class=\"dataframe\">\n",
       "  <thead>\n",
       "    <tr style=\"text-align: right;\">\n",
       "      <th></th>\n",
       "      <th>relType</th>\n",
       "      <th>count</th>\n",
       "    </tr>\n",
       "  </thead>\n",
       "  <tbody>\n",
       "    <tr>\n",
       "      <th>0</th>\n",
       "      <td>TRANSACTED_AT</td>\n",
       "      <td>9914835</td>\n",
       "    </tr>\n",
       "  </tbody>\n",
       "</table>\n",
       "</div>"
      ],
      "text/plain": [
       "         relType    count\n",
       "0  TRANSACTED_AT  9914835"
      ]
     },
     "execution_count": 6,
     "metadata": {},
     "output_type": "execute_result"
    }
   ],
   "source": [
    "result = {\"relType\": [], \"count\": []}\n",
    "for relationship_type in graph.run(\"CALL db.relationshipTypes()\").to_series():\n",
    "    query = f\"MATCH ()-[:`{relationship_type}`]->() RETURN count(*) as count\"\n",
    "    count = graph.run(query).to_data_frame().iloc[0]['count']\n",
    "    result[\"relType\"].append(relationship_type)\n",
    "    result[\"count\"].append(count)\n",
    "rels_df = pd.DataFrame(data=result)\n",
    "rels_df.sort_values(\"count\")"
   ]
  },
  {
   "cell_type": "markdown",
   "metadata": {},
   "source": [
    "#### Visualize relationship cardinalities:"
   ]
  },
  {
   "cell_type": "code",
   "execution_count": 7,
   "metadata": {},
   "outputs": [
    {
     "data": {
      "image/png": "[encoded data removed]",
      "text/plain": [
       "<Figure size 432x288 with 1 Axes>"
      ]
     },
     "metadata": {
      "needs_background": "light"
     },
     "output_type": "display_data"
    }
   ],
   "source": [
    "rels_df.plot(kind='bar', x='relType', y='count', legend=None, title=\"Relationship Cardinalities\")\n",
    "plt.xticks(rotation=45)\n",
    "plt.tight_layout()\n",
    "plt.show()"
   ]
  },
  {
   "cell_type": "markdown",
   "metadata": {},
   "source": [
    "#### Explore client nodes:"
   ]
  },
  {
   "cell_type": "markdown",
   "metadata": {},
   "source": [
    "Lets look at the relationship COUNTS between client and Merchant:"
   ]
  },
  {
   "cell_type": "code",
   "execution_count": 8,
   "metadata": {},
   "outputs": [
    {
     "data": {
      "text/html": [
       "<div>\n",
       "<style scoped>\n",
       "    .dataframe tbody tr th:only-of-type {\n",
       "        vertical-align: middle;\n",
       "    }\n",
       "\n",
       "    .dataframe tbody tr th {\n",
       "        vertical-align: top;\n",
       "    }\n",
       "\n",
       "    .dataframe thead th {\n",
       "        text-align: right;\n",
       "    }\n",
       "</style>\n",
       "<table border=\"1\" class=\"dataframe\">\n",
       "  <thead>\n",
       "    <tr style=\"text-align: right;\">\n",
       "      <th></th>\n",
       "      <th>client</th>\n",
       "      <th>number_merchant_relationships</th>\n",
       "    </tr>\n",
       "  </thead>\n",
       "  <tbody>\n",
       "    <tr>\n",
       "      <th>1908916</th>\n",
       "      <td>9.10300001710005e+19</td>\n",
       "      <td>1517</td>\n",
       "    </tr>\n",
       "    <tr>\n",
       "      <th>1908917</th>\n",
       "      <td>9.10500001710006e+19</td>\n",
       "      <td>1877</td>\n",
       "    </tr>\n",
       "    <tr>\n",
       "      <th>1908918</th>\n",
       "      <td>9.10400001710005e+19</td>\n",
       "      <td>1952</td>\n",
       "    </tr>\n",
       "    <tr>\n",
       "      <th>1908919</th>\n",
       "      <td>9.10400001710006e+19</td>\n",
       "      <td>2051</td>\n",
       "    </tr>\n",
       "    <tr>\n",
       "      <th>1908920</th>\n",
       "      <td>9.10600001710006e+19</td>\n",
       "      <td>2069</td>\n",
       "    </tr>\n",
       "  </tbody>\n",
       "</table>\n",
       "</div>"
      ],
      "text/plain": [
       "                       client  number_merchant_relationships\n",
       "1908916  9.10300001710005e+19                           1517\n",
       "1908917  9.10500001710006e+19                           1877\n",
       "1908918  9.10400001710005e+19                           1952\n",
       "1908919  9.10400001710006e+19                           2051\n",
       "1908920  9.10600001710006e+19                           2069"
      ]
     },
     "execution_count": 8,
     "metadata": {},
     "output_type": "execute_result"
    }
   ],
   "source": [
    "exploratory_client_query = \"\"\"\n",
    "MATCH (client:Client)-[transacted_at:TRANSACTED_AT]->(merchant:Merchant)\n",
    "WITH client.dedupestatic as client, count(transacted_at) as number_merchant_relationships\n",
    "RETURN client, number_merchant_relationships\n",
    "ORDER BY number_merchant_relationships\n",
    "\"\"\"\n",
    "df=graph.run(exploratory_client_query).to_data_frame()\n",
    "df.tail()"
   ]
  },
  {
   "cell_type": "code",
   "execution_count": 9,
   "metadata": {},
   "outputs": [
    {
     "data": {
      "text/plain": [
       "91060000171000594432"
      ]
     },
     "execution_count": 9,
     "metadata": {},
     "output_type": "execute_result"
    }
   ],
   "source": [
    "int(float(list(df['client'])[-1]))"
   ]
  },
  {
   "cell_type": "markdown",
   "metadata": {},
   "source": [
    "Choose one client Dedupegroup = 91060000171000594432, the one with the most relationships."
   ]
  },
  {
   "cell_type": "code",
   "execution_count": 10,
   "metadata": {},
   "outputs": [
    {
     "data": {
      "text/html": [
       "<div>\n",
       "<style scoped>\n",
       "    .dataframe tbody tr th:only-of-type {\n",
       "        vertical-align: middle;\n",
       "    }\n",
       "\n",
       "    .dataframe tbody tr th {\n",
       "        vertical-align: top;\n",
       "    }\n",
       "\n",
       "    .dataframe thead th {\n",
       "        text-align: right;\n",
       "    }\n",
       "</style>\n",
       "<table border=\"1\" class=\"dataframe\">\n",
       "  <thead>\n",
       "    <tr style=\"text-align: right;\">\n",
       "      <th></th>\n",
       "      <th>client</th>\n",
       "      <th>franchisename</th>\n",
       "      <th>companyname</th>\n",
       "    </tr>\n",
       "  </thead>\n",
       "  <tbody>\n",
       "    <tr>\n",
       "      <th>0</th>\n",
       "      <td>9.10600001710006e+19</td>\n",
       "      <td>MEDIRITE KIMBERLEY</td>\n",
       "      <td>MEDIRITE</td>\n",
       "    </tr>\n",
       "    <tr>\n",
       "      <th>1</th>\n",
       "      <td>9.10600001710006e+19</td>\n",
       "      <td>CLICKS HEIDELBERG</td>\n",
       "      <td>CLICKS</td>\n",
       "    </tr>\n",
       "    <tr>\n",
       "      <th>2</th>\n",
       "      <td>9.10600001710006e+19</td>\n",
       "      <td>MEDIRITE - BARTLETT</td>\n",
       "      <td>MEDIRITE</td>\n",
       "    </tr>\n",
       "    <tr>\n",
       "      <th>3</th>\n",
       "      <td>9.10600001710006e+19</td>\n",
       "      <td>WOOLWORTHS NORWOOD</td>\n",
       "      <td>WOOLWORTHS</td>\n",
       "    </tr>\n",
       "    <tr>\n",
       "      <th>4</th>\n",
       "      <td>9.10600001710006e+19</td>\n",
       "      <td>PNP POLOKWANE</td>\n",
       "      <td>PNP</td>\n",
       "    </tr>\n",
       "    <tr>\n",
       "      <th>...</th>\n",
       "      <td>...</td>\n",
       "      <td>...</td>\n",
       "      <td>...</td>\n",
       "    </tr>\n",
       "    <tr>\n",
       "      <th>2064</th>\n",
       "      <td>9.10600001710006e+19</td>\n",
       "      <td>PNP UMHLANGA</td>\n",
       "      <td>PNP</td>\n",
       "    </tr>\n",
       "    <tr>\n",
       "      <th>2065</th>\n",
       "      <td>9.10600001710006e+19</td>\n",
       "      <td>SUPERSPAR GATEWAY HERMANU</td>\n",
       "      <td>SPAR</td>\n",
       "    </tr>\n",
       "    <tr>\n",
       "      <th>2066</th>\n",
       "      <td>9.10600001710006e+19</td>\n",
       "      <td>PEP VEREENIGING</td>\n",
       "      <td>PEP</td>\n",
       "    </tr>\n",
       "    <tr>\n",
       "      <th>2067</th>\n",
       "      <td>9.10600001710006e+19</td>\n",
       "      <td>SHOPRITE GRAAFF REINET</td>\n",
       "      <td>SHOPRITE</td>\n",
       "    </tr>\n",
       "    <tr>\n",
       "      <th>2068</th>\n",
       "      <td>9.10600001710006e+19</td>\n",
       "      <td>PNP NEWTON PARK</td>\n",
       "      <td>PNP</td>\n",
       "    </tr>\n",
       "  </tbody>\n",
       "</table>\n",
       "<p>2069 rows × 3 columns</p>\n",
       "</div>"
      ],
      "text/plain": [
       "                    client              franchisename companyname\n",
       "0     9.10600001710006e+19         MEDIRITE KIMBERLEY    MEDIRITE\n",
       "1     9.10600001710006e+19          CLICKS HEIDELBERG      CLICKS\n",
       "2     9.10600001710006e+19        MEDIRITE - BARTLETT    MEDIRITE\n",
       "3     9.10600001710006e+19         WOOLWORTHS NORWOOD  WOOLWORTHS\n",
       "4     9.10600001710006e+19              PNP POLOKWANE         PNP\n",
       "...                    ...                        ...         ...\n",
       "2064  9.10600001710006e+19               PNP UMHLANGA         PNP\n",
       "2065  9.10600001710006e+19  SUPERSPAR GATEWAY HERMANU        SPAR\n",
       "2066  9.10600001710006e+19            PEP VEREENIGING         PEP\n",
       "2067  9.10600001710006e+19     SHOPRITE GRAAFF REINET    SHOPRITE\n",
       "2068  9.10600001710006e+19            PNP NEWTON PARK         PNP\n",
       "\n",
       "[2069 rows x 3 columns]"
      ]
     },
     "execution_count": 10,
     "metadata": {},
     "output_type": "execute_result"
    }
   ],
   "source": [
    "dedupestatic=list(df['client'])[-1]\n",
    "a_client_query = \"\"\"\n",
    "MATCH (client:Client {dedupestatic:$dedupestatic})-[:TRANSACTED_AT]->(merchant:Merchant)\n",
    "WITH client.dedupestatic as client, merchant.franchisename as franchisename, merchant.companyname as companyname\n",
    "RETURN client, franchisename,companyname\n",
    "\"\"\"\n",
    "graph.run(a_client_query, {\"dedupestatic\": dedupestatic}).to_data_frame()"
   ]
  },
  {
   "cell_type": "code",
   "execution_count": 11,
   "metadata": {},
   "outputs": [
    {
     "data": {
      "text/plain": [
       "'\\nMATCH (client:Client {dedupestatic:$dedupestatic})-[:TRANSACTED_AT]->(merchant:Merchant)\\nWITH client.dedupestatic as client, merchant.franchisename as franchisename, merchant.companyname as companyname\\nRETURN client, franchisename,companyname\\n'"
      ]
     },
     "execution_count": 11,
     "metadata": {},
     "output_type": "execute_result"
    }
   ],
   "source": [
    "a_client_query"
   ]
  },
  {
   "cell_type": "markdown",
   "metadata": {},
   "source": [
    "#### Now let's explore the Merchant data. "
   ]
  },
  {
   "cell_type": "markdown",
   "metadata": {},
   "source": [
    "This looks at the COMPANY level first and counts the unique relationships:"
   ]
  },
  {
   "cell_type": "code",
   "execution_count": 12,
   "metadata": {},
   "outputs": [
    {
     "data": {
      "text/html": [
       "<div>\n",
       "<style scoped>\n",
       "    .dataframe tbody tr th:only-of-type {\n",
       "        vertical-align: middle;\n",
       "    }\n",
       "\n",
       "    .dataframe tbody tr th {\n",
       "        vertical-align: top;\n",
       "    }\n",
       "\n",
       "    .dataframe thead th {\n",
       "        text-align: right;\n",
       "    }\n",
       "</style>\n",
       "<table border=\"1\" class=\"dataframe\">\n",
       "  <thead>\n",
       "    <tr style=\"text-align: right;\">\n",
       "      <th></th>\n",
       "      <th>company</th>\n",
       "      <th>number_company_relationships</th>\n",
       "    </tr>\n",
       "  </thead>\n",
       "  <tbody>\n",
       "    <tr>\n",
       "      <th>0</th>\n",
       "      <td>SPAR</td>\n",
       "      <td>1112968</td>\n",
       "    </tr>\n",
       "    <tr>\n",
       "      <th>1</th>\n",
       "      <td>PNP</td>\n",
       "      <td>1011818</td>\n",
       "    </tr>\n",
       "    <tr>\n",
       "      <th>2</th>\n",
       "      <td>SHOPRITE</td>\n",
       "      <td>647844</td>\n",
       "    </tr>\n",
       "    <tr>\n",
       "      <th>3</th>\n",
       "      <td>CHECKERS</td>\n",
       "      <td>595026</td>\n",
       "    </tr>\n",
       "    <tr>\n",
       "      <th>4</th>\n",
       "      <td>WOOLWORTHS</td>\n",
       "      <td>521081</td>\n",
       "    </tr>\n",
       "  </tbody>\n",
       "</table>\n",
       "</div>"
      ],
      "text/plain": [
       "      company  number_company_relationships\n",
       "0        SPAR                       1112968\n",
       "1         PNP                       1011818\n",
       "2    SHOPRITE                        647844\n",
       "3    CHECKERS                        595026\n",
       "4  WOOLWORTHS                        521081"
      ]
     },
     "execution_count": 12,
     "metadata": {},
     "output_type": "execute_result"
    }
   ],
   "source": [
    "exploratory_company_query = \"\"\"\n",
    "MATCH (client:Client)-[transacted_at:TRANSACTED_AT]->(merchant:Merchant)\n",
    "WHERE merchant.companyname<>'Unknown'\n",
    "WITH merchant.companyname as company, count(transacted_at) as number_company_relationships\n",
    "RETURN company, number_company_relationships\n",
    "ORDER BY number_company_relationships DESC\n",
    "\"\"\"\n",
    "df=graph.run(exploratory_company_query).to_data_frame()\n",
    "df.head()"
   ]
  },
  {
   "cell_type": "markdown",
   "metadata": {},
   "source": [
    "This looks at the MERCHANT level and counts the unique relationships:"
   ]
  },
  {
   "cell_type": "code",
   "execution_count": 13,
   "metadata": {},
   "outputs": [
    {
     "data": {
      "text/html": [
       "<div>\n",
       "<style scoped>\n",
       "    .dataframe tbody tr th:only-of-type {\n",
       "        vertical-align: middle;\n",
       "    }\n",
       "\n",
       "    .dataframe tbody tr th {\n",
       "        vertical-align: top;\n",
       "    }\n",
       "\n",
       "    .dataframe thead th {\n",
       "        text-align: right;\n",
       "    }\n",
       "</style>\n",
       "<table border=\"1\" class=\"dataframe\">\n",
       "  <thead>\n",
       "    <tr style=\"text-align: right;\">\n",
       "      <th></th>\n",
       "      <th>merchant</th>\n",
       "      <th>number_merchant_relationships</th>\n",
       "    </tr>\n",
       "  </thead>\n",
       "  <tbody>\n",
       "    <tr>\n",
       "      <th>0</th>\n",
       "      <td>BOXER SUPERSTO</td>\n",
       "      <td>93970</td>\n",
       "    </tr>\n",
       "    <tr>\n",
       "      <th>1</th>\n",
       "      <td>NETFLIX.COM</td>\n",
       "      <td>84771</td>\n",
       "    </tr>\n",
       "    <tr>\n",
       "      <th>2</th>\n",
       "      <td>CheckersHyper</td>\n",
       "      <td>70692</td>\n",
       "    </tr>\n",
       "    <tr>\n",
       "      <th>3</th>\n",
       "      <td>payD Vodacom E</td>\n",
       "      <td>63589</td>\n",
       "    </tr>\n",
       "    <tr>\n",
       "      <th>4</th>\n",
       "      <td>Truworths</td>\n",
       "      <td>61202</td>\n",
       "    </tr>\n",
       "  </tbody>\n",
       "</table>\n",
       "</div>"
      ],
      "text/plain": [
       "         merchant  number_merchant_relationships\n",
       "0  BOXER SUPERSTO                          93970\n",
       "1     NETFLIX.COM                          84771\n",
       "2   CheckersHyper                          70692\n",
       "3  payD Vodacom E                          63589\n",
       "4       Truworths                          61202"
      ]
     },
     "execution_count": 13,
     "metadata": {},
     "output_type": "execute_result"
    }
   ],
   "source": [
    "exploratory_franchise_query = \"\"\"\n",
    "MATCH ()-[transacted_at:TRANSACTED_AT]->(merchant:Merchant)\n",
    "WHERE merchant.companyname<>'Unknown'\n",
    "WITH merchant.franchisename as merchant, count(transacted_at) as number_merchant_relationships\n",
    "RETURN merchant, number_merchant_relationships\n",
    "ORDER BY number_merchant_relationships DESC\n",
    "\"\"\"\n",
    "df=graph.run(exploratory_franchise_query).to_data_frame()\n",
    "df.head()"
   ]
  },
  {
   "cell_type": "markdown",
   "metadata": {},
   "source": [
    "Now let's explore the transaction data in more detail.  We need to zoom in on one Merchant. The following query finds Dischem and Dischem Dainfern Square in particular, the unique clients that visited this merchant, the number of unique Nedbank Clients that visited the Merchant (Merchant1) and then any other Merchant (Merchant2) these client may have visited and how many unique clients (merchant2_transactions) transacted at Merchant 2:"
   ]
  },
  {
   "cell_type": "code",
   "execution_count": 16,
   "metadata": {},
   "outputs": [],
   "source": [
    "exploratory_query = \"\"\"\n",
    "MATCH (merchant1:Merchant {franchisename:'DIS-CHEM DAINFERN'})<-[:TRANSACTED_AT]-(client:Client)-[:TRANSACTED_AT]->(merchant2:Merchant)\n",
    "WHERE merchant1<>merchant2\n",
    "RETURN merchant1.franchisename AS merchant1, client.dedupestatic AS dedupestatic,  merchant2.franchisename AS merchant2, \n",
    "       size((merchant1)-[:TRANSACTED_AT]-()) AS merchant1_transactions, \n",
    "       size((merchant2)-[:TRANSACTED_AT]-()) AS merchant2_transactions\n",
    "ORDER BY rand()\n",
    "\"\"\"\n",
    "\n",
    "df=graph.run(exploratory_query).to_data_frame()"
   ]
  },
  {
   "cell_type": "code",
   "execution_count": 17,
   "metadata": {},
   "outputs": [
    {
     "data": {
      "text/html": [
       "<div>\n",
       "<style scoped>\n",
       "    .dataframe tbody tr th:only-of-type {\n",
       "        vertical-align: middle;\n",
       "    }\n",
       "\n",
       "    .dataframe tbody tr th {\n",
       "        vertical-align: top;\n",
       "    }\n",
       "\n",
       "    .dataframe thead th {\n",
       "        text-align: right;\n",
       "    }\n",
       "</style>\n",
       "<table border=\"1\" class=\"dataframe\">\n",
       "  <thead>\n",
       "    <tr style=\"text-align: right;\">\n",
       "      <th></th>\n",
       "      <th>merchant1</th>\n",
       "      <th>dedupestatic</th>\n",
       "      <th>merchant2</th>\n",
       "      <th>merchant1_transactions</th>\n",
       "      <th>merchant2_transactions</th>\n",
       "    </tr>\n",
       "  </thead>\n",
       "  <tbody>\n",
       "    <tr>\n",
       "      <th>0</th>\n",
       "      <td>DIS-CHEM DAINFERN</td>\n",
       "      <td>1.10231270801e+11</td>\n",
       "      <td>Spar Broad A</td>\n",
       "      <td>252</td>\n",
       "      <td>51</td>\n",
       "    </tr>\n",
       "    <tr>\n",
       "      <th>1</th>\n",
       "      <td>DIS-CHEM DAINFERN</td>\n",
       "      <td>1.10231270801e+11</td>\n",
       "      <td>WOOLWORTHS- BR</td>\n",
       "      <td>252</td>\n",
       "      <td>2110</td>\n",
       "    </tr>\n",
       "    <tr>\n",
       "      <th>2</th>\n",
       "      <td>DIS-CHEM DAINFERN</td>\n",
       "      <td>1.10231270801e+11</td>\n",
       "      <td>Clicks Fourway</td>\n",
       "      <td>252</td>\n",
       "      <td>1736</td>\n",
       "    </tr>\n",
       "    <tr>\n",
       "      <th>3</th>\n",
       "      <td>DIS-CHEM DAINFERN</td>\n",
       "      <td>1.10231270801e+11</td>\n",
       "      <td>BUILDERS EXP C</td>\n",
       "      <td>252</td>\n",
       "      <td>1889</td>\n",
       "    </tr>\n",
       "    <tr>\n",
       "      <th>4</th>\n",
       "      <td>DIS-CHEM DAINFERN</td>\n",
       "      <td>1.10231270801e+11</td>\n",
       "      <td>Spar Broadacre</td>\n",
       "      <td>252</td>\n",
       "      <td>2574</td>\n",
       "    </tr>\n",
       "    <tr>\n",
       "      <th>...</th>\n",
       "      <td>...</td>\n",
       "      <td>...</td>\n",
       "      <td>...</td>\n",
       "      <td>...</td>\n",
       "      <td>...</td>\n",
       "    </tr>\n",
       "    <tr>\n",
       "      <th>3265</th>\n",
       "      <td>DIS-CHEM DAINFERN</td>\n",
       "      <td>1.91988706136e+11</td>\n",
       "      <td>DEBONAIRS</td>\n",
       "      <td>252</td>\n",
       "      <td>3562</td>\n",
       "    </tr>\n",
       "    <tr>\n",
       "      <th>3266</th>\n",
       "      <td>DIS-CHEM DAINFERN</td>\n",
       "      <td>1.91988706136e+11</td>\n",
       "      <td>PNP FAMILY BOPHELONG</td>\n",
       "      <td>252</td>\n",
       "      <td>32</td>\n",
       "    </tr>\n",
       "    <tr>\n",
       "      <th>3267</th>\n",
       "      <td>DIS-CHEM DAINFERN</td>\n",
       "      <td>1.91988706136e+11</td>\n",
       "      <td>DEBONAIRS PIZZA</td>\n",
       "      <td>252</td>\n",
       "      <td>822</td>\n",
       "    </tr>\n",
       "    <tr>\n",
       "      <th>3268</th>\n",
       "      <td>DIS-CHEM DAINFERN</td>\n",
       "      <td>1.91988706136e+11</td>\n",
       "      <td>PNP CRP DEINFERN SQUAR</td>\n",
       "      <td>252</td>\n",
       "      <td>384</td>\n",
       "    </tr>\n",
       "    <tr>\n",
       "      <th>3269</th>\n",
       "      <td>DIS-CHEM DAINFERN</td>\n",
       "      <td>1.91988706136e+11</td>\n",
       "      <td>WOOLWORTHS MAROUN SQ</td>\n",
       "      <td>252</td>\n",
       "      <td>277</td>\n",
       "    </tr>\n",
       "  </tbody>\n",
       "</table>\n",
       "<p>3270 rows × 5 columns</p>\n",
       "</div>"
      ],
      "text/plain": [
       "              merchant1       dedupestatic               merchant2  \\\n",
       "0     DIS-CHEM DAINFERN  1.10231270801e+11            Spar Broad A   \n",
       "1     DIS-CHEM DAINFERN  1.10231270801e+11          WOOLWORTHS- BR   \n",
       "2     DIS-CHEM DAINFERN  1.10231270801e+11          Clicks Fourway   \n",
       "3     DIS-CHEM DAINFERN  1.10231270801e+11          BUILDERS EXP C   \n",
       "4     DIS-CHEM DAINFERN  1.10231270801e+11          Spar Broadacre   \n",
       "...                 ...                ...                     ...   \n",
       "3265  DIS-CHEM DAINFERN  1.91988706136e+11               DEBONAIRS   \n",
       "3266  DIS-CHEM DAINFERN  1.91988706136e+11    PNP FAMILY BOPHELONG   \n",
       "3267  DIS-CHEM DAINFERN  1.91988706136e+11         DEBONAIRS PIZZA   \n",
       "3268  DIS-CHEM DAINFERN  1.91988706136e+11  PNP CRP DEINFERN SQUAR   \n",
       "3269  DIS-CHEM DAINFERN  1.91988706136e+11    WOOLWORTHS MAROUN SQ   \n",
       "\n",
       "      merchant1_transactions  merchant2_transactions  \n",
       "0                        252                      51  \n",
       "1                        252                    2110  \n",
       "2                        252                    1736  \n",
       "3                        252                    1889  \n",
       "4                        252                    2574  \n",
       "...                      ...                     ...  \n",
       "3265                     252                    3562  \n",
       "3266                     252                      32  \n",
       "3267                     252                     822  \n",
       "3268                     252                     384  \n",
       "3269                     252                     277  \n",
       "\n",
       "[3270 rows x 5 columns]"
      ]
     },
     "execution_count": 17,
     "metadata": {},
     "output_type": "execute_result"
    }
   ],
   "source": [
    "df"
   ]
  },
  {
   "cell_type": "code",
   "execution_count": 20,
   "metadata": {},
   "outputs": [
    {
     "data": {
      "text/plain": [
       "1224"
      ]
     },
     "execution_count": 20,
     "metadata": {},
     "output_type": "execute_result"
    }
   ],
   "source": [
    "len(list(set(df.merchant2)))"
   ]
  },
  {
   "cell_type": "code",
   "execution_count": 21,
   "metadata": {},
   "outputs": [
    {
     "data": {
      "text/html": [
       "<div>\n",
       "<style scoped>\n",
       "    .dataframe tbody tr th:only-of-type {\n",
       "        vertical-align: middle;\n",
       "    }\n",
       "\n",
       "    .dataframe tbody tr th {\n",
       "        vertical-align: top;\n",
       "    }\n",
       "\n",
       "    .dataframe thead th {\n",
       "        text-align: right;\n",
       "    }\n",
       "</style>\n",
       "<table border=\"1\" class=\"dataframe\">\n",
       "  <thead>\n",
       "    <tr style=\"text-align: right;\">\n",
       "      <th></th>\n",
       "      <th>merchant1</th>\n",
       "      <th>merchant2</th>\n",
       "      <th>merchant1_transactions</th>\n",
       "      <th>merchant2_transactions</th>\n",
       "    </tr>\n",
       "  </thead>\n",
       "  <tbody>\n",
       "    <tr>\n",
       "      <th>0</th>\n",
       "      <td>DIS-CHEM DAINFERN</td>\n",
       "      <td>Spar Broad A</td>\n",
       "      <td>252</td>\n",
       "      <td>51</td>\n",
       "    </tr>\n",
       "    <tr>\n",
       "      <th>1</th>\n",
       "      <td>DIS-CHEM DAINFERN</td>\n",
       "      <td>WOOLWORTHS- BR</td>\n",
       "      <td>252</td>\n",
       "      <td>2110</td>\n",
       "    </tr>\n",
       "    <tr>\n",
       "      <th>2</th>\n",
       "      <td>DIS-CHEM DAINFERN</td>\n",
       "      <td>Clicks Fourway</td>\n",
       "      <td>252</td>\n",
       "      <td>1736</td>\n",
       "    </tr>\n",
       "    <tr>\n",
       "      <th>3</th>\n",
       "      <td>DIS-CHEM DAINFERN</td>\n",
       "      <td>BUILDERS EXP C</td>\n",
       "      <td>252</td>\n",
       "      <td>1889</td>\n",
       "    </tr>\n",
       "    <tr>\n",
       "      <th>4</th>\n",
       "      <td>DIS-CHEM DAINFERN</td>\n",
       "      <td>Spar Broadacre</td>\n",
       "      <td>252</td>\n",
       "      <td>2574</td>\n",
       "    </tr>\n",
       "    <tr>\n",
       "      <th>...</th>\n",
       "      <td>...</td>\n",
       "      <td>...</td>\n",
       "      <td>...</td>\n",
       "      <td>...</td>\n",
       "    </tr>\n",
       "    <tr>\n",
       "      <th>3265</th>\n",
       "      <td>DIS-CHEM DAINFERN</td>\n",
       "      <td>DEBONAIRS</td>\n",
       "      <td>252</td>\n",
       "      <td>3562</td>\n",
       "    </tr>\n",
       "    <tr>\n",
       "      <th>3266</th>\n",
       "      <td>DIS-CHEM DAINFERN</td>\n",
       "      <td>PNP FAMILY BOPHELONG</td>\n",
       "      <td>252</td>\n",
       "      <td>32</td>\n",
       "    </tr>\n",
       "    <tr>\n",
       "      <th>3267</th>\n",
       "      <td>DIS-CHEM DAINFERN</td>\n",
       "      <td>DEBONAIRS PIZZA</td>\n",
       "      <td>252</td>\n",
       "      <td>822</td>\n",
       "    </tr>\n",
       "    <tr>\n",
       "      <th>3268</th>\n",
       "      <td>DIS-CHEM DAINFERN</td>\n",
       "      <td>PNP CRP DEINFERN SQUAR</td>\n",
       "      <td>252</td>\n",
       "      <td>384</td>\n",
       "    </tr>\n",
       "    <tr>\n",
       "      <th>3269</th>\n",
       "      <td>DIS-CHEM DAINFERN</td>\n",
       "      <td>WOOLWORTHS MAROUN SQ</td>\n",
       "      <td>252</td>\n",
       "      <td>277</td>\n",
       "    </tr>\n",
       "  </tbody>\n",
       "</table>\n",
       "<p>3270 rows × 4 columns</p>\n",
       "</div>"
      ],
      "text/plain": [
       "              merchant1               merchant2  merchant1_transactions  \\\n",
       "0     DIS-CHEM DAINFERN            Spar Broad A                     252   \n",
       "1     DIS-CHEM DAINFERN          WOOLWORTHS- BR                     252   \n",
       "2     DIS-CHEM DAINFERN          Clicks Fourway                     252   \n",
       "3     DIS-CHEM DAINFERN          BUILDERS EXP C                     252   \n",
       "4     DIS-CHEM DAINFERN          Spar Broadacre                     252   \n",
       "...                 ...                     ...                     ...   \n",
       "3265  DIS-CHEM DAINFERN               DEBONAIRS                     252   \n",
       "3266  DIS-CHEM DAINFERN    PNP FAMILY BOPHELONG                     252   \n",
       "3267  DIS-CHEM DAINFERN         DEBONAIRS PIZZA                     252   \n",
       "3268  DIS-CHEM DAINFERN  PNP CRP DEINFERN SQUAR                     252   \n",
       "3269  DIS-CHEM DAINFERN    WOOLWORTHS MAROUN SQ                     252   \n",
       "\n",
       "      merchant2_transactions  \n",
       "0                         51  \n",
       "1                       2110  \n",
       "2                       1736  \n",
       "3                       1889  \n",
       "4                       2574  \n",
       "...                      ...  \n",
       "3265                    3562  \n",
       "3266                      32  \n",
       "3267                     822  \n",
       "3268                     384  \n",
       "3269                     277  \n",
       "\n",
       "[3270 rows x 4 columns]"
      ]
     },
     "execution_count": 21,
     "metadata": {},
     "output_type": "execute_result"
    }
   ],
   "source": [
    "exploratory_query = \"\"\"\n",
    "MATCH (merchant1:Merchant {franchisename:'DIS-CHEM DAINFERN'})<-[:TRANSACTED_AT]-()-[:TRANSACTED_AT]->(merchant2:Merchant)\n",
    "WHERE merchant1<>merchant2\n",
    "RETURN merchant1.franchisename AS merchant1, merchant2.franchisename AS merchant2, \n",
    "       size((merchant1)-[:TRANSACTED_AT]-()) AS merchant1_transactions, \n",
    "       size((merchant2)-[:TRANSACTED_AT]-()) AS merchant2_transactions\n",
    "ORDER BY rand()\n",
    "\"\"\"\n",
    "graph.run(exploratory_query).to_data_frame()"
   ]
  },
  {
   "cell_type": "code",
   "execution_count": 22,
   "metadata": {},
   "outputs": [
    {
     "data": {
      "text/html": [
       "<div>\n",
       "<style scoped>\n",
       "    .dataframe tbody tr th:only-of-type {\n",
       "        vertical-align: middle;\n",
       "    }\n",
       "\n",
       "    .dataframe tbody tr th {\n",
       "        vertical-align: top;\n",
       "    }\n",
       "\n",
       "    .dataframe thead th {\n",
       "        text-align: right;\n",
       "    }\n",
       "</style>\n",
       "<table border=\"1\" class=\"dataframe\">\n",
       "  <thead>\n",
       "    <tr style=\"text-align: right;\">\n",
       "      <th></th>\n",
       "      <th>transactions</th>\n",
       "    </tr>\n",
       "  </thead>\n",
       "  <tbody>\n",
       "    <tr>\n",
       "      <th>count</th>\n",
       "      <td>1544.000000</td>\n",
       "    </tr>\n",
       "    <tr>\n",
       "      <th>mean</th>\n",
       "      <td>194.995466</td>\n",
       "    </tr>\n",
       "    <tr>\n",
       "      <th>std</th>\n",
       "      <td>415.986285</td>\n",
       "    </tr>\n",
       "    <tr>\n",
       "      <th>min</th>\n",
       "      <td>1.000000</td>\n",
       "    </tr>\n",
       "    <tr>\n",
       "      <th>25%</th>\n",
       "      <td>3.000000</td>\n",
       "    </tr>\n",
       "    <tr>\n",
       "      <th>50%</th>\n",
       "      <td>31.000000</td>\n",
       "    </tr>\n",
       "    <tr>\n",
       "      <th>75%</th>\n",
       "      <td>180.250000</td>\n",
       "    </tr>\n",
       "    <tr>\n",
       "      <th>90%</th>\n",
       "      <td>505.500000</td>\n",
       "    </tr>\n",
       "    <tr>\n",
       "      <th>99%</th>\n",
       "      <td>2008.410000</td>\n",
       "    </tr>\n",
       "    <tr>\n",
       "      <th>max</th>\n",
       "      <td>4016.000000</td>\n",
       "    </tr>\n",
       "  </tbody>\n",
       "</table>\n",
       "</div>"
      ],
      "text/plain": [
       "       transactions\n",
       "count   1544.000000\n",
       "mean     194.995466\n",
       "std      415.986285\n",
       "min        1.000000\n",
       "25%        3.000000\n",
       "50%       31.000000\n",
       "75%      180.250000\n",
       "90%      505.500000\n",
       "99%     2008.410000\n",
       "max     4016.000000"
      ]
     },
     "execution_count": 22,
     "metadata": {},
     "output_type": "execute_result"
    }
   ],
   "source": [
    "query = \"\"\"\n",
    "MATCH (m:Merchant {companyname:'DISCHEM'})-[transaction:TRANSACTED_AT]-(client:Client)\n",
    "RETURN m.franchisename AS Merchant, count(transaction) AS transactions\n",
    "\"\"\"\n",
    "transactions_df = graph.run(query).to_data_frame()\n",
    "transactions_df.describe([.25, .5, .75, .9, .99])"
   ]
  }
 ],
 "metadata": {
  "kernelspec": {
   "display_name": "Python 3",
   "language": "python",
   "name": "python3"
  },
  "language_info": {
   "codemirror_mode": {
    "name": "ipython",
    "version": 3
   },
   "file_extension": ".py",
   "mimetype": "text/x-python",
   "name": "python",
   "nbconvert_exporter": "python",
   "pygments_lexer": "ipython3",
   "version": "3.7.6"
  }
 },
 "nbformat": 4,
 "nbformat_minor": 4
}

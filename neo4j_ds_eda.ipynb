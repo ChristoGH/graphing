{
 "cells": [
  {
   "cell_type": "markdown",
   "metadata": {},
   "source": [
    "https://neo4j.com/graphacademy/online-training/data-science/part-2/"
   ]
  },
  {
   "cell_type": "code",
   "execution_count": 5,
   "metadata": {},
   "outputs": [],
   "source": [
    "import pandas as pd\n",
    "from py2neo import Graph\n",
    "graph = Graph(\"bolt://localhost:7687\", user='neo4j', password='newPassword')\n",
    "# graph = Graph()"
   ]
  },
  {
   "cell_type": "code",
   "execution_count": 6,
   "metadata": {},
   "outputs": [],
   "source": [
    "import matplotlib \n",
    "import matplotlib.pyplot as plt"
   ]
  },
  {
   "cell_type": "markdown",
   "metadata": {},
   "source": [
    "### Part 1, EDA"
   ]
  },
  {
   "cell_type": "markdown",
   "metadata": {},
   "source": [
    "https://colab.research.google.com/github/neo4j-contrib/training-v2/blob/master/Courses/DataScience/notebooks/02_EDA.ipynb#scrollTo=0r69d4ek5huR"
   ]
  },
  {
   "cell_type": "markdown",
   "metadata": {},
   "source": [
    "#### Is the Neo4J db up and running?"
   ]
  },
  {
   "cell_type": "code",
   "execution_count": 10,
   "metadata": {},
   "outputs": [
    {
     "data": {
      "text/plain": [
       "[{'nodes': [(_-4:Merchant {constraints: ['CONSTRAINT ON ( merchant:Merchant ) ASSERT (merchant.franchisename) IS UNIQUE'], indexes: ['franchisename'], name: 'Merchant'}),\n",
       "   (_-3:Client {constraints: ['CONSTRAINT ON ( client:Client ) ASSERT (client.dedupestatic) IS UNIQUE'], indexes: [], name: 'Client'})],\n",
       "  'relationships': [(Client)-[:TRANSACTED_AT {}]->(Merchant)]}]"
      ]
     },
     "execution_count": 10,
     "metadata": {},
     "output_type": "execute_result"
    }
   ],
   "source": [
    "graph.run(\"CALL db.schema.visualization()\").data()"
   ]
  },
  {
   "cell_type": "markdown",
   "metadata": {},
   "source": [
    "#### In the browser, execute the following command:\n",
    "MATCH (c:Client)-[transacted_at:TRANSACTED_AT]->(merchant:Merchant) RETURN c,transacted_at,merchant LIMIT 50"
   ]
  },
  {
   "cell_type": "markdown",
   "metadata": {},
   "source": [
    "#### Let's drill down into the Nedbank Behaviour db. How many nodes do we have for each label?"
   ]
  },
  {
   "cell_type": "code",
   "execution_count": 11,
   "metadata": {},
   "outputs": [
    {
     "data": {
      "text/html": [
       "<div>\n",
       "<style scoped>\n",
       "    .dataframe tbody tr th:only-of-type {\n",
       "        vertical-align: middle;\n",
       "    }\n",
       "\n",
       "    .dataframe tbody tr th {\n",
       "        vertical-align: top;\n",
       "    }\n",
       "\n",
       "    .dataframe thead th {\n",
       "        text-align: right;\n",
       "    }\n",
       "</style>\n",
       "<table border=\"1\" class=\"dataframe\">\n",
       "  <thead>\n",
       "    <tr style=\"text-align: right;\">\n",
       "      <th></th>\n",
       "      <th>label</th>\n",
       "      <th>count</th>\n",
       "    </tr>\n",
       "  </thead>\n",
       "  <tbody>\n",
       "    <tr>\n",
       "      <th>1</th>\n",
       "      <td>Merchant</td>\n",
       "      <td>578685</td>\n",
       "    </tr>\n",
       "    <tr>\n",
       "      <th>0</th>\n",
       "      <td>Client</td>\n",
       "      <td>2216269</td>\n",
       "    </tr>\n",
       "  </tbody>\n",
       "</table>\n",
       "</div>"
      ],
      "text/plain": [
       "      label    count\n",
       "1  Merchant   578685\n",
       "0    Client  2216269"
      ]
     },
     "execution_count": 11,
     "metadata": {},
     "output_type": "execute_result"
    }
   ],
   "source": [
    "# https://neo4j.com/graphacademy/online-training/data-science/part-2/\n",
    "result = {\"label\": [], \"count\": []}\n",
    "for label in graph.run(\"CALL db.labels()\").to_series():\n",
    "    query = f\"MATCH (:`{label}`) RETURN count(*) as count\"\n",
    "    count = graph.run(query).to_data_frame().iloc[0]['count']\n",
    "    result[\"label\"].append(label)\n",
    "    result[\"count\"].append(count)\n",
    "nodes_df = pd.DataFrame(data=result)\n",
    "nodes_df.sort_values(\"count\")"
   ]
  },
  {
   "cell_type": "markdown",
   "metadata": {},
   "source": [
    "#### Visualize counts:"
   ]
  },
  {
   "cell_type": "code",
   "execution_count": 12,
   "metadata": {},
   "outputs": [
    {
     "data": {
      "image/png": "[encoded data removed]",
      "text/plain": [
       "<Figure size 432x288 with 1 Axes>"
      ]
     },
     "metadata": {
      "needs_background": "light"
     },
     "output_type": "display_data"
    }
   ],
   "source": [
    "nodes_df.plot(kind='bar', x='label', y='count', legend=None, title=\"Node Cardinalities\")\n",
    "plt.yscale(\"log\")\n",
    "plt.xticks(rotation=45)\n",
    "plt.tight_layout()\n",
    "plt.show()"
   ]
  },
  {
   "cell_type": "markdown",
   "metadata": {},
   "source": [
    "#### Here are the types of relationships and their counts in the db:"
   ]
  },
  {
   "cell_type": "code",
   "execution_count": 13,
   "metadata": {},
   "outputs": [
    {
     "data": {
      "text/html": [
       "<div>\n",
       "<style scoped>\n",
       "    .dataframe tbody tr th:only-of-type {\n",
       "        vertical-align: middle;\n",
       "    }\n",
       "\n",
       "    .dataframe tbody tr th {\n",
       "        vertical-align: top;\n",
       "    }\n",
       "\n",
       "    .dataframe thead th {\n",
       "        text-align: right;\n",
       "    }\n",
       "</style>\n",
       "<table border=\"1\" class=\"dataframe\">\n",
       "  <thead>\n",
       "    <tr style=\"text-align: right;\">\n",
       "      <th></th>\n",
       "      <th>relType</th>\n",
       "      <th>count</th>\n",
       "    </tr>\n",
       "  </thead>\n",
       "  <tbody>\n",
       "    <tr>\n",
       "      <th>0</th>\n",
       "      <td>TRANSACTED_AT</td>\n",
       "      <td>17919151</td>\n",
       "    </tr>\n",
       "  </tbody>\n",
       "</table>\n",
       "</div>"
      ],
      "text/plain": [
       "         relType     count\n",
       "0  TRANSACTED_AT  17919151"
      ]
     },
     "execution_count": 13,
     "metadata": {},
     "output_type": "execute_result"
    }
   ],
   "source": [
    "result = {\"relType\": [], \"count\": []}\n",
    "for relationship_type in graph.run(\"CALL db.relationshipTypes()\").to_series():\n",
    "    query = f\"MATCH ()-[:`{relationship_type}`]->() RETURN count(*) as count\"\n",
    "    count = graph.run(query).to_data_frame().iloc[0]['count']\n",
    "    result[\"relType\"].append(relationship_type)\n",
    "    result[\"count\"].append(count)\n",
    "rels_df = pd.DataFrame(data=result)\n",
    "rels_df.sort_values(\"count\")"
   ]
  },
  {
   "cell_type": "markdown",
   "metadata": {},
   "source": [
    "#### Visualize relationship cardinalities:"
   ]
  },
  {
   "cell_type": "code",
   "execution_count": 14,
   "metadata": {},
   "outputs": [
    {
     "data": {
      "image/png": "[encoded data removed]",
      "text/plain": [
       "<Figure size 432x288 with 1 Axes>"
      ]
     },
     "metadata": {
      "needs_background": "light"
     },
     "output_type": "display_data"
    }
   ],
   "source": [
    "rels_df.plot(kind='bar', x='relType', y='count', legend=None, title=\"Relationship Cardinalities\")\n",
    "plt.xticks(rotation=45)\n",
    "plt.tight_layout()\n",
    "plt.show()"
   ]
  },
  {
   "cell_type": "markdown",
   "metadata": {},
   "source": [
    "#### Explore client nodes:"
   ]
  },
  {
   "cell_type": "markdown",
   "metadata": {},
   "source": [
    "Lets look at the relationship COUNTS between client and Merchant:"
   ]
  },
  {
   "cell_type": "code",
   "execution_count": 26,
   "metadata": {},
   "outputs": [
    {
     "data": {
      "text/html": [
       "<div>\n",
       "<style scoped>\n",
       "    .dataframe tbody tr th:only-of-type {\n",
       "        vertical-align: middle;\n",
       "    }\n",
       "\n",
       "    .dataframe tbody tr th {\n",
       "        vertical-align: top;\n",
       "    }\n",
       "\n",
       "    .dataframe thead th {\n",
       "        text-align: right;\n",
       "    }\n",
       "</style>\n",
       "<table border=\"1\" class=\"dataframe\">\n",
       "  <thead>\n",
       "    <tr style=\"text-align: right;\">\n",
       "      <th></th>\n",
       "      <th>client</th>\n",
       "      <th>number_merchant_relationships</th>\n",
       "    </tr>\n",
       "  </thead>\n",
       "  <tbody>\n",
       "    <tr>\n",
       "      <th>2216000</th>\n",
       "      <td>9.10300001710005e+19</td>\n",
       "      <td>1895</td>\n",
       "    </tr>\n",
       "    <tr>\n",
       "      <th>2216001</th>\n",
       "      <td>9.10500001710006e+19</td>\n",
       "      <td>2458</td>\n",
       "    </tr>\n",
       "    <tr>\n",
       "      <th>2216002</th>\n",
       "      <td>9.10400001710005e+19</td>\n",
       "      <td>2534</td>\n",
       "    </tr>\n",
       "    <tr>\n",
       "      <th>2216003</th>\n",
       "      <td>9.10400001710006e+19</td>\n",
       "      <td>2624</td>\n",
       "    </tr>\n",
       "    <tr>\n",
       "      <th>2216004</th>\n",
       "      <td>9.10600001710006e+19</td>\n",
       "      <td>2903</td>\n",
       "    </tr>\n",
       "  </tbody>\n",
       "</table>\n",
       "</div>"
      ],
      "text/plain": [
       "                       client  number_merchant_relationships\n",
       "2216000  9.10300001710005e+19                           1895\n",
       "2216001  9.10500001710006e+19                           2458\n",
       "2216002  9.10400001710005e+19                           2534\n",
       "2216003  9.10400001710006e+19                           2624\n",
       "2216004  9.10600001710006e+19                           2903"
      ]
     },
     "execution_count": 26,
     "metadata": {},
     "output_type": "execute_result"
    }
   ],
   "source": [
    "exploratory_client_query = \"\"\"\n",
    "MATCH (client:Client)-[transacted_at:TRANSACTED_AT]->(merchant:Merchant)\n",
    "WITH client.dedupestatic as client, count(transacted_at) as number_merchant_relationships\n",
    "RETURN client, number_merchant_relationships\n",
    "ORDER BY number_merchant_relationships\n",
    "\"\"\"\n",
    "df=graph.run(exploratory_client_query).to_data_frame()\n",
    "df.tail()"
   ]
  },
  {
   "cell_type": "code",
   "execution_count": 55,
   "metadata": {},
   "outputs": [
    {
     "data": {
      "text/plain": [
       "91060000171000594432"
      ]
     },
     "execution_count": 55,
     "metadata": {},
     "output_type": "execute_result"
    }
   ],
   "source": [
    "int(float(list(df['client'])[-1]))"
   ]
  },
  {
   "cell_type": "markdown",
   "metadata": {},
   "source": [
    "Choose one client Dedupegroup = 91060000171000594432, the one with the most relationships."
   ]
  },
  {
   "cell_type": "code",
   "execution_count": 52,
   "metadata": {},
   "outputs": [
    {
     "data": {
      "text/html": [
       "<div>\n",
       "<style scoped>\n",
       "    .dataframe tbody tr th:only-of-type {\n",
       "        vertical-align: middle;\n",
       "    }\n",
       "\n",
       "    .dataframe tbody tr th {\n",
       "        vertical-align: top;\n",
       "    }\n",
       "\n",
       "    .dataframe thead th {\n",
       "        text-align: right;\n",
       "    }\n",
       "</style>\n",
       "<table border=\"1\" class=\"dataframe\">\n",
       "  <thead>\n",
       "    <tr style=\"text-align: right;\">\n",
       "      <th></th>\n",
       "      <th>client</th>\n",
       "      <th>franchisename</th>\n",
       "      <th>companyname</th>\n",
       "    </tr>\n",
       "  </thead>\n",
       "  <tbody>\n",
       "    <tr>\n",
       "      <th>0</th>\n",
       "      <td>9.10600001710006e+19</td>\n",
       "      <td>MEDIRITE KIMBERLEY</td>\n",
       "      <td>MEDIRITE</td>\n",
       "    </tr>\n",
       "    <tr>\n",
       "      <th>1</th>\n",
       "      <td>9.10600001710006e+19</td>\n",
       "      <td>CLICKS HEIDELBERG</td>\n",
       "      <td>CLICKS</td>\n",
       "    </tr>\n",
       "    <tr>\n",
       "      <th>2</th>\n",
       "      <td>9.10600001710006e+19</td>\n",
       "      <td>MEDIRITE - BARTLETT</td>\n",
       "      <td>MEDIRITE</td>\n",
       "    </tr>\n",
       "    <tr>\n",
       "      <th>3</th>\n",
       "      <td>9.10600001710006e+19</td>\n",
       "      <td>WOOLWORTHS NORWOOD</td>\n",
       "      <td>WOOLWORTHS</td>\n",
       "    </tr>\n",
       "    <tr>\n",
       "      <th>4</th>\n",
       "      <td>9.10600001710006e+19</td>\n",
       "      <td>PNP POLOKWANE</td>\n",
       "      <td>PNP</td>\n",
       "    </tr>\n",
       "    <tr>\n",
       "      <th>...</th>\n",
       "      <td>...</td>\n",
       "      <td>...</td>\n",
       "      <td>...</td>\n",
       "    </tr>\n",
       "    <tr>\n",
       "      <th>2898</th>\n",
       "      <td>9.10600001710006e+19</td>\n",
       "      <td>WOOLWORTHS HERMANUS</td>\n",
       "      <td>WOOLWORTHS</td>\n",
       "    </tr>\n",
       "    <tr>\n",
       "      <th>2899</th>\n",
       "      <td>9.10600001710006e+19</td>\n",
       "      <td>BUILDERS WAREHOUSE BLOEMF</td>\n",
       "      <td>BWH</td>\n",
       "    </tr>\n",
       "    <tr>\n",
       "      <th>2900</th>\n",
       "      <td>9.10600001710006e+19</td>\n",
       "      <td>DISCHEM PRELLER SQAURE</td>\n",
       "      <td>DISCHEM</td>\n",
       "    </tr>\n",
       "    <tr>\n",
       "      <th>2901</th>\n",
       "      <td>9.10600001710006e+19</td>\n",
       "      <td>JEFFREYS BAY SPAR</td>\n",
       "      <td>SPAR</td>\n",
       "    </tr>\n",
       "    <tr>\n",
       "      <th>2902</th>\n",
       "      <td>9.10600001710006e+19</td>\n",
       "      <td>ULTRAVEST INVESTMENTS</td>\n",
       "      <td>Unknown</td>\n",
       "    </tr>\n",
       "  </tbody>\n",
       "</table>\n",
       "<p>2903 rows × 3 columns</p>\n",
       "</div>"
      ],
      "text/plain": [
       "                    client              franchisename companyname\n",
       "0     9.10600001710006e+19         MEDIRITE KIMBERLEY    MEDIRITE\n",
       "1     9.10600001710006e+19          CLICKS HEIDELBERG      CLICKS\n",
       "2     9.10600001710006e+19        MEDIRITE - BARTLETT    MEDIRITE\n",
       "3     9.10600001710006e+19         WOOLWORTHS NORWOOD  WOOLWORTHS\n",
       "4     9.10600001710006e+19              PNP POLOKWANE         PNP\n",
       "...                    ...                        ...         ...\n",
       "2898  9.10600001710006e+19        WOOLWORTHS HERMANUS  WOOLWORTHS\n",
       "2899  9.10600001710006e+19  BUILDERS WAREHOUSE BLOEMF         BWH\n",
       "2900  9.10600001710006e+19     DISCHEM PRELLER SQAURE     DISCHEM\n",
       "2901  9.10600001710006e+19          JEFFREYS BAY SPAR        SPAR\n",
       "2902  9.10600001710006e+19      ULTRAVEST INVESTMENTS     Unknown\n",
       "\n",
       "[2903 rows x 3 columns]"
      ]
     },
     "execution_count": 52,
     "metadata": {},
     "output_type": "execute_result"
    }
   ],
   "source": [
    "dedupestatic=list(df['client'])[-1]\n",
    "a_client_query = \"\"\"\n",
    "MATCH (client:Client {dedupestatic:$dedupestatic})-[:TRANSACTED_AT]->(merchant:Merchant)\n",
    "WITH client.dedupestatic as client, merchant.franchisename as franchisename, merchant.companyname as companyname\n",
    "RETURN client, franchisename,companyname\n",
    "\"\"\"\n",
    "graph.run(a_client_query, {\"dedupestatic\": dedupestatic}).to_data_frame()"
   ]
  },
  {
   "cell_type": "code",
   "execution_count": 56,
   "metadata": {},
   "outputs": [
    {
     "data": {
      "text/plain": [
       "'\\nMATCH (client:Client {dedupestatic:$dedupestatic})-[:TRANSACTED_AT]->(merchant:Merchant)\\nWITH client.dedupestatic as client, merchant.franchisename as franchisename, merchant.companyname as companyname\\nRETURN client, franchisename,companyname\\n'"
      ]
     },
     "execution_count": 56,
     "metadata": {},
     "output_type": "execute_result"
    }
   ],
   "source": [
    "a_client_query"
   ]
  },
  {
   "cell_type": "markdown",
   "metadata": {},
   "source": [
    "#### Now let's explore the Merchant data. "
   ]
  },
  {
   "cell_type": "markdown",
   "metadata": {},
   "source": [
    "This looks at the COMPANY level first and counts the unique relationships:"
   ]
  },
  {
   "cell_type": "code",
   "execution_count": 61,
   "metadata": {},
   "outputs": [
    {
     "data": {
      "text/html": [
       "<div>\n",
       "<style scoped>\n",
       "    .dataframe tbody tr th:only-of-type {\n",
       "        vertical-align: middle;\n",
       "    }\n",
       "\n",
       "    .dataframe tbody tr th {\n",
       "        vertical-align: top;\n",
       "    }\n",
       "\n",
       "    .dataframe thead th {\n",
       "        text-align: right;\n",
       "    }\n",
       "</style>\n",
       "<table border=\"1\" class=\"dataframe\">\n",
       "  <thead>\n",
       "    <tr style=\"text-align: right;\">\n",
       "      <th></th>\n",
       "      <th>company</th>\n",
       "      <th>number_company_relationships</th>\n",
       "    </tr>\n",
       "  </thead>\n",
       "  <tbody>\n",
       "    <tr>\n",
       "      <th>0</th>\n",
       "      <td>SPAR</td>\n",
       "      <td>1112968</td>\n",
       "    </tr>\n",
       "    <tr>\n",
       "      <th>1</th>\n",
       "      <td>PNP</td>\n",
       "      <td>1011818</td>\n",
       "    </tr>\n",
       "    <tr>\n",
       "      <th>2</th>\n",
       "      <td>SHOPRITE</td>\n",
       "      <td>647844</td>\n",
       "    </tr>\n",
       "    <tr>\n",
       "      <th>3</th>\n",
       "      <td>CHECKERS</td>\n",
       "      <td>595026</td>\n",
       "    </tr>\n",
       "    <tr>\n",
       "      <th>4</th>\n",
       "      <td>WOOLWORTHS</td>\n",
       "      <td>521081</td>\n",
       "    </tr>\n",
       "  </tbody>\n",
       "</table>\n",
       "</div>"
      ],
      "text/plain": [
       "      company  number_company_relationships\n",
       "0        SPAR                       1112968\n",
       "1         PNP                       1011818\n",
       "2    SHOPRITE                        647844\n",
       "3    CHECKERS                        595026\n",
       "4  WOOLWORTHS                        521081"
      ]
     },
     "execution_count": 61,
     "metadata": {},
     "output_type": "execute_result"
    }
   ],
   "source": [
    "exploratory_company_query = \"\"\"\n",
    "MATCH (client:Client)-[transacted_at:TRANSACTED_AT]->(merchant:Merchant)\n",
    "WHERE merchant.companyname<>'Unknown'\n",
    "WITH merchant.companyname as company, count(transacted_at) as number_company_relationships\n",
    "RETURN company, number_company_relationships\n",
    "ORDER BY number_company_relationships DESC\n",
    "\"\"\"\n",
    "df=graph.run(exploratory_company_query).to_data_frame()\n",
    "df.head()"
   ]
  },
  {
   "cell_type": "markdown",
   "metadata": {},
   "source": [
    "This looks at the MERCHANT level and counts the unique relationships:"
   ]
  },
  {
   "cell_type": "code",
   "execution_count": 62,
   "metadata": {},
   "outputs": [
    {
     "data": {
      "text/html": [
       "<div>\n",
       "<style scoped>\n",
       "    .dataframe tbody tr th:only-of-type {\n",
       "        vertical-align: middle;\n",
       "    }\n",
       "\n",
       "    .dataframe tbody tr th {\n",
       "        vertical-align: top;\n",
       "    }\n",
       "\n",
       "    .dataframe thead th {\n",
       "        text-align: right;\n",
       "    }\n",
       "</style>\n",
       "<table border=\"1\" class=\"dataframe\">\n",
       "  <thead>\n",
       "    <tr style=\"text-align: right;\">\n",
       "      <th></th>\n",
       "      <th>merchant</th>\n",
       "      <th>number_merchant_relationships</th>\n",
       "    </tr>\n",
       "  </thead>\n",
       "  <tbody>\n",
       "    <tr>\n",
       "      <th>0</th>\n",
       "      <td>BOXER SUPERSTO</td>\n",
       "      <td>93970</td>\n",
       "    </tr>\n",
       "    <tr>\n",
       "      <th>1</th>\n",
       "      <td>NETFLIX.COM</td>\n",
       "      <td>84771</td>\n",
       "    </tr>\n",
       "    <tr>\n",
       "      <th>2</th>\n",
       "      <td>CheckersHyper</td>\n",
       "      <td>70692</td>\n",
       "    </tr>\n",
       "    <tr>\n",
       "      <th>3</th>\n",
       "      <td>payD Vodacom E</td>\n",
       "      <td>63589</td>\n",
       "    </tr>\n",
       "    <tr>\n",
       "      <th>4</th>\n",
       "      <td>Truworths</td>\n",
       "      <td>61202</td>\n",
       "    </tr>\n",
       "  </tbody>\n",
       "</table>\n",
       "</div>"
      ],
      "text/plain": [
       "         merchant  number_merchant_relationships\n",
       "0  BOXER SUPERSTO                          93970\n",
       "1     NETFLIX.COM                          84771\n",
       "2   CheckersHyper                          70692\n",
       "3  payD Vodacom E                          63589\n",
       "4       Truworths                          61202"
      ]
     },
     "execution_count": 62,
     "metadata": {},
     "output_type": "execute_result"
    }
   ],
   "source": [
    "exploratory_franchise_query = \"\"\"\n",
    "MATCH ()-[transacted_at:TRANSACTED_AT]->(merchant:Merchant)\n",
    "WHERE merchant.companyname<>'Unknown'\n",
    "WITH merchant.franchisename as merchant, count(transacted_at) as number_merchant_relationships\n",
    "RETURN merchant, number_merchant_relationships\n",
    "ORDER BY number_merchant_relationships DESC\n",
    "\"\"\"\n",
    "df=graph.run(exploratory_franchise_query).to_data_frame()\n",
    "df.head()"
   ]
  },
  {
   "cell_type": "markdown",
   "metadata": {},
   "source": [
    "Now let's explore the transaction data in more detail.  We need to zoom in on one Merchant. The following query finds Dischem and Dischem Dainfern Square in particular, the unique clients that visited this merchant, the number of unique Nedbank Clients that visited the Merchant (Merchant1) and then any other Merchant (Merchant2) these client may have visited and how many unique clients (merchant2_transactions) transacted at Merchant 2:"
   ]
  },
  {
   "cell_type": "code",
   "execution_count": 15,
   "metadata": {},
   "outputs": [
    {
     "data": {
      "text/html": [
       "<div>\n",
       "<style scoped>\n",
       "    .dataframe tbody tr th:only-of-type {\n",
       "        vertical-align: middle;\n",
       "    }\n",
       "\n",
       "    .dataframe tbody tr th {\n",
       "        vertical-align: top;\n",
       "    }\n",
       "\n",
       "    .dataframe thead th {\n",
       "        text-align: right;\n",
       "    }\n",
       "</style>\n",
       "<table border=\"1\" class=\"dataframe\">\n",
       "  <thead>\n",
       "    <tr style=\"text-align: right;\">\n",
       "      <th></th>\n",
       "      <th>merchant1</th>\n",
       "      <th>dedupestatic</th>\n",
       "      <th>merchant2</th>\n",
       "      <th>merchant1_transactions</th>\n",
       "      <th>merchant2_transactions</th>\n",
       "    </tr>\n",
       "  </thead>\n",
       "  <tbody>\n",
       "    <tr>\n",
       "      <th>0</th>\n",
       "      <td>DIS-CHEM DAINFERN</td>\n",
       "      <td>1.10231270801e+11</td>\n",
       "      <td>Spar Broad A</td>\n",
       "      <td>252</td>\n",
       "      <td>51</td>\n",
       "    </tr>\n",
       "    <tr>\n",
       "      <th>1</th>\n",
       "      <td>DIS-CHEM DAINFERN</td>\n",
       "      <td>1.10231270801e+11</td>\n",
       "      <td>FOURWAYS GAR</td>\n",
       "      <td>252</td>\n",
       "      <td>533</td>\n",
       "    </tr>\n",
       "    <tr>\n",
       "      <th>2</th>\n",
       "      <td>DIS-CHEM DAINFERN</td>\n",
       "      <td>1.10231270801e+11</td>\n",
       "      <td>WOOLWORTHS- BR</td>\n",
       "      <td>252</td>\n",
       "      <td>2110</td>\n",
       "    </tr>\n",
       "    <tr>\n",
       "      <th>3</th>\n",
       "      <td>DIS-CHEM DAINFERN</td>\n",
       "      <td>1.10231270801e+11</td>\n",
       "      <td>Clicks Fourway</td>\n",
       "      <td>252</td>\n",
       "      <td>1736</td>\n",
       "    </tr>\n",
       "    <tr>\n",
       "      <th>4</th>\n",
       "      <td>DIS-CHEM DAINFERN</td>\n",
       "      <td>1.10231270801e+11</td>\n",
       "      <td>BUILDERS EXP C</td>\n",
       "      <td>252</td>\n",
       "      <td>1889</td>\n",
       "    </tr>\n",
       "    <tr>\n",
       "      <th>...</th>\n",
       "      <td>...</td>\n",
       "      <td>...</td>\n",
       "      <td>...</td>\n",
       "      <td>...</td>\n",
       "      <td>...</td>\n",
       "    </tr>\n",
       "    <tr>\n",
       "      <th>6368</th>\n",
       "      <td>DIS-CHEM DAINFERN</td>\n",
       "      <td>1.91988706136e+11</td>\n",
       "      <td>PNP FAMILY BOPHELONG</td>\n",
       "      <td>252</td>\n",
       "      <td>32</td>\n",
       "    </tr>\n",
       "    <tr>\n",
       "      <th>6369</th>\n",
       "      <td>DIS-CHEM DAINFERN</td>\n",
       "      <td>1.91988706136e+11</td>\n",
       "      <td>DEBONAIRS PIZZA</td>\n",
       "      <td>252</td>\n",
       "      <td>822</td>\n",
       "    </tr>\n",
       "    <tr>\n",
       "      <th>6370</th>\n",
       "      <td>DIS-CHEM DAINFERN</td>\n",
       "      <td>1.91988706136e+11</td>\n",
       "      <td>PNP CRP DEINFERN SQUAR</td>\n",
       "      <td>252</td>\n",
       "      <td>384</td>\n",
       "    </tr>\n",
       "    <tr>\n",
       "      <th>6371</th>\n",
       "      <td>DIS-CHEM DAINFERN</td>\n",
       "      <td>1.91988706136e+11</td>\n",
       "      <td>WOOLWORTHS MAROUN SQ</td>\n",
       "      <td>252</td>\n",
       "      <td>277</td>\n",
       "    </tr>\n",
       "    <tr>\n",
       "      <th>6372</th>\n",
       "      <td>DIS-CHEM DAINFERN</td>\n",
       "      <td>1.91988706136e+11</td>\n",
       "      <td>FISHAWAYS DAINFERN</td>\n",
       "      <td>252</td>\n",
       "      <td>14</td>\n",
       "    </tr>\n",
       "  </tbody>\n",
       "</table>\n",
       "<p>6373 rows × 5 columns</p>\n",
       "</div>"
      ],
      "text/plain": [
       "              merchant1       dedupestatic               merchant2  \\\n",
       "0     DIS-CHEM DAINFERN  1.10231270801e+11            Spar Broad A   \n",
       "1     DIS-CHEM DAINFERN  1.10231270801e+11            FOURWAYS GAR   \n",
       "2     DIS-CHEM DAINFERN  1.10231270801e+11          WOOLWORTHS- BR   \n",
       "3     DIS-CHEM DAINFERN  1.10231270801e+11          Clicks Fourway   \n",
       "4     DIS-CHEM DAINFERN  1.10231270801e+11          BUILDERS EXP C   \n",
       "...                 ...                ...                     ...   \n",
       "6368  DIS-CHEM DAINFERN  1.91988706136e+11    PNP FAMILY BOPHELONG   \n",
       "6369  DIS-CHEM DAINFERN  1.91988706136e+11         DEBONAIRS PIZZA   \n",
       "6370  DIS-CHEM DAINFERN  1.91988706136e+11  PNP CRP DEINFERN SQUAR   \n",
       "6371  DIS-CHEM DAINFERN  1.91988706136e+11    WOOLWORTHS MAROUN SQ   \n",
       "6372  DIS-CHEM DAINFERN  1.91988706136e+11      FISHAWAYS DAINFERN   \n",
       "\n",
       "      merchant1_transactions  merchant2_transactions  \n",
       "0                        252                      51  \n",
       "1                        252                     533  \n",
       "2                        252                    2110  \n",
       "3                        252                    1736  \n",
       "4                        252                    1889  \n",
       "...                      ...                     ...  \n",
       "6368                     252                      32  \n",
       "6369                     252                     822  \n",
       "6370                     252                     384  \n",
       "6371                     252                     277  \n",
       "6372                     252                      14  \n",
       "\n",
       "[6373 rows x 5 columns]"
      ]
     },
     "execution_count": 15,
     "metadata": {},
     "output_type": "execute_result"
    }
   ],
   "source": [
    "exploratory_query = \"\"\"\n",
    "MATCH (merchant1:Merchant {franchisename:'DIS-CHEM DAINFERN'})<-[:TRANSACTED_AT]-(client:Client)-[:TRANSACTED_AT]->(merchant2:Merchant)\n",
    "WHERE merchant1<>merchant2\n",
    "RETURN merchant1.franchisename AS merchant1, client.dedupestatic AS dedupestatic,  merchant2.franchisename AS merchant2, \n",
    "       size((merchant1)-[:TRANSACTED_AT]-()) AS merchant1_transactions, \n",
    "       size((merchant2)-[:TRANSACTED_AT]-()) AS merchant2_transactions\n",
    "ORDER BY rand()\n",
    "\"\"\"\n",
    "\n",
    "graph.run(exploratory_query).to_data_frame()"
   ]
  },
  {
   "cell_type": "code",
   "execution_count": 16,
   "metadata": {},
   "outputs": [
    {
     "data": {
      "text/html": [
       "<div>\n",
       "<style scoped>\n",
       "    .dataframe tbody tr th:only-of-type {\n",
       "        vertical-align: middle;\n",
       "    }\n",
       "\n",
       "    .dataframe tbody tr th {\n",
       "        vertical-align: top;\n",
       "    }\n",
       "\n",
       "    .dataframe thead th {\n",
       "        text-align: right;\n",
       "    }\n",
       "</style>\n",
       "<table border=\"1\" class=\"dataframe\">\n",
       "  <thead>\n",
       "    <tr style=\"text-align: right;\">\n",
       "      <th></th>\n",
       "      <th>merchant1</th>\n",
       "      <th>merchant2</th>\n",
       "      <th>merchant1_transactions</th>\n",
       "      <th>merchant2_transactions</th>\n",
       "    </tr>\n",
       "  </thead>\n",
       "  <tbody>\n",
       "    <tr>\n",
       "      <th>0</th>\n",
       "      <td>DIS-CHEM DAINFERN</td>\n",
       "      <td>Spar Broad A</td>\n",
       "      <td>252</td>\n",
       "      <td>51</td>\n",
       "    </tr>\n",
       "    <tr>\n",
       "      <th>1</th>\n",
       "      <td>DIS-CHEM DAINFERN</td>\n",
       "      <td>FOURWAYS GAR</td>\n",
       "      <td>252</td>\n",
       "      <td>533</td>\n",
       "    </tr>\n",
       "    <tr>\n",
       "      <th>2</th>\n",
       "      <td>DIS-CHEM DAINFERN</td>\n",
       "      <td>WOOLWORTHS- BR</td>\n",
       "      <td>252</td>\n",
       "      <td>2110</td>\n",
       "    </tr>\n",
       "    <tr>\n",
       "      <th>3</th>\n",
       "      <td>DIS-CHEM DAINFERN</td>\n",
       "      <td>Clicks Fourway</td>\n",
       "      <td>252</td>\n",
       "      <td>1736</td>\n",
       "    </tr>\n",
       "    <tr>\n",
       "      <th>4</th>\n",
       "      <td>DIS-CHEM DAINFERN</td>\n",
       "      <td>BUILDERS EXP C</td>\n",
       "      <td>252</td>\n",
       "      <td>1889</td>\n",
       "    </tr>\n",
       "    <tr>\n",
       "      <th>...</th>\n",
       "      <td>...</td>\n",
       "      <td>...</td>\n",
       "      <td>...</td>\n",
       "      <td>...</td>\n",
       "    </tr>\n",
       "    <tr>\n",
       "      <th>6368</th>\n",
       "      <td>DIS-CHEM DAINFERN</td>\n",
       "      <td>PNP FAMILY BOPHELONG</td>\n",
       "      <td>252</td>\n",
       "      <td>32</td>\n",
       "    </tr>\n",
       "    <tr>\n",
       "      <th>6369</th>\n",
       "      <td>DIS-CHEM DAINFERN</td>\n",
       "      <td>DEBONAIRS PIZZA</td>\n",
       "      <td>252</td>\n",
       "      <td>822</td>\n",
       "    </tr>\n",
       "    <tr>\n",
       "      <th>6370</th>\n",
       "      <td>DIS-CHEM DAINFERN</td>\n",
       "      <td>PNP CRP DEINFERN SQUAR</td>\n",
       "      <td>252</td>\n",
       "      <td>384</td>\n",
       "    </tr>\n",
       "    <tr>\n",
       "      <th>6371</th>\n",
       "      <td>DIS-CHEM DAINFERN</td>\n",
       "      <td>WOOLWORTHS MAROUN SQ</td>\n",
       "      <td>252</td>\n",
       "      <td>277</td>\n",
       "    </tr>\n",
       "    <tr>\n",
       "      <th>6372</th>\n",
       "      <td>DIS-CHEM DAINFERN</td>\n",
       "      <td>FISHAWAYS DAINFERN</td>\n",
       "      <td>252</td>\n",
       "      <td>14</td>\n",
       "    </tr>\n",
       "  </tbody>\n",
       "</table>\n",
       "<p>6373 rows × 4 columns</p>\n",
       "</div>"
      ],
      "text/plain": [
       "              merchant1               merchant2  merchant1_transactions  \\\n",
       "0     DIS-CHEM DAINFERN            Spar Broad A                     252   \n",
       "1     DIS-CHEM DAINFERN            FOURWAYS GAR                     252   \n",
       "2     DIS-CHEM DAINFERN          WOOLWORTHS- BR                     252   \n",
       "3     DIS-CHEM DAINFERN          Clicks Fourway                     252   \n",
       "4     DIS-CHEM DAINFERN          BUILDERS EXP C                     252   \n",
       "...                 ...                     ...                     ...   \n",
       "6368  DIS-CHEM DAINFERN    PNP FAMILY BOPHELONG                     252   \n",
       "6369  DIS-CHEM DAINFERN         DEBONAIRS PIZZA                     252   \n",
       "6370  DIS-CHEM DAINFERN  PNP CRP DEINFERN SQUAR                     252   \n",
       "6371  DIS-CHEM DAINFERN    WOOLWORTHS MAROUN SQ                     252   \n",
       "6372  DIS-CHEM DAINFERN      FISHAWAYS DAINFERN                     252   \n",
       "\n",
       "      merchant2_transactions  \n",
       "0                         51  \n",
       "1                        533  \n",
       "2                       2110  \n",
       "3                       1736  \n",
       "4                       1889  \n",
       "...                      ...  \n",
       "6368                      32  \n",
       "6369                     822  \n",
       "6370                     384  \n",
       "6371                     277  \n",
       "6372                      14  \n",
       "\n",
       "[6373 rows x 4 columns]"
      ]
     },
     "execution_count": 16,
     "metadata": {},
     "output_type": "execute_result"
    }
   ],
   "source": [
    "exploratory_query = \"\"\"\n",
    "MATCH (merchant1:Merchant {franchisename:'DIS-CHEM DAINFERN'})<-[:TRANSACTED_AT]-()-[:TRANSACTED_AT]->(merchant2:Merchant)\n",
    "WHERE merchant1<>merchant2\n",
    "RETURN merchant1.franchisename AS merchant1, merchant2.franchisename AS merchant2, \n",
    "       size((merchant1)-[:TRANSACTED_AT]-()) AS merchant1_transactions, \n",
    "       size((merchant2)-[:TRANSACTED_AT]-()) AS merchant2_transactions\n",
    "ORDER BY rand()\n",
    "\"\"\"\n",
    "graph.run(exploratory_query).to_data_frame()"
   ]
  },
  {
   "cell_type": "code",
   "execution_count": 1,
   "metadata": {},
   "outputs": [
    {
     "ename": "NameError",
     "evalue": "name 'graph' is not defined",
     "output_type": "error",
     "traceback": [
      "\u001b[0;31m---------------------------------------------------------------------------\u001b[0m",
      "\u001b[0;31mNameError\u001b[0m                                 Traceback (most recent call last)",
      "\u001b[0;32m<ipython-input-1-aaa42112272d>\u001b[0m in \u001b[0;36m<module>\u001b[0;34m\u001b[0m\n\u001b[1;32m      3\u001b[0m \u001b[0mRETURN\u001b[0m \u001b[0mm\u001b[0m\u001b[0;34m.\u001b[0m\u001b[0mfranchisename\u001b[0m \u001b[0mAS\u001b[0m \u001b[0mMerchant\u001b[0m\u001b[0;34m,\u001b[0m \u001b[0mcount\u001b[0m\u001b[0;34m(\u001b[0m\u001b[0mtransaction\u001b[0m\u001b[0;34m)\u001b[0m \u001b[0mAS\u001b[0m \u001b[0mtransactions\u001b[0m\u001b[0;34m\u001b[0m\u001b[0;34m\u001b[0m\u001b[0m\n\u001b[1;32m      4\u001b[0m \"\"\"\n\u001b[0;32m----> 5\u001b[0;31m \u001b[0mtransactions_df\u001b[0m \u001b[0;34m=\u001b[0m \u001b[0mgraph\u001b[0m\u001b[0;34m.\u001b[0m\u001b[0mrun\u001b[0m\u001b[0;34m(\u001b[0m\u001b[0mquery\u001b[0m\u001b[0;34m)\u001b[0m\u001b[0;34m.\u001b[0m\u001b[0mto_data_frame\u001b[0m\u001b[0;34m(\u001b[0m\u001b[0;34m)\u001b[0m\u001b[0;34m\u001b[0m\u001b[0;34m\u001b[0m\u001b[0m\n\u001b[0m\u001b[1;32m      6\u001b[0m \u001b[0mtransactions_df\u001b[0m\u001b[0;34m.\u001b[0m\u001b[0mdescribe\u001b[0m\u001b[0;34m(\u001b[0m\u001b[0;34m[\u001b[0m\u001b[0;36m.25\u001b[0m\u001b[0;34m,\u001b[0m \u001b[0;36m.5\u001b[0m\u001b[0;34m,\u001b[0m \u001b[0;36m.75\u001b[0m\u001b[0;34m,\u001b[0m \u001b[0;36m.9\u001b[0m\u001b[0;34m,\u001b[0m \u001b[0;36m.99\u001b[0m\u001b[0;34m]\u001b[0m\u001b[0;34m)\u001b[0m\u001b[0;34m\u001b[0m\u001b[0;34m\u001b[0m\u001b[0m\n",
      "\u001b[0;31mNameError\u001b[0m: name 'graph' is not defined"
     ]
    }
   ],
   "source": [
    "query = \"\"\"\n",
    "MATCH (m:Merchant {companyname:'DISCHEM'})-[transaction:TRANSACTED_AT]-(client:Client)\n",
    "RETURN m.franchisename AS Merchant, count(transaction) AS transactions\n",
    "\"\"\"\n",
    "transactions_df = graph.run(query).to_data_frame()\n",
    "transactions_df.describe([.25, .5, .75, .9, .99])"
   ]
  },
  {
   "cell_type": "code",
   "execution_count": 18,
   "metadata": {},
   "outputs": [
    {
     "data": {
      "text/html": [
       "<div>\n",
       "<style scoped>\n",
       "    .dataframe tbody tr th:only-of-type {\n",
       "        vertical-align: middle;\n",
       "    }\n",
       "\n",
       "    .dataframe tbody tr th {\n",
       "        vertical-align: top;\n",
       "    }\n",
       "\n",
       "    .dataframe thead th {\n",
       "        text-align: right;\n",
       "    }\n",
       "</style>\n",
       "<table border=\"1\" class=\"dataframe\">\n",
       "  <thead>\n",
       "    <tr style=\"text-align: right;\">\n",
       "      <th></th>\n",
       "      <th>Merchant</th>\n",
       "      <th>transactions</th>\n",
       "    </tr>\n",
       "  </thead>\n",
       "  <tbody>\n",
       "    <tr>\n",
       "      <th>0</th>\n",
       "      <td>DIS-CHEM CANAL WALK</td>\n",
       "      <td>455</td>\n",
       "    </tr>\n",
       "    <tr>\n",
       "      <th>1</th>\n",
       "      <td>DIS-CHEM KILLARNEY PHAMAC</td>\n",
       "      <td>326</td>\n",
       "    </tr>\n",
       "    <tr>\n",
       "      <th>2</th>\n",
       "      <td>DIS-CHEM DAINFERN</td>\n",
       "      <td>252</td>\n",
       "    </tr>\n",
       "    <tr>\n",
       "      <th>3</th>\n",
       "      <td>DIS-CHEM SANDTON CITY PHA</td>\n",
       "      <td>436</td>\n",
       "    </tr>\n",
       "    <tr>\n",
       "      <th>4</th>\n",
       "      <td>DIS-CHEM ATHOL OAKLANDS I</td>\n",
       "      <td>596</td>\n",
       "    </tr>\n",
       "    <tr>\n",
       "      <th>...</th>\n",
       "      <td>...</td>\n",
       "      <td>...</td>\n",
       "    </tr>\n",
       "    <tr>\n",
       "      <th>1539</th>\n",
       "      <td>DisChemDurbanv</td>\n",
       "      <td>2</td>\n",
       "    </tr>\n",
       "    <tr>\n",
       "      <th>1540</th>\n",
       "      <td>DIS-CHEM JEF</td>\n",
       "      <td>2</td>\n",
       "    </tr>\n",
       "    <tr>\n",
       "      <th>1541</th>\n",
       "      <td>Dischem Klerks</td>\n",
       "      <td>1</td>\n",
       "    </tr>\n",
       "    <tr>\n",
       "      <th>1542</th>\n",
       "      <td>DIS-CHEM THR</td>\n",
       "      <td>2</td>\n",
       "    </tr>\n",
       "    <tr>\n",
       "      <th>1543</th>\n",
       "      <td>Dischem Clearw</td>\n",
       "      <td>1</td>\n",
       "    </tr>\n",
       "  </tbody>\n",
       "</table>\n",
       "<p>1544 rows × 2 columns</p>\n",
       "</div>"
      ],
      "text/plain": [
       "                       Merchant  transactions\n",
       "0           DIS-CHEM CANAL WALK           455\n",
       "1     DIS-CHEM KILLARNEY PHAMAC           326\n",
       "2             DIS-CHEM DAINFERN           252\n",
       "3     DIS-CHEM SANDTON CITY PHA           436\n",
       "4     DIS-CHEM ATHOL OAKLANDS I           596\n",
       "...                         ...           ...\n",
       "1539             DisChemDurbanv             2\n",
       "1540               DIS-CHEM JEF             2\n",
       "1541             Dischem Klerks             1\n",
       "1542               DIS-CHEM THR             2\n",
       "1543             Dischem Clearw             1\n",
       "\n",
       "[1544 rows x 2 columns]"
      ]
     },
     "execution_count": 18,
     "metadata": {},
     "output_type": "execute_result"
    }
   ],
   "source": [
    "citation_df"
   ]
  }
 ],
 "metadata": {
  "kernelspec": {
   "display_name": "Python 3",
   "language": "python",
   "name": "python3"
  },
  "language_info": {
   "codemirror_mode": {
    "name": "ipython",
    "version": 3
   },
   "file_extension": ".py",
   "mimetype": "text/x-python",
   "name": "python",
   "nbconvert_exporter": "python",
   "pygments_lexer": "ipython3",
   "version": "3.7.6"
  }
 },
 "nbformat": 4,
 "nbformat_minor": 4
}

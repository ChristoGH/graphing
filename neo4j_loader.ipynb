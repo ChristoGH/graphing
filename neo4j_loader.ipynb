{
 "cells": [
  {
   "cell_type": "code",
   "execution_count": 1,
   "metadata": {},
   "outputs": [],
   "source": [
    "import pandas as pd\n",
    "from py2neo import Graph\n",
    "graph = Graph(\"bolt://localhost:7687\", user='neo4j', password='neo4j')\n",
    "import numpy as np\n",
    "import random"
   ]
  },
  {
   "cell_type": "code",
   "execution_count": 2,
   "metadata": {},
   "outputs": [],
   "source": [
    "# filepath_or_buffer='/media/lnr-ai/christo/github_repos/graphing/data/clientswipes_201701_01.csv'\n",
    "# df=pd.read_csv(filepath_or_buffer=filepath_or_buffer)\n",
    "# df=df[~df.companyname.isnull()].copy()"
   ]
  },
  {
   "cell_type": "markdown",
   "metadata": {},
   "source": [
    "#### Peek into the file:"
   ]
  },
  {
   "cell_type": "code",
   "execution_count": 3,
   "metadata": {},
   "outputs": [],
   "source": [
    "filename='/var/lib/neo4j/import/clientswipes_202003.csv'\n",
    "data = pd.read_csv(filename,nrows=100)"
   ]
  },
  {
   "cell_type": "code",
   "execution_count": 5,
   "metadata": {},
   "outputs": [
    {
     "data": {
      "text/plain": [
       "{0.0,\n",
       " 1.0,\n",
       " 2.0,\n",
       " nan,\n",
       " nan,\n",
       " nan,\n",
       " nan,\n",
       " nan,\n",
       " nan,\n",
       " nan,\n",
       " nan,\n",
       " nan,\n",
       " nan,\n",
       " nan,\n",
       " nan,\n",
       " nan,\n",
       " nan,\n",
       " nan,\n",
       " nan,\n",
       " nan,\n",
       " nan,\n",
       " nan,\n",
       " nan,\n",
       " nan,\n",
       " nan,\n",
       " nan,\n",
       " nan,\n",
       " nan,\n",
       " nan,\n",
       " nan,\n",
       " nan,\n",
       " nan,\n",
       " nan,\n",
       " nan,\n",
       " nan,\n",
       " nan,\n",
       " nan,\n",
       " nan,\n",
       " nan,\n",
       " nan,\n",
       " nan,\n",
       " nan,\n",
       " nan,\n",
       " nan,\n",
       " nan}"
      ]
     },
     "execution_count": 5,
     "metadata": {},
     "output_type": "execute_result"
    }
   ],
   "source": [
    "set(data.channel)"
   ]
  },
  {
   "cell_type": "code",
   "execution_count": null,
   "metadata": {},
   "outputs": [],
   "source": [
    "clientlist=[1,2,3,4,5,6,7,8,9,10]"
   ]
  },
  {
   "cell_type": "code",
   "execution_count": null,
   "metadata": {},
   "outputs": [],
   "source": [
    "Dedupegroup=[item for item in clientlist for i in range(10)]"
   ]
  },
  {
   "cell_type": "markdown",
   "metadata": {},
   "source": [
    "## Case 1"
   ]
  },
  {
   "cell_type": "markdown",
   "metadata": {},
   "source": [
    "Two distinct closters of merchant with no bridging:"
   ]
  },
  {
   "cell_type": "code",
   "execution_count": null,
   "metadata": {},
   "outputs": [],
   "source": [
    "companylist=[\"PNP\",\"SPAR\", \"CHECKERS\",\"WOOLWORTHS\",\"TOTAL\"]\n",
    "franchiselist=[\"BENMORE\",\"SANDTON\"]"
   ]
  },
  {
   "cell_type": "code",
   "execution_count": null,
   "metadata": {},
   "outputs": [],
   "source": [
    "companylist=[\"PNP\",\"SPAR\", \"CHECKERS\",\"WOOLWORTHS\",\"TOTAL\"]\n",
    "franchiselist=[\"BENMORE\",\"SANDTON\",\"WOODMEAD\",\"COLUMBINE\"]\n",
    "benmore_list=[c + \" \" +\"BENMORE\" for c in companylist]\n",
    "sandton_list=[c + \" \" +\"SANDTON\" for c in companylist]"
   ]
  },
  {
   "cell_type": "code",
   "execution_count": null,
   "metadata": {},
   "outputs": [],
   "source": [
    "franchisenames=[item for item in benmore_list for i in range(10)]\n",
    "random.shuffle(franchisenames)\n",
    "blist=[item for item in sandton_list for i in range(10)]\n",
    "random.shuffle(blist)\n",
    "franchisenames.extend(blist)"
   ]
  },
  {
   "cell_type": "code",
   "execution_count": null,
   "metadata": {},
   "outputs": [],
   "source": [
    "companynames=[str.split(franchise)[0] for franchise in franchisenames]"
   ]
  },
  {
   "cell_type": "code",
   "execution_count": null,
   "metadata": {},
   "outputs": [],
   "source": [
    "sandboxdf=data.copy()\n",
    "sandboxdf.Dedupegroup=Dedupegroup\n",
    "sandboxdf.companyname=companynames\n",
    "sandboxdf.franchisename=franchisenames\n",
    "sandboxdf[['Dedupegroup','franchisename']]"
   ]
  },
  {
   "cell_type": "code",
   "execution_count": null,
   "metadata": {},
   "outputs": [],
   "source": [
    "sandboxdf.loc[sandboxdf.companyname==\"CHECKERS\", \"companyindex\"]=1\n",
    "sandboxdf.loc[sandboxdf.companyname==\"PNP\", \"companyindex\"]=2\n",
    "sandboxdf.loc[sandboxdf.companyname==\"SPAR\", \"companyindex\"]=3\n",
    "sandboxdf.loc[sandboxdf.companyname==\"TOTAL\", \"companyindex\"]=4\n",
    "sandboxdf.loc[sandboxdf.companyname==\"WOOLWORTHS\", \"companyindex\"]=5"
   ]
  },
  {
   "cell_type": "code",
   "execution_count": null,
   "metadata": {},
   "outputs": [],
   "source": [
    "sandboxdf[['companyname','companyindex','Dedupegroup','franchisename']]"
   ]
  },
  {
   "cell_type": "code",
   "execution_count": null,
   "metadata": {},
   "outputs": [],
   "source": [
    "df=sandboxdf.sample(n=60)"
   ]
  },
  {
   "cell_type": "code",
   "execution_count": null,
   "metadata": {},
   "outputs": [],
   "source": [
    "df[['companyname','companyindex','Dedupegroup','franchisename']]"
   ]
  },
  {
   "cell_type": "code",
   "execution_count": null,
   "metadata": {},
   "outputs": [],
   "source": [
    "df.to_csv(path_or_buf='/media/lnr-ai/christo/github_repos/graphing/data/clientswipes_202003_sandbox_case1.csv',index=False)"
   ]
  },
  {
   "cell_type": "markdown",
   "metadata": {},
   "source": [
    "## Case 2"
   ]
  },
  {
   "cell_type": "code",
   "execution_count": null,
   "metadata": {},
   "outputs": [],
   "source": [
    "filename='/var/lib/neo4j/import/clientswipes_202003.csv'\n",
    "data = pd.read_csv(filename,nrows=100)\n",
    "clientlist=[1,2,3,4,5,6,7,8,9,10]\n",
    "Dedupegroup=[item for item in clientlist for i in range(10)]"
   ]
  },
  {
   "cell_type": "code",
   "execution_count": null,
   "metadata": {},
   "outputs": [],
   "source": [
    "companylist=[\"PNP\",\"SPAR\", \"CHECKERS\",\"WOOLWORTHS\",\"TOTAL\"]\n",
    "franchiselist=[\"BENMORE\",\"SANDTON\",\"WOODMEAD\",\"COLUMBINE\"]\n",
    "benmore_list=[c + \" \" +\"BENMORE\" for c in companylist]\n",
    "sandton_list=[c + \" \" +\"SANDTON\" for c in companylist]"
   ]
  },
  {
   "cell_type": "code",
   "execution_count": null,
   "metadata": {},
   "outputs": [],
   "source": [
    "franchisenames=[item for item in benmore_list for i in range(10)]\n",
    "random.shuffle(franchisenames)\n",
    "blist=[item for item in sandton_list for i in range(10)]\n",
    "random.shuffle(blist)\n",
    "franchisenames.extend(blist)\n",
    "companynames=[str.split(franchise)[0] for franchise in franchisenames]"
   ]
  },
  {
   "cell_type": "code",
   "execution_count": null,
   "metadata": {},
   "outputs": [],
   "source": [
    "sandboxdf=data.copy()\n",
    "sandboxdf.Dedupegroup=Dedupegroup\n",
    "sandboxdf.companyname=companynames\n",
    "sandboxdf.franchisename=franchisenames\n",
    "sandboxdf[['Dedupegroup','franchisename']]"
   ]
  },
  {
   "cell_type": "code",
   "execution_count": null,
   "metadata": {},
   "outputs": [],
   "source": [
    "sandboxdf.loc[sandboxdf.companyname==\"CHECKERS\", \"companyindex\"]=1\n",
    "sandboxdf.loc[sandboxdf.companyname==\"PNP\", \"companyindex\"]=2\n",
    "sandboxdf.loc[sandboxdf.companyname==\"SPAR\", \"companyindex\"]=3\n",
    "sandboxdf.loc[sandboxdf.companyname==\"TOTAL\", \"companyindex\"]=4\n",
    "sandboxdf.loc[sandboxdf.companyname==\"WOOLWORTHS\", \"companyindex\"]=5"
   ]
  },
  {
   "cell_type": "code",
   "execution_count": null,
   "metadata": {},
   "outputs": [],
   "source": [
    "df=sandboxdf.sample(n=60)"
   ]
  },
  {
   "cell_type": "code",
   "execution_count": null,
   "metadata": {},
   "outputs": [],
   "source": [
    "add_dict=df[df.Dedupegroup==2].iloc[1].to_dict()"
   ]
  },
  {
   "cell_type": "code",
   "execution_count": null,
   "metadata": {},
   "outputs": [],
   "source": [
    "add_dict['companyindex']=1\n",
    "add_dict['companyname']=\"CHECKERS\"\n",
    "add_dict['franchisename']=\"CHECKERS SANDTON\""
   ]
  },
  {
   "cell_type": "code",
   "execution_count": null,
   "metadata": {},
   "outputs": [],
   "source": [
    "add_dict"
   ]
  },
  {
   "cell_type": "code",
   "execution_count": null,
   "metadata": {},
   "outputs": [],
   "source": [
    "df = df.append(add_dict, ignore_index=True)\n",
    "print(df.tail())"
   ]
  },
  {
   "cell_type": "code",
   "execution_count": null,
   "metadata": {},
   "outputs": [],
   "source": [
    "df.to_csv(path_or_buf='/media/lnr-ai/christo/github_repos/graphing/data/clientswipes_202003_sandbox_case2.csv',index=False)"
   ]
  },
  {
   "cell_type": "code",
   "execution_count": null,
   "metadata": {},
   "outputs": [],
   "source": [
    "companylist=[\"PNP\",\"SPAR\", \"CHECKERS\",\"WOOLWORTHS\",\"TOTAL\"]\n",
    "franchiselist=[\"BENMORE\",\"SANDTON\",\"WOODMEAD\",\"COLUMBINE\"]\n",
    "benmore_list=[c + \" \" +\"BENMORE\" for c in companylist]\n",
    "sandton_list=[c + \" \" +\"SANDTON\" for c in companylist]\n",
    "alt_list_1=[c + \" \" +\"FOURWAYS\" for c in [\"PNP\",\"SPAR\"]]\n",
    "alt_list_2=[c + \" \" +\"BROADACRES\" for c in [\"WOOLWORTHS\",\"CHECKERS\"]]\n",
    "alt_list_3=[c + \" \" +\"SANDTON\" for c in [\"PNP\",\"SPAR\"]]\n",
    "alt_list_4=[c + \" \" +\"BENMORE\" for c in [\"WOOLWORTHS\",\"CHECKERS\"]]"
   ]
  },
  {
   "cell_type": "code",
   "execution_count": null,
   "metadata": {},
   "outputs": [],
   "source": [
    "franchisenames=[item for item in benmore_list for i in range(10)]\n",
    "random.shuffle(franchisenames)\n",
    "blist=[item for item in sandton_list for i in range(10)]\n",
    "random.shuffle(blist)\n",
    "franchisenames.extend(blist)"
   ]
  },
  {
   "cell_type": "code",
   "execution_count": null,
   "metadata": {},
   "outputs": [],
   "source": [
    "clist=[item for item in alt_list_1 for i in range(5)]\n",
    "elist=[item for item in alt_list_3 for i in range(5)]\n",
    "dlist=[item for item in alt_list_2 for i in range(5)]\n",
    "flist=[item for item in alt_list_4 for i in range(5)]\n",
    "franchisenames.extend(clist)\n",
    "franchisenames.extend(elist)\n",
    "franchisenames.extend(dlist)\n",
    "franchisenames.extend(flist)\n",
    "companynames=[str.split(franchise)[0] for franchise in franchisenames]"
   ]
  },
  {
   "cell_type": "code",
   "execution_count": null,
   "metadata": {},
   "outputs": [],
   "source": [
    "sandboxdf=data.copy()"
   ]
  },
  {
   "cell_type": "code",
   "execution_count": null,
   "metadata": {},
   "outputs": [],
   "source": [
    "sandboxdf.Dedupegroup=Dedupegroup\n",
    "sandboxdf.companyname=companynames\n",
    "sandboxdf.franchisename=franchisenames\n",
    "sandboxdf.loc[sandboxdf.companyname==\"CHECKERS\", \"companyindex\"]=1\n",
    "sandboxdf.loc[sandboxdf.companyname==\"PNP\", \"companyindex\"]=2\n",
    "sandboxdf.loc[sandboxdf.companyname==\"SPAR\", \"companyindex\"]=3\n",
    "sandboxdf.loc[sandboxdf.companyname==\"TOTAL\", \"companyindex\"]=4\n",
    "sandboxdf.loc[sandboxdf.companyname==\"WOOLWORTHS\", \"companyindex\"]=5"
   ]
  },
  {
   "cell_type": "code",
   "execution_count": null,
   "metadata": {},
   "outputs": [],
   "source": [
    "sandboxdf[['Dedupegroup','franchisename']]"
   ]
  },
  {
   "cell_type": "code",
   "execution_count": null,
   "metadata": {},
   "outputs": [],
   "source": [
    "set(sandboxdf.companyname)"
   ]
  },
  {
   "cell_type": "code",
   "execution_count": null,
   "metadata": {},
   "outputs": [],
   "source": [
    "sandboxdf.loc[sandboxdf.companyname==\"CHECKERS\", \"companyindex\"]=1\n",
    "sandboxdf.loc[sandboxdf.companyname==\"PNP\", \"companyindex\"]=2\n",
    "sandboxdf.loc[sandboxdf.companyname==\"SPAR\", \"companyindex\"]=3\n",
    "sandboxdf.loc[sandboxdf.companyname==\"TOTAL\", \"companyindex\"]=4\n",
    "sandboxdf.loc[sandboxdf.companyname==\"WOOLWORTHS\", \"companyindex\"]=5"
   ]
  },
  {
   "cell_type": "code",
   "execution_count": null,
   "metadata": {},
   "outputs": [],
   "source": [
    "df=sandboxdf.sample(n=80)"
   ]
  },
  {
   "cell_type": "code",
   "execution_count": null,
   "metadata": {},
   "outputs": [],
   "source": [
    "df.loc[df.Dedupegroup==2,['Dedupegroup','franchisename']]"
   ]
  },
  {
   "cell_type": "code",
   "execution_count": null,
   "metadata": {},
   "outputs": [],
   "source": [
    "df.to_csv(path_or_buf='/media/lnr-ai/christo/github_repos/graphing/data/clientswipes_202003_sandbox.csv',index=False)"
   ]
  },
  {
   "cell_type": "code",
   "execution_count": null,
   "metadata": {},
   "outputs": [],
   "source": [
    "# crimes_header.csv\n",
    "filename='/var/lib/neo4j/import/beats.csv'\n",
    "beats = pd.read_csv(filename,nrows=10)\n",
    "beats"
   ]
  },
  {
   "cell_type": "code",
   "execution_count": null,
   "metadata": {},
   "outputs": [],
   "source": [
    "# crimes_header.csv\n",
    "filename='/var/lib/neo4j/import/crimes_header.csv'\n",
    "crimes_header_csv = pd.read_csv(filename,nrows=10)\n",
    "crimes_header_csv"
   ]
  },
  {
   "cell_type": "code",
   "execution_count": null,
   "metadata": {},
   "outputs": [],
   "source": [
    "filename='/var/lib/neo4j/import/crimes.csv'\n",
    "crimes_csv = pd.read_csv(filename,nrows=10)\n",
    "crimes_csv"
   ]
  },
  {
   "cell_type": "code",
   "execution_count": null,
   "metadata": {},
   "outputs": [],
   "source": [
    "import csv\n",
    "filename='/media/lnr-ai/christo/github_repos/graphing/data/clientswipes_202003_neo4j.csv'\n",
    "with open(filename) as csv_file:\n",
    "    csv_reader = csv.reader(csv_file, delimiter=',')\n",
    "    line_count = 0"
   ]
  },
  {
   "cell_type": "code",
   "execution_count": null,
   "metadata": {},
   "outputs": [],
   "source": [
    "    for row in csv_reader:\n",
    "        if line_count == 0:\n",
    "            print(f'Column names are {\", \".join(row)}')\n",
    "            line_count += 1\n",
    "        else:\n",
    "            print(f'\\t{row[0]} works in the {row[1]} department, and was born in {row[2]}.')\n",
    "            line_count += 1\n",
    "    print(f'Processed {line_count} lines.')"
   ]
  },
  {
   "cell_type": "code",
   "execution_count": null,
   "metadata": {},
   "outputs": [],
   "source": [
    "dedupegroup_list=list(set(df.Dedupegroup))"
   ]
  },
  {
   "cell_type": "code",
   "execution_count": null,
   "metadata": {},
   "outputs": [],
   "source": [
    "for dedupestatic in list(set(dedupegroup_list)):\n",
    "    print('Doing dedupestatic: ', dedupestatic, ' at index: ', dedupegroup_list.index(dedupestatic), ' of ', len(dedupegroup_list))        \n",
    "    client_param_dict={\"dedupestatic\":dedupestatic}\n",
    "    graph.run(\"MERGE (client:Client {dedupestatic:{dedupestatic}})\", client_param_dict)"
   ]
  },
  {
   "cell_type": "code",
   "execution_count": null,
   "metadata": {},
   "outputs": [],
   "source": [
    "for dedupe in dedupegroup_list:\n",
    "    gf=df[df.Dedupegroup==dedupe].copy()\n",
    "    print('Doing dedupestatic: ', dedupe, ' at index: ', dedupegroup_list.index(dedupe), ' of ', len(dedupegroup_list))    \n",
    "    for dedupestatic,companyname,franchisename,companyindex,class_id,discretionary,division_id,group_id,subclass_id,channel,TransactionAmount,TransactionDate in zip(gf.Dedupegroup, gf.companyname, gf.franchisename,gf.companyindex,gf.class_id,gf.discretionary,gf.division_id,gf.group_id,gf.subclass_id,gf.channel,gf.TransactionAmount,gf.TransactionDate):\n",
    "\n",
    "        client_param_dict={\"dedupestatic\":dedupestatic}\n",
    "        company_param_dict={\"companyname\":companyname,\n",
    "                  \"franchisename\":franchisename,\n",
    "                  \"companyindex\":companyindex,\n",
    "                  \"class_id\":class_id,\n",
    "                  \"discretionary\":discretionary,\n",
    "                  \"division_id\":division_id,\n",
    "                  \"group_id\":group_id,\n",
    "                  \"subclass_id\":subclass_id,\n",
    "                  \"channel\":channel}\n",
    "        franchise_param_dict={\n",
    "              \"franchisename\":franchisename,\"companyname\":companyname,}\n",
    "        transaction_param_dict={\"dedupestatic\":dedupestatic,\n",
    "              \"franchisename\":franchisename,\n",
    "    #           \"companyindex\":companyindex,\n",
    "              \"amount\":amount,\n",
    "              \"date\":date}\n",
    "        owner_param_dict={\"companyname\":companyname,\n",
    "              \"franchisename\":franchisename}\n",
    "    #   ------------------------------------------------------------------------------------------\n",
    "        graph.run(\"MERGE (client:Client {dedupestatic:{dedupestatic}})\", client_param_dict)\n",
    "    #   ------------------------------------------------------------------------------------------    \n",
    "        graph.run(\"\"\"MERGE (franchise:Franchise \n",
    "        {\n",
    "        franchisename:{franchisename},\n",
    "        companyname:{companyname}})\n",
    "        \"\"\", franchise_param_dict)\n",
    "    #   ------------------------------------------------------------------------------------------\n",
    "        graph.run(\"\"\"\n",
    "        MERGE (company:Company \n",
    "        {\n",
    "        companyname: {companyname}, \n",
    "        companyindex: {companyindex}}) ON CREATE SET company.channel={channel},\n",
    "        company.class_id={class_id},\n",
    "        company.discretionary={discretionary},\n",
    "        company.division_id={division_id},\n",
    "        company.group_id={group_id},\n",
    "        company.subclass_id={subclass_id},\n",
    "        company.channel={channel}\n",
    "        \"\"\", company_param_dict)\n",
    "    #   ------------------------------------------------------------------------------------------\n",
    "        graph.run(\"\"\"MATCH (client:Client {dedupestatic:{dedupestatic}}),(franchise:Franchise { franchisename: {franchisename} })\n",
    "        MERGE (client)-[t:transacted]->(franchise)\n",
    "        ON CREATE SET t.amount=[{amount}], t.date=[{date}]\n",
    "        ON MATCH SET t.amount=t.amount+{amount}, t.date=t.date+{date}\"\"\", transaction_param_dict)\n",
    "    #   ------------------------------------------------------------------------------------------\n",
    "        graph.run(\"\"\"MATCH (franchise:Franchise {franchisename:{franchisename}}),(company:Company { companyname: {companyname} })\n",
    "        MERGE (franchise)-[t:owned]->(company)\"\"\", owner_param_dict)    "
   ]
  },
  {
   "cell_type": "code",
   "execution_count": null,
   "metadata": {},
   "outputs": [],
   "source": []
  },
  {
   "cell_type": "code",
   "execution_count": null,
   "metadata": {},
   "outputs": [],
   "source": [
    "dedupestatic=dedupegroup_list[0]\n",
    "companyname=list(gf.companyname)[0]\n",
    "franchisename=list(gf.franchisename)[0]\n",
    "companyindex=list(gf.companyindex)[0]\n",
    "class_id=list(gf.class_id)[0]\n",
    "discretionary=list(gf.discretionary)[0]\n",
    "division_id=list(gf.division_id)[0]\n",
    "group_id=list(gf.group_id)[0]\n",
    "subclass_id=list(gf.subclass_id)[0]\n",
    "channel=list(gf.channel)[0]\n",
    "amount=list(gf.TransactionAmount)[0]\n",
    "date=list(gf.TransactionDate)[0]\n",
    "# companyindex=list(gf.companyindex)[0]\n",
    "# class_id=list(gf.class_id)[0]\n",
    "# discretionary=list(gf.discretionary)[0]\n",
    "# division_id=list(gf.division_id)[0]\n",
    "# group_id=list(gf.group_id)[0]\n",
    "# subclass_id=list(gf.subclass_id)[0]\n",
    "# channel=list(gf.channel)[0]"
   ]
  },
  {
   "cell_type": "code",
   "execution_count": null,
   "metadata": {},
   "outputs": [],
   "source": []
  },
  {
   "cell_type": "code",
   "execution_count": null,
   "metadata": {},
   "outputs": [],
   "source": []
  },
  {
   "cell_type": "code",
   "execution_count": null,
   "metadata": {},
   "outputs": [],
   "source": [
    "client_param_dict={\"dedupestatic\":dedupestatic}"
   ]
  },
  {
   "cell_type": "code",
   "execution_count": null,
   "metadata": {},
   "outputs": [],
   "source": [
    "company_param_dict={\"companyname\":companyname,\n",
    "          \"franchisename\":franchisename,\n",
    "          \"companyindex\":companyindex,\n",
    "          \"class_id\":class_id,\n",
    "          \"discretionary\":discretionary,\n",
    "          \"division_id\":division_id,\n",
    "          \"group_id\":group_id,\n",
    "          \"subclass_id\":subclass_id,\n",
    "          \"channel\":channel}"
   ]
  },
  {
   "cell_type": "code",
   "execution_count": null,
   "metadata": {},
   "outputs": [],
   "source": [
    "franchise_param_dict={\n",
    "          \"franchisename\":franchisename,\"companyname\":companyname,}"
   ]
  },
  {
   "cell_type": "code",
   "execution_count": null,
   "metadata": {},
   "outputs": [],
   "source": [
    "transaction_param_dict={\"dedupestatic\":dedupestatic,\n",
    "          \"franchisename\":franchisename,\n",
    "#           \"companyindex\":companyindex,\n",
    "          \"amount\":amount,\n",
    "          \"date\":date}"
   ]
  },
  {
   "cell_type": "code",
   "execution_count": null,
   "metadata": {},
   "outputs": [],
   "source": [
    "owner_param_dict={\"companyname\":companyname,\n",
    "          \"franchisename\":franchisename}"
   ]
  },
  {
   "cell_type": "code",
   "execution_count": null,
   "metadata": {},
   "outputs": [],
   "source": [
    "graph.run(\"MERGE (client:Client {dedupestatic:{dedupestatic}})\", client_param_dict)"
   ]
  },
  {
   "cell_type": "code",
   "execution_count": null,
   "metadata": {},
   "outputs": [],
   "source": [
    "graph.run(\"\"\"\n",
    "MERGE (franchise:Franchise \n",
    "{\n",
    "franchisename:{franchisename},\n",
    "companyname:{companyname}})\n",
    "\"\"\", franchise_param_dict)"
   ]
  },
  {
   "cell_type": "code",
   "execution_count": null,
   "metadata": {},
   "outputs": [],
   "source": [
    "graph.run(\"\"\"\n",
    "MERGE (company:Company \n",
    "{\n",
    "companyname: {companyname}, \n",
    "companyindex: {companyindex}}) ON CREATE SET company.channel={channel},\n",
    "company.class_id={class_id},\n",
    "company.discretionary={discretionary},\n",
    "company.division_id={division_id},\n",
    "company.group_id={group_id},\n",
    "company.subclass_id={subclass_id},\n",
    "company.channel={channel}\n",
    "\"\"\", company_param_dict)"
   ]
  },
  {
   "cell_type": "code",
   "execution_count": null,
   "metadata": {},
   "outputs": [],
   "source": [
    "graph.run(\"\"\"MATCH (client:Client {dedupestatic:{dedupestatic}}),(franchise:Franchise { franchisename: {franchisename} })\n",
    "MERGE (client)-[t:transacted]->(franchise)\n",
    "ON CREATE SET t.amount=[{amount}], t.date=[{date}]\n",
    "ON MATCH SET t.amount=t.amount+{amount}, t.date=t.date+{date}\"\"\", transaction_param_dict)\n"
   ]
  },
  {
   "cell_type": "code",
   "execution_count": null,
   "metadata": {},
   "outputs": [],
   "source": [
    "graph.run(\"\"\"MATCH (franchise:Franchise {franchisename:{franchisename}}),(company:Company { companyname: {companyname} })\n",
    "MERGE (franchise)-[t:owned]->(company)\"\"\", owner_param_dict)"
   ]
  },
  {
   "cell_type": "code",
   "execution_count": null,
   "metadata": {},
   "outputs": [],
   "source": []
  }
 ],
 "metadata": {
  "kernelspec": {
   "display_name": "Python 3",
   "language": "python",
   "name": "python3"
  },
  "language_info": {
   "codemirror_mode": {
    "name": "ipython",
    "version": 3
   },
   "file_extension": ".py",
   "mimetype": "text/x-python",
   "name": "python",
   "nbconvert_exporter": "python",
   "pygments_lexer": "ipython3",
   "version": "3.7.6"
  }
 },
 "nbformat": 4,
 "nbformat_minor": 4
}

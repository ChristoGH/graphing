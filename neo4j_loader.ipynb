{
 "cells": [
  {
   "cell_type": "code",
   "execution_count": 26,
   "metadata": {},
   "outputs": [],
   "source": [
    "import pandas as pd\n",
    "from py2neo import Graph\n",
    "graph = Graph(\"bolt://localhost:7687\", user='neo4j', password='neo4j')\n",
    "import numpy as np\n",
    "import random"
   ]
  },
  {
   "cell_type": "code",
   "execution_count": 2,
   "metadata": {},
   "outputs": [],
   "source": [
    "# filepath_or_buffer='/media/lnr-ai/christo/github_repos/graphing/data/clientswipes_201701_01.csv'\n",
    "# df=pd.read_csv(filepath_or_buffer=filepath_or_buffer)\n",
    "# df=df[~df.companyname.isnull()].copy()"
   ]
  },
  {
   "cell_type": "markdown",
   "metadata": {},
   "source": [
    "#### Peek into the file:"
   ]
  },
  {
   "cell_type": "code",
   "execution_count": 191,
   "metadata": {},
   "outputs": [],
   "source": [
    "filename='/var/lib/neo4j/import/clientswipes_202003.csv'\n",
    "data = pd.read_csv(filename,nrows=100)"
   ]
  },
  {
   "cell_type": "code",
   "execution_count": 192,
   "metadata": {},
   "outputs": [],
   "source": [
    "clientlist=[1,2,3,4,5,6,7,8,9,10]"
   ]
  },
  {
   "cell_type": "code",
   "execution_count": 193,
   "metadata": {},
   "outputs": [],
   "source": [
    "Dedupegroup=[item for item in clientlist for i in range(10)]"
   ]
  },
  {
   "cell_type": "markdown",
   "metadata": {},
   "source": [
    "## Case 1"
   ]
  },
  {
   "cell_type": "markdown",
   "metadata": {},
   "source": [
    "Two distinct closters of merchant with no bridging:"
   ]
  },
  {
   "cell_type": "code",
   "execution_count": 194,
   "metadata": {},
   "outputs": [],
   "source": [
    "companylist=[\"PNP\",\"SPAR\", \"CHECKERS\",\"WOOLWORTHS\",\"TOTAL\"]\n",
    "franchiselist=[\"BENMORE\",\"SANDTON\"]"
   ]
  },
  {
   "cell_type": "code",
   "execution_count": 195,
   "metadata": {},
   "outputs": [],
   "source": [
    "companylist=[\"PNP\",\"SPAR\", \"CHECKERS\",\"WOOLWORTHS\",\"TOTAL\"]\n",
    "franchiselist=[\"BENMORE\",\"SANDTON\",\"WOODMEAD\",\"COLUMBINE\"]\n",
    "benmore_list=[c + \" \" +\"BENMORE\" for c in companylist]\n",
    "sandton_list=[c + \" \" +\"SANDTON\" for c in companylist]"
   ]
  },
  {
   "cell_type": "code",
   "execution_count": 196,
   "metadata": {},
   "outputs": [],
   "source": [
    "franchisenames=[item for item in benmore_list for i in range(10)]\n",
    "random.shuffle(franchisenames)\n",
    "blist=[item for item in sandton_list for i in range(10)]\n",
    "random.shuffle(blist)\n",
    "franchisenames.extend(blist)"
   ]
  },
  {
   "cell_type": "code",
   "execution_count": 198,
   "metadata": {},
   "outputs": [],
   "source": [
    "companynames=[str.split(franchise)[0] for franchise in franchisenames]"
   ]
  },
  {
   "cell_type": "code",
   "execution_count": 199,
   "metadata": {},
   "outputs": [
    {
     "data": {
      "text/html": [
       "<div>\n",
       "<style scoped>\n",
       "    .dataframe tbody tr th:only-of-type {\n",
       "        vertical-align: middle;\n",
       "    }\n",
       "\n",
       "    .dataframe tbody tr th {\n",
       "        vertical-align: top;\n",
       "    }\n",
       "\n",
       "    .dataframe thead th {\n",
       "        text-align: right;\n",
       "    }\n",
       "</style>\n",
       "<table border=\"1\" class=\"dataframe\">\n",
       "  <thead>\n",
       "    <tr style=\"text-align: right;\">\n",
       "      <th></th>\n",
       "      <th>Dedupegroup</th>\n",
       "      <th>franchisename</th>\n",
       "    </tr>\n",
       "  </thead>\n",
       "  <tbody>\n",
       "    <tr>\n",
       "      <th>0</th>\n",
       "      <td>1</td>\n",
       "      <td>CHECKERS BENMORE</td>\n",
       "    </tr>\n",
       "    <tr>\n",
       "      <th>1</th>\n",
       "      <td>1</td>\n",
       "      <td>TOTAL BENMORE</td>\n",
       "    </tr>\n",
       "    <tr>\n",
       "      <th>2</th>\n",
       "      <td>1</td>\n",
       "      <td>PNP BENMORE</td>\n",
       "    </tr>\n",
       "    <tr>\n",
       "      <th>3</th>\n",
       "      <td>1</td>\n",
       "      <td>TOTAL BENMORE</td>\n",
       "    </tr>\n",
       "    <tr>\n",
       "      <th>4</th>\n",
       "      <td>1</td>\n",
       "      <td>TOTAL BENMORE</td>\n",
       "    </tr>\n",
       "    <tr>\n",
       "      <th>...</th>\n",
       "      <td>...</td>\n",
       "      <td>...</td>\n",
       "    </tr>\n",
       "    <tr>\n",
       "      <th>95</th>\n",
       "      <td>10</td>\n",
       "      <td>CHECKERS SANDTON</td>\n",
       "    </tr>\n",
       "    <tr>\n",
       "      <th>96</th>\n",
       "      <td>10</td>\n",
       "      <td>CHECKERS SANDTON</td>\n",
       "    </tr>\n",
       "    <tr>\n",
       "      <th>97</th>\n",
       "      <td>10</td>\n",
       "      <td>TOTAL SANDTON</td>\n",
       "    </tr>\n",
       "    <tr>\n",
       "      <th>98</th>\n",
       "      <td>10</td>\n",
       "      <td>WOOLWORTHS SANDTON</td>\n",
       "    </tr>\n",
       "    <tr>\n",
       "      <th>99</th>\n",
       "      <td>10</td>\n",
       "      <td>PNP SANDTON</td>\n",
       "    </tr>\n",
       "  </tbody>\n",
       "</table>\n",
       "<p>100 rows × 2 columns</p>\n",
       "</div>"
      ],
      "text/plain": [
       "    Dedupegroup       franchisename\n",
       "0             1    CHECKERS BENMORE\n",
       "1             1       TOTAL BENMORE\n",
       "2             1         PNP BENMORE\n",
       "3             1       TOTAL BENMORE\n",
       "4             1       TOTAL BENMORE\n",
       "..          ...                 ...\n",
       "95           10    CHECKERS SANDTON\n",
       "96           10    CHECKERS SANDTON\n",
       "97           10       TOTAL SANDTON\n",
       "98           10  WOOLWORTHS SANDTON\n",
       "99           10         PNP SANDTON\n",
       "\n",
       "[100 rows x 2 columns]"
      ]
     },
     "execution_count": 199,
     "metadata": {},
     "output_type": "execute_result"
    }
   ],
   "source": [
    "sandboxdf=data.copy()\n",
    "sandboxdf.Dedupegroup=Dedupegroup\n",
    "sandboxdf.companyname=companynames\n",
    "sandboxdf.franchisename=franchisenames\n",
    "sandboxdf[['Dedupegroup','franchisename']]"
   ]
  },
  {
   "cell_type": "code",
   "execution_count": 200,
   "metadata": {},
   "outputs": [],
   "source": [
    "sandboxdf.loc[sandboxdf.companyname==\"CHECKERS\", \"companyindex\"]=1\n",
    "sandboxdf.loc[sandboxdf.companyname==\"PNP\", \"companyindex\"]=2\n",
    "sandboxdf.loc[sandboxdf.companyname==\"SPAR\", \"companyindex\"]=3\n",
    "sandboxdf.loc[sandboxdf.companyname==\"TOTAL\", \"companyindex\"]=4\n",
    "sandboxdf.loc[sandboxdf.companyname==\"WOOLWORTHS\", \"companyindex\"]=5"
   ]
  },
  {
   "cell_type": "code",
   "execution_count": 201,
   "metadata": {},
   "outputs": [
    {
     "data": {
      "text/html": [
       "<div>\n",
       "<style scoped>\n",
       "    .dataframe tbody tr th:only-of-type {\n",
       "        vertical-align: middle;\n",
       "    }\n",
       "\n",
       "    .dataframe tbody tr th {\n",
       "        vertical-align: top;\n",
       "    }\n",
       "\n",
       "    .dataframe thead th {\n",
       "        text-align: right;\n",
       "    }\n",
       "</style>\n",
       "<table border=\"1\" class=\"dataframe\">\n",
       "  <thead>\n",
       "    <tr style=\"text-align: right;\">\n",
       "      <th></th>\n",
       "      <th>companyname</th>\n",
       "      <th>companyindex</th>\n",
       "      <th>Dedupegroup</th>\n",
       "      <th>franchisename</th>\n",
       "    </tr>\n",
       "  </thead>\n",
       "  <tbody>\n",
       "    <tr>\n",
       "      <th>0</th>\n",
       "      <td>CHECKERS</td>\n",
       "      <td>1.0</td>\n",
       "      <td>1</td>\n",
       "      <td>CHECKERS BENMORE</td>\n",
       "    </tr>\n",
       "    <tr>\n",
       "      <th>1</th>\n",
       "      <td>TOTAL</td>\n",
       "      <td>4.0</td>\n",
       "      <td>1</td>\n",
       "      <td>TOTAL BENMORE</td>\n",
       "    </tr>\n",
       "    <tr>\n",
       "      <th>2</th>\n",
       "      <td>PNP</td>\n",
       "      <td>2.0</td>\n",
       "      <td>1</td>\n",
       "      <td>PNP BENMORE</td>\n",
       "    </tr>\n",
       "    <tr>\n",
       "      <th>3</th>\n",
       "      <td>TOTAL</td>\n",
       "      <td>4.0</td>\n",
       "      <td>1</td>\n",
       "      <td>TOTAL BENMORE</td>\n",
       "    </tr>\n",
       "    <tr>\n",
       "      <th>4</th>\n",
       "      <td>TOTAL</td>\n",
       "      <td>4.0</td>\n",
       "      <td>1</td>\n",
       "      <td>TOTAL BENMORE</td>\n",
       "    </tr>\n",
       "    <tr>\n",
       "      <th>...</th>\n",
       "      <td>...</td>\n",
       "      <td>...</td>\n",
       "      <td>...</td>\n",
       "      <td>...</td>\n",
       "    </tr>\n",
       "    <tr>\n",
       "      <th>95</th>\n",
       "      <td>CHECKERS</td>\n",
       "      <td>1.0</td>\n",
       "      <td>10</td>\n",
       "      <td>CHECKERS SANDTON</td>\n",
       "    </tr>\n",
       "    <tr>\n",
       "      <th>96</th>\n",
       "      <td>CHECKERS</td>\n",
       "      <td>1.0</td>\n",
       "      <td>10</td>\n",
       "      <td>CHECKERS SANDTON</td>\n",
       "    </tr>\n",
       "    <tr>\n",
       "      <th>97</th>\n",
       "      <td>TOTAL</td>\n",
       "      <td>4.0</td>\n",
       "      <td>10</td>\n",
       "      <td>TOTAL SANDTON</td>\n",
       "    </tr>\n",
       "    <tr>\n",
       "      <th>98</th>\n",
       "      <td>WOOLWORTHS</td>\n",
       "      <td>5.0</td>\n",
       "      <td>10</td>\n",
       "      <td>WOOLWORTHS SANDTON</td>\n",
       "    </tr>\n",
       "    <tr>\n",
       "      <th>99</th>\n",
       "      <td>PNP</td>\n",
       "      <td>2.0</td>\n",
       "      <td>10</td>\n",
       "      <td>PNP SANDTON</td>\n",
       "    </tr>\n",
       "  </tbody>\n",
       "</table>\n",
       "<p>100 rows × 4 columns</p>\n",
       "</div>"
      ],
      "text/plain": [
       "   companyname  companyindex  Dedupegroup       franchisename\n",
       "0     CHECKERS           1.0            1    CHECKERS BENMORE\n",
       "1        TOTAL           4.0            1       TOTAL BENMORE\n",
       "2          PNP           2.0            1         PNP BENMORE\n",
       "3        TOTAL           4.0            1       TOTAL BENMORE\n",
       "4        TOTAL           4.0            1       TOTAL BENMORE\n",
       "..         ...           ...          ...                 ...\n",
       "95    CHECKERS           1.0           10    CHECKERS SANDTON\n",
       "96    CHECKERS           1.0           10    CHECKERS SANDTON\n",
       "97       TOTAL           4.0           10       TOTAL SANDTON\n",
       "98  WOOLWORTHS           5.0           10  WOOLWORTHS SANDTON\n",
       "99         PNP           2.0           10         PNP SANDTON\n",
       "\n",
       "[100 rows x 4 columns]"
      ]
     },
     "execution_count": 201,
     "metadata": {},
     "output_type": "execute_result"
    }
   ],
   "source": [
    "sandboxdf[['companyname','companyindex','Dedupegroup','franchisename']]"
   ]
  },
  {
   "cell_type": "code",
   "execution_count": 202,
   "metadata": {},
   "outputs": [],
   "source": [
    "df=sandboxdf.sample(n=60)"
   ]
  },
  {
   "cell_type": "code",
   "execution_count": null,
   "metadata": {},
   "outputs": [],
   "source": [
    "df[['companyname','companyindex','Dedupegroup','franchisename']]"
   ]
  },
  {
   "cell_type": "code",
   "execution_count": 204,
   "metadata": {},
   "outputs": [],
   "source": [
    "df.to_csv(path_or_buf='/media/lnr-ai/christo/github_repos/graphing/data/clientswipes_202003_sandbox_case1.csv',index=False)"
   ]
  },
  {
   "cell_type": "markdown",
   "metadata": {},
   "source": [
    "## Case 2"
   ]
  },
  {
   "cell_type": "code",
   "execution_count": 208,
   "metadata": {},
   "outputs": [],
   "source": [
    "filename='/var/lib/neo4j/import/clientswipes_202003.csv'\n",
    "data = pd.read_csv(filename,nrows=100)\n",
    "clientlist=[1,2,3,4,5,6,7,8,9,10]\n",
    "Dedupegroup=[item for item in clientlist for i in range(10)]"
   ]
  },
  {
   "cell_type": "code",
   "execution_count": 209,
   "metadata": {},
   "outputs": [],
   "source": [
    "companylist=[\"PNP\",\"SPAR\", \"CHECKERS\",\"WOOLWORTHS\",\"TOTAL\"]\n",
    "franchiselist=[\"BENMORE\",\"SANDTON\",\"WOODMEAD\",\"COLUMBINE\"]\n",
    "benmore_list=[c + \" \" +\"BENMORE\" for c in companylist]\n",
    "sandton_list=[c + \" \" +\"SANDTON\" for c in companylist]"
   ]
  },
  {
   "cell_type": "code",
   "execution_count": 210,
   "metadata": {},
   "outputs": [],
   "source": [
    "franchisenames=[item for item in benmore_list for i in range(10)]\n",
    "random.shuffle(franchisenames)\n",
    "blist=[item for item in sandton_list for i in range(10)]\n",
    "random.shuffle(blist)\n",
    "franchisenames.extend(blist)\n",
    "companynames=[str.split(franchise)[0] for franchise in franchisenames]"
   ]
  },
  {
   "cell_type": "code",
   "execution_count": 211,
   "metadata": {},
   "outputs": [
    {
     "data": {
      "text/html": [
       "<div>\n",
       "<style scoped>\n",
       "    .dataframe tbody tr th:only-of-type {\n",
       "        vertical-align: middle;\n",
       "    }\n",
       "\n",
       "    .dataframe tbody tr th {\n",
       "        vertical-align: top;\n",
       "    }\n",
       "\n",
       "    .dataframe thead th {\n",
       "        text-align: right;\n",
       "    }\n",
       "</style>\n",
       "<table border=\"1\" class=\"dataframe\">\n",
       "  <thead>\n",
       "    <tr style=\"text-align: right;\">\n",
       "      <th></th>\n",
       "      <th>Dedupegroup</th>\n",
       "      <th>franchisename</th>\n",
       "    </tr>\n",
       "  </thead>\n",
       "  <tbody>\n",
       "    <tr>\n",
       "      <th>0</th>\n",
       "      <td>1</td>\n",
       "      <td>PNP BENMORE</td>\n",
       "    </tr>\n",
       "    <tr>\n",
       "      <th>1</th>\n",
       "      <td>1</td>\n",
       "      <td>TOTAL BENMORE</td>\n",
       "    </tr>\n",
       "    <tr>\n",
       "      <th>2</th>\n",
       "      <td>1</td>\n",
       "      <td>CHECKERS BENMORE</td>\n",
       "    </tr>\n",
       "    <tr>\n",
       "      <th>3</th>\n",
       "      <td>1</td>\n",
       "      <td>SPAR BENMORE</td>\n",
       "    </tr>\n",
       "    <tr>\n",
       "      <th>4</th>\n",
       "      <td>1</td>\n",
       "      <td>PNP BENMORE</td>\n",
       "    </tr>\n",
       "    <tr>\n",
       "      <th>...</th>\n",
       "      <td>...</td>\n",
       "      <td>...</td>\n",
       "    </tr>\n",
       "    <tr>\n",
       "      <th>95</th>\n",
       "      <td>10</td>\n",
       "      <td>SPAR SANDTON</td>\n",
       "    </tr>\n",
       "    <tr>\n",
       "      <th>96</th>\n",
       "      <td>10</td>\n",
       "      <td>WOOLWORTHS SANDTON</td>\n",
       "    </tr>\n",
       "    <tr>\n",
       "      <th>97</th>\n",
       "      <td>10</td>\n",
       "      <td>SPAR SANDTON</td>\n",
       "    </tr>\n",
       "    <tr>\n",
       "      <th>98</th>\n",
       "      <td>10</td>\n",
       "      <td>TOTAL SANDTON</td>\n",
       "    </tr>\n",
       "    <tr>\n",
       "      <th>99</th>\n",
       "      <td>10</td>\n",
       "      <td>CHECKERS SANDTON</td>\n",
       "    </tr>\n",
       "  </tbody>\n",
       "</table>\n",
       "<p>100 rows × 2 columns</p>\n",
       "</div>"
      ],
      "text/plain": [
       "    Dedupegroup       franchisename\n",
       "0             1         PNP BENMORE\n",
       "1             1       TOTAL BENMORE\n",
       "2             1    CHECKERS BENMORE\n",
       "3             1        SPAR BENMORE\n",
       "4             1         PNP BENMORE\n",
       "..          ...                 ...\n",
       "95           10        SPAR SANDTON\n",
       "96           10  WOOLWORTHS SANDTON\n",
       "97           10        SPAR SANDTON\n",
       "98           10       TOTAL SANDTON\n",
       "99           10    CHECKERS SANDTON\n",
       "\n",
       "[100 rows x 2 columns]"
      ]
     },
     "execution_count": 211,
     "metadata": {},
     "output_type": "execute_result"
    }
   ],
   "source": [
    "sandboxdf=data.copy()\n",
    "sandboxdf.Dedupegroup=Dedupegroup\n",
    "sandboxdf.companyname=companynames\n",
    "sandboxdf.franchisename=franchisenames\n",
    "sandboxdf[['Dedupegroup','franchisename']]"
   ]
  },
  {
   "cell_type": "code",
   "execution_count": 212,
   "metadata": {},
   "outputs": [],
   "source": [
    "sandboxdf.loc[sandboxdf.companyname==\"CHECKERS\", \"companyindex\"]=1\n",
    "sandboxdf.loc[sandboxdf.companyname==\"PNP\", \"companyindex\"]=2\n",
    "sandboxdf.loc[sandboxdf.companyname==\"SPAR\", \"companyindex\"]=3\n",
    "sandboxdf.loc[sandboxdf.companyname==\"TOTAL\", \"companyindex\"]=4\n",
    "sandboxdf.loc[sandboxdf.companyname==\"WOOLWORTHS\", \"companyindex\"]=5"
   ]
  },
  {
   "cell_type": "code",
   "execution_count": 226,
   "metadata": {},
   "outputs": [],
   "source": [
    "df=sandboxdf.sample(n=60)"
   ]
  },
  {
   "cell_type": "code",
   "execution_count": 227,
   "metadata": {},
   "outputs": [],
   "source": [
    "add_dict=df[df.Dedupegroup==2].iloc[1].to_dict()"
   ]
  },
  {
   "cell_type": "code",
   "execution_count": 229,
   "metadata": {},
   "outputs": [],
   "source": [
    "add_dict['companyindex']=1\n",
    "add_dict['companyname']=\"CHECKERS\"\n",
    "add_dict['franchisename']=\"CHECKERS SANDTON\""
   ]
  },
  {
   "cell_type": "code",
   "execution_count": 230,
   "metadata": {},
   "outputs": [
    {
     "data": {
      "text/plain": [
       "{'_id': 'ObjectId(5e93f2fa29010000bebe796b)',\n",
       " 'Dedupegroup': 2,\n",
       " 'Seg_L3_Num': 1,\n",
       " 'Seg_L3_STR': 'BOE',\n",
       " 'TransactionAmount': -275.0,\n",
       " 'TransactionDate': '2020-03-01T00:00:00.000Z',\n",
       " 'companyindex': 1,\n",
       " 'companyname': 'CHECKERS',\n",
       " 'franchisename': 'CHECKERS SANDTON',\n",
       " 'period': 202003,\n",
       " 'channel': 2.0,\n",
       " 'class_id': 4922.0,\n",
       " 'dayname': 'Sunday',\n",
       " 'db': 'CMProd202003',\n",
       " 'dbprefix': 'CMProd',\n",
       " 'discretionary': 1.0,\n",
       " 'division_id': 49.0,\n",
       " 'group_id': 492.0,\n",
       " 'month': 3,\n",
       " 'subclass_id': 49222.0,\n",
       " 'universaldate': 1,\n",
       " 'weekday': 6,\n",
       " 'weekth': 1}"
      ]
     },
     "execution_count": 230,
     "metadata": {},
     "output_type": "execute_result"
    }
   ],
   "source": [
    "add_dict"
   ]
  },
  {
   "cell_type": "code",
   "execution_count": 231,
   "metadata": {},
   "outputs": [
    {
     "name": "stdout",
     "output_type": "stream",
     "text": [
      "                                   _id  Dedupegroup  Seg_L3_Num Seg_L3_STR  \\\n",
      "56  ObjectId(5e93f2fa29010000bebe79bb)           10           1        BOE   \n",
      "57  ObjectId(5e93f2fa29010000bebe7991)            6           1        BOE   \n",
      "58  ObjectId(5e93f2fa29010000bebe796f)            2           1        BOE   \n",
      "59  ObjectId(5e93f2fa29010000bebe7973)            3           1        BOE   \n",
      "60  ObjectId(5e93f2fa29010000bebe796b)            2           1        BOE   \n",
      "\n",
      "    TransactionAmount           TransactionDate  companyindex companyname  \\\n",
      "56            -359.80  2020-03-01T00:00:00.000Z           3.0        SPAR   \n",
      "57            -234.44  2020-03-01T00:00:00.000Z           2.0         PNP   \n",
      "58             -89.70  2020-03-01T00:00:00.000Z           4.0       TOTAL   \n",
      "59            -700.00  2020-03-01T00:00:00.000Z           5.0  WOOLWORTHS   \n",
      "60            -275.00  2020-03-01T00:00:00.000Z           1.0    CHECKERS   \n",
      "\n",
      "         franchisename  period  ...            db  dbprefix discretionary  \\\n",
      "56        SPAR SANDTON  202003  ...  CMProd202003    CMProd           0.0   \n",
      "57         PNP SANDTON  202003  ...  CMProd202003    CMProd           1.0   \n",
      "58       TOTAL BENMORE  202003  ...  CMProd202003    CMProd           NaN   \n",
      "59  WOOLWORTHS BENMORE  202003  ...  CMProd202003    CMProd           NaN   \n",
      "60    CHECKERS SANDTON  202003  ...  CMProd202003    CMProd           1.0   \n",
      "\n",
      "   division_id group_id  month  subclass_id  universaldate  weekday  weekth  \n",
      "56        45.0    455.0      3      45500.0              1        6       1  \n",
      "57        47.0    471.0      3      47110.0              1        6       1  \n",
      "58         NaN      NaN      3          NaN              1        6       1  \n",
      "59         NaN      NaN      3          NaN              1        6       1  \n",
      "60        49.0    492.0      3      49222.0              1        6       1  \n",
      "\n",
      "[5 rows x 23 columns]\n"
     ]
    }
   ],
   "source": [
    "df = df.append(add_dict, ignore_index=True)\n",
    "print(df.tail())"
   ]
  },
  {
   "cell_type": "code",
   "execution_count": 232,
   "metadata": {},
   "outputs": [],
   "source": [
    "df.to_csv(path_or_buf='/media/lnr-ai/christo/github_repos/graphing/data/clientswipes_202003_sandbox_case2.csv',index=False)"
   ]
  },
  {
   "cell_type": "code",
   "execution_count": 152,
   "metadata": {},
   "outputs": [],
   "source": [
    "companylist=[\"PNP\",\"SPAR\", \"CHECKERS\",\"WOOLWORTHS\",\"TOTAL\"]\n",
    "franchiselist=[\"BENMORE\",\"SANDTON\",\"WOODMEAD\",\"COLUMBINE\"]\n",
    "benmore_list=[c + \" \" +\"BENMORE\" for c in companylist]\n",
    "sandton_list=[c + \" \" +\"SANDTON\" for c in companylist]\n",
    "alt_list_1=[c + \" \" +\"FOURWAYS\" for c in [\"PNP\",\"SPAR\"]]\n",
    "alt_list_2=[c + \" \" +\"BROADACRES\" for c in [\"WOOLWORTHS\",\"CHECKERS\"]]\n",
    "alt_list_3=[c + \" \" +\"SANDTON\" for c in [\"PNP\",\"SPAR\"]]\n",
    "alt_list_4=[c + \" \" +\"BENMORE\" for c in [\"WOOLWORTHS\",\"CHECKERS\"]]"
   ]
  },
  {
   "cell_type": "code",
   "execution_count": 153,
   "metadata": {},
   "outputs": [],
   "source": [
    "franchisenames=[item for item in benmore_list for i in range(10)]\n",
    "random.shuffle(franchisenames)\n",
    "blist=[item for item in sandton_list for i in range(10)]\n",
    "random.shuffle(blist)\n",
    "franchisenames.extend(blist)"
   ]
  },
  {
   "cell_type": "code",
   "execution_count": 155,
   "metadata": {},
   "outputs": [],
   "source": [
    "clist=[item for item in alt_list_1 for i in range(5)]\n",
    "elist=[item for item in alt_list_3 for i in range(5)]\n",
    "dlist=[item for item in alt_list_2 for i in range(5)]\n",
    "flist=[item for item in alt_list_4 for i in range(5)]\n",
    "franchisenames.extend(clist)\n",
    "franchisenames.extend(elist)\n",
    "franchisenames.extend(dlist)\n",
    "franchisenames.extend(flist)\n",
    "companynames=[str.split(franchise)[0] for franchise in franchisenames]"
   ]
  },
  {
   "cell_type": "code",
   "execution_count": 157,
   "metadata": {},
   "outputs": [],
   "source": [
    "sandboxdf=data.copy()"
   ]
  },
  {
   "cell_type": "code",
   "execution_count": 158,
   "metadata": {},
   "outputs": [],
   "source": [
    "sandboxdf.Dedupegroup=Dedupegroup\n",
    "sandboxdf.companyname=companynames\n",
    "sandboxdf.franchisename=franchisenames\n",
    "sandboxdf.loc[sandboxdf.companyname==\"CHECKERS\", \"companyindex\"]=1\n",
    "sandboxdf.loc[sandboxdf.companyname==\"PNP\", \"companyindex\"]=2\n",
    "sandboxdf.loc[sandboxdf.companyname==\"SPAR\", \"companyindex\"]=3\n",
    "sandboxdf.loc[sandboxdf.companyname==\"TOTAL\", \"companyindex\"]=4\n",
    "sandboxdf.loc[sandboxdf.companyname==\"WOOLWORTHS\", \"companyindex\"]=5"
   ]
  },
  {
   "cell_type": "code",
   "execution_count": 159,
   "metadata": {},
   "outputs": [
    {
     "data": {
      "text/html": [
       "<div>\n",
       "<style scoped>\n",
       "    .dataframe tbody tr th:only-of-type {\n",
       "        vertical-align: middle;\n",
       "    }\n",
       "\n",
       "    .dataframe tbody tr th {\n",
       "        vertical-align: top;\n",
       "    }\n",
       "\n",
       "    .dataframe thead th {\n",
       "        text-align: right;\n",
       "    }\n",
       "</style>\n",
       "<table border=\"1\" class=\"dataframe\">\n",
       "  <thead>\n",
       "    <tr style=\"text-align: right;\">\n",
       "      <th></th>\n",
       "      <th>Dedupegroup</th>\n",
       "      <th>franchisename</th>\n",
       "    </tr>\n",
       "  </thead>\n",
       "  <tbody>\n",
       "    <tr>\n",
       "      <th>0</th>\n",
       "      <td>1</td>\n",
       "      <td>TOTAL BENMORE</td>\n",
       "    </tr>\n",
       "    <tr>\n",
       "      <th>1</th>\n",
       "      <td>1</td>\n",
       "      <td>PNP BENMORE</td>\n",
       "    </tr>\n",
       "    <tr>\n",
       "      <th>2</th>\n",
       "      <td>1</td>\n",
       "      <td>TOTAL BENMORE</td>\n",
       "    </tr>\n",
       "    <tr>\n",
       "      <th>3</th>\n",
       "      <td>1</td>\n",
       "      <td>WOOLWORTHS BENMORE</td>\n",
       "    </tr>\n",
       "    <tr>\n",
       "      <th>4</th>\n",
       "      <td>1</td>\n",
       "      <td>CHECKERS BENMORE</td>\n",
       "    </tr>\n",
       "    <tr>\n",
       "      <th>...</th>\n",
       "      <td>...</td>\n",
       "      <td>...</td>\n",
       "    </tr>\n",
       "    <tr>\n",
       "      <th>135</th>\n",
       "      <td>9</td>\n",
       "      <td>CHECKERS BENMORE</td>\n",
       "    </tr>\n",
       "    <tr>\n",
       "      <th>136</th>\n",
       "      <td>9</td>\n",
       "      <td>CHECKERS BENMORE</td>\n",
       "    </tr>\n",
       "    <tr>\n",
       "      <th>137</th>\n",
       "      <td>9</td>\n",
       "      <td>CHECKERS BENMORE</td>\n",
       "    </tr>\n",
       "    <tr>\n",
       "      <th>138</th>\n",
       "      <td>9</td>\n",
       "      <td>CHECKERS BENMORE</td>\n",
       "    </tr>\n",
       "    <tr>\n",
       "      <th>139</th>\n",
       "      <td>9</td>\n",
       "      <td>CHECKERS BENMORE</td>\n",
       "    </tr>\n",
       "  </tbody>\n",
       "</table>\n",
       "<p>140 rows × 2 columns</p>\n",
       "</div>"
      ],
      "text/plain": [
       "     Dedupegroup       franchisename\n",
       "0              1       TOTAL BENMORE\n",
       "1              1         PNP BENMORE\n",
       "2              1       TOTAL BENMORE\n",
       "3              1  WOOLWORTHS BENMORE\n",
       "4              1    CHECKERS BENMORE\n",
       "..           ...                 ...\n",
       "135            9    CHECKERS BENMORE\n",
       "136            9    CHECKERS BENMORE\n",
       "137            9    CHECKERS BENMORE\n",
       "138            9    CHECKERS BENMORE\n",
       "139            9    CHECKERS BENMORE\n",
       "\n",
       "[140 rows x 2 columns]"
      ]
     },
     "execution_count": 159,
     "metadata": {},
     "output_type": "execute_result"
    }
   ],
   "source": [
    "sandboxdf[['Dedupegroup','franchisename']]"
   ]
  },
  {
   "cell_type": "code",
   "execution_count": 160,
   "metadata": {},
   "outputs": [
    {
     "data": {
      "text/plain": [
       "{'CHECKERS', 'PNP', 'SPAR', 'TOTAL', 'WOOLWORTHS'}"
      ]
     },
     "execution_count": 160,
     "metadata": {},
     "output_type": "execute_result"
    }
   ],
   "source": [
    "set(sandboxdf.companyname)"
   ]
  },
  {
   "cell_type": "code",
   "execution_count": 161,
   "metadata": {},
   "outputs": [],
   "source": [
    "sandboxdf.loc[sandboxdf.companyname==\"CHECKERS\", \"companyindex\"]=1\n",
    "sandboxdf.loc[sandboxdf.companyname==\"PNP\", \"companyindex\"]=2\n",
    "sandboxdf.loc[sandboxdf.companyname==\"SPAR\", \"companyindex\"]=3\n",
    "sandboxdf.loc[sandboxdf.companyname==\"TOTAL\", \"companyindex\"]=4\n",
    "sandboxdf.loc[sandboxdf.companyname==\"WOOLWORTHS\", \"companyindex\"]=5"
   ]
  },
  {
   "cell_type": "code",
   "execution_count": 162,
   "metadata": {},
   "outputs": [],
   "source": [
    "df=sandboxdf.sample(n=80)"
   ]
  },
  {
   "cell_type": "code",
   "execution_count": 172,
   "metadata": {},
   "outputs": [
    {
     "data": {
      "text/html": [
       "<div>\n",
       "<style scoped>\n",
       "    .dataframe tbody tr th:only-of-type {\n",
       "        vertical-align: middle;\n",
       "    }\n",
       "\n",
       "    .dataframe tbody tr th {\n",
       "        vertical-align: top;\n",
       "    }\n",
       "\n",
       "    .dataframe thead th {\n",
       "        text-align: right;\n",
       "    }\n",
       "</style>\n",
       "<table border=\"1\" class=\"dataframe\">\n",
       "  <thead>\n",
       "    <tr style=\"text-align: right;\">\n",
       "      <th></th>\n",
       "      <th>Dedupegroup</th>\n",
       "      <th>franchisename</th>\n",
       "    </tr>\n",
       "  </thead>\n",
       "  <tbody>\n",
       "    <tr>\n",
       "      <th>127</th>\n",
       "      <td>2</td>\n",
       "      <td>CHECKERS BROADACRES</td>\n",
       "    </tr>\n",
       "    <tr>\n",
       "      <th>17</th>\n",
       "      <td>2</td>\n",
       "      <td>CHECKERS BENMORE</td>\n",
       "    </tr>\n",
       "    <tr>\n",
       "      <th>122</th>\n",
       "      <td>2</td>\n",
       "      <td>WOOLWORTHS BROADACRES</td>\n",
       "    </tr>\n",
       "    <tr>\n",
       "      <th>10</th>\n",
       "      <td>2</td>\n",
       "      <td>TOTAL BENMORE</td>\n",
       "    </tr>\n",
       "    <tr>\n",
       "      <th>11</th>\n",
       "      <td>2</td>\n",
       "      <td>WOOLWORTHS BENMORE</td>\n",
       "    </tr>\n",
       "    <tr>\n",
       "      <th>12</th>\n",
       "      <td>2</td>\n",
       "      <td>TOTAL BENMORE</td>\n",
       "    </tr>\n",
       "    <tr>\n",
       "      <th>128</th>\n",
       "      <td>2</td>\n",
       "      <td>CHECKERS BROADACRES</td>\n",
       "    </tr>\n",
       "    <tr>\n",
       "      <th>18</th>\n",
       "      <td>2</td>\n",
       "      <td>PNP BENMORE</td>\n",
       "    </tr>\n",
       "    <tr>\n",
       "      <th>124</th>\n",
       "      <td>2</td>\n",
       "      <td>WOOLWORTHS BROADACRES</td>\n",
       "    </tr>\n",
       "    <tr>\n",
       "      <th>120</th>\n",
       "      <td>2</td>\n",
       "      <td>WOOLWORTHS BROADACRES</td>\n",
       "    </tr>\n",
       "  </tbody>\n",
       "</table>\n",
       "</div>"
      ],
      "text/plain": [
       "     Dedupegroup          franchisename\n",
       "127            2    CHECKERS BROADACRES\n",
       "17             2       CHECKERS BENMORE\n",
       "122            2  WOOLWORTHS BROADACRES\n",
       "10             2          TOTAL BENMORE\n",
       "11             2     WOOLWORTHS BENMORE\n",
       "12             2          TOTAL BENMORE\n",
       "128            2    CHECKERS BROADACRES\n",
       "18             2            PNP BENMORE\n",
       "124            2  WOOLWORTHS BROADACRES\n",
       "120            2  WOOLWORTHS BROADACRES"
      ]
     },
     "execution_count": 172,
     "metadata": {},
     "output_type": "execute_result"
    }
   ],
   "source": [
    "df.loc[df.Dedupegroup==2,['Dedupegroup','franchisename']]"
   ]
  },
  {
   "cell_type": "code",
   "execution_count": 173,
   "metadata": {},
   "outputs": [],
   "source": [
    "df.to_csv(path_or_buf='/media/lnr-ai/christo/github_repos/graphing/data/clientswipes_202003_sandbox.csv',index=False)"
   ]
  },
  {
   "cell_type": "code",
   "execution_count": null,
   "metadata": {},
   "outputs": [],
   "source": [
    "# crimes_header.csv\n",
    "filename='/var/lib/neo4j/import/beats.csv'\n",
    "beats = pd.read_csv(filename,nrows=10)\n",
    "beats"
   ]
  },
  {
   "cell_type": "code",
   "execution_count": null,
   "metadata": {},
   "outputs": [],
   "source": [
    "# crimes_header.csv\n",
    "filename='/var/lib/neo4j/import/crimes_header.csv'\n",
    "crimes_header_csv = pd.read_csv(filename,nrows=10)\n",
    "crimes_header_csv"
   ]
  },
  {
   "cell_type": "code",
   "execution_count": null,
   "metadata": {},
   "outputs": [],
   "source": [
    "filename='/var/lib/neo4j/import/crimes.csv'\n",
    "crimes_csv = pd.read_csv(filename,nrows=10)\n",
    "crimes_csv"
   ]
  },
  {
   "cell_type": "code",
   "execution_count": null,
   "metadata": {},
   "outputs": [],
   "source": [
    "import csv\n",
    "filename='/media/lnr-ai/christo/github_repos/graphing/data/clientswipes_202003_neo4j.csv'\n",
    "with open(filename) as csv_file:\n",
    "    csv_reader = csv.reader(csv_file, delimiter=',')\n",
    "    line_count = 0"
   ]
  },
  {
   "cell_type": "code",
   "execution_count": null,
   "metadata": {},
   "outputs": [],
   "source": [
    "    for row in csv_reader:\n",
    "        if line_count == 0:\n",
    "            print(f'Column names are {\", \".join(row)}')\n",
    "            line_count += 1\n",
    "        else:\n",
    "            print(f'\\t{row[0]} works in the {row[1]} department, and was born in {row[2]}.')\n",
    "            line_count += 1\n",
    "    print(f'Processed {line_count} lines.')"
   ]
  },
  {
   "cell_type": "code",
   "execution_count": null,
   "metadata": {},
   "outputs": [],
   "source": [
    "dedupegroup_list=list(set(df.Dedupegroup))"
   ]
  },
  {
   "cell_type": "code",
   "execution_count": null,
   "metadata": {},
   "outputs": [],
   "source": [
    "for dedupestatic in list(set(dedupegroup_list)):\n",
    "    print('Doing dedupestatic: ', dedupestatic, ' at index: ', dedupegroup_list.index(dedupestatic), ' of ', len(dedupegroup_list))        \n",
    "    client_param_dict={\"dedupestatic\":dedupestatic}\n",
    "    graph.run(\"MERGE (client:Client {dedupestatic:{dedupestatic}})\", client_param_dict)"
   ]
  },
  {
   "cell_type": "code",
   "execution_count": null,
   "metadata": {},
   "outputs": [],
   "source": [
    "for dedupe in dedupegroup_list:\n",
    "    gf=df[df.Dedupegroup==dedupe].copy()\n",
    "    print('Doing dedupestatic: ', dedupe, ' at index: ', dedupegroup_list.index(dedupe), ' of ', len(dedupegroup_list))    \n",
    "    for dedupestatic,companyname,franchisename,companyindex,class_id,discretionary,division_id,group_id,subclass_id,channel,TransactionAmount,TransactionDate in zip(gf.Dedupegroup, gf.companyname, gf.franchisename,gf.companyindex,gf.class_id,gf.discretionary,gf.division_id,gf.group_id,gf.subclass_id,gf.channel,gf.TransactionAmount,gf.TransactionDate):\n",
    "\n",
    "        client_param_dict={\"dedupestatic\":dedupestatic}\n",
    "        company_param_dict={\"companyname\":companyname,\n",
    "                  \"franchisename\":franchisename,\n",
    "                  \"companyindex\":companyindex,\n",
    "                  \"class_id\":class_id,\n",
    "                  \"discretionary\":discretionary,\n",
    "                  \"division_id\":division_id,\n",
    "                  \"group_id\":group_id,\n",
    "                  \"subclass_id\":subclass_id,\n",
    "                  \"channel\":channel}\n",
    "        franchise_param_dict={\n",
    "              \"franchisename\":franchisename,\"companyname\":companyname,}\n",
    "        transaction_param_dict={\"dedupestatic\":dedupestatic,\n",
    "              \"franchisename\":franchisename,\n",
    "    #           \"companyindex\":companyindex,\n",
    "              \"amount\":amount,\n",
    "              \"date\":date}\n",
    "        owner_param_dict={\"companyname\":companyname,\n",
    "              \"franchisename\":franchisename}\n",
    "    #   ------------------------------------------------------------------------------------------\n",
    "        graph.run(\"MERGE (client:Client {dedupestatic:{dedupestatic}})\", client_param_dict)\n",
    "    #   ------------------------------------------------------------------------------------------    \n",
    "        graph.run(\"\"\"MERGE (franchise:Franchise \n",
    "        {\n",
    "        franchisename:{franchisename},\n",
    "        companyname:{companyname}})\n",
    "        \"\"\", franchise_param_dict)\n",
    "    #   ------------------------------------------------------------------------------------------\n",
    "        graph.run(\"\"\"\n",
    "        MERGE (company:Company \n",
    "        {\n",
    "        companyname: {companyname}, \n",
    "        companyindex: {companyindex}}) ON CREATE SET company.channel={channel},\n",
    "        company.class_id={class_id},\n",
    "        company.discretionary={discretionary},\n",
    "        company.division_id={division_id},\n",
    "        company.group_id={group_id},\n",
    "        company.subclass_id={subclass_id},\n",
    "        company.channel={channel}\n",
    "        \"\"\", company_param_dict)\n",
    "    #   ------------------------------------------------------------------------------------------\n",
    "        graph.run(\"\"\"MATCH (client:Client {dedupestatic:{dedupestatic}}),(franchise:Franchise { franchisename: {franchisename} })\n",
    "        MERGE (client)-[t:transacted]->(franchise)\n",
    "        ON CREATE SET t.amount=[{amount}], t.date=[{date}]\n",
    "        ON MATCH SET t.amount=t.amount+{amount}, t.date=t.date+{date}\"\"\", transaction_param_dict)\n",
    "    #   ------------------------------------------------------------------------------------------\n",
    "        graph.run(\"\"\"MATCH (franchise:Franchise {franchisename:{franchisename}}),(company:Company { companyname: {companyname} })\n",
    "        MERGE (franchise)-[t:owned]->(company)\"\"\", owner_param_dict)    "
   ]
  },
  {
   "cell_type": "code",
   "execution_count": null,
   "metadata": {},
   "outputs": [],
   "source": []
  },
  {
   "cell_type": "code",
   "execution_count": null,
   "metadata": {},
   "outputs": [],
   "source": [
    "dedupestatic=dedupegroup_list[0]\n",
    "companyname=list(gf.companyname)[0]\n",
    "franchisename=list(gf.franchisename)[0]\n",
    "companyindex=list(gf.companyindex)[0]\n",
    "class_id=list(gf.class_id)[0]\n",
    "discretionary=list(gf.discretionary)[0]\n",
    "division_id=list(gf.division_id)[0]\n",
    "group_id=list(gf.group_id)[0]\n",
    "subclass_id=list(gf.subclass_id)[0]\n",
    "channel=list(gf.channel)[0]\n",
    "amount=list(gf.TransactionAmount)[0]\n",
    "date=list(gf.TransactionDate)[0]\n",
    "# companyindex=list(gf.companyindex)[0]\n",
    "# class_id=list(gf.class_id)[0]\n",
    "# discretionary=list(gf.discretionary)[0]\n",
    "# division_id=list(gf.division_id)[0]\n",
    "# group_id=list(gf.group_id)[0]\n",
    "# subclass_id=list(gf.subclass_id)[0]\n",
    "# channel=list(gf.channel)[0]"
   ]
  },
  {
   "cell_type": "code",
   "execution_count": null,
   "metadata": {},
   "outputs": [],
   "source": []
  },
  {
   "cell_type": "code",
   "execution_count": null,
   "metadata": {},
   "outputs": [],
   "source": []
  },
  {
   "cell_type": "code",
   "execution_count": null,
   "metadata": {},
   "outputs": [],
   "source": [
    "client_param_dict={\"dedupestatic\":dedupestatic}"
   ]
  },
  {
   "cell_type": "code",
   "execution_count": null,
   "metadata": {},
   "outputs": [],
   "source": [
    "company_param_dict={\"companyname\":companyname,\n",
    "          \"franchisename\":franchisename,\n",
    "          \"companyindex\":companyindex,\n",
    "          \"class_id\":class_id,\n",
    "          \"discretionary\":discretionary,\n",
    "          \"division_id\":division_id,\n",
    "          \"group_id\":group_id,\n",
    "          \"subclass_id\":subclass_id,\n",
    "          \"channel\":channel}"
   ]
  },
  {
   "cell_type": "code",
   "execution_count": null,
   "metadata": {},
   "outputs": [],
   "source": [
    "franchise_param_dict={\n",
    "          \"franchisename\":franchisename,\"companyname\":companyname,}"
   ]
  },
  {
   "cell_type": "code",
   "execution_count": null,
   "metadata": {},
   "outputs": [],
   "source": [
    "transaction_param_dict={\"dedupestatic\":dedupestatic,\n",
    "          \"franchisename\":franchisename,\n",
    "#           \"companyindex\":companyindex,\n",
    "          \"amount\":amount,\n",
    "          \"date\":date}"
   ]
  },
  {
   "cell_type": "code",
   "execution_count": null,
   "metadata": {},
   "outputs": [],
   "source": [
    "owner_param_dict={\"companyname\":companyname,\n",
    "          \"franchisename\":franchisename}"
   ]
  },
  {
   "cell_type": "code",
   "execution_count": null,
   "metadata": {},
   "outputs": [],
   "source": [
    "graph.run(\"MERGE (client:Client {dedupestatic:{dedupestatic}})\", client_param_dict)"
   ]
  },
  {
   "cell_type": "code",
   "execution_count": null,
   "metadata": {},
   "outputs": [],
   "source": [
    "graph.run(\"\"\"\n",
    "MERGE (franchise:Franchise \n",
    "{\n",
    "franchisename:{franchisename},\n",
    "companyname:{companyname}})\n",
    "\"\"\", franchise_param_dict)"
   ]
  },
  {
   "cell_type": "code",
   "execution_count": null,
   "metadata": {},
   "outputs": [],
   "source": [
    "graph.run(\"\"\"\n",
    "MERGE (company:Company \n",
    "{\n",
    "companyname: {companyname}, \n",
    "companyindex: {companyindex}}) ON CREATE SET company.channel={channel},\n",
    "company.class_id={class_id},\n",
    "company.discretionary={discretionary},\n",
    "company.division_id={division_id},\n",
    "company.group_id={group_id},\n",
    "company.subclass_id={subclass_id},\n",
    "company.channel={channel}\n",
    "\"\"\", company_param_dict)"
   ]
  },
  {
   "cell_type": "code",
   "execution_count": null,
   "metadata": {},
   "outputs": [],
   "source": [
    "graph.run(\"\"\"MATCH (client:Client {dedupestatic:{dedupestatic}}),(franchise:Franchise { franchisename: {franchisename} })\n",
    "MERGE (client)-[t:transacted]->(franchise)\n",
    "ON CREATE SET t.amount=[{amount}], t.date=[{date}]\n",
    "ON MATCH SET t.amount=t.amount+{amount}, t.date=t.date+{date}\"\"\", transaction_param_dict)\n"
   ]
  },
  {
   "cell_type": "code",
   "execution_count": null,
   "metadata": {},
   "outputs": [],
   "source": [
    "graph.run(\"\"\"MATCH (franchise:Franchise {franchisename:{franchisename}}),(company:Company { companyname: {companyname} })\n",
    "MERGE (franchise)-[t:owned]->(company)\"\"\", owner_param_dict)"
   ]
  },
  {
   "cell_type": "code",
   "execution_count": null,
   "metadata": {},
   "outputs": [],
   "source": []
  }
 ],
 "metadata": {
  "kernelspec": {
   "display_name": "Python 3",
   "language": "python",
   "name": "python3"
  },
  "language_info": {
   "codemirror_mode": {
    "name": "ipython",
    "version": 3
   },
   "file_extension": ".py",
   "mimetype": "text/x-python",
   "name": "python",
   "nbconvert_exporter": "python",
   "pygments_lexer": "ipython3",
   "version": "3.7.6"
  }
 },
 "nbformat": 4,
 "nbformat_minor": 4
}

{
 "cells": [
  {
   "cell_type": "code",
   "execution_count": 1,
   "metadata": {},
   "outputs": [
    {
     "ename": "ModuleNotFoundError",
     "evalue": "No module named 'graphviz'",
     "output_type": "error",
     "traceback": [
      "\u001b[0;31m---------------------------------------------------------------------------\u001b[0m",
      "\u001b[0;31mModuleNotFoundError\u001b[0m                       Traceback (most recent call last)",
      "\u001b[0;32m<ipython-input-1-f7133d3517ab>\u001b[0m in \u001b[0;36m<module>\u001b[0;34m\u001b[0m\n\u001b[0;32m----> 1\u001b[0;31m \u001b[0;32mimport\u001b[0m \u001b[0mgraphviz\u001b[0m\u001b[0;34m\u001b[0m\u001b[0;34m\u001b[0m\u001b[0m\n\u001b[0m",
      "\u001b[0;31mModuleNotFoundError\u001b[0m: No module named 'graphviz'"
     ]
    }
   ],
   "source": [
    "import graphviz"
   ]
  },
  {
   "cell_type": "code",
   "execution_count": 1,
   "metadata": {},
   "outputs": [],
   "source": [
    "import pandas as pd\n",
    "import os\n",
    "os.chdir('/media/lnr-ai/christo/github_repos/graphing/')\n",
    "import hashlib"
   ]
  },
  {
   "cell_type": "markdown",
   "metadata": {},
   "source": [
    "```\n",
    "https://www.youtube.com/watch?v=HJ4Hcq3YX4k\n",
    "https://www.youtube.com/watch?v=2FqM4gKeNO4\n",
    "```"
   ]
  },
  {
   "cell_type": "code",
   "execution_count": 2,
   "metadata": {},
   "outputs": [],
   "source": [
    "df=pd.read_csv(filepath_or_buffer='/media/lnr-ai/christo/github_repos/graphing/data/bolt_graph_df.csv')"
   ]
  },
  {
   "cell_type": "code",
   "execution_count": 29,
   "metadata": {},
   "outputs": [],
   "source": [
    "df['dedupestatic_str']=['d_'+str(int(client)) for client in df.dedupestatic]"
   ]
  },
  {
   "cell_type": "code",
   "execution_count": 30,
   "metadata": {},
   "outputs": [
    {
     "data": {
      "text/plain": [
       "['dedupestatic',\n",
       " 'amount',\n",
       " 'companyname',\n",
       " 'franchisename',\n",
       " 'universaldate',\n",
       " 'dedupestatic_str']"
      ]
     },
     "execution_count": 30,
     "metadata": {},
     "output_type": "execute_result"
    }
   ],
   "source": [
    "list(df)"
   ]
  },
  {
   "cell_type": "code",
   "execution_count": 65,
   "metadata": {},
   "outputs": [],
   "source": [
    "df = df.sample(n=2000)"
   ]
  },
  {
   "cell_type": "code",
   "execution_count": 66,
   "metadata": {},
   "outputs": [],
   "source": [
    "df_amount=df[['franchisename', 'amount']].groupby('franchisename').sum()\n",
    "df_amount.rename(columns={'amount':'transaction_amount'}, inplace=True)\n",
    "df_count=df[['franchisename', 'amount']].groupby('franchisename').count()\n",
    "df_count.rename(columns={'amount':'transaction_count'}, inplace=True)\n",
    "select_df=df_amount.merge(df_count, left_index=True, right_index=True)"
   ]
  },
  {
   "cell_type": "code",
   "execution_count": 67,
   "metadata": {},
   "outputs": [],
   "source": [
    "# df=random_df.copy()"
   ]
  },
  {
   "cell_type": "code",
   "execution_count": 68,
   "metadata": {},
   "outputs": [
    {
     "data": {
      "text/html": [
       "<div>\n",
       "<style scoped>\n",
       "    .dataframe tbody tr th:only-of-type {\n",
       "        vertical-align: middle;\n",
       "    }\n",
       "\n",
       "    .dataframe tbody tr th {\n",
       "        vertical-align: top;\n",
       "    }\n",
       "\n",
       "    .dataframe thead th {\n",
       "        text-align: right;\n",
       "    }\n",
       "</style>\n",
       "<table border=\"1\" class=\"dataframe\">\n",
       "  <thead>\n",
       "    <tr style=\"text-align: right;\">\n",
       "      <th></th>\n",
       "      <th>transaction_amount</th>\n",
       "      <th>transaction_count</th>\n",
       "    </tr>\n",
       "    <tr>\n",
       "      <th>franchisename</th>\n",
       "      <th></th>\n",
       "      <th></th>\n",
       "    </tr>\n",
       "  </thead>\n",
       "  <tbody>\n",
       "    <tr>\n",
       "      <th>A CHINA TOWN</th>\n",
       "      <td>-210.00</td>\n",
       "      <td>1</td>\n",
       "    </tr>\n",
       "    <tr>\n",
       "      <th>PRETORIA BOY</th>\n",
       "      <td>-31.00</td>\n",
       "      <td>1</td>\n",
       "    </tr>\n",
       "    <tr>\n",
       "      <th>PRESTONS KBY R</th>\n",
       "      <td>-100.70</td>\n",
       "      <td>1</td>\n",
       "    </tr>\n",
       "    <tr>\n",
       "      <th>PRESTONS GREEN</th>\n",
       "      <td>-110.70</td>\n",
       "      <td>1</td>\n",
       "    </tr>\n",
       "    <tr>\n",
       "      <th>PQ CLOTHING RANDBURG</th>\n",
       "      <td>-240.00</td>\n",
       "      <td>1</td>\n",
       "    </tr>\n",
       "    <tr>\n",
       "      <th>...</th>\n",
       "      <td>...</td>\n",
       "      <td>...</td>\n",
       "    </tr>\n",
       "    <tr>\n",
       "      <th>MTN Eazi Rec</th>\n",
       "      <td>-818.00</td>\n",
       "      <td>24</td>\n",
       "    </tr>\n",
       "    <tr>\n",
       "      <th>TXFY.ME /O/</th>\n",
       "      <td>-1689.00</td>\n",
       "      <td>27</td>\n",
       "    </tr>\n",
       "    <tr>\n",
       "      <th>UBER SA HELP.U</th>\n",
       "      <td>-7418.29</td>\n",
       "      <td>92</td>\n",
       "    </tr>\n",
       "    <tr>\n",
       "      <th>TAXIFY SOUTH A</th>\n",
       "      <td>-8577.00</td>\n",
       "      <td>146</td>\n",
       "    </tr>\n",
       "    <tr>\n",
       "      <th>BOLT.EU /O/</th>\n",
       "      <td>-9582.00</td>\n",
       "      <td>172</td>\n",
       "    </tr>\n",
       "  </tbody>\n",
       "</table>\n",
       "<p>1310 rows × 2 columns</p>\n",
       "</div>"
      ],
      "text/plain": [
       "                      transaction_amount  transaction_count\n",
       "franchisename                                              \n",
       "A CHINA TOWN                     -210.00                  1\n",
       "PRETORIA BOY                      -31.00                  1\n",
       "PRESTONS KBY R                   -100.70                  1\n",
       "PRESTONS GREEN                   -110.70                  1\n",
       "PQ CLOTHING RANDBURG             -240.00                  1\n",
       "...                                  ...                ...\n",
       "MTN Eazi Rec                     -818.00                 24\n",
       "TXFY.ME /O/                     -1689.00                 27\n",
       "UBER SA HELP.U                  -7418.29                 92\n",
       "TAXIFY SOUTH A                  -8577.00                146\n",
       "BOLT.EU /O/                     -9582.00                172\n",
       "\n",
       "[1310 rows x 2 columns]"
      ]
     },
     "execution_count": 68,
     "metadata": {},
     "output_type": "execute_result"
    }
   ],
   "source": [
    "select_df.sort_values(by='transaction_count')"
   ]
  },
  {
   "cell_type": "code",
   "execution_count": 69,
   "metadata": {},
   "outputs": [],
   "source": [
    "dedupestatic_list=list(set(df.dedupestatic_str))"
   ]
  },
  {
   "cell_type": "code",
   "execution_count": 70,
   "metadata": {},
   "outputs": [],
   "source": [
    "# dedupestatic_list=['d_'+str(int(client)) for client in dedupestatic_list]"
   ]
  },
  {
   "cell_type": "code",
   "execution_count": 71,
   "metadata": {},
   "outputs": [],
   "source": [
    "client_labels=dedupestatic_list\n",
    "clients=['client']*len(dedupestatic_list)\n",
    "client_id=list(range(len(clients)))"
   ]
  },
  {
   "cell_type": "code",
   "execution_count": 72,
   "metadata": {},
   "outputs": [
    {
     "data": {
      "text/plain": [
       "1821"
      ]
     },
     "execution_count": 72,
     "metadata": {},
     "output_type": "execute_result"
    }
   ],
   "source": [
    "len(clients)"
   ]
  },
  {
   "cell_type": "code",
   "execution_count": 73,
   "metadata": {},
   "outputs": [],
   "source": [
    "client_node_df=pd.DataFrame(data={'Id':client_id, 'Label':client_labels})"
   ]
  },
  {
   "cell_type": "code",
   "execution_count": 74,
   "metadata": {},
   "outputs": [],
   "source": [
    "# client_node_df['Id']=client_node_df['identifier'].apply(lambda x:hashlib.sha256(str(x).encode()).hexdigest())"
   ]
  },
  {
   "cell_type": "code",
   "execution_count": 75,
   "metadata": {},
   "outputs": [],
   "source": [
    "client_node_df.to_csv(path_or_buf='/media/lnr-ai/christo/github_repos/graphing/data/client_node_df.csv', index=False)"
   ]
  },
  {
   "cell_type": "code",
   "execution_count": 76,
   "metadata": {},
   "outputs": [
    {
     "data": {
      "text/plain": [
       "[12, 13, 14, 15, 16, 17, 18, 19]"
      ]
     },
     "execution_count": 76,
     "metadata": {},
     "output_type": "execute_result"
    }
   ],
   "source": [
    "list(range(12,20))"
   ]
  },
  {
   "cell_type": "code",
   "execution_count": 77,
   "metadata": {},
   "outputs": [],
   "source": [
    "franchise_labels=list(set(df.franchisename))\n",
    "franchise_id=list(range(len(client_id),len(client_id)+len(franchise_labels)))\n",
    "# Labels=['franchise']*len(franchisename_list)\n",
    "# clients=dedupestatic_list\n",
    "# franchises=list(set(df.franchisename))"
   ]
  },
  {
   "cell_type": "code",
   "execution_count": 78,
   "metadata": {},
   "outputs": [
    {
     "name": "stdout",
     "output_type": "stream",
     "text": [
      "1820 1821 1310 1310\n"
     ]
    }
   ],
   "source": [
    "print(client_id[-1],franchise_id[0], len(franchise_id), len(franchise_labels))"
   ]
  },
  {
   "cell_type": "code",
   "execution_count": 79,
   "metadata": {},
   "outputs": [
    {
     "data": {
      "text/plain": [
       "3130"
      ]
     },
     "execution_count": 79,
     "metadata": {},
     "output_type": "execute_result"
    }
   ],
   "source": [
    "max(franchise_id)"
   ]
  },
  {
   "cell_type": "code",
   "execution_count": 80,
   "metadata": {},
   "outputs": [],
   "source": [
    "franchise_node_df=pd.DataFrame(data={'Id':franchise_id, 'Label':franchise_labels})"
   ]
  },
  {
   "cell_type": "code",
   "execution_count": 81,
   "metadata": {},
   "outputs": [],
   "source": [
    "franchise_node_df.to_csv(path_or_buf='/media/lnr-ai/christo/github_repos/graphing/data/franchise_node_df.csv', index=False)"
   ]
  },
  {
   "cell_type": "code",
   "execution_count": 82,
   "metadata": {},
   "outputs": [],
   "source": [
    "# franchise_node_df['Id']=franchise_node_df['identifier'].apply(lambda x:hashlib.sha256(str(x).encode()).hexdigest())"
   ]
  },
  {
   "cell_type": "code",
   "execution_count": 83,
   "metadata": {},
   "outputs": [],
   "source": [
    "node_df=client_node_df.append(franchise_node_df)"
   ]
  },
  {
   "cell_type": "code",
   "execution_count": 84,
   "metadata": {},
   "outputs": [
    {
     "data": {
      "text/html": [
       "<div>\n",
       "<style scoped>\n",
       "    .dataframe tbody tr th:only-of-type {\n",
       "        vertical-align: middle;\n",
       "    }\n",
       "\n",
       "    .dataframe tbody tr th {\n",
       "        vertical-align: top;\n",
       "    }\n",
       "\n",
       "    .dataframe thead th {\n",
       "        text-align: right;\n",
       "    }\n",
       "</style>\n",
       "<table border=\"1\" class=\"dataframe\">\n",
       "  <thead>\n",
       "    <tr style=\"text-align: right;\">\n",
       "      <th></th>\n",
       "      <th>Id</th>\n",
       "      <th>Label</th>\n",
       "    </tr>\n",
       "  </thead>\n",
       "  <tbody>\n",
       "    <tr>\n",
       "      <th>0</th>\n",
       "      <td>0</td>\n",
       "      <td>d_110193707500</td>\n",
       "    </tr>\n",
       "    <tr>\n",
       "      <th>1</th>\n",
       "      <td>1</td>\n",
       "      <td>d_191279034427</td>\n",
       "    </tr>\n",
       "    <tr>\n",
       "      <th>2</th>\n",
       "      <td>2</td>\n",
       "      <td>d_191425306107</td>\n",
       "    </tr>\n",
       "    <tr>\n",
       "      <th>3</th>\n",
       "      <td>3</td>\n",
       "      <td>d_211188030504</td>\n",
       "    </tr>\n",
       "    <tr>\n",
       "      <th>4</th>\n",
       "      <td>4</td>\n",
       "      <td>d_146356547217</td>\n",
       "    </tr>\n",
       "    <tr>\n",
       "      <th>...</th>\n",
       "      <td>...</td>\n",
       "      <td>...</td>\n",
       "    </tr>\n",
       "    <tr>\n",
       "      <th>1305</th>\n",
       "      <td>3126</td>\n",
       "      <td>PnP Crp Hydepa</td>\n",
       "    </tr>\n",
       "    <tr>\n",
       "      <th>1306</th>\n",
       "      <td>3127</td>\n",
       "      <td>PUMA LANSDOWNE</td>\n",
       "    </tr>\n",
       "    <tr>\n",
       "      <th>1307</th>\n",
       "      <td>3128</td>\n",
       "      <td>Nandos Rondebo</td>\n",
       "    </tr>\n",
       "    <tr>\n",
       "      <th>1308</th>\n",
       "      <td>3129</td>\n",
       "      <td>ENGEN LYTTEL</td>\n",
       "    </tr>\n",
       "    <tr>\n",
       "      <th>1309</th>\n",
       "      <td>3130</td>\n",
       "      <td>BIRD AND CO</td>\n",
       "    </tr>\n",
       "  </tbody>\n",
       "</table>\n",
       "<p>3131 rows × 2 columns</p>\n",
       "</div>"
      ],
      "text/plain": [
       "        Id           Label\n",
       "0        0  d_110193707500\n",
       "1        1  d_191279034427\n",
       "2        2  d_191425306107\n",
       "3        3  d_211188030504\n",
       "4        4  d_146356547217\n",
       "...    ...             ...\n",
       "1305  3126  PnP Crp Hydepa\n",
       "1306  3127  PUMA LANSDOWNE\n",
       "1307  3128  Nandos Rondebo\n",
       "1308  3129    ENGEN LYTTEL\n",
       "1309  3130     BIRD AND CO\n",
       "\n",
       "[3131 rows x 2 columns]"
      ]
     },
     "execution_count": 84,
     "metadata": {},
     "output_type": "execute_result"
    }
   ],
   "source": [
    "node_df"
   ]
  },
  {
   "cell_type": "code",
   "execution_count": 85,
   "metadata": {},
   "outputs": [],
   "source": [
    "node_df.to_csv(path_or_buf='/media/lnr-ai/christo/github_repos/graphing/data/node_bolt_graph_df.csv', index=False)"
   ]
  },
  {
   "cell_type": "code",
   "execution_count": 86,
   "metadata": {},
   "outputs": [],
   "source": [
    "edge_df=df.merge(client_node_df[['Label','Id']], left_on='dedupestatic_str', right_on='Label')"
   ]
  },
  {
   "cell_type": "code",
   "execution_count": 87,
   "metadata": {},
   "outputs": [
    {
     "data": {
      "text/plain": [
       "0       d_211613566434\n",
       "1       d_211613566434\n",
       "2       d_211592209508\n",
       "3       d_211654829303\n",
       "4       d_191894282800\n",
       "             ...      \n",
       "1995    d_110147031001\n",
       "1996    d_211156514008\n",
       "1997    d_194050250601\n",
       "1998    d_211090282503\n",
       "1999    d_211485795206\n",
       "Name: Label, Length: 2000, dtype: object"
      ]
     },
     "execution_count": 87,
     "metadata": {},
     "output_type": "execute_result"
    }
   ],
   "source": [
    "edge_df.pop('Label')"
   ]
  },
  {
   "cell_type": "code",
   "execution_count": 88,
   "metadata": {},
   "outputs": [],
   "source": [
    "# edge_df.pop('identifier')\n",
    "edge_df.rename(columns={'Id':'Source'}, inplace=True)"
   ]
  },
  {
   "cell_type": "code",
   "execution_count": 89,
   "metadata": {},
   "outputs": [
    {
     "data": {
      "text/plain": [
       "['dedupestatic',\n",
       " 'amount',\n",
       " 'companyname',\n",
       " 'franchisename',\n",
       " 'universaldate',\n",
       " 'dedupestatic_str',\n",
       " 'Source']"
      ]
     },
     "execution_count": 89,
     "metadata": {},
     "output_type": "execute_result"
    }
   ],
   "source": [
    "list(edge_df)"
   ]
  },
  {
   "cell_type": "code",
   "execution_count": 90,
   "metadata": {},
   "outputs": [
    {
     "data": {
      "text/html": [
       "<div>\n",
       "<style scoped>\n",
       "    .dataframe tbody tr th:only-of-type {\n",
       "        vertical-align: middle;\n",
       "    }\n",
       "\n",
       "    .dataframe tbody tr th {\n",
       "        vertical-align: top;\n",
       "    }\n",
       "\n",
       "    .dataframe thead th {\n",
       "        text-align: right;\n",
       "    }\n",
       "</style>\n",
       "<table border=\"1\" class=\"dataframe\">\n",
       "  <thead>\n",
       "    <tr style=\"text-align: right;\">\n",
       "      <th></th>\n",
       "      <th>Label</th>\n",
       "      <th>Id</th>\n",
       "    </tr>\n",
       "  </thead>\n",
       "  <tbody>\n",
       "    <tr>\n",
       "      <th>0</th>\n",
       "      <td>MCD Auckland P</td>\n",
       "      <td>1821</td>\n",
       "    </tr>\n",
       "    <tr>\n",
       "      <th>1</th>\n",
       "      <td>WOOLWORTHS N</td>\n",
       "      <td>1822</td>\n",
       "    </tr>\n",
       "    <tr>\n",
       "      <th>2</th>\n",
       "      <td>PIRATES STEA</td>\n",
       "      <td>1823</td>\n",
       "    </tr>\n",
       "    <tr>\n",
       "      <th>3</th>\n",
       "      <td>DECATHLON</td>\n",
       "      <td>1824</td>\n",
       "    </tr>\n",
       "    <tr>\n",
       "      <th>4</th>\n",
       "      <td>TELEMOTORS S/S</td>\n",
       "      <td>1825</td>\n",
       "    </tr>\n",
       "    <tr>\n",
       "      <th>...</th>\n",
       "      <td>...</td>\n",
       "      <td>...</td>\n",
       "    </tr>\n",
       "    <tr>\n",
       "      <th>1305</th>\n",
       "      <td>PnP Crp Hydepa</td>\n",
       "      <td>3126</td>\n",
       "    </tr>\n",
       "    <tr>\n",
       "      <th>1306</th>\n",
       "      <td>PUMA LANSDOWNE</td>\n",
       "      <td>3127</td>\n",
       "    </tr>\n",
       "    <tr>\n",
       "      <th>1307</th>\n",
       "      <td>Nandos Rondebo</td>\n",
       "      <td>3128</td>\n",
       "    </tr>\n",
       "    <tr>\n",
       "      <th>1308</th>\n",
       "      <td>ENGEN LYTTEL</td>\n",
       "      <td>3129</td>\n",
       "    </tr>\n",
       "    <tr>\n",
       "      <th>1309</th>\n",
       "      <td>BIRD AND CO</td>\n",
       "      <td>3130</td>\n",
       "    </tr>\n",
       "  </tbody>\n",
       "</table>\n",
       "<p>1310 rows × 2 columns</p>\n",
       "</div>"
      ],
      "text/plain": [
       "               Label    Id\n",
       "0     MCD Auckland P  1821\n",
       "1       WOOLWORTHS N  1822\n",
       "2       PIRATES STEA  1823\n",
       "3          DECATHLON  1824\n",
       "4     TELEMOTORS S/S  1825\n",
       "...              ...   ...\n",
       "1305  PnP Crp Hydepa  3126\n",
       "1306  PUMA LANSDOWNE  3127\n",
       "1307  Nandos Rondebo  3128\n",
       "1308    ENGEN LYTTEL  3129\n",
       "1309     BIRD AND CO  3130\n",
       "\n",
       "[1310 rows x 2 columns]"
      ]
     },
     "execution_count": 90,
     "metadata": {},
     "output_type": "execute_result"
    }
   ],
   "source": [
    "franchise_node_df[['Label','Id']]"
   ]
  },
  {
   "cell_type": "code",
   "execution_count": 91,
   "metadata": {},
   "outputs": [],
   "source": [
    "edge_df=edge_df.merge(franchise_node_df[['Label','Id']], left_on='franchisename', right_on='Label')"
   ]
  },
  {
   "cell_type": "code",
   "execution_count": 92,
   "metadata": {},
   "outputs": [],
   "source": [
    "# edge_df.pop('identifier')\n",
    "edge_df.rename(columns={'Id':'Target'}, inplace=True)"
   ]
  },
  {
   "cell_type": "code",
   "execution_count": 93,
   "metadata": {},
   "outputs": [
    {
     "data": {
      "text/plain": [
       "0             TAXIFY SOUTH A\n",
       "1             TAXIFY SOUTH A\n",
       "2             TAXIFY SOUTH A\n",
       "3             TAXIFY SOUTH A\n",
       "4             TAXIFY SOUTH A\n",
       "                ...         \n",
       "1995          BOXER SS YEOVI\n",
       "1996          RELIANCE TEA I\n",
       "1997          CYRILDENE SERV\n",
       "1998    LIQUOR CITY KUILS RI\n",
       "1999            BIG TIME SUP\n",
       "Name: Label, Length: 2000, dtype: object"
      ]
     },
     "execution_count": 93,
     "metadata": {},
     "output_type": "execute_result"
    }
   ],
   "source": [
    "edge_df.pop('Label')"
   ]
  },
  {
   "cell_type": "code",
   "execution_count": 94,
   "metadata": {},
   "outputs": [],
   "source": [
    "\n",
    "edge_df=edge_df[~edge_df.duplicated(subset=['Target','Source'], keep='first')]"
   ]
  },
  {
   "cell_type": "code",
   "execution_count": 95,
   "metadata": {},
   "outputs": [
    {
     "data": {
      "text/plain": [
       "['dedupestatic',\n",
       " 'amount',\n",
       " 'companyname',\n",
       " 'franchisename',\n",
       " 'universaldate',\n",
       " 'dedupestatic_str',\n",
       " 'Source',\n",
       " 'Target']"
      ]
     },
     "execution_count": 95,
     "metadata": {},
     "output_type": "execute_result"
    }
   ],
   "source": [
    "list(edge_df)"
   ]
  },
  {
   "cell_type": "code",
   "execution_count": 96,
   "metadata": {},
   "outputs": [],
   "source": [
    "edge_df[['Source','Target']].to_csv(path_or_buf='/media/lnr-ai/christo/github_repos/graphing/data/edge_bolt_graph_df.csv', index=False)"
   ]
  },
  {
   "cell_type": "code",
   "execution_count": null,
   "metadata": {},
   "outputs": [],
   "source": []
  }
 ],
 "metadata": {
  "kernelspec": {
   "display_name": "Python 3",
   "language": "python",
   "name": "python3"
  },
  "language_info": {
   "codemirror_mode": {
    "name": "ipython",
    "version": 3
   },
   "file_extension": ".py",
   "mimetype": "text/x-python",
   "name": "python",
   "nbconvert_exporter": "python",
   "pygments_lexer": "ipython3",
   "version": "3.7.6"
  }
 },
 "nbformat": 4,
 "nbformat_minor": 4
}

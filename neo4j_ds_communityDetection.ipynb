{
 "cells": [
  {
   "cell_type": "markdown",
   "metadata": {},
   "source": [
    "https://neo4j.com/docs/graph-data-science/current/algorithms/louvain/"
   ]
  },
  {
   "cell_type": "code",
   "execution_count": 1,
   "metadata": {},
   "outputs": [],
   "source": [
    "import pandas as pd\n",
    "from py2neo import Graph\n",
    "graph = Graph(\"bolt://localhost:7687\", user='neo4j', password='newPassword')\n",
    "# graph = Graph()"
   ]
  },
  {
   "cell_type": "code",
   "execution_count": 2,
   "metadata": {},
   "outputs": [
    {
     "data": {
      "text/plain": [
       "[{'nodes': [(_-11:Merchant {constraints: ['CONSTRAINT ON ( merchant:Merchant ) ASSERT (merchant.franchisename) IS UNIQUE'], indexes: [], name: 'Merchant'}),\n",
       "   (_-10:Client {constraints: ['CONSTRAINT ON ( client:Client ) ASSERT (client.dedupestatic) IS UNIQUE'], indexes: [], name: 'Client'}),\n",
       "   (_-12:Segment {constraints: ['CONSTRAINT ON ( segment:Segment ) ASSERT (segment.seg_l3_num) IS UNIQUE'], indexes: [], name: 'Segment'})],\n",
       "  'relationships': [(Client)-[:TRANSACTED_AT {}]->(Merchant),\n",
       "   (Merchant)-[:MERCHANT_VALUE_LINK {}]->(Merchant),\n",
       "   (Merchant)-[:MERCHANT_LINK {}]->(Merchant),\n",
       "   (Merchant)-[:MERCHANT_FEET_LINK {}]->(Merchant)]}]"
      ]
     },
     "execution_count": 2,
     "metadata": {},
     "output_type": "execute_result"
    }
   ],
   "source": [
    "graph.run(\"CALL db.schema.visualization()\").data()"
   ]
  },
  {
   "cell_type": "code",
   "execution_count": 3,
   "metadata": {},
   "outputs": [],
   "source": [
    "louvain_query=\"\"\"\n",
    "CALL gds.louvain.stream({\n",
    "    nodeProjection: 'Merchant',\n",
    "    relationshipProjection: {\n",
    "        TYPE: {\n",
    "            type: 'MERCHANT_FEET_LINK',\n",
    "            orientation: 'undirected',\n",
    "            aggregation: 'NONE'\n",
    "        }\n",
    "    },\n",
    "    includeIntermediateCommunities: true\n",
    "}) YIELD nodeId, communityId, intermediateCommunityIds\n",
    "RETURN gds.util.asNode(nodeId).franchisename AS franchisename, \n",
    "gds.util.asNode(nodeId).companyname AS companyname,\n",
    "communityId, intermediateCommunityIds\n",
    "ORDER BY franchisename ASC\n",
    "\"\"\"\n",
    "df=graph.run(louvain_query).to_data_frame()"
   ]
  },
  {
   "cell_type": "code",
   "execution_count": 4,
   "metadata": {},
   "outputs": [],
   "source": [
    "df=df[df.companyname.isin(['DISCHEM', 'CLICKS'])].copy()"
   ]
  },
  {
   "cell_type": "code",
   "execution_count": 10,
   "metadata": {},
   "outputs": [
    {
     "data": {
      "text/plain": [
       "211"
      ]
     },
     "execution_count": 10,
     "metadata": {},
     "output_type": "execute_result"
    }
   ],
   "source": [
    "len(set(df[df.companyname==\"DISCHEM\"].communityId))"
   ]
  },
  {
   "cell_type": "code",
   "execution_count": 11,
   "metadata": {},
   "outputs": [
    {
     "data": {
      "text/plain": [
       "180"
      ]
     },
     "execution_count": 11,
     "metadata": {},
     "output_type": "execute_result"
    }
   ],
   "source": [
    "len(set(df[df.companyname==\"CLICKS\"].communityId))"
   ]
  },
  {
   "cell_type": "code",
   "execution_count": 12,
   "metadata": {},
   "outputs": [
    {
     "data": {
      "text/html": [
       "<div>\n",
       "<style scoped>\n",
       "    .dataframe tbody tr th:only-of-type {\n",
       "        vertical-align: middle;\n",
       "    }\n",
       "\n",
       "    .dataframe tbody tr th {\n",
       "        vertical-align: top;\n",
       "    }\n",
       "\n",
       "    .dataframe thead th {\n",
       "        text-align: right;\n",
       "    }\n",
       "</style>\n",
       "<table border=\"1\" class=\"dataframe\">\n",
       "  <thead>\n",
       "    <tr style=\"text-align: right;\">\n",
       "      <th></th>\n",
       "      <th>franchisename</th>\n",
       "      <th>companyname</th>\n",
       "      <th>communityId</th>\n",
       "      <th>intermediateCommunityIds</th>\n",
       "    </tr>\n",
       "  </thead>\n",
       "  <tbody>\n",
       "    <tr>\n",
       "      <th>20072</th>\n",
       "      <td>CLICKS ACORNHOEK MALL</td>\n",
       "      <td>CLICKS</td>\n",
       "      <td>12410</td>\n",
       "      <td>[12410, 12410, 12410]</td>\n",
       "    </tr>\n",
       "    <tr>\n",
       "      <th>20074</th>\n",
       "      <td>CLICKS ADDERLEY STREET</td>\n",
       "      <td>CLICKS</td>\n",
       "      <td>12410</td>\n",
       "      <td>[12410, 12410, 12410]</td>\n",
       "    </tr>\n",
       "    <tr>\n",
       "      <th>20076</th>\n",
       "      <td>CLICKS ALBERTON</td>\n",
       "      <td>CLICKS</td>\n",
       "      <td>12410</td>\n",
       "      <td>[12410, 12410, 12410]</td>\n",
       "    </tr>\n",
       "    <tr>\n",
       "      <th>20077</th>\n",
       "      <td>CLICKS AMAJUBA MALL</td>\n",
       "      <td>CLICKS</td>\n",
       "      <td>12410</td>\n",
       "      <td>[12410, 12410, 12410]</td>\n",
       "    </tr>\n",
       "    <tr>\n",
       "      <th>20078</th>\n",
       "      <td>CLICKS ANCHOR BAY</td>\n",
       "      <td>CLICKS</td>\n",
       "      <td>12410</td>\n",
       "      <td>[12410, 12410, 12410]</td>\n",
       "    </tr>\n",
       "    <tr>\n",
       "      <th>...</th>\n",
       "      <td>...</td>\n",
       "      <td>...</td>\n",
       "      <td>...</td>\n",
       "      <td>...</td>\n",
       "    </tr>\n",
       "    <tr>\n",
       "      <th>27317</th>\n",
       "      <td>DISCHEM WOODLANDS</td>\n",
       "      <td>DISCHEM</td>\n",
       "      <td>12410</td>\n",
       "      <td>[12410, 12410, 12410]</td>\n",
       "    </tr>\n",
       "    <tr>\n",
       "      <th>27318</th>\n",
       "      <td>DISCHEM WOODLANDS BOULEVA</td>\n",
       "      <td>DISCHEM</td>\n",
       "      <td>12410</td>\n",
       "      <td>[12410, 12410, 12410]</td>\n",
       "    </tr>\n",
       "    <tr>\n",
       "      <th>27319</th>\n",
       "      <td>DISCHEM WOODMEAD</td>\n",
       "      <td>DISCHEM</td>\n",
       "      <td>12410</td>\n",
       "      <td>[12410, 12410, 12410]</td>\n",
       "    </tr>\n",
       "    <tr>\n",
       "      <th>27320</th>\n",
       "      <td>DISCHEM WORCESTER</td>\n",
       "      <td>DISCHEM</td>\n",
       "      <td>12410</td>\n",
       "      <td>[12410, 12410, 12410]</td>\n",
       "    </tr>\n",
       "    <tr>\n",
       "      <th>27321</th>\n",
       "      <td>DISCHEM ZEVENWACHT</td>\n",
       "      <td>DISCHEM</td>\n",
       "      <td>12410</td>\n",
       "      <td>[12410, 12410, 12410]</td>\n",
       "    </tr>\n",
       "  </tbody>\n",
       "</table>\n",
       "<p>619 rows × 4 columns</p>\n",
       "</div>"
      ],
      "text/plain": [
       "                   franchisename companyname  communityId  \\\n",
       "20072      CLICKS ACORNHOEK MALL      CLICKS        12410   \n",
       "20074     CLICKS ADDERLEY STREET      CLICKS        12410   \n",
       "20076            CLICKS ALBERTON      CLICKS        12410   \n",
       "20077        CLICKS AMAJUBA MALL      CLICKS        12410   \n",
       "20078          CLICKS ANCHOR BAY      CLICKS        12410   \n",
       "...                          ...         ...          ...   \n",
       "27317          DISCHEM WOODLANDS     DISCHEM        12410   \n",
       "27318  DISCHEM WOODLANDS BOULEVA     DISCHEM        12410   \n",
       "27319           DISCHEM WOODMEAD     DISCHEM        12410   \n",
       "27320          DISCHEM WORCESTER     DISCHEM        12410   \n",
       "27321         DISCHEM ZEVENWACHT     DISCHEM        12410   \n",
       "\n",
       "      intermediateCommunityIds  \n",
       "20072    [12410, 12410, 12410]  \n",
       "20074    [12410, 12410, 12410]  \n",
       "20076    [12410, 12410, 12410]  \n",
       "20077    [12410, 12410, 12410]  \n",
       "20078    [12410, 12410, 12410]  \n",
       "...                        ...  \n",
       "27317    [12410, 12410, 12410]  \n",
       "27318    [12410, 12410, 12410]  \n",
       "27319    [12410, 12410, 12410]  \n",
       "27320    [12410, 12410, 12410]  \n",
       "27321    [12410, 12410, 12410]  \n",
       "\n",
       "[619 rows x 4 columns]"
      ]
     },
     "execution_count": 12,
     "metadata": {},
     "output_type": "execute_result"
    }
   ],
   "source": [
    "df[df.communityId==12410]"
   ]
  },
  {
   "cell_type": "code",
   "execution_count": null,
   "metadata": {},
   "outputs": [],
   "source": [
    "list(df[df.companyname==\"DISCHEM\"].communityId)"
   ]
  },
  {
   "cell_type": "code",
   "execution_count": 7,
   "metadata": {},
   "outputs": [],
   "source": [
    "import collections"
   ]
  },
  {
   "cell_type": "code",
   "execution_count": 8,
   "metadata": {},
   "outputs": [
    {
     "name": "stdout",
     "output_type": "stream",
     "text": [
      "[(74830, 1336), (12410, 619), (32339, 601), (24494, 332), (84771, 116), (41793, 22), (73101, 2), (70976, 2), (30632, 2), (18675, 1), (71573, 1), (89815, 1), (70380, 1), (89670, 1), (68191, 1), (45143, 1), (68316, 1), (72363, 1), (42341, 1), (12879, 1), (70039, 1), (90325, 1), (89925, 1), (72332, 1), (68105, 1), (73999, 1), (48866, 1), (71088, 1), (89571, 1), (71381, 1), (67802, 1), (65077, 1), (70391, 1), (73743, 1), (72825, 1), (62988, 1), (73226, 1), (50031, 1), (90490, 1), (69659, 1), (43126, 1), (88046, 1), (65589, 1), (73030, 1), (57526, 1), (73068, 1), (71421, 1), (53693, 1), (67651, 1), (9429, 1), (51942, 1), (40841, 1), (37733, 1), (51856, 1), (68857, 1), (74170, 1), (71422, 1), (70280, 1), (68190, 1), (89563, 1), (73788, 1), (58967, 1), (72511, 1), (91181, 1), (41055, 1), (47497, 1), (5842, 1), (38511, 1), (49608, 1), (2517, 1), (16825, 1), (4530, 1), (30895, 1), (17662, 1), (32707, 1), (27865, 1), (5182, 1), (11076, 1), (12233, 1), (10765, 1), (7424, 1), (6011, 1), (41424, 1), (13096, 1), (41230, 1), (10565, 1), (19768, 1), (15322, 1), (3431, 1), (32802, 1), (42924, 1), (50613, 1), (15028, 1), (13921, 1), (71996, 1), (19512, 1), (17126, 1), (5850, 1), (11579, 1), (7192, 1), (2310, 1), (38800, 1), (42822, 1), (34912, 1), (19719, 1), (4115, 1), (19544, 1), (13341, 1), (44504, 1), (40194, 1), (2543, 1), (13619, 1), (20482, 1), (15770, 1), (2653, 1), (41702, 1), (16834, 1), (38975, 1), (17675, 1), (50455, 1), (14187, 1), (17911, 1), (13992, 1), (5240, 1), (56441, 1), (29895, 1), (19295, 1), (3482, 1), (5426, 1), (30720, 1), (2523, 1), (65261, 1), (5813, 1), (11264, 1), (33606, 1), (18159, 1), (32870, 1), (38332, 1), (41568, 1), (6331, 1), (17148, 1), (2429, 1), (15102, 1), (44047, 1), (43593, 1), (34251, 1), (47412, 1), (43081, 1), (11736, 1), (13792, 1), (42946, 1), (64930, 1), (38679, 1), (6304, 1), (7460, 1), (14430, 1), (38029, 1), (25860, 1), (17767, 1), (48136, 1), (15315, 1), (13116, 1), (49808, 1), (19409, 1), (32739, 1), (18160, 1), (42594, 1), (43186, 1), (5695, 1), (42600, 1), (14074, 1), (5659, 1), (53394, 1), (39050, 1), (37944, 1), (50452, 1), (10965, 1), (51454, 1), (71888, 1), (71892, 1), (50778, 1), (3807, 1), (56893, 1), (1790, 1), (70341, 1), (44684, 1), (3107, 1), (55080, 1), (71240, 1), (22471, 1), (66773, 1), (10522, 1), (52692, 1), (73942, 1), (11520, 1), (66856, 1), (70584, 1), (44323, 1), (89814, 1), (90347, 1), (49761, 1), (67197, 1), (50236, 1), (10211, 1), (53333, 1), (48981, 1), (73161, 1), (50827, 1), (57593, 1), (42756, 1), (9176, 1), (50731, 1), (67772, 1), (71849, 1), (91558, 1), (63187, 1), (71190, 1), (49613, 1), (11137, 1), (91042, 1), (73064, 1), (71686, 1), (73817, 1), (70457, 1), (71159, 1), (50790, 1), (90588, 1), (20405, 1), (17014, 1), (90756, 1), (73237, 1), (54193, 1), (56679, 1), (54901, 1), (73189, 1), (39908, 1), (49302, 1), (50115, 1), (67347, 1), (50876, 1), (90019, 1), (48147, 1), (41240, 1), (69575, 1), (42921, 1), (40968, 1), (12705, 1), (41492, 1), (72745, 1), (9616, 1), (47695, 1), (71594, 1), (55867, 1), (69608, 1), (15249, 1), (10723, 1), (41143, 1), (91797, 1), (66851, 1), (50852, 1), (13654, 1), (49548, 1), (58275, 1), (73667, 1), (47978, 1), (44595, 1), (41759, 1), (69682, 1), (3508, 1), (72694, 1), (71620, 1), (71536, 1), (73169, 1), (67490, 1), (69204, 1), (13721, 1), (90489, 1), (68244, 1), (42728, 1), (89975, 1), (91493, 1), (65407, 1), (67014, 1), (47803, 1), (2883, 1), (74035, 1), (71626, 1), (42373, 1), (69227, 1), (89564, 1), (54098, 1), (69633, 1), (67796, 1), (47012, 1), (38817, 1), (55062, 1), (39473, 1), (55696, 1), (71113, 1), (71524, 1), (72751, 1), (70826, 1), (70309, 1), (37118, 1), (73605, 1), (65521, 1), (68542, 1), (51183, 1), (41598, 1), (73608, 1), (5948, 1), (47349, 1), (48009, 1), (56859, 1), (72612, 1), (46385, 1), (6760, 1), (69174, 1), (55538, 1), (67824, 1), (69157, 1), (3903, 1), (90414, 1), (51087, 1), (50373, 1), (73083, 1), (70610, 1), (74104, 1), (13348, 1), (47370, 1), (72683, 1), (70684, 1), (72780, 1), (14616, 1), (32093, 1), (48848, 1), (28100, 1), (17324, 1), (46029, 1), (64233, 1), (91047, 1), (73578, 1), (46713, 1), (71305, 1), (59618, 1), (27820, 1), (74038, 1), (2855, 1), (63474, 1), (68563, 1), (55585, 1), (46934, 1), (15055, 1), (60007, 1), (73918, 1), (91155, 1), (18848, 1), (74194, 1), (69938, 1), (35440, 1), (70837, 1), (73446, 1), (38478, 1), (90067, 1), (41717, 1), (71297, 1), (68809, 1), (90999, 1), (12718, 1), (66932, 1), (19640, 1), (37657, 1), (50619, 1), (37327, 1), (54112, 1), (53874, 1), (52855, 1), (45453, 1), (50169, 1), (45793, 1), (19965, 1), (17325, 1)]\n"
     ]
    }
   ],
   "source": [
    "print(collections.Counter(list(df.communityId)).most_common())"
   ]
  },
  {
   "cell_type": "code",
   "execution_count": null,
   "metadata": {},
   "outputs": [],
   "source": [
    "df[df.communityId==3129]"
   ]
  },
  {
   "cell_type": "code",
   "execution_count": null,
   "metadata": {},
   "outputs": [],
   "source": [
    "df[df.franchisename==\"DIS-CHEM DAINFERN\"]"
   ]
  },
  {
   "cell_type": "code",
   "execution_count": null,
   "metadata": {},
   "outputs": [],
   "source": []
  }
 ],
 "metadata": {
  "kernelspec": {
   "display_name": "Python 3",
   "language": "python",
   "name": "python3"
  },
  "language_info": {
   "codemirror_mode": {
    "name": "ipython",
    "version": 3
   },
   "file_extension": ".py",
   "mimetype": "text/x-python",
   "name": "python",
   "nbconvert_exporter": "python",
   "pygments_lexer": "ipython3",
   "version": "3.7.6"
  }
 },
 "nbformat": 4,
 "nbformat_minor": 4
}
